{
 "cells": [
  {
   "cell_type": "code",
   "execution_count": null,
   "metadata": {},
   "outputs": [],
   "source": [
    "# default_exp gym"
   ]
  },
  {
   "cell_type": "markdown",
   "metadata": {},
   "source": [
    "# gym\n",
    "> A `Gym` enviroment for teaching truth and conseqences"
   ]
  },
  {
   "cell_type": "code",
   "execution_count": null,
   "metadata": {},
   "outputs": [
    {
     "name": "stdout",
     "output_type": "stream",
     "text": [
      "The nb_black extension is already loaded. To reload it, use:\n",
      "  %reload_ext nb_black\n"
     ]
    },
    {
     "data": {
      "application/javascript": [
       "\n",
       "            setTimeout(function() {\n",
       "                var nbb_cell_id = 10;\n",
       "                var nbb_unformatted_code = \"# hide\\nfrom nbdev.showdoc import *\\n\\n%load_ext nb_black\\n%matplotlib inline\\n%config InlineBackend.figure_format='retina'\\n%config IPCompleter.greedy=True\";\n",
       "                var nbb_formatted_code = \"# hide\\nfrom nbdev.showdoc import *\\n\\n%load_ext nb_black\\n%matplotlib inline\\n%config InlineBackend.figure_format='retina'\\n%config IPCompleter.greedy=True\";\n",
       "                var nbb_cells = Jupyter.notebook.get_cells();\n",
       "                for (var i = 0; i < nbb_cells.length; ++i) {\n",
       "                    if (nbb_cells[i].input_prompt_number == nbb_cell_id) {\n",
       "                        if (nbb_cells[i].get_text() == nbb_unformatted_code) {\n",
       "                             nbb_cells[i].set_text(nbb_formatted_code);\n",
       "                        }\n",
       "                        break;\n",
       "                    }\n",
       "                }\n",
       "            }, 500);\n",
       "            "
      ],
      "text/plain": [
       "<IPython.core.display.Javascript object>"
      ]
     },
     "metadata": {},
     "output_type": "display_data"
    }
   ],
   "source": [
    "# hide\n",
    "from nbdev.showdoc import *\n",
    "\n",
    "%load_ext nb_black\n",
    "%matplotlib inline\n",
    "%config InlineBackend.figure_format='retina'\n",
    "%config IPCompleter.greedy=True"
   ]
  },
  {
   "cell_type": "code",
   "execution_count": null,
   "metadata": {},
   "outputs": [
    {
     "data": {
      "application/javascript": [
       "\n",
       "            setTimeout(function() {\n",
       "                var nbb_cell_id = 2;\n",
       "                var nbb_unformatted_code = \"# export\\nimport numpy as np\\nimport gym\\n\\nfrom copy import deepcopy\\nfrom gym import spaces\\nfrom gym.utils import seeding\\nfrom itertools import cycle\\n\\nfrom truthiness.game import create_maze\\nfrom truthiness.game import shame_game\\nfrom truthiness.game import plain_game\\nfrom truthiness.game import available_moves\\nfrom truthiness.game import random_move\\n\\n# Gym is annoying these days...\\nimport warnings\\nwarnings.filterwarnings(\\\"ignore\\\")\";\n",
       "                var nbb_formatted_code = \"# export\\nimport numpy as np\\nimport gym\\n\\nfrom copy import deepcopy\\nfrom gym import spaces\\nfrom gym.utils import seeding\\nfrom itertools import cycle\\n\\nfrom truthiness.game import create_maze\\nfrom truthiness.game import shame_game\\nfrom truthiness.game import plain_game\\nfrom truthiness.game import available_moves\\nfrom truthiness.game import random_move\\n\\n# Gym is annoying these days...\\nimport warnings\\n\\nwarnings.filterwarnings(\\\"ignore\\\")\";\n",
       "                var nbb_cells = Jupyter.notebook.get_cells();\n",
       "                for (var i = 0; i < nbb_cells.length; ++i) {\n",
       "                    if (nbb_cells[i].input_prompt_number == nbb_cell_id) {\n",
       "                        if (nbb_cells[i].get_text() == nbb_unformatted_code) {\n",
       "                             nbb_cells[i].set_text(nbb_formatted_code);\n",
       "                        }\n",
       "                        break;\n",
       "                    }\n",
       "                }\n",
       "            }, 500);\n",
       "            "
      ],
      "text/plain": [
       "<IPython.core.display.Javascript object>"
      ]
     },
     "metadata": {},
     "output_type": "display_data"
    }
   ],
   "source": [
    "# export\n",
    "import numpy as np\n",
    "import gym\n",
    "\n",
    "from copy import deepcopy\n",
    "from gym import spaces\n",
    "from gym.utils import seeding\n",
    "from itertools import cycle\n",
    "\n",
    "from truthiness.game import create_maze\n",
    "from truthiness.game import shame_game\n",
    "from truthiness.game import plain_game\n",
    "from truthiness.game import available_moves\n",
    "from truthiness.game import random_move\n",
    "\n",
    "# Gym is annoying these days...\n",
    "import warnings\n",
    "\n",
    "warnings.filterwarnings(\"ignore\")"
   ]
  },
  {
   "cell_type": "markdown",
   "metadata": {},
   "source": [
    "# the base\n",
    "First we define a `Base` game class. It has methods that are common between all the games we will want to play. "
   ]
  },
  {
   "cell_type": "code",
   "execution_count": null,
   "metadata": {},
   "outputs": [
    {
     "data": {
      "application/javascript": [
       "\n",
       "            setTimeout(function() {\n",
       "                var nbb_cell_id = 3;\n",
       "                var nbb_unformatted_code = \"# export\\nclass Base(gym.Env):    \\n    def moves(self):\\n        \\\"\\\"\\\"Return all available moves\\\"\\\"\\\"\\n        # Get all the moves then filter for moves that\\n        # have already been played\\n        candidates = available_moves(self.x, self.y, self.maze)\\n        \\n        available = []\\n        for a in candidates:\\n            if a not in self.move_history:\\n                available.append(a)\\n                \\n        return available\\n    \\n    \\n    def render(self, mode='human', close=False):\\n        pass\";\n",
       "                var nbb_formatted_code = \"# export\\nclass Base(gym.Env):\\n    def moves(self):\\n        \\\"\\\"\\\"Return all available moves\\\"\\\"\\\"\\n        # Get all the moves then filter for moves that\\n        # have already been played\\n        candidates = available_moves(self.x, self.y, self.maze)\\n\\n        available = []\\n        for a in candidates:\\n            if a not in self.move_history:\\n                available.append(a)\\n\\n        return available\\n\\n    def render(self, mode=\\\"human\\\", close=False):\\n        pass\";\n",
       "                var nbb_cells = Jupyter.notebook.get_cells();\n",
       "                for (var i = 0; i < nbb_cells.length; ++i) {\n",
       "                    if (nbb_cells[i].input_prompt_number == nbb_cell_id) {\n",
       "                        if (nbb_cells[i].get_text() == nbb_unformatted_code) {\n",
       "                             nbb_cells[i].set_text(nbb_formatted_code);\n",
       "                        }\n",
       "                        break;\n",
       "                    }\n",
       "                }\n",
       "            }, 500);\n",
       "            "
      ],
      "text/plain": [
       "<IPython.core.display.Javascript object>"
      ]
     },
     "metadata": {},
     "output_type": "display_data"
    }
   ],
   "source": [
    "# export\n",
    "class Base(gym.Env):\n",
    "    def moves(self):\n",
    "        \"\"\"Return all available moves\"\"\"\n",
    "        # Get all the moves then filter for moves that\n",
    "        # have already been played\n",
    "        candidates = available_moves(self.x, self.y, self.maze)\n",
    "\n",
    "        available = []\n",
    "        for a in candidates:\n",
    "            if a not in self.move_history:\n",
    "                available.append(a)\n",
    "\n",
    "        return available\n",
    "\n",
    "    def render(self, mode=\"human\", close=False):\n",
    "        pass"
   ]
  },
  {
   "cell_type": "markdown",
   "metadata": {},
   "source": [
    "# the shame game env\n",
    "The details of this game are described in the `game` file. This module exists only to put the games described there into a [gym](https://github.com/openai/gym) environment, and then do some simple testing."
   ]
  },
  {
   "cell_type": "code",
   "execution_count": null,
   "metadata": {},
   "outputs": [
    {
     "data": {
      "application/javascript": [
       "\n",
       "            setTimeout(function() {\n",
       "                var nbb_cell_id = 4;\n",
       "                var nbb_unformatted_code = \"# export\\nclass ShameGame1(Base):\\n    \\\"\\\"\\\"A one-sided game of learning and shame\\\"\\\"\\\"\\n    def __init__(self, maze=None, sigma=0.5, shame=0.5, max_steps=10):\\n        self.maze = maze\\n        self.n = self.maze.shape[0]\\n        self.max_steps = max_steps\\n        \\n        self.sigma = sigma\\n        self.shame = shame\\n\\n        self.reset()\\n\\n    \\n    def step(self, move):\\n        if self.count > self.max_steps:\\n            raise ValueError(f\\\"env exceeded max_steps ({self.count})\\\")\\n\\n        # Shuffle state, and generate returns\\n        self.x, self.y = move\\n        self.move_history.append(move)\\n        \\n        # Values are only found once\\n        reward = deepcopy((self.E[x,y], self.Q[x,y]))\\n        self.E[x,y] = 0\\n        self.Q[x,y] = 0\\n        state = (self.y, self.x, self.E, self.Q)\\n\\n        # Limit game length\\n        self.count += 1\\n        if self.count >= self.max_steps:\\n            self.done = True\\n            \\n        return state, reward, self.done, {}\\n\\n    \\n    def reset(self):\\n        # reinit\\n        self.count = 0\\n        self.done = False\\n        self.move_history = []\\n        \\n        # Generate new  \\n        self.x, self.y = random_move(self.maze)\\n        self.E, self.Q = shame_game(\\n            self.n, sigma=self.sigma, shame=self.shame, maze=self.maze)\\n        \\n        return (self.y, self.x, self.E, self.Q)\";\n",
       "                var nbb_formatted_code = \"# export\\nclass ShameGame1(Base):\\n    \\\"\\\"\\\"A one-sided game of learning and shame\\\"\\\"\\\"\\n\\n    def __init__(self, maze=None, sigma=0.5, shame=0.5, max_steps=10):\\n        self.maze = maze\\n        self.n = self.maze.shape[0]\\n        self.max_steps = max_steps\\n\\n        self.sigma = sigma\\n        self.shame = shame\\n\\n        self.reset()\\n\\n    def step(self, move):\\n        if self.count > self.max_steps:\\n            raise ValueError(f\\\"env exceeded max_steps ({self.count})\\\")\\n\\n        # Shuffle state, and generate returns\\n        self.x, self.y = move\\n        self.move_history.append(move)\\n\\n        # Values are only found once\\n        reward = deepcopy((self.E[x, y], self.Q[x, y]))\\n        self.E[x, y] = 0\\n        self.Q[x, y] = 0\\n        state = (self.y, self.x, self.E, self.Q)\\n\\n        # Limit game length\\n        self.count += 1\\n        if self.count >= self.max_steps:\\n            self.done = True\\n\\n        return state, reward, self.done, {}\\n\\n    def reset(self):\\n        # reinit\\n        self.count = 0\\n        self.done = False\\n        self.move_history = []\\n\\n        # Generate new\\n        self.x, self.y = random_move(self.maze)\\n        self.E, self.Q = shame_game(\\n            self.n, sigma=self.sigma, shame=self.shame, maze=self.maze\\n        )\\n\\n        return (self.y, self.x, self.E, self.Q)\";\n",
       "                var nbb_cells = Jupyter.notebook.get_cells();\n",
       "                for (var i = 0; i < nbb_cells.length; ++i) {\n",
       "                    if (nbb_cells[i].input_prompt_number == nbb_cell_id) {\n",
       "                        if (nbb_cells[i].get_text() == nbb_unformatted_code) {\n",
       "                             nbb_cells[i].set_text(nbb_formatted_code);\n",
       "                        }\n",
       "                        break;\n",
       "                    }\n",
       "                }\n",
       "            }, 500);\n",
       "            "
      ],
      "text/plain": [
       "<IPython.core.display.Javascript object>"
      ]
     },
     "metadata": {},
     "output_type": "display_data"
    }
   ],
   "source": [
    "# export\n",
    "class ShameGame1(Base):\n",
    "    \"\"\"A one-sided game of learning and shame\"\"\"\n",
    "\n",
    "    def __init__(self, maze=None, sigma=0.5, shame=0.5, max_steps=10):\n",
    "        self.maze = maze\n",
    "        self.n = self.maze.shape[0]\n",
    "        self.max_steps = max_steps\n",
    "\n",
    "        self.sigma = sigma\n",
    "        self.shame = shame\n",
    "\n",
    "        self.reset()\n",
    "\n",
    "    def step(self, move):\n",
    "        if self.count > self.max_steps:\n",
    "            raise ValueError(f\"env exceeded max_steps ({self.count})\")\n",
    "\n",
    "        # Shuffle state, and generate returns\n",
    "        self.x, self.y = move\n",
    "        self.move_history.append(move)\n",
    "\n",
    "        # Values are only found once\n",
    "        reward = deepcopy((self.E[x, y], self.Q[x, y]))\n",
    "        self.E[x, y] = 0\n",
    "        self.Q[x, y] = 0\n",
    "        state = (self.y, self.x, self.E, self.Q)\n",
    "\n",
    "        # Limit game length\n",
    "        self.count += 1\n",
    "        if self.count >= self.max_steps:\n",
    "            self.done = True\n",
    "\n",
    "        return state, reward, self.done, {}\n",
    "\n",
    "    def reset(self):\n",
    "        # reinit\n",
    "        self.count = 0\n",
    "        self.done = False\n",
    "        self.move_history = []\n",
    "\n",
    "        # Generate new\n",
    "        self.x, self.y = random_move(self.maze)\n",
    "        self.E, self.Q = shame_game(\n",
    "            self.n, sigma=self.sigma, shame=self.shame, maze=self.maze\n",
    "        )\n",
    "\n",
    "        return (self.y, self.x, self.E, self.Q)"
   ]
  },
  {
   "cell_type": "markdown",
   "metadata": {},
   "source": [
    "- Example of random play"
   ]
  },
  {
   "cell_type": "code",
   "execution_count": null,
   "metadata": {},
   "outputs": [
    {
     "data": {
      "application/javascript": [
       "\n",
       "            setTimeout(function() {\n",
       "                var nbb_cell_id = 5;\n",
       "                var nbb_unformatted_code = \"maze = create_maze(8, k=5, t=10)\\nenv = ShameGame1(maze=maze)\";\n",
       "                var nbb_formatted_code = \"maze = create_maze(8, k=5, t=10)\\nenv = ShameGame1(maze=maze)\";\n",
       "                var nbb_cells = Jupyter.notebook.get_cells();\n",
       "                for (var i = 0; i < nbb_cells.length; ++i) {\n",
       "                    if (nbb_cells[i].input_prompt_number == nbb_cell_id) {\n",
       "                        if (nbb_cells[i].get_text() == nbb_unformatted_code) {\n",
       "                             nbb_cells[i].set_text(nbb_formatted_code);\n",
       "                        }\n",
       "                        break;\n",
       "                    }\n",
       "                }\n",
       "            }, 500);\n",
       "            "
      ],
      "text/plain": [
       "<IPython.core.display.Javascript object>"
      ]
     },
     "metadata": {},
     "output_type": "display_data"
    }
   ],
   "source": [
    "maze = create_maze(8, k=5, t=10)\n",
    "env = ShameGame1(maze=maze)"
   ]
  },
  {
   "cell_type": "code",
   "execution_count": null,
   "metadata": {},
   "outputs": [
    {
     "name": "stdout",
     "output_type": "stream",
     "text": [
      "0 7 (0.47479773454981344, 0.23739886727490672) False\n",
      "0 3 (0.3604267742772292, 0.1802133871386146) False\n",
      "0 4 (0.2141592271611635, 0.10707961358058175) False\n",
      "3 4 (0.6048715810850134, 0.3024357905425067) False\n",
      "3 5 (0.8339116064271493, 0.41695580321357467) False\n",
      "2 5 (0.23625672133265216, 0.11812836066632608) False\n",
      "0 5 (0.3393362392769705, 0.16966811963848524) False\n",
      "0 2 (0.18533491730044027, 0.09266745865022014) False\n",
      "0 0 (0.8269993080846266, 0.4134996540423133) False\n",
      "0 1 (0.531249209506189, 0.2656246047530945) True\n"
     ]
    },
    {
     "data": {
      "application/javascript": [
       "\n",
       "            setTimeout(function() {\n",
       "                var nbb_cell_id = 6;\n",
       "                var nbb_unformatted_code = \"done = False\\nx, y, Q, E = env.reset()\\n\\nmoves = [(x, y)]\\nwhile not done:\\n    available = env.moves()    \\n    i = np.random.randint(0, len(available))\\n    x, y = available[i]\\n    state, reward, done, _ = env.step((x, y))\\n    moves.append((x, y))\\n    \\n    print(x, y, reward, done)\";\n",
       "                var nbb_formatted_code = \"done = False\\nx, y, Q, E = env.reset()\\n\\nmoves = [(x, y)]\\nwhile not done:\\n    available = env.moves()\\n    i = np.random.randint(0, len(available))\\n    x, y = available[i]\\n    state, reward, done, _ = env.step((x, y))\\n    moves.append((x, y))\\n\\n    print(x, y, reward, done)\";\n",
       "                var nbb_cells = Jupyter.notebook.get_cells();\n",
       "                for (var i = 0; i < nbb_cells.length; ++i) {\n",
       "                    if (nbb_cells[i].input_prompt_number == nbb_cell_id) {\n",
       "                        if (nbb_cells[i].get_text() == nbb_unformatted_code) {\n",
       "                             nbb_cells[i].set_text(nbb_formatted_code);\n",
       "                        }\n",
       "                        break;\n",
       "                    }\n",
       "                }\n",
       "            }, 500);\n",
       "            "
      ],
      "text/plain": [
       "<IPython.core.display.Javascript object>"
      ]
     },
     "metadata": {},
     "output_type": "display_data"
    }
   ],
   "source": [
    "done = False\n",
    "x, y, Q, E = env.reset()\n",
    "\n",
    "moves = [(x, y)]\n",
    "while not done:\n",
    "    available = env.moves()\n",
    "    i = np.random.randint(0, len(available))\n",
    "    x, y = available[i]\n",
    "    state, reward, done, _ = env.step((x, y))\n",
    "    moves.append((x, y))\n",
    "\n",
    "    print(x, y, reward, done)"
   ]
  },
  {
   "cell_type": "code",
   "execution_count": null,
   "metadata": {},
   "outputs": [
    {
     "data": {
      "text/plain": [
       "[(5, 0),\n",
       " (0, 7),\n",
       " (0, 3),\n",
       " (0, 4),\n",
       " (3, 4),\n",
       " (3, 5),\n",
       " (2, 5),\n",
       " (0, 5),\n",
       " (0, 2),\n",
       " (0, 0),\n",
       " (0, 1)]"
      ]
     },
     "execution_count": null,
     "metadata": {},
     "output_type": "execute_result"
    },
    {
     "data": {
      "application/javascript": [
       "\n",
       "            setTimeout(function() {\n",
       "                var nbb_cell_id = 7;\n",
       "                var nbb_unformatted_code = \"moves\";\n",
       "                var nbb_formatted_code = \"moves\";\n",
       "                var nbb_cells = Jupyter.notebook.get_cells();\n",
       "                for (var i = 0; i < nbb_cells.length; ++i) {\n",
       "                    if (nbb_cells[i].input_prompt_number == nbb_cell_id) {\n",
       "                        if (nbb_cells[i].get_text() == nbb_unformatted_code) {\n",
       "                             nbb_cells[i].set_text(nbb_formatted_code);\n",
       "                        }\n",
       "                        break;\n",
       "                    }\n",
       "                }\n",
       "            }, 500);\n",
       "            "
      ],
      "text/plain": [
       "<IPython.core.display.Javascript object>"
      ]
     },
     "metadata": {},
     "output_type": "display_data"
    }
   ],
   "source": [
    "moves"
   ]
  },
  {
   "cell_type": "markdown",
   "metadata": {},
   "source": [
    "# the plain game env\n",
    "As above the details of this game are described in the `game` file. This module exists only to put the games described there into a [gym](https://github.com/openai/gym) environment, and then do some simple testing."
   ]
  },
  {
   "cell_type": "code",
   "execution_count": null,
   "metadata": {},
   "outputs": [
    {
     "data": {
      "application/javascript": [
       "\n",
       "            setTimeout(function() {\n",
       "                var nbb_cell_id = 8;\n",
       "                var nbb_unformatted_code = \"# export\\nclass PlainGame1(Base):\\n    \\\"\\\"\\\"A one-sided game of learning and consequences\\\"\\\"\\\"\\n    def __init__(self, maze=None, sigma=0.5, max_steps=10):\\n        self.maze = maze\\n        self.n = self.maze.shape[0]\\n        self.max_steps = max_steps\\n        \\n        self.sigma = sigma\\n\\n        self.reset()\\n\\n    \\n    def step(self, move):\\n        if self.count > self.max_steps:\\n            raise ValueError(f\\\"env exceeded max_steps ({self.count})\\\")\\n\\n        # Shuffle state, and generate returns\\n        self.x, self.y = move\\n        self.move_history.append(move)\\n        \\n        # Values are only found once\\n        reward = deepcopy((self.E[x,y], self.Q[x,y]))\\n        self.E[x,y] = 0\\n        self.Q[x,y] = 0\\n        state = (self.y, self.x, self.E, self.Q)\\n\\n        \\n        # Limit game length\\n        self.count += 1\\n        if self.count >= self.max_steps:\\n            self.done = True\\n            \\n        return state, reward, self.done, {}\\n\\n    \\n    def reset(self):\\n        # reinit\\n        self.count = 0\\n        self.done = False\\n        self.move_history = []\\n        \\n        # Generate new  \\n        self.x, self.y = random_move(self.maze)\\n        self.E, self.Q = plain_game(self.n, sigma=self.sigma, maze=self.maze)\\n        \\n        return (self.y, self.x, self.E, self.Q)\";\n",
       "                var nbb_formatted_code = \"# export\\nclass PlainGame1(Base):\\n    \\\"\\\"\\\"A one-sided game of learning and consequences\\\"\\\"\\\"\\n\\n    def __init__(self, maze=None, sigma=0.5, max_steps=10):\\n        self.maze = maze\\n        self.n = self.maze.shape[0]\\n        self.max_steps = max_steps\\n\\n        self.sigma = sigma\\n\\n        self.reset()\\n\\n    def step(self, move):\\n        if self.count > self.max_steps:\\n            raise ValueError(f\\\"env exceeded max_steps ({self.count})\\\")\\n\\n        # Shuffle state, and generate returns\\n        self.x, self.y = move\\n        self.move_history.append(move)\\n\\n        # Values are only found once\\n        reward = deepcopy((self.E[x, y], self.Q[x, y]))\\n        self.E[x, y] = 0\\n        self.Q[x, y] = 0\\n        state = (self.y, self.x, self.E, self.Q)\\n\\n        # Limit game length\\n        self.count += 1\\n        if self.count >= self.max_steps:\\n            self.done = True\\n\\n        return state, reward, self.done, {}\\n\\n    def reset(self):\\n        # reinit\\n        self.count = 0\\n        self.done = False\\n        self.move_history = []\\n\\n        # Generate new\\n        self.x, self.y = random_move(self.maze)\\n        self.E, self.Q = plain_game(self.n, sigma=self.sigma, maze=self.maze)\\n\\n        return (self.y, self.x, self.E, self.Q)\";\n",
       "                var nbb_cells = Jupyter.notebook.get_cells();\n",
       "                for (var i = 0; i < nbb_cells.length; ++i) {\n",
       "                    if (nbb_cells[i].input_prompt_number == nbb_cell_id) {\n",
       "                        if (nbb_cells[i].get_text() == nbb_unformatted_code) {\n",
       "                             nbb_cells[i].set_text(nbb_formatted_code);\n",
       "                        }\n",
       "                        break;\n",
       "                    }\n",
       "                }\n",
       "            }, 500);\n",
       "            "
      ],
      "text/plain": [
       "<IPython.core.display.Javascript object>"
      ]
     },
     "metadata": {},
     "output_type": "display_data"
    }
   ],
   "source": [
    "# export\n",
    "class PlainGame1(Base):\n",
    "    \"\"\"A one-sided game of learning and consequences\"\"\"\n",
    "\n",
    "    def __init__(self, maze=None, sigma=0.5, max_steps=10):\n",
    "        self.maze = maze\n",
    "        self.n = self.maze.shape[0]\n",
    "        self.max_steps = max_steps\n",
    "\n",
    "        self.sigma = sigma\n",
    "\n",
    "        self.reset()\n",
    "\n",
    "    def step(self, move):\n",
    "        if self.count > self.max_steps:\n",
    "            raise ValueError(f\"env exceeded max_steps ({self.count})\")\n",
    "\n",
    "        # Shuffle state, and generate returns\n",
    "        self.x, self.y = move\n",
    "        self.move_history.append(move)\n",
    "\n",
    "        # Values are only found once\n",
    "        reward = deepcopy((self.E[x, y], self.Q[x, y]))\n",
    "        self.E[x, y] = 0\n",
    "        self.Q[x, y] = 0\n",
    "        state = (self.y, self.x, self.E, self.Q)\n",
    "\n",
    "        # Limit game length\n",
    "        self.count += 1\n",
    "        if self.count >= self.max_steps:\n",
    "            self.done = True\n",
    "\n",
    "        return state, reward, self.done, {}\n",
    "\n",
    "    def reset(self):\n",
    "        # reinit\n",
    "        self.count = 0\n",
    "        self.done = False\n",
    "        self.move_history = []\n",
    "\n",
    "        # Generate new\n",
    "        self.x, self.y = random_move(self.maze)\n",
    "        self.E, self.Q = plain_game(self.n, sigma=self.sigma, maze=self.maze)\n",
    "\n",
    "        return (self.y, self.x, self.E, self.Q)"
   ]
  },
  {
   "cell_type": "markdown",
   "metadata": {},
   "source": [
    "- Example of random play"
   ]
  },
  {
   "cell_type": "code",
   "execution_count": null,
   "metadata": {},
   "outputs": [
    {
     "name": "stdout",
     "output_type": "stream",
     "text": [
      "7 6 (0.2044922378386215, 0.7514436832784114) False\n",
      "3 6 (0.3434613007533754, 0.3611194173299864) False\n",
      "2 6 (0.41404845644717536, 0.12028641351746322) False\n",
      "5 6 (0.2686705493572349, 0.48999401540627197) False\n",
      "5 5 (0.3057108842499654, 0.5409764954888263) False\n",
      "4 5 (0.32277690474170456, 0.3113023415552438) False\n",
      "2 5 (0.4300136744324396, 0.4583455524898935) False\n",
      "0 5 (0.26709108677483373, 0.4174776749517855) False\n",
      "0 6 (0.3553945296909845, 0.9510132814425147) False\n",
      "0 7 (0.2137223431582466, 0.2962399509947084) True\n"
     ]
    },
    {
     "data": {
      "application/javascript": [
       "\n",
       "            setTimeout(function() {\n",
       "                var nbb_cell_id = 9;\n",
       "                var nbb_unformatted_code = \"maze = create_maze(8, k=5, t=10)\\nenv = PlainGame1(maze=maze)\\n\\ndone = False\\nx, y, Q, E = env.reset()\\n\\nmoves = [(x, y)]\\nwhile not done:\\n    available = env.moves()    \\n    i = np.random.randint(0, len(available))\\n    x, y = available[i]\\n    state, reward, done, _ = env.step((x, y))\\n    moves.append((x, y))\\n    \\n    print(x, y, reward, done)\";\n",
       "                var nbb_formatted_code = \"maze = create_maze(8, k=5, t=10)\\nenv = PlainGame1(maze=maze)\\n\\ndone = False\\nx, y, Q, E = env.reset()\\n\\nmoves = [(x, y)]\\nwhile not done:\\n    available = env.moves()\\n    i = np.random.randint(0, len(available))\\n    x, y = available[i]\\n    state, reward, done, _ = env.step((x, y))\\n    moves.append((x, y))\\n\\n    print(x, y, reward, done)\";\n",
       "                var nbb_cells = Jupyter.notebook.get_cells();\n",
       "                for (var i = 0; i < nbb_cells.length; ++i) {\n",
       "                    if (nbb_cells[i].input_prompt_number == nbb_cell_id) {\n",
       "                        if (nbb_cells[i].get_text() == nbb_unformatted_code) {\n",
       "                             nbb_cells[i].set_text(nbb_formatted_code);\n",
       "                        }\n",
       "                        break;\n",
       "                    }\n",
       "                }\n",
       "            }, 500);\n",
       "            "
      ],
      "text/plain": [
       "<IPython.core.display.Javascript object>"
      ]
     },
     "metadata": {},
     "output_type": "display_data"
    }
   ],
   "source": [
    "maze = create_maze(8, k=5, t=10)\n",
    "env = PlainGame1(maze=maze)\n",
    "\n",
    "done = False\n",
    "x, y, Q, E = env.reset()\n",
    "\n",
    "moves = [(x, y)]\n",
    "while not done:\n",
    "    available = env.moves()\n",
    "    i = np.random.randint(0, len(available))\n",
    "    x, y = available[i]\n",
    "    state, reward, done, _ = env.step((x, y))\n",
    "    moves.append((x, y))\n",
    "\n",
    "    print(x, y, reward, done)"
   ]
  },
  {
   "cell_type": "code",
   "execution_count": null,
   "metadata": {},
   "outputs": [],
   "source": []
  },
  {
   "cell_type": "code",
   "execution_count": null,
   "metadata": {},
   "outputs": [],
   "source": []
  }
 ],
 "metadata": {
  "kernelspec": {
   "display_name": "Python 3",
   "language": "python",
   "name": "python3"
  }
 },
 "nbformat": 4,
 "nbformat_minor": 2
}

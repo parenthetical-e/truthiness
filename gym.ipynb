{
 "cells": [
  {
   "cell_type": "code",
   "execution_count": null,
   "metadata": {},
   "outputs": [
    {
     "data": {
      "application/javascript": [
       "\n",
       "            setTimeout(function() {\n",
       "                var nbb_cell_id = 23;\n",
       "                var nbb_unformatted_code = \"# default_exp gym\";\n",
       "                var nbb_formatted_code = \"# default_exp gym\";\n",
       "                var nbb_cells = Jupyter.notebook.get_cells();\n",
       "                for (var i = 0; i < nbb_cells.length; ++i) {\n",
       "                    if (nbb_cells[i].input_prompt_number == nbb_cell_id) {\n",
       "                        if (nbb_cells[i].get_text() == nbb_unformatted_code) {\n",
       "                             nbb_cells[i].set_text(nbb_formatted_code);\n",
       "                        }\n",
       "                        break;\n",
       "                    }\n",
       "                }\n",
       "            }, 500);\n",
       "            "
      ],
      "text/plain": [
       "<IPython.core.display.Javascript object>"
      ]
     },
     "metadata": {},
     "output_type": "display_data"
    }
   ],
   "source": [
    "# default_exp gym"
   ]
  },
  {
   "cell_type": "markdown",
   "metadata": {},
   "source": [
    "# gym\n",
    "> A `Gym` enviroment for teaching truth and conseqences"
   ]
  },
  {
   "cell_type": "code",
   "execution_count": null,
   "metadata": {},
   "outputs": [
    {
     "data": {
      "application/javascript": [
       "\n",
       "            setTimeout(function() {\n",
       "                var nbb_cell_id = 2;\n",
       "                var nbb_unformatted_code = \"# hide\\nfrom nbdev.showdoc import *\\n\\n%load_ext nb_black\\n%matplotlib inline\\n%config InlineBackend.figure_format='retina'\\n%config IPCompleter.greedy=True\";\n",
       "                var nbb_formatted_code = \"# hide\\nfrom nbdev.showdoc import *\\n\\n%load_ext nb_black\\n%matplotlib inline\\n%config InlineBackend.figure_format='retina'\\n%config IPCompleter.greedy=True\";\n",
       "                var nbb_cells = Jupyter.notebook.get_cells();\n",
       "                for (var i = 0; i < nbb_cells.length; ++i) {\n",
       "                    if (nbb_cells[i].input_prompt_number == nbb_cell_id) {\n",
       "                        if (nbb_cells[i].get_text() == nbb_unformatted_code) {\n",
       "                             nbb_cells[i].set_text(nbb_formatted_code);\n",
       "                        }\n",
       "                        break;\n",
       "                    }\n",
       "                }\n",
       "            }, 500);\n",
       "            "
      ],
      "text/plain": [
       "<IPython.core.display.Javascript object>"
      ]
     },
     "metadata": {},
     "output_type": "display_data"
    }
   ],
   "source": [
    "# hide\n",
    "from nbdev.showdoc import *\n",
    "\n",
    "%load_ext nb_black\n",
    "%matplotlib inline\n",
    "%config InlineBackend.figure_format='retina'\n",
    "%config IPCompleter.greedy=True"
   ]
  },
  {
   "cell_type": "code",
   "execution_count": null,
   "metadata": {},
   "outputs": [
    {
     "data": {
      "application/javascript": [
       "\n",
       "            setTimeout(function() {\n",
       "                var nbb_cell_id = 3;\n",
       "                var nbb_unformatted_code = \"# export\\nimport numpy as np\\nimport gym\\n\\nfrom copy import deepcopy\\nfrom gym import spaces\\nfrom gym.utils import seeding\\nfrom itertools import cycle\\n\\nfrom truthiness.game import create_maze\\nfrom truthiness.game import shame_game\\nfrom truthiness.game import tough_game\\nfrom truthiness.game import available_moves\\nfrom truthiness.game import random_move\\n\\n# Gym is annoying these days...\\nimport warnings\\n\\nwarnings.filterwarnings(\\\"ignore\\\")\";\n",
       "                var nbb_formatted_code = \"# export\\nimport numpy as np\\nimport gym\\n\\nfrom copy import deepcopy\\nfrom gym import spaces\\nfrom gym.utils import seeding\\nfrom itertools import cycle\\n\\nfrom truthiness.game import create_maze\\nfrom truthiness.game import shame_game\\nfrom truthiness.game import tough_game\\nfrom truthiness.game import available_moves\\nfrom truthiness.game import random_move\\n\\n# Gym is annoying these days...\\nimport warnings\\n\\nwarnings.filterwarnings(\\\"ignore\\\")\";\n",
       "                var nbb_cells = Jupyter.notebook.get_cells();\n",
       "                for (var i = 0; i < nbb_cells.length; ++i) {\n",
       "                    if (nbb_cells[i].input_prompt_number == nbb_cell_id) {\n",
       "                        if (nbb_cells[i].get_text() == nbb_unformatted_code) {\n",
       "                             nbb_cells[i].set_text(nbb_formatted_code);\n",
       "                        }\n",
       "                        break;\n",
       "                    }\n",
       "                }\n",
       "            }, 500);\n",
       "            "
      ],
      "text/plain": [
       "<IPython.core.display.Javascript object>"
      ]
     },
     "metadata": {},
     "output_type": "display_data"
    }
   ],
   "source": [
    "# export\n",
    "import numpy as np\n",
    "import gym\n",
    "\n",
    "from copy import deepcopy\n",
    "from gym import spaces\n",
    "from gym.utils import seeding\n",
    "from itertools import cycle\n",
    "\n",
    "from truthiness.game import create_maze\n",
    "from truthiness.game import shame_game\n",
    "from truthiness.game import tough_game\n",
    "from truthiness.game import available_moves\n",
    "from truthiness.game import random_move\n",
    "\n",
    "# Gym is annoying these days...\n",
    "import warnings\n",
    "\n",
    "warnings.filterwarnings(\"ignore\")"
   ]
  },
  {
   "cell_type": "markdown",
   "metadata": {},
   "source": [
    "# the base\n",
    "First we define a `Base` game class. It has methods that are common between all the games we will want to play. "
   ]
  },
  {
   "cell_type": "code",
   "execution_count": null,
   "metadata": {},
   "outputs": [
    {
     "data": {
      "application/javascript": [
       "\n",
       "            setTimeout(function() {\n",
       "                var nbb_cell_id = 4;\n",
       "                var nbb_unformatted_code = \"# export\\nclass Base(gym.Env):\\n    def moves(self):\\n        \\\"\\\"\\\"Return all available moves\\\"\\\"\\\"\\n        # Get all the moves then filter for moves that\\n        # have already been played\\n        candidates = available_moves(self.x, self.y, self.maze)\\n\\n        available = []\\n        for a in candidates:\\n            if a not in self.move_history:\\n                available.append(a)\\n\\n        return available\\n\\n    def set_maze(self, maze):\\n        self.maze = maze\\n\\n    def render(self, mode=\\\"human\\\", close=False):\\n        pass\";\n",
       "                var nbb_formatted_code = \"# export\\nclass Base(gym.Env):\\n    def moves(self):\\n        \\\"\\\"\\\"Return all available moves\\\"\\\"\\\"\\n        # Get all the moves then filter for moves that\\n        # have already been played\\n        candidates = available_moves(self.x, self.y, self.maze)\\n\\n        available = []\\n        for a in candidates:\\n            if a not in self.move_history:\\n                available.append(a)\\n\\n        return available\\n\\n    def set_maze(self, maze):\\n        self.maze = maze\\n\\n    def render(self, mode=\\\"human\\\", close=False):\\n        pass\";\n",
       "                var nbb_cells = Jupyter.notebook.get_cells();\n",
       "                for (var i = 0; i < nbb_cells.length; ++i) {\n",
       "                    if (nbb_cells[i].input_prompt_number == nbb_cell_id) {\n",
       "                        if (nbb_cells[i].get_text() == nbb_unformatted_code) {\n",
       "                             nbb_cells[i].set_text(nbb_formatted_code);\n",
       "                        }\n",
       "                        break;\n",
       "                    }\n",
       "                }\n",
       "            }, 500);\n",
       "            "
      ],
      "text/plain": [
       "<IPython.core.display.Javascript object>"
      ]
     },
     "metadata": {},
     "output_type": "display_data"
    }
   ],
   "source": [
    "# export\n",
    "class Base(gym.Env):\n",
    "    def moves(self):\n",
    "        \"\"\"Return all available moves\"\"\"\n",
    "        # Get all the moves then filter for moves that\n",
    "        # have already been played\n",
    "        candidates = available_moves(self.x, self.y, self.maze)\n",
    "\n",
    "        available = []\n",
    "        for a in candidates:\n",
    "            if a not in self.move_history:\n",
    "                available.append(a)\n",
    "\n",
    "        return available\n",
    "\n",
    "    def set_maze(self, maze):\n",
    "        self.maze = maze\n",
    "\n",
    "    def render(self, mode=\"human\", close=False):\n",
    "        pass"
   ]
  },
  {
   "cell_type": "markdown",
   "metadata": {},
   "source": [
    "# the shame game env\n",
    "The details of this game are described in the `game` file. This module exists only to put the games described there into a [gym](https://github.com/openai/gym) environment, and then do some simple testing."
   ]
  },
  {
   "cell_type": "code",
   "execution_count": null,
   "metadata": {},
   "outputs": [
    {
     "data": {
      "application/javascript": [
       "\n",
       "            setTimeout(function() {\n",
       "                var nbb_cell_id = 5;\n",
       "                var nbb_unformatted_code = \"# export\\nclass ShameGame1(Base):\\n    \\\"\\\"\\\"A one-sided game of learning and shame\\\"\\\"\\\"\\n\\n    def __init__(self, n, maze=None, sigma=0.5, shame=0.5, max_steps=10, seed=None):\\n        self.n = n\\n        self.maze = maze\\n        self.max_steps = max_steps\\n        self.sigma = sigma\\n        self.shame = shame\\n\\n        self.prng = np.random.RandomState(seed)\\n        self.reset()\\n\\n    def step(self, move):\\n        if self.count > self.max_steps:\\n            raise ValueError(f\\\"env exceeded max_steps ({self.count})\\\")\\n\\n        # Shuffle state, and generate returns\\n        x, y = move\\n        self.move_history.append(move)\\n\\n        # Values are only found once\\n        reward = deepcopy((self.E[x, y], self.Q[x, y]))\\n        self.E[x, y] = 0\\n        self.Q[x, y] = 0\\n        self.x, self.y = x, y\\n        state = (self.x, self.y, self.E, self.Q)\\n\\n        # Limit game length\\n        self.count += 1\\n        if self.count >= self.max_steps:\\n            self.done = True\\n\\n        return state, reward, self.done, {}\\n\\n    def reset(self):\\n        # Generate new\\n        x, y, self.prng = random_move(self.maze, prng=self.prng)\\n        self.E, self.Q, self.prng = shame_game(\\n            self.n, sigma=self.sigma, shame=self.shame, maze=self.maze, prng=self.prng\\n        )\\n        # Can't move where we start\\n        self.E[x, y] = 0\\n        self.Q[x, y] = 0\\n        self.move_history = [(x, y)]\\n        self.x, self.y = x, y\\n\\n        # reinit\\n        self.count = 0\\n        self.done = False\\n\\n        return (self.x, self.y, self.E, self.Q)\";\n",
       "                var nbb_formatted_code = \"# export\\nclass ShameGame1(Base):\\n    \\\"\\\"\\\"A one-sided game of learning and shame\\\"\\\"\\\"\\n\\n    def __init__(self, n, maze=None, sigma=0.5, shame=0.5, max_steps=10, seed=None):\\n        self.n = n\\n        self.maze = maze\\n        self.max_steps = max_steps\\n        self.sigma = sigma\\n        self.shame = shame\\n\\n        self.prng = np.random.RandomState(seed)\\n        self.reset()\\n\\n    def step(self, move):\\n        if self.count > self.max_steps:\\n            raise ValueError(f\\\"env exceeded max_steps ({self.count})\\\")\\n\\n        # Shuffle state, and generate returns\\n        x, y = move\\n        self.move_history.append(move)\\n\\n        # Values are only found once\\n        reward = deepcopy((self.E[x, y], self.Q[x, y]))\\n        self.E[x, y] = 0\\n        self.Q[x, y] = 0\\n        self.x, self.y = x, y\\n        state = (self.x, self.y, self.E, self.Q)\\n\\n        # Limit game length\\n        self.count += 1\\n        if self.count >= self.max_steps:\\n            self.done = True\\n\\n        return state, reward, self.done, {}\\n\\n    def reset(self):\\n        # Generate new\\n        x, y, self.prng = random_move(self.maze, prng=self.prng)\\n        self.E, self.Q, self.prng = shame_game(\\n            self.n, sigma=self.sigma, shame=self.shame, maze=self.maze, prng=self.prng\\n        )\\n        # Can't move where we start\\n        self.E[x, y] = 0\\n        self.Q[x, y] = 0\\n        self.move_history = [(x, y)]\\n        self.x, self.y = x, y\\n\\n        # reinit\\n        self.count = 0\\n        self.done = False\\n\\n        return (self.x, self.y, self.E, self.Q)\";\n",
       "                var nbb_cells = Jupyter.notebook.get_cells();\n",
       "                for (var i = 0; i < nbb_cells.length; ++i) {\n",
       "                    if (nbb_cells[i].input_prompt_number == nbb_cell_id) {\n",
       "                        if (nbb_cells[i].get_text() == nbb_unformatted_code) {\n",
       "                             nbb_cells[i].set_text(nbb_formatted_code);\n",
       "                        }\n",
       "                        break;\n",
       "                    }\n",
       "                }\n",
       "            }, 500);\n",
       "            "
      ],
      "text/plain": [
       "<IPython.core.display.Javascript object>"
      ]
     },
     "metadata": {},
     "output_type": "display_data"
    }
   ],
   "source": [
    "# export\n",
    "class ShameGame1(Base):\n",
    "    \"\"\"A one-sided game of learning and shame\"\"\"\n",
    "\n",
    "    def __init__(self, n, maze=None, sigma=0.5, shame=0.5, max_steps=10, seed=None):\n",
    "        self.n = n\n",
    "        self.maze = maze\n",
    "        self.max_steps = max_steps\n",
    "        self.sigma = sigma\n",
    "        self.shame = shame\n",
    "\n",
    "        self.prng = np.random.RandomState(seed)\n",
    "        self.reset()\n",
    "\n",
    "    def step(self, move):\n",
    "        if self.count > self.max_steps:\n",
    "            raise ValueError(f\"env exceeded max_steps ({self.count})\")\n",
    "\n",
    "        # Shuffle state, and generate returns\n",
    "        x, y = move\n",
    "        self.move_history.append(move)\n",
    "\n",
    "        # Values are only found once\n",
    "        reward = deepcopy((self.E[x, y], self.Q[x, y]))\n",
    "        self.E[x, y] = 0\n",
    "        self.Q[x, y] = 0\n",
    "        self.x, self.y = x, y\n",
    "        state = (self.x, self.y, self.E, self.Q)\n",
    "\n",
    "        # Limit game length\n",
    "        self.count += 1\n",
    "        if self.count >= self.max_steps:\n",
    "            self.done = True\n",
    "\n",
    "        return state, reward, self.done, {}\n",
    "\n",
    "    def reset(self):\n",
    "        # Generate new\n",
    "        x, y, self.prng = random_move(self.maze, prng=self.prng)\n",
    "        self.E, self.Q, self.prng = shame_game(\n",
    "            self.n, sigma=self.sigma, shame=self.shame, maze=self.maze, prng=self.prng\n",
    "        )\n",
    "        # Can't move where we start\n",
    "        self.E[x, y] = 0\n",
    "        self.Q[x, y] = 0\n",
    "        self.move_history = [(x, y)]\n",
    "        self.x, self.y = x, y\n",
    "\n",
    "        # reinit\n",
    "        self.count = 0\n",
    "        self.done = False\n",
    "\n",
    "        return (self.x, self.y, self.E, self.Q)"
   ]
  },
  {
   "cell_type": "markdown",
   "metadata": {},
   "source": [
    "- Example of random play"
   ]
  },
  {
   "cell_type": "code",
   "execution_count": null,
   "metadata": {},
   "outputs": [
    {
     "data": {
      "application/javascript": [
       "\n",
       "            setTimeout(function() {\n",
       "                var nbb_cell_id = 6;\n",
       "                var nbb_unformatted_code = \"maze, _ = create_maze(8, k=5, t=10)\\nenv = ShameGame1(8, maze=maze)\";\n",
       "                var nbb_formatted_code = \"maze, _ = create_maze(8, k=5, t=10)\\nenv = ShameGame1(8, maze=maze)\";\n",
       "                var nbb_cells = Jupyter.notebook.get_cells();\n",
       "                for (var i = 0; i < nbb_cells.length; ++i) {\n",
       "                    if (nbb_cells[i].input_prompt_number == nbb_cell_id) {\n",
       "                        if (nbb_cells[i].get_text() == nbb_unformatted_code) {\n",
       "                             nbb_cells[i].set_text(nbb_formatted_code);\n",
       "                        }\n",
       "                        break;\n",
       "                    }\n",
       "                }\n",
       "            }, 500);\n",
       "            "
      ],
      "text/plain": [
       "<IPython.core.display.Javascript object>"
      ]
     },
     "metadata": {},
     "output_type": "display_data"
    }
   ],
   "source": [
    "maze, _ = create_maze(8, k=5, t=10)\n",
    "env = ShameGame1(8, maze=maze)"
   ]
  },
  {
   "cell_type": "code",
   "execution_count": null,
   "metadata": {},
   "outputs": [
    {
     "name": "stdout",
     "output_type": "stream",
     "text": [
      "3 4 (0.31119912539286565, 0.15559956269643282) False\n",
      "5 4 (0.21218876586842556, 0.10609438293421278) False\n",
      "1 4 (0.20955978804793843, 0.10477989402396921) False\n",
      "4 4 (0.1695969952070397, 0.08479849760351985) False\n",
      "7 4 (0.28256739265183584, 0.14128369632591792) False\n",
      "7 1 (0.22863473837421477, 0.11431736918710739) False\n",
      "7 3 (0.33786287433903184, 0.16893143716951592) False\n",
      "4 3 (0.18721411326824847, 0.09360705663412423) False\n",
      "5 3 (0.19871887095337323, 0.09935943547668662) False\n",
      "5 5 (0.3352682848964429, 0.16763414244822145) True\n"
     ]
    },
    {
     "data": {
      "application/javascript": [
       "\n",
       "            setTimeout(function() {\n",
       "                var nbb_cell_id = 7;\n",
       "                var nbb_unformatted_code = \"done = False\\nx, y, Q, E = env.reset()\\n\\nmoves = [(x, y)]\\nwhile not done:\\n    available = env.moves()\\n    i = np.random.randint(0, len(available))\\n    x, y = available[i]\\n    state, reward, done, _ = env.step((x, y))\\n    moves.append((x, y))\\n\\n    print(x, y, reward, done)\";\n",
       "                var nbb_formatted_code = \"done = False\\nx, y, Q, E = env.reset()\\n\\nmoves = [(x, y)]\\nwhile not done:\\n    available = env.moves()\\n    i = np.random.randint(0, len(available))\\n    x, y = available[i]\\n    state, reward, done, _ = env.step((x, y))\\n    moves.append((x, y))\\n\\n    print(x, y, reward, done)\";\n",
       "                var nbb_cells = Jupyter.notebook.get_cells();\n",
       "                for (var i = 0; i < nbb_cells.length; ++i) {\n",
       "                    if (nbb_cells[i].input_prompt_number == nbb_cell_id) {\n",
       "                        if (nbb_cells[i].get_text() == nbb_unformatted_code) {\n",
       "                             nbb_cells[i].set_text(nbb_formatted_code);\n",
       "                        }\n",
       "                        break;\n",
       "                    }\n",
       "                }\n",
       "            }, 500);\n",
       "            "
      ],
      "text/plain": [
       "<IPython.core.display.Javascript object>"
      ]
     },
     "metadata": {},
     "output_type": "display_data"
    }
   ],
   "source": [
    "done = False\n",
    "x, y, Q, E = env.reset()\n",
    "\n",
    "moves = [(x, y)]\n",
    "while not done:\n",
    "    available = env.moves()\n",
    "    i = np.random.randint(0, len(available))\n",
    "    x, y = available[i]\n",
    "    state, reward, done, _ = env.step((x, y))\n",
    "    moves.append((x, y))\n",
    "\n",
    "    print(x, y, reward, done)"
   ]
  },
  {
   "cell_type": "code",
   "execution_count": null,
   "metadata": {},
   "outputs": [
    {
     "data": {
      "text/plain": [
       "[(3, 0),\n",
       " (3, 4),\n",
       " (5, 4),\n",
       " (1, 4),\n",
       " (4, 4),\n",
       " (7, 4),\n",
       " (7, 1),\n",
       " (7, 3),\n",
       " (4, 3),\n",
       " (5, 3),\n",
       " (5, 5)]"
      ]
     },
     "execution_count": null,
     "metadata": {},
     "output_type": "execute_result"
    },
    {
     "data": {
      "application/javascript": [
       "\n",
       "            setTimeout(function() {\n",
       "                var nbb_cell_id = 8;\n",
       "                var nbb_unformatted_code = \"moves\";\n",
       "                var nbb_formatted_code = \"moves\";\n",
       "                var nbb_cells = Jupyter.notebook.get_cells();\n",
       "                for (var i = 0; i < nbb_cells.length; ++i) {\n",
       "                    if (nbb_cells[i].input_prompt_number == nbb_cell_id) {\n",
       "                        if (nbb_cells[i].get_text() == nbb_unformatted_code) {\n",
       "                             nbb_cells[i].set_text(nbb_formatted_code);\n",
       "                        }\n",
       "                        break;\n",
       "                    }\n",
       "                }\n",
       "            }, 500);\n",
       "            "
      ],
      "text/plain": [
       "<IPython.core.display.Javascript object>"
      ]
     },
     "metadata": {},
     "output_type": "display_data"
    }
   ],
   "source": [
    "moves"
   ]
  },
  {
   "cell_type": "markdown",
   "metadata": {},
   "source": [
    "# the tough game env\n",
    "As above the details of this game are described in the `game` file. This module exists only to put the games described there into a [gym](https://github.com/openai/gym) environment, and then do some simple testing."
   ]
  },
  {
   "cell_type": "code",
   "execution_count": null,
   "metadata": {},
   "outputs": [
    {
     "data": {
      "application/javascript": [
       "\n",
       "            setTimeout(function() {\n",
       "                var nbb_cell_id = 11;\n",
       "                var nbb_unformatted_code = \"# export\\nclass ToughGame1(Base):\\n    \\\"\\\"\\\"A one-sided game of learning and consequences\\\"\\\"\\\"\\n\\n    def __init__(self, n, maze=None, sigma_E=0.5, sigma_Q=1.0, max_steps=10, seed=None):\\n        self.n = n\\n        self.maze = maze\\n        self.max_steps = max_steps\\n        self.sigma_E = sigma_E\\n        self.sigma_Q = sigma_Q\\n\\n        self.prng = np.random.RandomState(seed)\\n        self.reset()\\n\\n    def step(self, move):\\n        if self.count > self.max_steps:\\n            raise ValueError(f\\\"env exceeded max_steps ({self.count})\\\")\\n\\n        # Shuffle state, and generate returns\\n        x, y = move\\n        self.move_history.append(move)\\n\\n        # Values are only found once\\n        reward = deepcopy((self.E[x, y], self.Q[x, y]))\\n        self.E[x, y] = 0\\n        self.Q[x, y] = 0\\n        self.x, self.y = x, y\\n        state = (self.x, self.y, self.E, self.Q)\\n\\n        # Limit game length\\n        self.count += 1\\n        if self.count >= self.max_steps:\\n            self.done = True\\n\\n        return state, reward, self.done, {}\\n\\n    def reset(self):\\n        # Generate new\\n        # Generate new\\n        x, y, self.prng = random_move(self.maze, self.prng)\\n        self.E, self.Q, self.prng = tough_game(\\n            self.n,\\n            sigma_E=self.sigma_E,\\n            sigma_Q=self.sigma_Q,\\n            maze=self.maze,\\n            prng=self.prng,\\n        )\\n\\n        # Can't move where we start\\n        self.E[x, y] = 0\\n        self.Q[x, y] = 0\\n        self.move_history = [(x, y)]\\n        self.x, self.y = x, y\\n\\n        # reinit\\n        self.count = 0\\n        self.done = False\\n\\n        return (self.x, self.y, self.E, self.Q)\";\n",
       "                var nbb_formatted_code = \"# export\\nclass ToughGame1(Base):\\n    \\\"\\\"\\\"A one-sided game of learning and consequences\\\"\\\"\\\"\\n\\n    def __init__(self, n, maze=None, sigma_E=0.5, sigma_Q=1.0, max_steps=10, seed=None):\\n        self.n = n\\n        self.maze = maze\\n        self.max_steps = max_steps\\n        self.sigma_E = sigma_E\\n        self.sigma_Q = sigma_Q\\n\\n        self.prng = np.random.RandomState(seed)\\n        self.reset()\\n\\n    def step(self, move):\\n        if self.count > self.max_steps:\\n            raise ValueError(f\\\"env exceeded max_steps ({self.count})\\\")\\n\\n        # Shuffle state, and generate returns\\n        x, y = move\\n        self.move_history.append(move)\\n\\n        # Values are only found once\\n        reward = deepcopy((self.E[x, y], self.Q[x, y]))\\n        self.E[x, y] = 0\\n        self.Q[x, y] = 0\\n        self.x, self.y = x, y\\n        state = (self.x, self.y, self.E, self.Q)\\n\\n        # Limit game length\\n        self.count += 1\\n        if self.count >= self.max_steps:\\n            self.done = True\\n\\n        return state, reward, self.done, {}\\n\\n    def reset(self):\\n        # Generate new\\n        # Generate new\\n        x, y, self.prng = random_move(self.maze, self.prng)\\n        self.E, self.Q, self.prng = tough_game(\\n            self.n,\\n            sigma_E=self.sigma_E,\\n            sigma_Q=self.sigma_Q,\\n            maze=self.maze,\\n            prng=self.prng,\\n        )\\n\\n        # Can't move where we start\\n        self.E[x, y] = 0\\n        self.Q[x, y] = 0\\n        self.move_history = [(x, y)]\\n        self.x, self.y = x, y\\n\\n        # reinit\\n        self.count = 0\\n        self.done = False\\n\\n        return (self.x, self.y, self.E, self.Q)\";\n",
       "                var nbb_cells = Jupyter.notebook.get_cells();\n",
       "                for (var i = 0; i < nbb_cells.length; ++i) {\n",
       "                    if (nbb_cells[i].input_prompt_number == nbb_cell_id) {\n",
       "                        if (nbb_cells[i].get_text() == nbb_unformatted_code) {\n",
       "                             nbb_cells[i].set_text(nbb_formatted_code);\n",
       "                        }\n",
       "                        break;\n",
       "                    }\n",
       "                }\n",
       "            }, 500);\n",
       "            "
      ],
      "text/plain": [
       "<IPython.core.display.Javascript object>"
      ]
     },
     "metadata": {},
     "output_type": "display_data"
    }
   ],
   "source": [
    "# export\n",
    "class ToughGame1(Base):\n",
    "    \"\"\"A one-sided game of learning and consequences\"\"\"\n",
    "\n",
    "    def __init__(self, n, maze=None, sigma_E=0.5, sigma_Q=1.0, max_steps=10, seed=None):\n",
    "        self.n = n\n",
    "        self.maze = maze\n",
    "        self.max_steps = max_steps\n",
    "        self.sigma_E = sigma_E\n",
    "        self.sigma_Q = sigma_Q\n",
    "\n",
    "        self.prng = np.random.RandomState(seed)\n",
    "        self.reset()\n",
    "\n",
    "    def step(self, move):\n",
    "        if self.count > self.max_steps:\n",
    "            raise ValueError(f\"env exceeded max_steps ({self.count})\")\n",
    "\n",
    "        # Shuffle state, and generate returns\n",
    "        x, y = move\n",
    "        self.move_history.append(move)\n",
    "\n",
    "        # Values are only found once\n",
    "        reward = deepcopy((self.E[x, y], self.Q[x, y]))\n",
    "        self.E[x, y] = 0\n",
    "        self.Q[x, y] = 0\n",
    "        self.x, self.y = x, y\n",
    "        state = (self.x, self.y, self.E, self.Q)\n",
    "\n",
    "        # Limit game length\n",
    "        self.count += 1\n",
    "        if self.count >= self.max_steps:\n",
    "            self.done = True\n",
    "\n",
    "        return state, reward, self.done, {}\n",
    "\n",
    "    def reset(self):\n",
    "        # Generate new\n",
    "        # Generate new\n",
    "        x, y, self.prng = random_move(self.maze, self.prng)\n",
    "        self.E, self.Q, self.prng = tough_game(\n",
    "            self.n,\n",
    "            sigma_E=self.sigma_E,\n",
    "            sigma_Q=self.sigma_Q,\n",
    "            maze=self.maze,\n",
    "            prng=self.prng,\n",
    "        )\n",
    "\n",
    "        # Can't move where we start\n",
    "        self.E[x, y] = 0\n",
    "        self.Q[x, y] = 0\n",
    "        self.move_history = [(x, y)]\n",
    "        self.x, self.y = x, y\n",
    "\n",
    "        # reinit\n",
    "        self.count = 0\n",
    "        self.done = False\n",
    "\n",
    "        return (self.x, self.y, self.E, self.Q)"
   ]
  },
  {
   "cell_type": "markdown",
   "metadata": {},
   "source": [
    "- Example of random play"
   ]
  },
  {
   "cell_type": "code",
   "execution_count": null,
   "metadata": {},
   "outputs": [
    {
     "name": "stdout",
     "output_type": "stream",
     "text": [
      "5 1 (0.14948488080861458, 0.16926813205271804) False\n",
      "7 1 (0.10167141435254168, 0.5334809369266825) False\n",
      "2 1 (0.1664335677612682, 0.23872090966575146) False\n",
      "3 1 (0.14600440882194315, 0.19388022481082204) False\n",
      "3 2 (0.15816096157063284, 0.5485921840164499) False\n",
      "4 2 (0.08501560393600738, 0.28886848632829565) False\n",
      "4 3 (0.11363619494279026, 0.06066172448969996) False\n",
      "3 3 (1.0, 0.05167036599727297) False\n",
      "2 3 (0.18842055217800968, 0.36048906902660627) False\n",
      "2 6 (0.3366594164006848, 0.056335023429288596) True\n"
     ]
    },
    {
     "data": {
      "application/javascript": [
       "\n",
       "            setTimeout(function() {\n",
       "                var nbb_cell_id = 12;\n",
       "                var nbb_unformatted_code = \"maze, _ = create_maze(8, k=5, t=10)\\nenv = ToughGame1(8, maze=maze)\\n\\ndone = False\\nx, y, Q, E = env.reset()\\n\\nmoves = [(x, y)]\\nwhile not done:\\n    available = env.moves()\\n    i = np.random.randint(0, len(available))\\n    x, y = available[i]\\n    state, reward, done, _ = env.step((x, y))\\n    moves.append((x, y))\\n\\n    print(x, y, reward, done)\";\n",
       "                var nbb_formatted_code = \"maze, _ = create_maze(8, k=5, t=10)\\nenv = ToughGame1(8, maze=maze)\\n\\ndone = False\\nx, y, Q, E = env.reset()\\n\\nmoves = [(x, y)]\\nwhile not done:\\n    available = env.moves()\\n    i = np.random.randint(0, len(available))\\n    x, y = available[i]\\n    state, reward, done, _ = env.step((x, y))\\n    moves.append((x, y))\\n\\n    print(x, y, reward, done)\";\n",
       "                var nbb_cells = Jupyter.notebook.get_cells();\n",
       "                for (var i = 0; i < nbb_cells.length; ++i) {\n",
       "                    if (nbb_cells[i].input_prompt_number == nbb_cell_id) {\n",
       "                        if (nbb_cells[i].get_text() == nbb_unformatted_code) {\n",
       "                             nbb_cells[i].set_text(nbb_formatted_code);\n",
       "                        }\n",
       "                        break;\n",
       "                    }\n",
       "                }\n",
       "            }, 500);\n",
       "            "
      ],
      "text/plain": [
       "<IPython.core.display.Javascript object>"
      ]
     },
     "metadata": {},
     "output_type": "display_data"
    }
   ],
   "source": [
    "maze, _ = create_maze(8, k=5, t=10)\n",
    "env = ToughGame1(8, maze=maze)\n",
    "\n",
    "done = False\n",
    "x, y, Q, E = env.reset()\n",
    "\n",
    "moves = [(x, y)]\n",
    "while not done:\n",
    "    available = env.moves()\n",
    "    i = np.random.randint(0, len(available))\n",
    "    x, y = available[i]\n",
    "    state, reward, done, _ = env.step((x, y))\n",
    "    moves.append((x, y))\n",
    "\n",
    "    print(x, y, reward, done)"
   ]
  },
  {
   "cell_type": "code",
   "execution_count": null,
   "metadata": {},
   "outputs": [],
   "source": []
  },
  {
   "cell_type": "code",
   "execution_count": null,
   "metadata": {},
   "outputs": [],
   "source": []
  }
 ],
 "metadata": {
  "kernelspec": {
   "display_name": "Python 3",
   "language": "python",
   "name": "python3"
  }
 },
 "nbformat": 4,
 "nbformat_minor": 2
}

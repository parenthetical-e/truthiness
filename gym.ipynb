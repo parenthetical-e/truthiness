{
 "cells": [
  {
   "cell_type": "code",
   "execution_count": null,
   "metadata": {},
   "outputs": [
    {
     "data": {
      "application/javascript": [
       "\n",
       "            setTimeout(function() {\n",
       "                var nbb_cell_id = 23;\n",
       "                var nbb_unformatted_code = \"# default_exp gym\";\n",
       "                var nbb_formatted_code = \"# default_exp gym\";\n",
       "                var nbb_cells = Jupyter.notebook.get_cells();\n",
       "                for (var i = 0; i < nbb_cells.length; ++i) {\n",
       "                    if (nbb_cells[i].input_prompt_number == nbb_cell_id) {\n",
       "                        if (nbb_cells[i].get_text() == nbb_unformatted_code) {\n",
       "                             nbb_cells[i].set_text(nbb_formatted_code);\n",
       "                        }\n",
       "                        break;\n",
       "                    }\n",
       "                }\n",
       "            }, 500);\n",
       "            "
      ],
      "text/plain": [
       "<IPython.core.display.Javascript object>"
      ]
     },
     "metadata": {},
     "output_type": "display_data"
    }
   ],
   "source": [
    "# default_exp gym"
   ]
  },
  {
   "cell_type": "markdown",
   "metadata": {},
   "source": [
    "# gym\n",
    "> A `Gym` enviroment for teaching truth and conseqences"
   ]
  },
  {
   "cell_type": "code",
   "execution_count": null,
   "metadata": {},
   "outputs": [
    {
     "name": "stdout",
     "output_type": "stream",
     "text": [
      "The nb_black extension is already loaded. To reload it, use:\n",
      "  %reload_ext nb_black\n"
     ]
    },
    {
     "data": {
      "application/javascript": [
       "\n",
       "            setTimeout(function() {\n",
       "                var nbb_cell_id = 24;\n",
       "                var nbb_unformatted_code = \"# hide\\nfrom nbdev.showdoc import *\\n\\n%load_ext nb_black\\n%matplotlib inline\\n%config InlineBackend.figure_format='retina'\\n%config IPCompleter.greedy=True\";\n",
       "                var nbb_formatted_code = \"# hide\\nfrom nbdev.showdoc import *\\n\\n%load_ext nb_black\\n%matplotlib inline\\n%config InlineBackend.figure_format='retina'\\n%config IPCompleter.greedy=True\";\n",
       "                var nbb_cells = Jupyter.notebook.get_cells();\n",
       "                for (var i = 0; i < nbb_cells.length; ++i) {\n",
       "                    if (nbb_cells[i].input_prompt_number == nbb_cell_id) {\n",
       "                        if (nbb_cells[i].get_text() == nbb_unformatted_code) {\n",
       "                             nbb_cells[i].set_text(nbb_formatted_code);\n",
       "                        }\n",
       "                        break;\n",
       "                    }\n",
       "                }\n",
       "            }, 500);\n",
       "            "
      ],
      "text/plain": [
       "<IPython.core.display.Javascript object>"
      ]
     },
     "metadata": {},
     "output_type": "display_data"
    }
   ],
   "source": [
    "# hide\n",
    "from nbdev.showdoc import *\n",
    "\n",
    "%load_ext nb_black\n",
    "%matplotlib inline\n",
    "%config InlineBackend.figure_format='retina'\n",
    "%config IPCompleter.greedy=True"
   ]
  },
  {
   "cell_type": "code",
   "execution_count": null,
   "metadata": {},
   "outputs": [
    {
     "data": {
      "application/javascript": [
       "\n",
       "            setTimeout(function() {\n",
       "                var nbb_cell_id = 25;\n",
       "                var nbb_unformatted_code = \"# export\\nimport numpy as np\\nimport gym\\n\\nfrom copy import deepcopy\\nfrom gym import spaces\\nfrom gym.utils import seeding\\nfrom itertools import cycle\\n\\nfrom truthiness.game import create_maze\\nfrom truthiness.game import shame_game\\nfrom truthiness.game import plain_game\\nfrom truthiness.game import available_moves\\nfrom truthiness.game import random_move\\n\\n# Gym is annoying these days...\\nimport warnings\\n\\nwarnings.filterwarnings(\\\"ignore\\\")\";\n",
       "                var nbb_formatted_code = \"# export\\nimport numpy as np\\nimport gym\\n\\nfrom copy import deepcopy\\nfrom gym import spaces\\nfrom gym.utils import seeding\\nfrom itertools import cycle\\n\\nfrom truthiness.game import create_maze\\nfrom truthiness.game import shame_game\\nfrom truthiness.game import plain_game\\nfrom truthiness.game import available_moves\\nfrom truthiness.game import random_move\\n\\n# Gym is annoying these days...\\nimport warnings\\n\\nwarnings.filterwarnings(\\\"ignore\\\")\";\n",
       "                var nbb_cells = Jupyter.notebook.get_cells();\n",
       "                for (var i = 0; i < nbb_cells.length; ++i) {\n",
       "                    if (nbb_cells[i].input_prompt_number == nbb_cell_id) {\n",
       "                        if (nbb_cells[i].get_text() == nbb_unformatted_code) {\n",
       "                             nbb_cells[i].set_text(nbb_formatted_code);\n",
       "                        }\n",
       "                        break;\n",
       "                    }\n",
       "                }\n",
       "            }, 500);\n",
       "            "
      ],
      "text/plain": [
       "<IPython.core.display.Javascript object>"
      ]
     },
     "metadata": {},
     "output_type": "display_data"
    }
   ],
   "source": [
    "# export\n",
    "import numpy as np\n",
    "import gym\n",
    "\n",
    "from copy import deepcopy\n",
    "from gym import spaces\n",
    "from gym.utils import seeding\n",
    "from itertools import cycle\n",
    "\n",
    "from truthiness.game import create_maze\n",
    "from truthiness.game import shame_game\n",
    "from truthiness.game import plain_game\n",
    "from truthiness.game import available_moves\n",
    "from truthiness.game import random_move\n",
    "\n",
    "# Gym is annoying these days...\n",
    "import warnings\n",
    "\n",
    "warnings.filterwarnings(\"ignore\")"
   ]
  },
  {
   "cell_type": "markdown",
   "metadata": {},
   "source": [
    "# the base\n",
    "First we define a `Base` game class. It has methods that are common between all the games we will want to play. "
   ]
  },
  {
   "cell_type": "code",
   "execution_count": null,
   "metadata": {},
   "outputs": [
    {
     "data": {
      "application/javascript": [
       "\n",
       "            setTimeout(function() {\n",
       "                var nbb_cell_id = 26;\n",
       "                var nbb_unformatted_code = \"# export\\nclass Base(gym.Env):\\n    def moves(self):\\n        \\\"\\\"\\\"Return all available moves\\\"\\\"\\\"\\n        # Get all the moves then filter for moves that\\n        # have already been played\\n        candidates = available_moves(self.x, self.y, self.maze)\\n\\n        available = []\\n        for a in candidates:\\n            if a not in self.move_history:\\n                available.append(a)\\n\\n        return available\\n\\n    def set_maze(self, maze):\\n        self.maze = maze\\n\\n    def render(self, mode=\\\"human\\\", close=False):\\n        pass\";\n",
       "                var nbb_formatted_code = \"# export\\nclass Base(gym.Env):\\n    def moves(self):\\n        \\\"\\\"\\\"Return all available moves\\\"\\\"\\\"\\n        # Get all the moves then filter for moves that\\n        # have already been played\\n        candidates = available_moves(self.x, self.y, self.maze)\\n\\n        available = []\\n        for a in candidates:\\n            if a not in self.move_history:\\n                available.append(a)\\n\\n        return available\\n\\n    def set_maze(self, maze):\\n        self.maze = maze\\n\\n    def render(self, mode=\\\"human\\\", close=False):\\n        pass\";\n",
       "                var nbb_cells = Jupyter.notebook.get_cells();\n",
       "                for (var i = 0; i < nbb_cells.length; ++i) {\n",
       "                    if (nbb_cells[i].input_prompt_number == nbb_cell_id) {\n",
       "                        if (nbb_cells[i].get_text() == nbb_unformatted_code) {\n",
       "                             nbb_cells[i].set_text(nbb_formatted_code);\n",
       "                        }\n",
       "                        break;\n",
       "                    }\n",
       "                }\n",
       "            }, 500);\n",
       "            "
      ],
      "text/plain": [
       "<IPython.core.display.Javascript object>"
      ]
     },
     "metadata": {},
     "output_type": "display_data"
    }
   ],
   "source": [
    "# export\n",
    "class Base(gym.Env):\n",
    "    def moves(self):\n",
    "        \"\"\"Return all available moves\"\"\"\n",
    "        # Get all the moves then filter for moves that\n",
    "        # have already been played\n",
    "        candidates = available_moves(self.x, self.y, self.maze)\n",
    "\n",
    "        available = []\n",
    "        for a in candidates:\n",
    "            if a not in self.move_history:\n",
    "                available.append(a)\n",
    "\n",
    "        return available\n",
    "\n",
    "    def set_maze(self, maze):\n",
    "        self.maze = maze\n",
    "\n",
    "    def render(self, mode=\"human\", close=False):\n",
    "        pass"
   ]
  },
  {
   "cell_type": "markdown",
   "metadata": {},
   "source": [
    "# the shame game env\n",
    "The details of this game are described in the `game` file. This module exists only to put the games described there into a [gym](https://github.com/openai/gym) environment, and then do some simple testing."
   ]
  },
  {
   "cell_type": "code",
   "execution_count": null,
   "metadata": {},
   "outputs": [
    {
     "data": {
      "application/javascript": [
       "\n",
       "            setTimeout(function() {\n",
       "                var nbb_cell_id = 27;\n",
       "                var nbb_unformatted_code = \"# export\\nclass ShameGame1(Base):\\n    \\\"\\\"\\\"A one-sided game of learning and shame\\\"\\\"\\\"\\n\\n    def __init__(self, n, maze=None, sigma=0.5, shame=0.5, max_steps=10, seed=None):\\n        self.n = n\\n        self.maze = maze\\n        self.max_steps = max_steps\\n        self.sigma = sigma\\n        self.shame = shame\\n\\n        self.prng = np.random.RandomState(seed)\\n        self.reset()\\n\\n    def step(self, move):\\n        if self.count > self.max_steps:\\n            raise ValueError(f\\\"env exceeded max_steps ({self.count})\\\")\\n\\n        # Shuffle state, and generate returns\\n        x, y = move\\n        self.move_history.append(move)\\n\\n        # Values are only found once\\n        reward = deepcopy((self.E[x, y], self.Q[x, y]))\\n        self.E[x, y] = 0\\n        self.Q[x, y] = 0\\n        self.x, self.y = x, y\\n        state = (self.y, self.x, self.E, self.Q)\\n\\n        # Limit game length\\n        self.count += 1\\n        if self.count >= self.max_steps:\\n            self.done = True\\n\\n        return state, reward, self.done, {}\\n\\n    def reset(self):\\n        # reinit\\n        self.count = 0\\n        self.done = False\\n        self.move_history = []\\n\\n        # Generate new\\n        self.x, self.y, self.prng = random_move(self.maze, prng=self.prng)\\n        self.E, self.Q, self.prng = shame_game(\\n            self.n, sigma=self.sigma, shame=self.shame, maze=self.maze, prng=self.prng\\n        )\\n\\n        return (self.y, self.x, self.E, self.Q)\";\n",
       "                var nbb_formatted_code = \"# export\\nclass ShameGame1(Base):\\n    \\\"\\\"\\\"A one-sided game of learning and shame\\\"\\\"\\\"\\n\\n    def __init__(self, n, maze=None, sigma=0.5, shame=0.5, max_steps=10, seed=None):\\n        self.n = n\\n        self.maze = maze\\n        self.max_steps = max_steps\\n        self.sigma = sigma\\n        self.shame = shame\\n\\n        self.prng = np.random.RandomState(seed)\\n        self.reset()\\n\\n    def step(self, move):\\n        if self.count > self.max_steps:\\n            raise ValueError(f\\\"env exceeded max_steps ({self.count})\\\")\\n\\n        # Shuffle state, and generate returns\\n        x, y = move\\n        self.move_history.append(move)\\n\\n        # Values are only found once\\n        reward = deepcopy((self.E[x, y], self.Q[x, y]))\\n        self.E[x, y] = 0\\n        self.Q[x, y] = 0\\n        self.x, self.y = x, y\\n        state = (self.y, self.x, self.E, self.Q)\\n\\n        # Limit game length\\n        self.count += 1\\n        if self.count >= self.max_steps:\\n            self.done = True\\n\\n        return state, reward, self.done, {}\\n\\n    def reset(self):\\n        # reinit\\n        self.count = 0\\n        self.done = False\\n        self.move_history = []\\n\\n        # Generate new\\n        self.x, self.y, self.prng = random_move(self.maze, prng=self.prng)\\n        self.E, self.Q, self.prng = shame_game(\\n            self.n, sigma=self.sigma, shame=self.shame, maze=self.maze, prng=self.prng\\n        )\\n\\n        return (self.y, self.x, self.E, self.Q)\";\n",
       "                var nbb_cells = Jupyter.notebook.get_cells();\n",
       "                for (var i = 0; i < nbb_cells.length; ++i) {\n",
       "                    if (nbb_cells[i].input_prompt_number == nbb_cell_id) {\n",
       "                        if (nbb_cells[i].get_text() == nbb_unformatted_code) {\n",
       "                             nbb_cells[i].set_text(nbb_formatted_code);\n",
       "                        }\n",
       "                        break;\n",
       "                    }\n",
       "                }\n",
       "            }, 500);\n",
       "            "
      ],
      "text/plain": [
       "<IPython.core.display.Javascript object>"
      ]
     },
     "metadata": {},
     "output_type": "display_data"
    }
   ],
   "source": [
    "# export\n",
    "class ShameGame1(Base):\n",
    "    \"\"\"A one-sided game of learning and shame\"\"\"\n",
    "\n",
    "    def __init__(self, n, maze=None, sigma=0.5, shame=0.5, max_steps=10, seed=None):\n",
    "        self.n = n\n",
    "        self.maze = maze\n",
    "        self.max_steps = max_steps\n",
    "        self.sigma = sigma\n",
    "        self.shame = shame\n",
    "\n",
    "        self.prng = np.random.RandomState(seed)\n",
    "        self.reset()\n",
    "\n",
    "    def step(self, move):\n",
    "        if self.count > self.max_steps:\n",
    "            raise ValueError(f\"env exceeded max_steps ({self.count})\")\n",
    "\n",
    "        # Shuffle state, and generate returns\n",
    "        x, y = move\n",
    "        self.move_history.append(move)\n",
    "\n",
    "        # Values are only found once\n",
    "        reward = deepcopy((self.E[x, y], self.Q[x, y]))\n",
    "        self.E[x, y] = 0\n",
    "        self.Q[x, y] = 0\n",
    "        self.x, self.y = x, y\n",
    "        state = (self.y, self.x, self.E, self.Q)\n",
    "\n",
    "        # Limit game length\n",
    "        self.count += 1\n",
    "        if self.count >= self.max_steps:\n",
    "            self.done = True\n",
    "\n",
    "        return state, reward, self.done, {}\n",
    "\n",
    "    def reset(self):\n",
    "        # reinit\n",
    "        self.count = 0\n",
    "        self.done = False\n",
    "        self.move_history = []\n",
    "\n",
    "        # Generate new\n",
    "        self.x, self.y, self.prng = random_move(self.maze, prng=self.prng)\n",
    "        self.E, self.Q, self.prng = shame_game(\n",
    "            self.n, sigma=self.sigma, shame=self.shame, maze=self.maze, prng=self.prng\n",
    "        )\n",
    "\n",
    "        return (self.y, self.x, self.E, self.Q)"
   ]
  },
  {
   "cell_type": "markdown",
   "metadata": {},
   "source": [
    "- Example of random play"
   ]
  },
  {
   "cell_type": "code",
   "execution_count": null,
   "metadata": {},
   "outputs": [
    {
     "data": {
      "application/javascript": [
       "\n",
       "            setTimeout(function() {\n",
       "                var nbb_cell_id = 29;\n",
       "                var nbb_unformatted_code = \"maze, _ = create_maze(8, k=5, t=10)\\nenv = ShameGame1(8, maze=maze)\";\n",
       "                var nbb_formatted_code = \"maze, _ = create_maze(8, k=5, t=10)\\nenv = ShameGame1(8, maze=maze)\";\n",
       "                var nbb_cells = Jupyter.notebook.get_cells();\n",
       "                for (var i = 0; i < nbb_cells.length; ++i) {\n",
       "                    if (nbb_cells[i].input_prompt_number == nbb_cell_id) {\n",
       "                        if (nbb_cells[i].get_text() == nbb_unformatted_code) {\n",
       "                             nbb_cells[i].set_text(nbb_formatted_code);\n",
       "                        }\n",
       "                        break;\n",
       "                    }\n",
       "                }\n",
       "            }, 500);\n",
       "            "
      ],
      "text/plain": [
       "<IPython.core.display.Javascript object>"
      ]
     },
     "metadata": {},
     "output_type": "display_data"
    }
   ],
   "source": [
    "maze, _ = create_maze(8, k=5, t=10)\n",
    "env = ShameGame1(8, maze=maze)"
   ]
  },
  {
   "cell_type": "code",
   "execution_count": null,
   "metadata": {},
   "outputs": [
    {
     "name": "stdout",
     "output_type": "stream",
     "text": [
      "3 0 (0.543063947498749, 0.2715319737493745) False\n",
      "6 0 (0.24185180440084803, 0.12092590220042401) False\n",
      "5 0 (0.3549139185644378, 0.1774569592822189) False\n",
      "2 0 (0.532138627124911, 0.2660693135624555) False\n",
      "2 1 (0.22372211180899168, 0.11186105590449584) False\n",
      "2 2 (0.19610973811756927, 0.09805486905878463) False\n",
      "2 3 (0.22161960991908772, 0.11080980495954386) False\n",
      "2 4 (0.49087005515802534, 0.24543502757901267) False\n",
      "2 6 (0.6582432802958313, 0.3291216401479157) False\n",
      "3 6 (0.3277963244778513, 0.16389816223892564) True\n"
     ]
    },
    {
     "data": {
      "application/javascript": [
       "\n",
       "            setTimeout(function() {\n",
       "                var nbb_cell_id = 30;\n",
       "                var nbb_unformatted_code = \"done = False\\nx, y, Q, E = env.reset()\\n\\nmoves = [(x, y)]\\nwhile not done:\\n    available = env.moves()\\n    i = np.random.randint(0, len(available))\\n    x, y = available[i]\\n    state, reward, done, _ = env.step((x, y))\\n    moves.append((x, y))\\n\\n    print(x, y, reward, done)\";\n",
       "                var nbb_formatted_code = \"done = False\\nx, y, Q, E = env.reset()\\n\\nmoves = [(x, y)]\\nwhile not done:\\n    available = env.moves()\\n    i = np.random.randint(0, len(available))\\n    x, y = available[i]\\n    state, reward, done, _ = env.step((x, y))\\n    moves.append((x, y))\\n\\n    print(x, y, reward, done)\";\n",
       "                var nbb_cells = Jupyter.notebook.get_cells();\n",
       "                for (var i = 0; i < nbb_cells.length; ++i) {\n",
       "                    if (nbb_cells[i].input_prompt_number == nbb_cell_id) {\n",
       "                        if (nbb_cells[i].get_text() == nbb_unformatted_code) {\n",
       "                             nbb_cells[i].set_text(nbb_formatted_code);\n",
       "                        }\n",
       "                        break;\n",
       "                    }\n",
       "                }\n",
       "            }, 500);\n",
       "            "
      ],
      "text/plain": [
       "<IPython.core.display.Javascript object>"
      ]
     },
     "metadata": {},
     "output_type": "display_data"
    }
   ],
   "source": [
    "done = False\n",
    "x, y, Q, E = env.reset()\n",
    "\n",
    "moves = [(x, y)]\n",
    "while not done:\n",
    "    available = env.moves()\n",
    "    i = np.random.randint(0, len(available))\n",
    "    x, y = available[i]\n",
    "    state, reward, done, _ = env.step((x, y))\n",
    "    moves.append((x, y))\n",
    "\n",
    "    print(x, y, reward, done)"
   ]
  },
  {
   "cell_type": "code",
   "execution_count": null,
   "metadata": {},
   "outputs": [],
   "source": [
    "moves"
   ]
  },
  {
   "cell_type": "markdown",
   "metadata": {},
   "source": [
    "# the plain game env\n",
    "As above the details of this game are described in the `game` file. This module exists only to put the games described there into a [gym](https://github.com/openai/gym) environment, and then do some simple testing."
   ]
  },
  {
   "cell_type": "code",
   "execution_count": null,
   "metadata": {},
   "outputs": [],
   "source": [
    "# export\n",
    "class PlainGame1(Base):\n",
    "    \"\"\"A one-sided game of learning and consequences\"\"\"\n",
    "\n",
    "    def __init__(self, n, maze=None, sigma=0.5, max_steps=10, seed=None):\n",
    "        self.n = n\n",
    "        self.maze = maze\n",
    "        self.max_steps = max_steps\n",
    "        self.sigma = sigma\n",
    "\n",
    "        self.prng = np.random.RandomState(seed)\n",
    "        self.reset()\n",
    "\n",
    "    def step(self, move):\n",
    "        if self.count > self.max_steps:\n",
    "            raise ValueError(f\"env exceeded max_steps ({self.count})\")\n",
    "\n",
    "        # Shuffle state, and generate returns\n",
    "        x, y = move\n",
    "        self.move_history.append(move)\n",
    "\n",
    "        # Values are only found once\n",
    "        reward = deepcopy((self.E[x, y], self.Q[x, y]))\n",
    "        self.E[x, y] = 0\n",
    "        self.Q[x, y] = 0\n",
    "        self.x, self.y = x, y\n",
    "        state = (self.y, self.x, self.E, self.Q)\n",
    "\n",
    "        # Limit game length\n",
    "        self.count += 1\n",
    "        if self.count >= self.max_steps:\n",
    "            self.done = True\n",
    "\n",
    "        return state, reward, self.done, {}\n",
    "\n",
    "    def reset(self):\n",
    "        # reinit\n",
    "        self.count = 0\n",
    "        self.done = False\n",
    "        self.move_history = []\n",
    "\n",
    "        # Generate new\n",
    "        self.x, self.y, self.prng = random_move(self.maze, self.prng)\n",
    "        self.E, self.Q, self.prng = plain_game(\n",
    "            self.n, sigma=self.sigma, maze=self.maze, prng=self.prng\n",
    "        )\n",
    "\n",
    "        return (self.y, self.x, self.E, self.Q)"
   ]
  },
  {
   "cell_type": "markdown",
   "metadata": {},
   "source": [
    "- Example of random play"
   ]
  },
  {
   "cell_type": "code",
   "execution_count": null,
   "metadata": {},
   "outputs": [
    {
     "name": "stdout",
     "output_type": "stream",
     "text": [
      "0 1 (0.4904820260169564, 0.1790301673150056) False\n",
      "2 1 (0.6813804830319288, 0.23451320249712546) False\n",
      "1 1 (0.34753180591072114, 0.2123929456479355) False\n",
      "1 7 (0.2870727542562359, 0.22440067960401763) False\n",
      "1 0 (0.3171674951801019, 0.12874958515768187) False\n",
      "1 5 (0.3055031694766594, 0.12858685198940464) False\n",
      "1 6 (0.27830288777421114, 0.23401335053224365) False\n",
      "3 6 (0.2330983915832105, 0.6420775691246181) False\n",
      "6 6 (0.5911046435563989, 0.14937250624670195) False\n",
      "5 6 (0.3198211542975239, 0.13073026920053332) True\n"
     ]
    },
    {
     "data": {
      "application/javascript": [
       "\n",
       "            setTimeout(function() {\n",
       "                var nbb_cell_id = 31;\n",
       "                var nbb_unformatted_code = \"maze, _ = create_maze(8, k=5, t=10)\\nenv = PlainGame1(8, maze=maze)\\n\\ndone = False\\nx, y, Q, E = env.reset()\\n\\nmoves = [(x, y)]\\nwhile not done:\\n    available = env.moves()\\n    i = np.random.randint(0, len(available))\\n    x, y = available[i]\\n    state, reward, done, _ = env.step((x, y))\\n    moves.append((x, y))\\n\\n    print(x, y, reward, done)\";\n",
       "                var nbb_formatted_code = \"maze, _ = create_maze(8, k=5, t=10)\\nenv = PlainGame1(8, maze=maze)\\n\\ndone = False\\nx, y, Q, E = env.reset()\\n\\nmoves = [(x, y)]\\nwhile not done:\\n    available = env.moves()\\n    i = np.random.randint(0, len(available))\\n    x, y = available[i]\\n    state, reward, done, _ = env.step((x, y))\\n    moves.append((x, y))\\n\\n    print(x, y, reward, done)\";\n",
       "                var nbb_cells = Jupyter.notebook.get_cells();\n",
       "                for (var i = 0; i < nbb_cells.length; ++i) {\n",
       "                    if (nbb_cells[i].input_prompt_number == nbb_cell_id) {\n",
       "                        if (nbb_cells[i].get_text() == nbb_unformatted_code) {\n",
       "                             nbb_cells[i].set_text(nbb_formatted_code);\n",
       "                        }\n",
       "                        break;\n",
       "                    }\n",
       "                }\n",
       "            }, 500);\n",
       "            "
      ],
      "text/plain": [
       "<IPython.core.display.Javascript object>"
      ]
     },
     "metadata": {},
     "output_type": "display_data"
    }
   ],
   "source": [
    "maze, _ = create_maze(8, k=5, t=10)\n",
    "env = PlainGame1(8, maze=maze)\n",
    "\n",
    "done = False\n",
    "x, y, Q, E = env.reset()\n",
    "\n",
    "moves = [(x, y)]\n",
    "while not done:\n",
    "    available = env.moves()\n",
    "    i = np.random.randint(0, len(available))\n",
    "    x, y = available[i]\n",
    "    state, reward, done, _ = env.step((x, y))\n",
    "    moves.append((x, y))\n",
    "\n",
    "    print(x, y, reward, done)"
   ]
  },
  {
   "cell_type": "code",
   "execution_count": null,
   "metadata": {},
   "outputs": [],
   "source": []
  },
  {
   "cell_type": "code",
   "execution_count": null,
   "metadata": {},
   "outputs": [],
   "source": []
  }
 ],
 "metadata": {
  "kernelspec": {
   "display_name": "Python 3",
   "language": "python",
   "name": "python3"
  }
 },
 "nbformat": 4,
 "nbformat_minor": 2
}

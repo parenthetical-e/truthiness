{
 "cells": [
  {
   "cell_type": "code",
   "execution_count": null,
   "metadata": {},
   "outputs": [],
   "source": [
    "# default_exp player"
   ]
  },
  {
   "cell_type": "markdown",
   "metadata": {},
   "source": [
    "# player\n",
    "> Mathematical players for games of truth and consequences"
   ]
  },
  {
   "cell_type": "code",
   "execution_count": null,
   "metadata": {},
   "outputs": [
    {
     "data": {
      "application/javascript": [
       "\n",
       "            setTimeout(function() {\n",
       "                var nbb_cell_id = 2;\n",
       "                var nbb_unformatted_code = \"# hide\\nfrom nbdev.showdoc import *\\n\\n%load_ext nb_black\\n%matplotlib inline\\n%config InlineBackend.figure_format='retina'\\n%config IPCompleter.greedy=True\";\n",
       "                var nbb_formatted_code = \"# hide\\nfrom nbdev.showdoc import *\\n\\n%load_ext nb_black\\n%matplotlib inline\\n%config InlineBackend.figure_format='retina'\\n%config IPCompleter.greedy=True\";\n",
       "                var nbb_cells = Jupyter.notebook.get_cells();\n",
       "                for (var i = 0; i < nbb_cells.length; ++i) {\n",
       "                    if (nbb_cells[i].input_prompt_number == nbb_cell_id) {\n",
       "                        if (nbb_cells[i].get_text() == nbb_unformatted_code) {\n",
       "                             nbb_cells[i].set_text(nbb_formatted_code);\n",
       "                        }\n",
       "                        break;\n",
       "                    }\n",
       "                }\n",
       "            }, 500);\n",
       "            "
      ],
      "text/plain": [
       "<IPython.core.display.Javascript object>"
      ]
     },
     "metadata": {},
     "output_type": "display_data"
    }
   ],
   "source": [
    "# hide\n",
    "from nbdev.showdoc import *\n",
    "\n",
    "%load_ext nb_black\n",
    "%matplotlib inline\n",
    "%config InlineBackend.figure_format='retina'\n",
    "%config IPCompleter.greedy=True"
   ]
  },
  {
   "cell_type": "code",
   "execution_count": null,
   "metadata": {},
   "outputs": [
    {
     "data": {
      "application/javascript": [
       "\n",
       "            setTimeout(function() {\n",
       "                var nbb_cell_id = 3;\n",
       "                var nbb_unformatted_code = \"# export\\nimport csv\\nimport numpy as np\\n\\nfrom truthiness import gym\\nfrom truthiness.game import available_moves\\nfrom truthiness.game import random_move\\nfrom truthiness.game import create_maze\";\n",
       "                var nbb_formatted_code = \"# export\\nimport csv\\nimport numpy as np\\n\\nfrom truthiness import gym\\nfrom truthiness.game import available_moves\\nfrom truthiness.game import random_move\\nfrom truthiness.game import create_maze\";\n",
       "                var nbb_cells = Jupyter.notebook.get_cells();\n",
       "                for (var i = 0; i < nbb_cells.length; ++i) {\n",
       "                    if (nbb_cells[i].input_prompt_number == nbb_cell_id) {\n",
       "                        if (nbb_cells[i].get_text() == nbb_unformatted_code) {\n",
       "                             nbb_cells[i].set_text(nbb_formatted_code);\n",
       "                        }\n",
       "                        break;\n",
       "                    }\n",
       "                }\n",
       "            }, 500);\n",
       "            "
      ],
      "text/plain": [
       "<IPython.core.display.Javascript object>"
      ]
     },
     "metadata": {},
     "output_type": "display_data"
    }
   ],
   "source": [
    "# export\n",
    "import csv\n",
    "import numpy as np\n",
    "\n",
    "from truthiness import gym\n",
    "from truthiness.game import available_moves\n",
    "from truthiness.game import random_move\n",
    "from truthiness.game import create_maze"
   ]
  },
  {
   "cell_type": "markdown",
   "metadata": {},
   "source": [
    "# a run function\n",
    "First we make a run function to our players. \n",
    "- An 'episode' is a full game of play. Change `num_episdoes` to play more or less.\n",
    "- Each episode uses a different random seed.\n",
    "- Data for each game can be logged to csv file. Change `name` from `None`."
   ]
  },
  {
   "cell_type": "code",
   "execution_count": null,
   "metadata": {},
   "outputs": [
    {
     "data": {
      "application/javascript": [
       "\n",
       "            setTimeout(function() {\n",
       "                var nbb_cell_id = 13;\n",
       "                var nbb_unformatted_code = \"# export\\ndef run(\\n    n,\\n    player,\\n    num_episodes=10,\\n    env_name=\\\"ShameGame1\\\",\\n    env_kwargs=None,\\n    maze_kwargs=None,\\n    name=None,\\n    seed=None,\\n):\\n    \\\"\\\"\\\"Play some games.\\\"\\\"\\\"\\n\\n    # Sanity\\n    num_episodes = int(num_episodes)\\n    if num_episodes < 1:\\n        raise ValueError(\\\"num_episode must be > 0\\\")\\n    if maze_kwargs is None:\\n        maze_kwargs = {}\\n    if env_kwargs is None:\\n        env_kwargs = {}\\n\\n    # Get the env\\n    prng = np.random.RandomState(seed)\\n    Env = getattr(gym, env_name)\\n    maze, prng = create_maze(n, prng=prng, **maze_kwargs)\\n    env = Env(n, maze=maze, seed=seed, **env_kwargs)\\n\\n    # Init logging. Save data as tuples:\\n    # (n, t, x, y, e, q)\\n    table = []\\n    mazes = []\\n    Es = []\\n    Qs = []\\n    moves = []\\n\\n    # !\\n    for i in range(num_episodes):\\n        # Reconfig the env\\n        maze, prng = create_maze(n, prng=prng, **maze_kwargs)\\n        mazes.append((i, maze))\\n\\n        # Reset\\n        t = 0\\n        env.set_maze(maze)\\n        x, y, Q, E = env.reset()\\n        Es.append((i, E))\\n        Qs.append((i, Q))\\n        moves.append((i, t, x, y))\\n        done = False\\n\\n        # -\\n        while not done:\\n            t += 1\\n\\n            # Choose and act\\n            available = env.moves()\\n            x, y = player(E, Q, available)\\n            moves.append((i, t, x, y))\\n\\n            state, reward, done, _ = env.step((x, y))\\n\\n            # Log data\\n            e, q = reward\\n            row = (i, t, x, y, e, q)\\n            table.append(row)\\n\\n            # Shift\\n            x, y, Q, E = state\\n\\n    # Save to disk?\\n    if name is not None:\\n        save_table(name, table)\\n\\n    return moves, mazes, Es, Qs\";\n",
       "                var nbb_formatted_code = \"# export\\ndef run(\\n    n,\\n    player,\\n    num_episodes=10,\\n    env_name=\\\"ShameGame1\\\",\\n    env_kwargs=None,\\n    maze_kwargs=None,\\n    name=None,\\n    seed=None,\\n):\\n    \\\"\\\"\\\"Play some games.\\\"\\\"\\\"\\n\\n    # Sanity\\n    num_episodes = int(num_episodes)\\n    if num_episodes < 1:\\n        raise ValueError(\\\"num_episode must be > 0\\\")\\n    if maze_kwargs is None:\\n        maze_kwargs = {}\\n    if env_kwargs is None:\\n        env_kwargs = {}\\n\\n    # Get the env\\n    prng = np.random.RandomState(seed)\\n    Env = getattr(gym, env_name)\\n    maze, prng = create_maze(n, prng=prng, **maze_kwargs)\\n    env = Env(n, maze=maze, seed=seed, **env_kwargs)\\n\\n    # Init logging. Save data as tuples:\\n    # (n, t, x, y, e, q)\\n    table = []\\n    mazes = []\\n    Es = []\\n    Qs = []\\n    moves = []\\n\\n    # !\\n    for i in range(num_episodes):\\n        # Reconfig the env\\n        maze, prng = create_maze(n, prng=prng, **maze_kwargs)\\n        mazes.append((i, maze))\\n\\n        # Reset\\n        t = 0\\n        env.set_maze(maze)\\n        x, y, Q, E = env.reset()\\n        Es.append((i, E))\\n        Qs.append((i, Q))\\n        moves.append((i, t, x, y))\\n        done = False\\n\\n        # -\\n        while not done:\\n            t += 1\\n\\n            # Choose and act\\n            available = env.moves()\\n            x, y = player(E, Q, available)\\n            moves.append((i, t, x, y))\\n\\n            state, reward, done, _ = env.step((x, y))\\n\\n            # Log data\\n            e, q = reward\\n            row = (i, t, x, y, e, q)\\n            table.append(row)\\n\\n            # Shift\\n            x, y, Q, E = state\\n\\n    # Save to disk?\\n    if name is not None:\\n        save_table(name, table)\\n\\n    return moves, mazes, Es, Qs\";\n",
       "                var nbb_cells = Jupyter.notebook.get_cells();\n",
       "                for (var i = 0; i < nbb_cells.length; ++i) {\n",
       "                    if (nbb_cells[i].input_prompt_number == nbb_cell_id) {\n",
       "                        if (nbb_cells[i].get_text() == nbb_unformatted_code) {\n",
       "                             nbb_cells[i].set_text(nbb_formatted_code);\n",
       "                        }\n",
       "                        break;\n",
       "                    }\n",
       "                }\n",
       "            }, 500);\n",
       "            "
      ],
      "text/plain": [
       "<IPython.core.display.Javascript object>"
      ]
     },
     "metadata": {},
     "output_type": "display_data"
    }
   ],
   "source": [
    "# export\n",
    "def run(\n",
    "    n,\n",
    "    player,\n",
    "    num_episodes=10,\n",
    "    env_name=\"ShameGame1\",\n",
    "    env_kwargs=None,\n",
    "    maze_kwargs=None,\n",
    "    name=None,\n",
    "    seed=None,\n",
    "):\n",
    "    \"\"\"Play some games.\"\"\"\n",
    "\n",
    "    # Sanity\n",
    "    num_episodes = int(num_episodes)\n",
    "    if num_episodes < 1:\n",
    "        raise ValueError(\"num_episode must be > 0\")\n",
    "    if maze_kwargs is None:\n",
    "        maze_kwargs = {}\n",
    "    if env_kwargs is None:\n",
    "        env_kwargs = {}\n",
    "\n",
    "    # Get the env\n",
    "    prng = np.random.RandomState(seed)\n",
    "    Env = getattr(gym, env_name)\n",
    "    maze, prng = create_maze(n, prng=prng, **maze_kwargs)\n",
    "    env = Env(n, maze=maze, seed=seed, **env_kwargs)\n",
    "\n",
    "    # Init logging. Save data as tuples:\n",
    "    # (n, t, x, y, e, q)\n",
    "    table = []\n",
    "    mazes = []\n",
    "    Es = []\n",
    "    Qs = []\n",
    "    moves = []\n",
    "\n",
    "    # !\n",
    "    for i in range(num_episodes):\n",
    "        # Reconfig the env\n",
    "        maze, prng = create_maze(n, prng=prng, **maze_kwargs)\n",
    "        mazes.append((i, maze))\n",
    "\n",
    "        # Reset\n",
    "        t = 0\n",
    "        env.set_maze(maze)\n",
    "        x, y, Q, E = env.reset()\n",
    "        Es.append((i, E))\n",
    "        Qs.append((i, Q))\n",
    "        moves.append((i, t, x, y))\n",
    "        done = False\n",
    "\n",
    "        # -\n",
    "        while not done:\n",
    "            t += 1\n",
    "\n",
    "            # Choose and act\n",
    "            available = env.moves()\n",
    "            x, y = player(E, Q, available)\n",
    "            moves.append((i, t, x, y))\n",
    "\n",
    "            state, reward, done, _ = env.step((x, y))\n",
    "\n",
    "            # Log data\n",
    "            e, q = reward\n",
    "            row = (i, t, x, y, e, q)\n",
    "            table.append(row)\n",
    "\n",
    "            # Shift\n",
    "            x, y, Q, E = state\n",
    "\n",
    "    # Save to disk?\n",
    "    if name is not None:\n",
    "        save_table(name, table)\n",
    "\n",
    "    return moves, mazes, Es, Qs"
   ]
  },
  {
   "cell_type": "code",
   "execution_count": null,
   "metadata": {},
   "outputs": [],
   "source": []
  },
  {
   "cell_type": "markdown",
   "metadata": {},
   "source": [
    "# utilities\n",
    "Define functions that will be helpful in then defining players"
   ]
  },
  {
   "cell_type": "code",
   "execution_count": null,
   "metadata": {},
   "outputs": [
    {
     "data": {
      "application/javascript": [
       "\n",
       "            setTimeout(function() {\n",
       "                var nbb_cell_id = 5;\n",
       "                var nbb_unformatted_code = \"# export\\ndef save_table(name, results):\\n    with open(name, mode=\\\"w\\\") as handle:\\n        # Init\\n        writer = csv.writer(handle)\\n\\n        # Header\\n        head = (\\\"n\\\", \\\"t\\\", \\\"x\\\", \\\"y\\\", \\\"E\\\", \\\"Q\\\")\\n        writer.writerow(head)\\n\\n        # Results\\n        for row in results:\\n            writer.writerow(row)\";\n",
       "                var nbb_formatted_code = \"# export\\ndef save_table(name, results):\\n    with open(name, mode=\\\"w\\\") as handle:\\n        # Init\\n        writer = csv.writer(handle)\\n\\n        # Header\\n        head = (\\\"n\\\", \\\"t\\\", \\\"x\\\", \\\"y\\\", \\\"E\\\", \\\"Q\\\")\\n        writer.writerow(head)\\n\\n        # Results\\n        for row in results:\\n            writer.writerow(row)\";\n",
       "                var nbb_cells = Jupyter.notebook.get_cells();\n",
       "                for (var i = 0; i < nbb_cells.length; ++i) {\n",
       "                    if (nbb_cells[i].input_prompt_number == nbb_cell_id) {\n",
       "                        if (nbb_cells[i].get_text() == nbb_unformatted_code) {\n",
       "                             nbb_cells[i].set_text(nbb_formatted_code);\n",
       "                        }\n",
       "                        break;\n",
       "                    }\n",
       "                }\n",
       "            }, 500);\n",
       "            "
      ],
      "text/plain": [
       "<IPython.core.display.Javascript object>"
      ]
     },
     "metadata": {},
     "output_type": "display_data"
    }
   ],
   "source": [
    "# export\n",
    "def save_table(name, results):\n",
    "    with open(name, mode=\"w\") as handle:\n",
    "        # Init\n",
    "        writer = csv.writer(handle)\n",
    "\n",
    "        # Header\n",
    "        head = (\"n\", \"t\", \"x\", \"y\", \"E\", \"Q\")\n",
    "        writer.writerow(head)\n",
    "\n",
    "        # Results\n",
    "        for row in results:\n",
    "            writer.writerow(row)"
   ]
  },
  {
   "cell_type": "code",
   "execution_count": null,
   "metadata": {},
   "outputs": [
    {
     "data": {
      "application/javascript": [
       "\n",
       "            setTimeout(function() {\n",
       "                var nbb_cell_id = 6;\n",
       "                var nbb_unformatted_code = \"# export\\ndef extract_moves(episode, moves):\\n    selected = []\\n    for m in moves:\\n        if np.isclose(m[0], episode):\\n            selected.append((m[2], m[3]))\\n    return selected\";\n",
       "                var nbb_formatted_code = \"# export\\ndef extract_moves(episode, moves):\\n    selected = []\\n    for m in moves:\\n        if np.isclose(m[0], episode):\\n            selected.append((m[2], m[3]))\\n    return selected\";\n",
       "                var nbb_cells = Jupyter.notebook.get_cells();\n",
       "                for (var i = 0; i < nbb_cells.length; ++i) {\n",
       "                    if (nbb_cells[i].input_prompt_number == nbb_cell_id) {\n",
       "                        if (nbb_cells[i].get_text() == nbb_unformatted_code) {\n",
       "                             nbb_cells[i].set_text(nbb_formatted_code);\n",
       "                        }\n",
       "                        break;\n",
       "                    }\n",
       "                }\n",
       "            }, 500);\n",
       "            "
      ],
      "text/plain": [
       "<IPython.core.display.Javascript object>"
      ]
     },
     "metadata": {},
     "output_type": "display_data"
    }
   ],
   "source": [
    "# export\n",
    "def extract_moves(episode, moves):\n",
    "    selected = []\n",
    "    for m in moves:\n",
    "        if np.isclose(m[0], episode):\n",
    "            selected.append((m[2], m[3]))\n",
    "    return selected"
   ]
  },
  {
   "cell_type": "code",
   "execution_count": null,
   "metadata": {},
   "outputs": [
    {
     "data": {
      "application/javascript": [
       "\n",
       "            setTimeout(function() {\n",
       "                var nbb_cell_id = 7;\n",
       "                var nbb_unformatted_code = \"# export\\ndef extract_board(episode, boards):\\n    for b in boards:\\n        if np.isclose(b[0], episode):\\n            return b[1]\";\n",
       "                var nbb_formatted_code = \"# export\\ndef extract_board(episode, boards):\\n    for b in boards:\\n        if np.isclose(b[0], episode):\\n            return b[1]\";\n",
       "                var nbb_cells = Jupyter.notebook.get_cells();\n",
       "                for (var i = 0; i < nbb_cells.length; ++i) {\n",
       "                    if (nbb_cells[i].input_prompt_number == nbb_cell_id) {\n",
       "                        if (nbb_cells[i].get_text() == nbb_unformatted_code) {\n",
       "                             nbb_cells[i].set_text(nbb_formatted_code);\n",
       "                        }\n",
       "                        break;\n",
       "                    }\n",
       "                }\n",
       "            }, 500);\n",
       "            "
      ],
      "text/plain": [
       "<IPython.core.display.Javascript object>"
      ]
     },
     "metadata": {},
     "output_type": "display_data"
    }
   ],
   "source": [
    "# export\n",
    "def extract_board(episode, boards):\n",
    "    for b in boards:\n",
    "        if np.isclose(b[0], episode):\n",
    "            return b[1]"
   ]
  },
  {
   "cell_type": "code",
   "execution_count": null,
   "metadata": {},
   "outputs": [
    {
     "data": {
      "application/javascript": [
       "\n",
       "            setTimeout(function() {\n",
       "                var nbb_cell_id = 8;\n",
       "                var nbb_unformatted_code = \"# export\\ndef move_filter(board, moves):\\n    \\\"\\\"\\\"Returns a list of values/conseqeunces for each move\\n    on an E or Q board.\\n    \\\"\\\"\\\"\\n    return [board[x, y] for (x, y) in moves]\";\n",
       "                var nbb_formatted_code = \"# export\\ndef move_filter(board, moves):\\n    \\\"\\\"\\\"Returns a list of values/conseqeunces for each move\\n    on an E or Q board.\\n    \\\"\\\"\\\"\\n    return [board[x, y] for (x, y) in moves]\";\n",
       "                var nbb_cells = Jupyter.notebook.get_cells();\n",
       "                for (var i = 0; i < nbb_cells.length; ++i) {\n",
       "                    if (nbb_cells[i].input_prompt_number == nbb_cell_id) {\n",
       "                        if (nbb_cells[i].get_text() == nbb_unformatted_code) {\n",
       "                             nbb_cells[i].set_text(nbb_formatted_code);\n",
       "                        }\n",
       "                        break;\n",
       "                    }\n",
       "                }\n",
       "            }, 500);\n",
       "            "
      ],
      "text/plain": [
       "<IPython.core.display.Javascript object>"
      ]
     },
     "metadata": {},
     "output_type": "display_data"
    }
   ],
   "source": [
    "# export\n",
    "def move_filter(board, moves):\n",
    "    \"\"\"Returns a list of values/conseqeunces for each move\n",
    "    on an E or Q board.\n",
    "    \"\"\"\n",
    "    return [board[x, y] for (x, y) in moves]"
   ]
  },
  {
   "cell_type": "markdown",
   "metadata": {},
   "source": [
    "# all players "
   ]
  },
  {
   "cell_type": "markdown",
   "metadata": {},
   "source": [
    "Here we define different simple players and dispositions to truth and consequences. \n",
    "- Honesty: $max\\ E_{i,j}$\n",
    "- Planned honesty: $argmax_{\\pi} \\sum_P E_{i,j}$\n",
    "- Sensitive: $min\\ Q_{i,j}$\n",
    "- Planned sensitive: $argmin_{\\pi} \\sum_P Q_{i,j}$\n",
    "- Evil: $max\\ Q_{i,j}$\n",
    "- Planned evil: $argmax_{\\pi} \\sum_P Q_{i,j}$\n",
    "- Foraging: $max\\ \\frac{E_{i,j}}{Q_{i,j}}$\n",
    "- Planned foraging: $argmax_{\\pi} \\sum_P \\frac{E_{i,j}}{Q_{i,j}}$\n",
    "- Random"
   ]
  },
  {
   "cell_type": "markdown",
   "metadata": {},
   "source": [
    "We also consider a couple more complex approaches which swtich amoung the simple policies"
   ]
  },
  {
   "cell_type": "markdown",
   "metadata": {},
   "source": [
    "**TODO**"
   ]
  },
  {
   "cell_type": "markdown",
   "metadata": {},
   "source": [
    "# a random player\n",
    "They play by making random moves. Simple and bad."
   ]
  },
  {
   "cell_type": "code",
   "execution_count": null,
   "metadata": {},
   "outputs": [
    {
     "data": {
      "application/javascript": [
       "\n",
       "            setTimeout(function() {\n",
       "                var nbb_cell_id = 9;\n",
       "                var nbb_unformatted_code = \"# export\\nclass Random:\\n    def __init__(self, prng=None):\\n        if prng is None:\\n            self.prng = np.random.RandomState()\\n        else:\\n            self.prng = prng\\n\\n    def __call__(self, E, Q, moves):\\n        return self.forward(E, Q, moves)\\n\\n    def forward(self, E, Q, moves):\\n        i = self.prng.randint(0, len(moves))\\n\\n        return moves[i]\";\n",
       "                var nbb_formatted_code = \"# export\\nclass Random:\\n    def __init__(self, prng=None):\\n        if prng is None:\\n            self.prng = np.random.RandomState()\\n        else:\\n            self.prng = prng\\n\\n    def __call__(self, E, Q, moves):\\n        return self.forward(E, Q, moves)\\n\\n    def forward(self, E, Q, moves):\\n        i = self.prng.randint(0, len(moves))\\n\\n        return moves[i]\";\n",
       "                var nbb_cells = Jupyter.notebook.get_cells();\n",
       "                for (var i = 0; i < nbb_cells.length; ++i) {\n",
       "                    if (nbb_cells[i].input_prompt_number == nbb_cell_id) {\n",
       "                        if (nbb_cells[i].get_text() == nbb_unformatted_code) {\n",
       "                             nbb_cells[i].set_text(nbb_formatted_code);\n",
       "                        }\n",
       "                        break;\n",
       "                    }\n",
       "                }\n",
       "            }, 500);\n",
       "            "
      ],
      "text/plain": [
       "<IPython.core.display.Javascript object>"
      ]
     },
     "metadata": {},
     "output_type": "display_data"
    }
   ],
   "source": [
    "# export\n",
    "class Random:\n",
    "    def __init__(self, prng=None):\n",
    "        if prng is None:\n",
    "            self.prng = np.random.RandomState()\n",
    "        else:\n",
    "            self.prng = prng\n",
    "\n",
    "    def __call__(self, E, Q, moves):\n",
    "        return self.forward(E, Q, moves)\n",
    "\n",
    "    def forward(self, E, Q, moves):\n",
    "        i = self.prng.randint(0, len(moves))\n",
    "\n",
    "        return moves[i]"
   ]
  },
  {
   "cell_type": "code",
   "execution_count": null,
   "metadata": {},
   "outputs": [
    {
     "data": {
      "text/plain": [
       "([(0, 0, 4, 3),\n",
       "  (0, 1, 1, 4),\n",
       "  (0, 2, 2, 4),\n",
       "  (0, 3, 2, 0),\n",
       "  (0, 4, 1, 0),\n",
       "  (0, 5, 1, 1),\n",
       "  (0, 6, 0, 1),\n",
       "  (0, 7, 0, 0),\n",
       "  (0, 8, 0, 3),\n",
       "  (0, 9, 0, 4),\n",
       "  (0, 10, 0, 2),\n",
       "  (1, 0, 4, 3),\n",
       "  (1, 1, 3, 3),\n",
       "  (1, 2, 3, 0),\n",
       "  (1, 3, 3, 4),\n",
       "  (1, 4, 0, 4),\n",
       "  (1, 5, 0, 5),\n",
       "  (1, 6, 2, 5),\n",
       "  (1, 7, 2, 7),\n",
       "  (1, 8, 3, 7),\n",
       "  (1, 9, 1, 7),\n",
       "  (1, 10, 0, 7)],\n",
       " [(0, array([[0., 0., 0., 0., 0., 1., 0., 0.],\n",
       "          [0., 0., 0., 0., 0., 1., 0., 0.],\n",
       "          [0., 0., 0., 0., 0., 1., 0., 0.],\n",
       "          [1., 1., 1., 0., 0., 1., 0., 0.],\n",
       "          [0., 1., 1., 0., 1., 1., 0., 0.],\n",
       "          [0., 0., 0., 1., 1., 0., 0., 0.],\n",
       "          [0., 0., 1., 1., 0., 0., 0., 0.],\n",
       "          [0., 0., 0., 0., 0., 0., 0., 0.]])),\n",
       "  (1, array([[0., 0., 0., 1., 0., 0., 0., 0.],\n",
       "          [0., 0., 0., 1., 0., 0., 0., 0.],\n",
       "          [0., 0., 0., 1., 0., 0., 0., 0.],\n",
       "          [0., 0., 0., 0., 0., 1., 0., 0.],\n",
       "          [0., 0., 0., 0., 1., 1., 0., 1.],\n",
       "          [0., 0., 0., 0., 0., 0., 1., 1.],\n",
       "          [0., 0., 0., 0., 0., 0., 1., 1.],\n",
       "          [0., 0., 0., 0., 0., 0., 0., 0.]]))],\n",
       " [(0, array([[0.        , 0.        , 0.        , 0.        , 0.        ,\n",
       "           0.        , 0.1700477 , 0.5       ],\n",
       "          [0.        , 0.        , 0.09773328, 0.27450375, 0.        ,\n",
       "           0.        , 0.18088012, 0.11612043],\n",
       "          [0.        , 0.08402417, 0.20532822, 0.21463408, 0.        ,\n",
       "           0.        , 0.23533277, 0.31984012],\n",
       "          [0.        , 0.        , 0.        , 0.13007797, 0.27945868,\n",
       "           0.        , 0.05688052, 0.11990689],\n",
       "          [0.11211783, 0.        , 0.        , 0.44150061, 0.        ,\n",
       "           0.        , 0.1331866 , 0.25231875],\n",
       "          [0.15920277, 0.10762311, 0.05642307, 0.        , 0.        ,\n",
       "           0.33447686, 0.23192528, 0.10065827],\n",
       "          [0.12515896, 0.17810687, 0.        , 0.        , 0.135562  ,\n",
       "           0.37360764, 0.03449302, 0.1279175 ],\n",
       "          [0.20601349, 0.08503371, 0.06645328, 0.12609158, 0.10468024,\n",
       "           0.23622643, 0.34171256, 0.32760407]])),\n",
       "  (1, array([[0.1400044 , 0.24901258, 0.07725168, 0.        , 0.        ,\n",
       "           0.        , 0.0959107 , 0.        ],\n",
       "          [0.26163468, 0.14185393, 0.21437463, 0.        , 0.11145969,\n",
       "           0.12938269, 0.08999309, 0.        ],\n",
       "          [0.23208629, 0.15844423, 0.07983995, 0.        , 0.15831598,\n",
       "           0.        , 0.187429  , 0.        ],\n",
       "          [0.        , 0.12432191, 0.16559525, 0.        , 0.        ,\n",
       "           0.        , 0.42182099, 0.        ],\n",
       "          [0.2254496 , 0.19171143, 0.5       , 0.16639525, 0.        ,\n",
       "           0.        , 0.05192198, 0.        ],\n",
       "          [0.17529158, 0.38017164, 0.12210491, 0.30107571, 0.14423812,\n",
       "           0.19984861, 0.        , 0.        ],\n",
       "          [0.15524671, 0.12356212, 0.06034762, 0.2687161 , 0.23587895,\n",
       "           0.42234133, 0.        , 0.        ],\n",
       "          [0.1226971 , 0.26545859, 0.20850619, 0.33004976, 0.10729747,\n",
       "           0.36610758, 0.11709323, 0.16070782]]))],\n",
       " [(0, array([[0.        , 0.        , 0.        , 0.        , 0.        ,\n",
       "           0.        , 0.3400954 , 1.        ],\n",
       "          [0.        , 0.        , 0.19546656, 0.5490075 , 0.        ,\n",
       "           0.        , 0.36176024, 0.23224087],\n",
       "          [0.        , 0.16804834, 0.41065643, 0.42926816, 0.        ,\n",
       "           0.        , 0.47066555, 0.63968023],\n",
       "          [0.        , 0.        , 0.        , 0.26015595, 0.55891736,\n",
       "           0.        , 0.11376103, 0.23981378],\n",
       "          [0.22423566, 0.        , 0.        , 0.88300122, 0.        ,\n",
       "           0.        , 0.2663732 , 0.5046375 ],\n",
       "          [0.31840554, 0.21524622, 0.11284614, 0.        , 0.        ,\n",
       "           0.66895372, 0.46385057, 0.20131653],\n",
       "          [0.25031792, 0.35621375, 0.        , 0.        , 0.27112399,\n",
       "           0.74721528, 0.06898604, 0.255835  ],\n",
       "          [0.41202698, 0.17006742, 0.13290656, 0.25218316, 0.20936047,\n",
       "           0.47245285, 0.68342511, 0.65520815]])),\n",
       "  (1, array([[0.2800088 , 0.49802516, 0.15450337, 0.        , 0.        ,\n",
       "           0.        , 0.1918214 , 0.        ],\n",
       "          [0.52326936, 0.28370785, 0.42874926, 0.        , 0.22291938,\n",
       "           0.25876538, 0.17998619, 0.        ],\n",
       "          [0.46417259, 0.31688845, 0.15967991, 0.        , 0.31663195,\n",
       "           0.        , 0.374858  , 0.        ],\n",
       "          [0.        , 0.24864381, 0.33119051, 0.        , 0.        ,\n",
       "           0.        , 0.84364198, 0.        ],\n",
       "          [0.4508992 , 0.38342286, 1.        , 0.3327905 , 0.        ,\n",
       "           0.        , 0.10384395, 0.        ],\n",
       "          [0.35058317, 0.76034329, 0.24420981, 0.60215141, 0.28847624,\n",
       "           0.39969722, 0.        , 0.        ],\n",
       "          [0.31049342, 0.24712424, 0.12069524, 0.53743219, 0.47175791,\n",
       "           0.84468266, 0.        , 0.        ],\n",
       "          [0.24539419, 0.53091717, 0.41701239, 0.66009953, 0.21459495,\n",
       "           0.73221516, 0.23418646, 0.32141563]]))])"
      ]
     },
     "execution_count": null,
     "metadata": {},
     "output_type": "execute_result"
    },
    {
     "data": {
      "application/javascript": [
       "\n",
       "            setTimeout(function() {\n",
       "                var nbb_cell_id = 19;\n",
       "                var nbb_unformatted_code = \"run(8, Random(), num_episodes=2, name=\\\"random.csv\\\")\";\n",
       "                var nbb_formatted_code = \"run(8, Random(), num_episodes=2, name=\\\"random.csv\\\")\";\n",
       "                var nbb_cells = Jupyter.notebook.get_cells();\n",
       "                for (var i = 0; i < nbb_cells.length; ++i) {\n",
       "                    if (nbb_cells[i].input_prompt_number == nbb_cell_id) {\n",
       "                        if (nbb_cells[i].get_text() == nbb_unformatted_code) {\n",
       "                             nbb_cells[i].set_text(nbb_formatted_code);\n",
       "                        }\n",
       "                        break;\n",
       "                    }\n",
       "                }\n",
       "            }, 500);\n",
       "            "
      ],
      "text/plain": [
       "<IPython.core.display.Javascript object>"
      ]
     },
     "metadata": {},
     "output_type": "display_data"
    }
   ],
   "source": [
    "run(8, Random(), num_episodes=2, name=\"random.csv\")"
   ]
  },
  {
   "cell_type": "markdown",
   "metadata": {},
   "source": [
    "# curious players"
   ]
  },
  {
   "cell_type": "markdown",
   "metadata": {},
   "source": [
    "Choose the move with the most information value"
   ]
  },
  {
   "cell_type": "code",
   "execution_count": null,
   "metadata": {},
   "outputs": [],
   "source": [
    "# export\n",
    "class Curious:\n",
    "    def __init__(self, prng=None):\n",
    "        if prng is None:\n",
    "            self.prng = np.random.RandomState()\n",
    "        else:\n",
    "            self.prng = prng\n",
    "\n",
    "    def __call__(self, E, Q, moves):\n",
    "        return self.forward(E, Q, moves)\n",
    "\n",
    "    def forward(self, E, Q, moves):\n",
    "        values = move_filter(E, moves)\n",
    "        best = np.argmax(values)\n",
    "\n",
    "        return moves[best]"
   ]
  },
  {
   "cell_type": "code",
   "execution_count": null,
   "metadata": {},
   "outputs": [],
   "source": [
    "run(8, Curious(), num_episodes=1)"
   ]
  },
  {
   "cell_type": "markdown",
   "metadata": {},
   "source": [
    "Try and choose the move that can lead to the most information over the whole best possible path"
   ]
  },
  {
   "cell_type": "code",
   "execution_count": null,
   "metadata": {},
   "outputs": [],
   "source": [
    "# export\n",
    "class CuriousMCTS:\n",
    "    def __init__(self, prng=None):\n",
    "        if prng is None:\n",
    "            self.prng = np.random.RandomState()\n",
    "        else:\n",
    "            self.prng = prng\n",
    "\n",
    "    def __call__(self, E, Q, moves):\n",
    "        return self.forward(E, Q, moves)\n",
    "\n",
    "    def forward(self, E, Q, moves):\n",
    "        pass\n",
    "        # TODO - do MCTS to find the best path overall\n",
    "        # moves.\n",
    "        return moves[i]"
   ]
  },
  {
   "cell_type": "markdown",
   "metadata": {},
   "source": [
    "# sensitive players"
   ]
  },
  {
   "cell_type": "markdown",
   "metadata": {},
   "source": [
    "Choose the move with the least consequences"
   ]
  },
  {
   "cell_type": "code",
   "execution_count": null,
   "metadata": {},
   "outputs": [],
   "source": [
    "# export\n",
    "class Sensitive:\n",
    "    def __init__(self, prng=None):\n",
    "        if prng is None:\n",
    "            self.prng = np.random.RandomState()\n",
    "        else:\n",
    "            self.prng = prng\n",
    "\n",
    "    def __call__(self, E, Q, moves):\n",
    "        return self.forward(E, Q, moves)\n",
    "\n",
    "    def forward(self, E, Q, moves):\n",
    "        values = move_filter(Q, moves)\n",
    "        best = np.argmin(values)\n",
    "\n",
    "        return moves[best]"
   ]
  },
  {
   "cell_type": "code",
   "execution_count": null,
   "metadata": {},
   "outputs": [],
   "source": [
    "run(8, Sensitive(), num_episodes=1)"
   ]
  },
  {
   "cell_type": "markdown",
   "metadata": {},
   "source": [
    "Try and choose the move that can lead to the least consequences over the whole best possible path"
   ]
  },
  {
   "cell_type": "code",
   "execution_count": null,
   "metadata": {},
   "outputs": [],
   "source": [
    "# export\n",
    "class SensitiveMCTS:\n",
    "    def __init__(self, prng=None):\n",
    "        if prng is None:\n",
    "            self.prng = np.random.RandomState()\n",
    "        else:\n",
    "            self.prng = prng\n",
    "\n",
    "    def __call__(self, E, Q, moves):\n",
    "        return self.forward(E, Q, moves)\n",
    "\n",
    "    def forward(self, E, Q, moves):\n",
    "        pass\n",
    "        # TODO - do MCTS to find the best path overall\n",
    "        # moves.\n",
    "        return moves[i]"
   ]
  },
  {
   "cell_type": "markdown",
   "metadata": {},
   "source": [
    "# evil players"
   ]
  },
  {
   "cell_type": "markdown",
   "metadata": {},
   "source": [
    "Choose the move with the worst consequences"
   ]
  },
  {
   "cell_type": "code",
   "execution_count": null,
   "metadata": {},
   "outputs": [],
   "source": [
    "# export\n",
    "class Evil:\n",
    "    def __init__(self, prng=None):\n",
    "        if prng is None:\n",
    "            self.prng = np.random.RandomState()\n",
    "        else:\n",
    "            self.prng = prng\n",
    "\n",
    "    def __call__(self, E, Q, moves):\n",
    "        return self.forward(E, Q, moves)\n",
    "\n",
    "    def forward(self, E, Q, moves):\n",
    "        values = move_filter(Q, moves)\n",
    "        worst = np.argmax(values)\n",
    "\n",
    "        return moves[worst]"
   ]
  },
  {
   "cell_type": "code",
   "execution_count": null,
   "metadata": {},
   "outputs": [],
   "source": [
    "run(8, Evil(), num_episodes=1)"
   ]
  },
  {
   "cell_type": "markdown",
   "metadata": {},
   "source": [
    "Try and choose the move that can lead to the worst consequences over the whole best possible path"
   ]
  },
  {
   "cell_type": "code",
   "execution_count": null,
   "metadata": {},
   "outputs": [],
   "source": [
    "# export\n",
    "class EvilMCTS:\n",
    "    def __init__(self, prng=None):\n",
    "        if prng is None:\n",
    "            self.prng = np.random.RandomState()\n",
    "        else:\n",
    "            self.prng = prng\n",
    "\n",
    "    def __call__(self, E, Q, moves):\n",
    "        return self.forward(E, Q, moves)\n",
    "\n",
    "    def forward(self, E, Q, moves):\n",
    "        # TODO\n",
    "        pass\n",
    "\n",
    "        return moves[i]"
   ]
  },
  {
   "cell_type": "markdown",
   "metadata": {},
   "source": [
    "# foraging players"
   ]
  },
  {
   "cell_type": "markdown",
   "metadata": {},
   "source": [
    "Choose the move with the best ratio of $\\frac{E}{Q}$"
   ]
  },
  {
   "cell_type": "code",
   "execution_count": null,
   "metadata": {},
   "outputs": [],
   "source": [
    "# export\n",
    "class OptimalForage:\n",
    "    def __init__(self, prng=None):\n",
    "        if prng is None:\n",
    "            self.prng = np.random.RandomState()\n",
    "        else:\n",
    "            self.prng = prng\n",
    "\n",
    "    def __call__(self, E, Q, moves):\n",
    "        return self.forward(E, Q, moves)\n",
    "\n",
    "    def forward(self, E, Q, moves):\n",
    "        values = move_filter(E / Q, moves)\n",
    "        best = np.argmax(values)\n",
    "\n",
    "        return moves[best]"
   ]
  },
  {
   "cell_type": "code",
   "execution_count": null,
   "metadata": {},
   "outputs": [],
   "source": [
    "run(8, OptimalForage(), num_episodes=2)"
   ]
  },
  {
   "cell_type": "markdown",
   "metadata": {},
   "source": [
    "Try and choose the move that can lead to the best ratio of $\\frac{E}{Q}$ over the whole best possible path"
   ]
  },
  {
   "cell_type": "code",
   "execution_count": null,
   "metadata": {},
   "outputs": [],
   "source": [
    "# export\n",
    "class OptimalForageMCTS:\n",
    "    def __init__(self, prng=None):\n",
    "        if prng is None:\n",
    "            self.prng = np.random.RandomState()\n",
    "        else:\n",
    "            self.prng = prng\n",
    "\n",
    "    def __call__(self, E, Q, moves):\n",
    "        return self.forward(E, Q, moves)\n",
    "\n",
    "    def forward(self, E, Q, moves):\n",
    "        pass\n",
    "\n",
    "        return moves[best]"
   ]
  }
 ],
 "metadata": {
  "kernelspec": {
   "display_name": "Python 3",
   "language": "python",
   "name": "python3"
  }
 },
 "nbformat": 4,
 "nbformat_minor": 2
}

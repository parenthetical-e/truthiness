{
 "cells": [
  {
   "cell_type": "code",
   "execution_count": null,
   "metadata": {},
   "outputs": [],
   "source": [
    "# default_exp player"
   ]
  },
  {
   "cell_type": "markdown",
   "metadata": {},
   "source": [
    "# player\n",
    "> Mathematical players for games of truth and consequences"
   ]
  },
  {
   "cell_type": "code",
   "execution_count": null,
   "metadata": {},
   "outputs": [
    {
     "data": {
      "application/javascript": [
       "\n",
       "            setTimeout(function() {\n",
       "                var nbb_cell_id = 2;\n",
       "                var nbb_unformatted_code = \"# hide\\nfrom nbdev.showdoc import *\\n\\n%load_ext nb_black\\n%matplotlib inline\\n%config InlineBackend.figure_format='retina'\\n%config IPCompleter.greedy=True\";\n",
       "                var nbb_formatted_code = \"# hide\\nfrom nbdev.showdoc import *\\n\\n%load_ext nb_black\\n%matplotlib inline\\n%config InlineBackend.figure_format='retina'\\n%config IPCompleter.greedy=True\";\n",
       "                var nbb_cells = Jupyter.notebook.get_cells();\n",
       "                for (var i = 0; i < nbb_cells.length; ++i) {\n",
       "                    if (nbb_cells[i].input_prompt_number == nbb_cell_id) {\n",
       "                        if (nbb_cells[i].get_text() == nbb_unformatted_code) {\n",
       "                             nbb_cells[i].set_text(nbb_formatted_code);\n",
       "                        }\n",
       "                        break;\n",
       "                    }\n",
       "                }\n",
       "            }, 500);\n",
       "            "
      ],
      "text/plain": [
       "<IPython.core.display.Javascript object>"
      ]
     },
     "metadata": {},
     "output_type": "display_data"
    }
   ],
   "source": [
    "# hide\n",
    "from nbdev.showdoc import *\n",
    "\n",
    "%load_ext nb_black\n",
    "%matplotlib inline\n",
    "%config InlineBackend.figure_format='retina'\n",
    "%config IPCompleter.greedy=True"
   ]
  },
  {
   "cell_type": "code",
   "execution_count": null,
   "metadata": {},
   "outputs": [
    {
     "data": {
      "application/javascript": [
       "\n",
       "            setTimeout(function() {\n",
       "                var nbb_cell_id = 3;\n",
       "                var nbb_unformatted_code = \"# export\\nimport csv\\nimport numpy as np\\n\\nfrom truthiness import gym\\nfrom truthiness.game import available_moves\\nfrom truthiness.game import random_move\\nfrom truthiness.game import create_maze\";\n",
       "                var nbb_formatted_code = \"# export\\nimport csv\\nimport numpy as np\\n\\nfrom truthiness import gym\\nfrom truthiness.game import available_moves\\nfrom truthiness.game import random_move\\nfrom truthiness.game import create_maze\";\n",
       "                var nbb_cells = Jupyter.notebook.get_cells();\n",
       "                for (var i = 0; i < nbb_cells.length; ++i) {\n",
       "                    if (nbb_cells[i].input_prompt_number == nbb_cell_id) {\n",
       "                        if (nbb_cells[i].get_text() == nbb_unformatted_code) {\n",
       "                             nbb_cells[i].set_text(nbb_formatted_code);\n",
       "                        }\n",
       "                        break;\n",
       "                    }\n",
       "                }\n",
       "            }, 500);\n",
       "            "
      ],
      "text/plain": [
       "<IPython.core.display.Javascript object>"
      ]
     },
     "metadata": {},
     "output_type": "display_data"
    }
   ],
   "source": [
    "# export\n",
    "import csv\n",
    "import numpy as np\n",
    "\n",
    "from truthiness import gym\n",
    "from truthiness.game import available_moves\n",
    "from truthiness.game import random_move\n",
    "from truthiness.game import create_maze"
   ]
  },
  {
   "cell_type": "markdown",
   "metadata": {},
   "source": [
    "# a run function\n",
    "First we make a run function to our players. \n",
    "- An 'episode' is a full game of play. Change `num_episdoes` to play more or less.\n",
    "- Each episode uses a different random seed.\n",
    "- Data for each game can be logged to csv file. Change `name` from `None`."
   ]
  },
  {
   "cell_type": "code",
   "execution_count": null,
   "metadata": {},
   "outputs": [
    {
     "data": {
      "application/javascript": [
       "\n",
       "            setTimeout(function() {\n",
       "                var nbb_cell_id = 27;\n",
       "                var nbb_unformatted_code = \"# export\\ndef run(\\n    n,\\n    player,\\n    num_episodes=10,\\n    env_name=\\\"ShameGame1\\\",\\n    env_kwargs=None,\\n    maze_kwargs=None,\\n    name=None,\\n    seed=None,\\n):\\n    \\\"\\\"\\\"Play some games.\\\"\\\"\\\"\\n\\n    # Sanity\\n    num_episodes = int(num_episodes)\\n    if num_episodes < 1:\\n        raise ValueError(\\\"num_episode must be > 0\\\")\\n    if maze_kwargs is None:\\n        maze_kwargs = {}\\n    if env_kwargs is None:\\n        env_kwargs = {}\\n\\n    # Get the env\\n    prng = np.random.RandomState(seed)\\n    Env = getattr(gym, env_name)\\n    maze, prng = create_maze(n, prng=prng, **maze_kwargs)\\n    env = Env(n, maze=maze, seed=seed, **env_kwargs)\\n\\n    # Init logging. Save data as tuples:\\n    # (n, t, x, y, e, q)\\n    results = []\\n\\n    # !\\n    for i in range(num_episodes):\\n        # Reconfig the env\\n        maze, prng = create_maze(n, prng=prng, **maze_kwargs)\\n\\n        # Reset\\n        env.set_maze(maze)\\n        x, y, Q, E = env.reset()\\n        done = False\\n\\n        # -\\n        t = 0\\n        while not done:\\n            # Choose and act\\n            moves = env.moves()\\n            x, y = player(E, Q, moves)\\n\\n            state, reward, done, _ = env.step((x, y))\\n\\n            # Log data\\n            e, q = reward\\n            result = (i, t, x, y, e, q)\\n            results.append(result)\\n\\n            # Shift\\n            x, y, Q, E = state\\n            t += 1\\n\\n    # Save to disk?\\n    if name is not None:\\n        save_results(name, results)\\n\\n    return results\";\n",
       "                var nbb_formatted_code = \"# export\\ndef run(\\n    n,\\n    player,\\n    num_episodes=10,\\n    env_name=\\\"ShameGame1\\\",\\n    env_kwargs=None,\\n    maze_kwargs=None,\\n    name=None,\\n    seed=None,\\n):\\n    \\\"\\\"\\\"Play some games.\\\"\\\"\\\"\\n\\n    # Sanity\\n    num_episodes = int(num_episodes)\\n    if num_episodes < 1:\\n        raise ValueError(\\\"num_episode must be > 0\\\")\\n    if maze_kwargs is None:\\n        maze_kwargs = {}\\n    if env_kwargs is None:\\n        env_kwargs = {}\\n\\n    # Get the env\\n    prng = np.random.RandomState(seed)\\n    Env = getattr(gym, env_name)\\n    maze, prng = create_maze(n, prng=prng, **maze_kwargs)\\n    env = Env(n, maze=maze, seed=seed, **env_kwargs)\\n\\n    # Init logging. Save data as tuples:\\n    # (n, t, x, y, e, q)\\n    results = []\\n\\n    # !\\n    for i in range(num_episodes):\\n        # Reconfig the env\\n        maze, prng = create_maze(n, prng=prng, **maze_kwargs)\\n\\n        # Reset\\n        env.set_maze(maze)\\n        x, y, Q, E = env.reset()\\n        done = False\\n\\n        # -\\n        t = 0\\n        while not done:\\n            # Choose and act\\n            moves = env.moves()\\n            x, y = player(E, Q, moves)\\n\\n            state, reward, done, _ = env.step((x, y))\\n\\n            # Log data\\n            e, q = reward\\n            result = (i, t, x, y, e, q)\\n            results.append(result)\\n\\n            # Shift\\n            x, y, Q, E = state\\n            t += 1\\n\\n    # Save to disk?\\n    if name is not None:\\n        save_results(name, results)\\n\\n    return results\";\n",
       "                var nbb_cells = Jupyter.notebook.get_cells();\n",
       "                for (var i = 0; i < nbb_cells.length; ++i) {\n",
       "                    if (nbb_cells[i].input_prompt_number == nbb_cell_id) {\n",
       "                        if (nbb_cells[i].get_text() == nbb_unformatted_code) {\n",
       "                             nbb_cells[i].set_text(nbb_formatted_code);\n",
       "                        }\n",
       "                        break;\n",
       "                    }\n",
       "                }\n",
       "            }, 500);\n",
       "            "
      ],
      "text/plain": [
       "<IPython.core.display.Javascript object>"
      ]
     },
     "metadata": {},
     "output_type": "display_data"
    }
   ],
   "source": [
    "# export\n",
    "def run(\n",
    "    n,\n",
    "    player,\n",
    "    num_episodes=10,\n",
    "    env_name=\"ShameGame1\",\n",
    "    env_kwargs=None,\n",
    "    maze_kwargs=None,\n",
    "    name=None,\n",
    "    seed=None,\n",
    "):\n",
    "    \"\"\"Play some games.\"\"\"\n",
    "\n",
    "    # Sanity\n",
    "    num_episodes = int(num_episodes)\n",
    "    if num_episodes < 1:\n",
    "        raise ValueError(\"num_episode must be > 0\")\n",
    "    if maze_kwargs is None:\n",
    "        maze_kwargs = {}\n",
    "    if env_kwargs is None:\n",
    "        env_kwargs = {}\n",
    "\n",
    "    # Get the env\n",
    "    prng = np.random.RandomState(seed)\n",
    "    Env = getattr(gym, env_name)\n",
    "    maze, prng = create_maze(n, prng=prng, **maze_kwargs)\n",
    "    env = Env(n, maze=maze, seed=seed, **env_kwargs)\n",
    "\n",
    "    # Init logging. Save data as tuples:\n",
    "    # (n, t, x, y, e, q)\n",
    "    results = []\n",
    "\n",
    "    # !\n",
    "    for i in range(num_episodes):\n",
    "        # Reconfig the env\n",
    "        maze, prng = create_maze(n, prng=prng, **maze_kwargs)\n",
    "\n",
    "        # Reset\n",
    "        env.set_maze(maze)\n",
    "        x, y, Q, E = env.reset()\n",
    "        done = False\n",
    "\n",
    "        # -\n",
    "        t = 0\n",
    "        while not done:\n",
    "            # Choose and act\n",
    "            moves = env.moves()\n",
    "            x, y = player(E, Q, moves)\n",
    "\n",
    "            state, reward, done, _ = env.step((x, y))\n",
    "\n",
    "            # Log data\n",
    "            e, q = reward\n",
    "            result = (i, t, x, y, e, q)\n",
    "            results.append(result)\n",
    "\n",
    "            # Shift\n",
    "            x, y, Q, E = state\n",
    "            t += 1\n",
    "\n",
    "    # Save to disk?\n",
    "    if name is not None:\n",
    "        save_results(name, results)\n",
    "\n",
    "    return results"
   ]
  },
  {
   "cell_type": "markdown",
   "metadata": {},
   "source": [
    "# utilities\n",
    "Define functions that will be helpful in then defining players"
   ]
  },
  {
   "cell_type": "code",
   "execution_count": null,
   "metadata": {},
   "outputs": [
    {
     "data": {
      "application/javascript": [
       "\n",
       "            setTimeout(function() {\n",
       "                var nbb_cell_id = 5;\n",
       "                var nbb_unformatted_code = \"# export\\ndef save_results(name, results):\\n    with open(name, mode=\\\"w\\\") as handle:\\n        # Init\\n        writer = csv.writer(handle)\\n\\n        # Header\\n        head = (\\\"n\\\", \\\"t\\\", \\\"x\\\", \\\"y\\\", \\\"E\\\", \\\"Q\\\")\\n        writer.writerow(head)\\n\\n        # Results\\n        for row in results:\\n            writer.writerow(row)\";\n",
       "                var nbb_formatted_code = \"# export\\ndef save_results(name, results):\\n    with open(name, mode=\\\"w\\\") as handle:\\n        # Init\\n        writer = csv.writer(handle)\\n\\n        # Header\\n        head = (\\\"n\\\", \\\"t\\\", \\\"x\\\", \\\"y\\\", \\\"E\\\", \\\"Q\\\")\\n        writer.writerow(head)\\n\\n        # Results\\n        for row in results:\\n            writer.writerow(row)\";\n",
       "                var nbb_cells = Jupyter.notebook.get_cells();\n",
       "                for (var i = 0; i < nbb_cells.length; ++i) {\n",
       "                    if (nbb_cells[i].input_prompt_number == nbb_cell_id) {\n",
       "                        if (nbb_cells[i].get_text() == nbb_unformatted_code) {\n",
       "                             nbb_cells[i].set_text(nbb_formatted_code);\n",
       "                        }\n",
       "                        break;\n",
       "                    }\n",
       "                }\n",
       "            }, 500);\n",
       "            "
      ],
      "text/plain": [
       "<IPython.core.display.Javascript object>"
      ]
     },
     "metadata": {},
     "output_type": "display_data"
    }
   ],
   "source": [
    "# export\n",
    "def save_results(name, results):\n",
    "    with open(name, mode=\"w\") as handle:\n",
    "        # Init\n",
    "        writer = csv.writer(handle)\n",
    "\n",
    "        # Header\n",
    "        head = (\"n\", \"t\", \"x\", \"y\", \"E\", \"Q\")\n",
    "        writer.writerow(head)\n",
    "\n",
    "        # Results\n",
    "        for row in results:\n",
    "            writer.writerow(row)"
   ]
  },
  {
   "cell_type": "code",
   "execution_count": null,
   "metadata": {},
   "outputs": [
    {
     "data": {
      "application/javascript": [
       "\n",
       "            setTimeout(function() {\n",
       "                var nbb_cell_id = 6;\n",
       "                var nbb_unformatted_code = \"# export\\ndef move_filter(board, moves):\\n    \\\"\\\"\\\"Returns a list of values/conseqeunces for each move\\n    on an E or Q board.\\n    \\\"\\\"\\\"\\n    return [board[x, y] for (x, y) in moves]\";\n",
       "                var nbb_formatted_code = \"# export\\ndef move_filter(board, moves):\\n    \\\"\\\"\\\"Returns a list of values/conseqeunces for each move\\n    on an E or Q board.\\n    \\\"\\\"\\\"\\n    return [board[x, y] for (x, y) in moves]\";\n",
       "                var nbb_cells = Jupyter.notebook.get_cells();\n",
       "                for (var i = 0; i < nbb_cells.length; ++i) {\n",
       "                    if (nbb_cells[i].input_prompt_number == nbb_cell_id) {\n",
       "                        if (nbb_cells[i].get_text() == nbb_unformatted_code) {\n",
       "                             nbb_cells[i].set_text(nbb_formatted_code);\n",
       "                        }\n",
       "                        break;\n",
       "                    }\n",
       "                }\n",
       "            }, 500);\n",
       "            "
      ],
      "text/plain": [
       "<IPython.core.display.Javascript object>"
      ]
     },
     "metadata": {},
     "output_type": "display_data"
    }
   ],
   "source": [
    "# export\n",
    "def move_filter(board, moves):\n",
    "    \"\"\"Returns a list of values/conseqeunces for each move\n",
    "    on an E or Q board.\n",
    "    \"\"\"\n",
    "    return [board[x, y] for (x, y) in moves]"
   ]
  },
  {
   "cell_type": "markdown",
   "metadata": {},
   "source": [
    "# all players "
   ]
  },
  {
   "cell_type": "markdown",
   "metadata": {},
   "source": [
    "Here we define different simple players and dispositions to truth and consequences. \n",
    "- Honesty: $max\\ E_{i,j}$\n",
    "- Planned honesty: $argmax_{\\pi} \\sum_P E_{i,j}$\n",
    "- Sensitive: $min\\ Q_{i,j}$\n",
    "- Planned sensitive: $argmin_{\\pi} \\sum_P Q_{i,j}$\n",
    "- Evil: $max\\ Q_{i,j}$\n",
    "- Planned evil: $argmax_{\\pi} \\sum_P Q_{i,j}$\n",
    "- Foraging: $max\\ \\frac{E_{i,j}}{Q_{i,j}}$\n",
    "- Planned foraging: $argmax_{\\pi} \\sum_P \\frac{E_{i,j}}{Q_{i,j}}$\n",
    "- Random"
   ]
  },
  {
   "cell_type": "markdown",
   "metadata": {},
   "source": [
    "We also consider a couple more complex approaches which swtich amoung the simple policies"
   ]
  },
  {
   "cell_type": "markdown",
   "metadata": {},
   "source": [
    "**TODO**"
   ]
  },
  {
   "cell_type": "markdown",
   "metadata": {},
   "source": [
    "# a random player\n",
    "They play by making random moves. Simple and bad."
   ]
  },
  {
   "cell_type": "code",
   "execution_count": null,
   "metadata": {},
   "outputs": [
    {
     "data": {
      "application/javascript": [
       "\n",
       "            setTimeout(function() {\n",
       "                var nbb_cell_id = 7;\n",
       "                var nbb_unformatted_code = \"# export\\nclass Random:\\n    def __init__(self, prng=None):\\n        if prng is None:\\n            self.prng = np.random.RandomState()\\n        else:\\n            self.prng = prng\\n\\n    def __call__(self, E, Q, moves):\\n        return self.forward(E, Q, moves)\\n\\n    def forward(self, E, Q, moves):\\n        i = self.prng.randint(0, len(moves))\\n\\n        return moves[i]\";\n",
       "                var nbb_formatted_code = \"# export\\nclass Random:\\n    def __init__(self, prng=None):\\n        if prng is None:\\n            self.prng = np.random.RandomState()\\n        else:\\n            self.prng = prng\\n\\n    def __call__(self, E, Q, moves):\\n        return self.forward(E, Q, moves)\\n\\n    def forward(self, E, Q, moves):\\n        i = self.prng.randint(0, len(moves))\\n\\n        return moves[i]\";\n",
       "                var nbb_cells = Jupyter.notebook.get_cells();\n",
       "                for (var i = 0; i < nbb_cells.length; ++i) {\n",
       "                    if (nbb_cells[i].input_prompt_number == nbb_cell_id) {\n",
       "                        if (nbb_cells[i].get_text() == nbb_unformatted_code) {\n",
       "                             nbb_cells[i].set_text(nbb_formatted_code);\n",
       "                        }\n",
       "                        break;\n",
       "                    }\n",
       "                }\n",
       "            }, 500);\n",
       "            "
      ],
      "text/plain": [
       "<IPython.core.display.Javascript object>"
      ]
     },
     "metadata": {},
     "output_type": "display_data"
    }
   ],
   "source": [
    "# export\n",
    "class Random:\n",
    "    def __init__(self, prng=None):\n",
    "        if prng is None:\n",
    "            self.prng = np.random.RandomState()\n",
    "        else:\n",
    "            self.prng = prng\n",
    "\n",
    "    def __call__(self, E, Q, moves):\n",
    "        return self.forward(E, Q, moves)\n",
    "\n",
    "    def forward(self, E, Q, moves):\n",
    "        i = self.prng.randint(0, len(moves))\n",
    "\n",
    "        return moves[i]"
   ]
  },
  {
   "cell_type": "code",
   "execution_count": null,
   "metadata": {},
   "outputs": [
    {
     "data": {
      "text/plain": [
       "[(0, 0, 4, 1, 0.26145314991685825, 0.13072657495842913),\n",
       " (0, 1, 4, 3, 0.23681253916421993, 0.11840626958210997),\n",
       " (0, 2, 4, 5, 0.2248485553450748, 0.1124242776725374),\n",
       " (0, 3, 6, 5, 0.15849977462500306, 0.07924988731250153),\n",
       " (0, 4, 6, 4, 0.3814956165947594, 0.1907478082973797),\n",
       " (0, 5, 3, 4, 0.28071846230513836, 0.14035923115256918),\n",
       " (0, 6, 4, 4, 0.4951572494159928, 0.2475786247079964),\n",
       " (0, 7, 4, 2, 0.3681275970132217, 0.18406379850661084),\n",
       " (0, 8, 4, 7, 0.18350568407101564, 0.09175284203550782),\n",
       " (0, 9, 3, 7, 0.3828570097403968, 0.1914285048701984),\n",
       " (1, 0, 7, 4, 0.22132430018056884, 0.11066215009028442),\n",
       " (1, 1, 7, 1, 0.3347449093496032, 0.1673724546748016),\n",
       " (1, 2, 4, 1, 0.5498546516592182, 0.2749273258296091),\n",
       " (1, 3, 0, 1, 0.24896456315644794, 0.12448228157822397),\n",
       " (1, 4, 0, 4, 0.5052117915603355, 0.25260589578016773),\n",
       " (1, 5, 0, 2, 0.38828576479790855, 0.19414288239895428),\n",
       " (1, 6, 0, 5, 0.8555901987012694, 0.4277950993506347),\n",
       " (1, 7, 0, 6, 0.2322470824200608, 0.1161235412100304),\n",
       " (1, 8, 0, 0, 0.2430546909865091, 0.12152734549325454),\n",
       " (1, 9, 5, 0, 0.3800759405664724, 0.1900379702832362)]"
      ]
     },
     "execution_count": null,
     "metadata": {},
     "output_type": "execute_result"
    },
    {
     "data": {
      "application/javascript": [
       "\n",
       "            setTimeout(function() {\n",
       "                var nbb_cell_id = 32;\n",
       "                var nbb_unformatted_code = \"run(8, Random(), num_episodes=2)\";\n",
       "                var nbb_formatted_code = \"run(8, Random(), num_episodes=2)\";\n",
       "                var nbb_cells = Jupyter.notebook.get_cells();\n",
       "                for (var i = 0; i < nbb_cells.length; ++i) {\n",
       "                    if (nbb_cells[i].input_prompt_number == nbb_cell_id) {\n",
       "                        if (nbb_cells[i].get_text() == nbb_unformatted_code) {\n",
       "                             nbb_cells[i].set_text(nbb_formatted_code);\n",
       "                        }\n",
       "                        break;\n",
       "                    }\n",
       "                }\n",
       "            }, 500);\n",
       "            "
      ],
      "text/plain": [
       "<IPython.core.display.Javascript object>"
      ]
     },
     "metadata": {},
     "output_type": "display_data"
    }
   ],
   "source": [
    "run(8, Random(), num_episodes=2)"
   ]
  },
  {
   "cell_type": "markdown",
   "metadata": {},
   "source": [
    "# curious players"
   ]
  },
  {
   "cell_type": "markdown",
   "metadata": {},
   "source": [
    "Choose the move with the most information value"
   ]
  },
  {
   "cell_type": "code",
   "execution_count": null,
   "metadata": {},
   "outputs": [
    {
     "data": {
      "application/javascript": [
       "\n",
       "            setTimeout(function() {\n",
       "                var nbb_cell_id = 18;\n",
       "                var nbb_unformatted_code = \"# export\\nclass Curious:\\n    def __init__(self, prng=None):\\n        if prng is None:\\n            self.prng = np.random.RandomState()\\n        else:\\n            self.prng = prng\\n\\n    def __call__(self, E, Q, moves):\\n        return self.forward(E, Q, moves)\\n\\n    def forward(self, E, Q, moves):\\n        values = move_filter(E, moves)\\n        best = np.argmax(values)\\n\\n        return moves[best]\";\n",
       "                var nbb_formatted_code = \"# export\\nclass Curious:\\n    def __init__(self, prng=None):\\n        if prng is None:\\n            self.prng = np.random.RandomState()\\n        else:\\n            self.prng = prng\\n\\n    def __call__(self, E, Q, moves):\\n        return self.forward(E, Q, moves)\\n\\n    def forward(self, E, Q, moves):\\n        values = move_filter(E, moves)\\n        best = np.argmax(values)\\n\\n        return moves[best]\";\n",
       "                var nbb_cells = Jupyter.notebook.get_cells();\n",
       "                for (var i = 0; i < nbb_cells.length; ++i) {\n",
       "                    if (nbb_cells[i].input_prompt_number == nbb_cell_id) {\n",
       "                        if (nbb_cells[i].get_text() == nbb_unformatted_code) {\n",
       "                             nbb_cells[i].set_text(nbb_formatted_code);\n",
       "                        }\n",
       "                        break;\n",
       "                    }\n",
       "                }\n",
       "            }, 500);\n",
       "            "
      ],
      "text/plain": [
       "<IPython.core.display.Javascript object>"
      ]
     },
     "metadata": {},
     "output_type": "display_data"
    }
   ],
   "source": [
    "# export\n",
    "class Curious:\n",
    "    def __init__(self, prng=None):\n",
    "        if prng is None:\n",
    "            self.prng = np.random.RandomState()\n",
    "        else:\n",
    "            self.prng = prng\n",
    "\n",
    "    def __call__(self, E, Q, moves):\n",
    "        return self.forward(E, Q, moves)\n",
    "\n",
    "    def forward(self, E, Q, moves):\n",
    "        values = move_filter(E, moves)\n",
    "        best = np.argmax(values)\n",
    "\n",
    "        return moves[best]"
   ]
  },
  {
   "cell_type": "code",
   "execution_count": null,
   "metadata": {},
   "outputs": [
    {
     "data": {
      "text/plain": [
       "[(0, 0, 4, 1, 1.0, 0.5),\n",
       " (0, 1, 4, 4, 0.7356048445571544, 0.3678024222785772),\n",
       " (0, 2, 1, 4, 0.8500387594230846, 0.4250193797115423),\n",
       " (0, 3, 1, 5, 0.5373087070335105, 0.26865435351675526),\n",
       " (0, 4, 2, 5, 0.5152762047551313, 0.2576381023775656),\n",
       " (0, 5, 2, 3, 0.5488140428702197, 0.27440702143510987),\n",
       " (0, 6, 5, 3, 0.545919559908258, 0.272959779954129),\n",
       " (0, 7, 5, 1, 0.5271673177906249, 0.26358365889531243),\n",
       " (0, 8, 3, 1, 0.5192380057306231, 0.25961900286531153),\n",
       " (0, 9, 3, 4, 0.5013255876939752, 0.2506627938469876),\n",
       " (1, 0, 5, 5, 0.4979880283986563, 0.24899401419932815),\n",
       " (1, 1, 4, 5, 0.43259747268957316, 0.21629873634478658),\n",
       " (1, 2, 4, 3, 0.4884750233372565, 0.24423751166862825),\n",
       " (1, 3, 3, 3, 0.4886603437462452, 0.2443301718731226),\n",
       " (1, 4, 3, 1, 0.6216802794358689, 0.31084013971793445),\n",
       " (1, 5, 3, 4, 0.4739963969988566, 0.2369981984994283),\n",
       " (1, 6, 0, 4, 1.0, 0.5),\n",
       " (1, 7, 7, 4, 0.6659611696584621, 0.33298058482923104),\n",
       " (1, 8, 5, 4, 0.28699598915985625, 0.14349799457992812),\n",
       " (1, 9, 5, 3, 0.4270685723079573, 0.21353428615397865)]"
      ]
     },
     "execution_count": null,
     "metadata": {},
     "output_type": "execute_result"
    },
    {
     "data": {
      "application/javascript": [
       "\n",
       "            setTimeout(function() {\n",
       "                var nbb_cell_id = 22;\n",
       "                var nbb_unformatted_code = \"run(8, Curious(), num_episodes=2)\";\n",
       "                var nbb_formatted_code = \"run(8, Curious(), num_episodes=2)\";\n",
       "                var nbb_cells = Jupyter.notebook.get_cells();\n",
       "                for (var i = 0; i < nbb_cells.length; ++i) {\n",
       "                    if (nbb_cells[i].input_prompt_number == nbb_cell_id) {\n",
       "                        if (nbb_cells[i].get_text() == nbb_unformatted_code) {\n",
       "                             nbb_cells[i].set_text(nbb_formatted_code);\n",
       "                        }\n",
       "                        break;\n",
       "                    }\n",
       "                }\n",
       "            }, 500);\n",
       "            "
      ],
      "text/plain": [
       "<IPython.core.display.Javascript object>"
      ]
     },
     "metadata": {},
     "output_type": "display_data"
    }
   ],
   "source": [
    "run(8, Curious(), num_episodes=2)"
   ]
  },
  {
   "cell_type": "markdown",
   "metadata": {},
   "source": [
    "Try and choose the move that can lead to the most information over the whole best possible path"
   ]
  },
  {
   "cell_type": "code",
   "execution_count": null,
   "metadata": {},
   "outputs": [],
   "source": [
    "# export\n",
    "class CuriousMCTS:\n",
    "    def __init__(self, prng=None):\n",
    "        if prng is None:\n",
    "            self.prng = np.random.RandomState()\n",
    "        else:\n",
    "            self.prng = prng\n",
    "\n",
    "    def __call__(self, E, Q, moves):\n",
    "        return self.forward(E, Q, moves)\n",
    "\n",
    "    def forward(self, E, Q, moves):\n",
    "        pass\n",
    "        # TODO - do MCTS to find the best path overall\n",
    "        # moves.\n",
    "        return moves[i]"
   ]
  },
  {
   "cell_type": "markdown",
   "metadata": {},
   "source": [
    "# sensitive players"
   ]
  },
  {
   "cell_type": "markdown",
   "metadata": {},
   "source": [
    "Choose the move with the least consequences"
   ]
  },
  {
   "cell_type": "code",
   "execution_count": null,
   "metadata": {},
   "outputs": [
    {
     "data": {
      "application/javascript": [
       "\n",
       "            setTimeout(function() {\n",
       "                var nbb_cell_id = 35;\n",
       "                var nbb_unformatted_code = \"# export\\nclass Sensitive:\\n    def __init__(self, prng=None):\\n        if prng is None:\\n            self.prng = np.random.RandomState()\\n        else:\\n            self.prng = prng\\n\\n    def __call__(self, E, Q, moves):\\n        return self.forward(E, Q, moves)\\n\\n    def forward(self, E, Q, moves):\\n        values = move_filter(Q, moves)\\n        best = np.argmin(values)\\n\\n        return moves[best]\";\n",
       "                var nbb_formatted_code = \"# export\\nclass Sensitive:\\n    def __init__(self, prng=None):\\n        if prng is None:\\n            self.prng = np.random.RandomState()\\n        else:\\n            self.prng = prng\\n\\n    def __call__(self, E, Q, moves):\\n        return self.forward(E, Q, moves)\\n\\n    def forward(self, E, Q, moves):\\n        values = move_filter(Q, moves)\\n        best = np.argmin(values)\\n\\n        return moves[best]\";\n",
       "                var nbb_cells = Jupyter.notebook.get_cells();\n",
       "                for (var i = 0; i < nbb_cells.length; ++i) {\n",
       "                    if (nbb_cells[i].input_prompt_number == nbb_cell_id) {\n",
       "                        if (nbb_cells[i].get_text() == nbb_unformatted_code) {\n",
       "                             nbb_cells[i].set_text(nbb_formatted_code);\n",
       "                        }\n",
       "                        break;\n",
       "                    }\n",
       "                }\n",
       "            }, 500);\n",
       "            "
      ],
      "text/plain": [
       "<IPython.core.display.Javascript object>"
      ]
     },
     "metadata": {},
     "output_type": "display_data"
    }
   ],
   "source": [
    "# export\n",
    "class Sensitive:\n",
    "    def __init__(self, prng=None):\n",
    "        if prng is None:\n",
    "            self.prng = np.random.RandomState()\n",
    "        else:\n",
    "            self.prng = prng\n",
    "\n",
    "    def __call__(self, E, Q, moves):\n",
    "        return self.forward(E, Q, moves)\n",
    "\n",
    "    def forward(self, E, Q, moves):\n",
    "        values = move_filter(Q, moves)\n",
    "        best = np.argmin(values)\n",
    "\n",
    "        return moves[best]"
   ]
  },
  {
   "cell_type": "code",
   "execution_count": null,
   "metadata": {},
   "outputs": [
    {
     "data": {
      "text/plain": [
       "[(0, 0, 5, 2, 0.10342749506222454, 0.05171374753111227),\n",
       " (0, 1, 5, 6, 0.08960030721810454, 0.04480015360905227),\n",
       " (0, 2, 5, 0, 0.11677055334387008, 0.05838527667193504),\n",
       " (0, 3, 7, 0, 0.11904319152987924, 0.05952159576493962),\n",
       " (0, 4, 7, 5, 0.08398912321735029, 0.041994561608675145),\n",
       " (0, 5, 6, 5, 0.09265284268455676, 0.04632642134227838),\n",
       " (0, 6, 6, 3, 0.07548848635726588, 0.03774424317863294),\n",
       " (0, 7, 1, 3, 0.1207836015350642, 0.0603918007675321),\n",
       " (0, 8, 5, 3, 0.12661832175814852, 0.06330916087907426),\n",
       " (0, 9, 5, 7, 0.12548798483567947, 0.06274399241783973),\n",
       " (1, 0, 6, 0, 0.19193513642884466, 0.09596756821442233),\n",
       " (1, 1, 4, 0, 0.21576244740323727, 0.10788122370161864),\n",
       " (1, 2, 5, 0, 0.3262440757651604, 0.1631220378825802),\n",
       " (1, 3, 3, 0, 0.3947310936016519, 0.19736554680082594),\n",
       " (1, 4, 3, 1, 0.4569757080885015, 0.22848785404425076),\n",
       " (1, 5, 6, 1, 0.299089310983659, 0.1495446554918295),\n",
       " (1, 6, 6, 3, 0.32738130414950545, 0.16369065207475272),\n",
       " (1, 7, 6, 2, 0.3626323293768869, 0.18131616468844344),\n",
       " (1, 8, 7, 2, 0.4531165358424282, 0.2265582679212141),\n",
       " (1, 9, 7, 7, 0.16619579720198452, 0.08309789860099226)]"
      ]
     },
     "execution_count": null,
     "metadata": {},
     "output_type": "execute_result"
    },
    {
     "data": {
      "application/javascript": [
       "\n",
       "            setTimeout(function() {\n",
       "                var nbb_cell_id = 36;\n",
       "                var nbb_unformatted_code = \"run(8, Sensitive(), num_episodes=2)\";\n",
       "                var nbb_formatted_code = \"run(8, Sensitive(), num_episodes=2)\";\n",
       "                var nbb_cells = Jupyter.notebook.get_cells();\n",
       "                for (var i = 0; i < nbb_cells.length; ++i) {\n",
       "                    if (nbb_cells[i].input_prompt_number == nbb_cell_id) {\n",
       "                        if (nbb_cells[i].get_text() == nbb_unformatted_code) {\n",
       "                             nbb_cells[i].set_text(nbb_formatted_code);\n",
       "                        }\n",
       "                        break;\n",
       "                    }\n",
       "                }\n",
       "            }, 500);\n",
       "            "
      ],
      "text/plain": [
       "<IPython.core.display.Javascript object>"
      ]
     },
     "metadata": {},
     "output_type": "display_data"
    }
   ],
   "source": [
    "run(8, Sensitive(), num_episodes=2)"
   ]
  },
  {
   "cell_type": "markdown",
   "metadata": {},
   "source": [
    "Try and choose the move that can lead to the least consequences over the whole best possible path"
   ]
  },
  {
   "cell_type": "code",
   "execution_count": null,
   "metadata": {},
   "outputs": [],
   "source": [
    "# export\n",
    "class SensitiveMCTS:\n",
    "    def __init__(self, prng=None):\n",
    "        if prng is None:\n",
    "            self.prng = np.random.RandomState()\n",
    "        else:\n",
    "            self.prng = prng\n",
    "\n",
    "    def __call__(self, E, Q, moves):\n",
    "        return self.forward(E, Q, moves)\n",
    "\n",
    "    def forward(self, E, Q, moves):\n",
    "        pass\n",
    "        # TODO - do MCTS to find the best path overall\n",
    "        # moves.\n",
    "        return moves[i]"
   ]
  },
  {
   "cell_type": "markdown",
   "metadata": {},
   "source": [
    "# evil players"
   ]
  },
  {
   "cell_type": "markdown",
   "metadata": {},
   "source": [
    "Choose the move with the worst consequences"
   ]
  },
  {
   "cell_type": "code",
   "execution_count": null,
   "metadata": {},
   "outputs": [
    {
     "data": {
      "application/javascript": [
       "\n",
       "            setTimeout(function() {\n",
       "                var nbb_cell_id = 37;\n",
       "                var nbb_unformatted_code = \"# export\\nclass Evil:\\n    def __init__(self, prng=None):\\n        if prng is None:\\n            self.prng = np.random.RandomState()\\n        else:\\n            self.prng = prng\\n\\n    def __call__(self, E, Q, moves):\\n        return self.forward(E, Q, moves)\\n\\n    def forward(self, E, Q, moves):\\n        values = move_filter(Q, moves)\\n        worst = np.argmax(values)\\n\\n        return moves[worst]\";\n",
       "                var nbb_formatted_code = \"# export\\nclass Evil:\\n    def __init__(self, prng=None):\\n        if prng is None:\\n            self.prng = np.random.RandomState()\\n        else:\\n            self.prng = prng\\n\\n    def __call__(self, E, Q, moves):\\n        return self.forward(E, Q, moves)\\n\\n    def forward(self, E, Q, moves):\\n        values = move_filter(Q, moves)\\n        worst = np.argmax(values)\\n\\n        return moves[worst]\";\n",
       "                var nbb_cells = Jupyter.notebook.get_cells();\n",
       "                for (var i = 0; i < nbb_cells.length; ++i) {\n",
       "                    if (nbb_cells[i].input_prompt_number == nbb_cell_id) {\n",
       "                        if (nbb_cells[i].get_text() == nbb_unformatted_code) {\n",
       "                             nbb_cells[i].set_text(nbb_formatted_code);\n",
       "                        }\n",
       "                        break;\n",
       "                    }\n",
       "                }\n",
       "            }, 500);\n",
       "            "
      ],
      "text/plain": [
       "<IPython.core.display.Javascript object>"
      ]
     },
     "metadata": {},
     "output_type": "display_data"
    }
   ],
   "source": [
    "# export\n",
    "class Evil:\n",
    "    def __init__(self, prng=None):\n",
    "        if prng is None:\n",
    "            self.prng = np.random.RandomState()\n",
    "        else:\n",
    "            self.prng = prng\n",
    "\n",
    "    def __call__(self, E, Q, moves):\n",
    "        return self.forward(E, Q, moves)\n",
    "\n",
    "    def forward(self, E, Q, moves):\n",
    "        values = move_filter(Q, moves)\n",
    "        worst = np.argmax(values)\n",
    "\n",
    "        return moves[worst]"
   ]
  },
  {
   "cell_type": "code",
   "execution_count": null,
   "metadata": {},
   "outputs": [
    {
     "data": {
      "text/plain": [
       "[(0, 0, 3, 4, 1.0, 0.5),\n",
       " (0, 1, 3, 6, 0.40953880474243687, 0.20476940237121843),\n",
       " (0, 2, 2, 6, 0.49513441585374246, 0.24756720792687123),\n",
       " (0, 3, 5, 6, 0.33644957044805573, 0.16822478522402787),\n",
       " (0, 4, 1, 6, 0.22379322225620996, 0.11189661112810498),\n",
       " (0, 5, 1, 4, 0.36863014523360355, 0.18431507261680177),\n",
       " (0, 6, 4, 4, 0.21585509646808265, 0.10792754823404133),\n",
       " (0, 7, 4, 7, 0.5205756683692001, 0.26028783418460005),\n",
       " (0, 8, 7, 7, 0.28712079971733884, 0.14356039985866942),\n",
       " (0, 9, 7, 3, 0.33441565313444466, 0.16720782656722233),\n",
       " (1, 0, 1, 4, 0.5310333645756825, 0.26551668228784125),\n",
       " (1, 1, 0, 4, 0.6341260067151542, 0.3170630033575771),\n",
       " (1, 2, 2, 4, 0.45448021763726143, 0.22724010881863071),\n",
       " (1, 3, 2, 0, 0.726763860505809, 0.3633819302529045),\n",
       " (1, 4, 2, 6, 0.6857127599235895, 0.34285637996179474),\n",
       " (1, 5, 3, 6, 0.6273038068896928, 0.3136519034448464),\n",
       " (1, 6, 3, 3, 0.868668992235461, 0.4343344961177305),\n",
       " (1, 7, 4, 3, 0.5220308689630373, 0.26101543448151865),\n",
       " (1, 8, 6, 3, 0.518738919794844, 0.259369459897422),\n",
       " (1, 9, 6, 5, 1.0, 0.5)]"
      ]
     },
     "execution_count": null,
     "metadata": {},
     "output_type": "execute_result"
    },
    {
     "data": {
      "application/javascript": [
       "\n",
       "            setTimeout(function() {\n",
       "                var nbb_cell_id = 38;\n",
       "                var nbb_unformatted_code = \"run(8, Evil(), num_episodes=2)\";\n",
       "                var nbb_formatted_code = \"run(8, Evil(), num_episodes=2)\";\n",
       "                var nbb_cells = Jupyter.notebook.get_cells();\n",
       "                for (var i = 0; i < nbb_cells.length; ++i) {\n",
       "                    if (nbb_cells[i].input_prompt_number == nbb_cell_id) {\n",
       "                        if (nbb_cells[i].get_text() == nbb_unformatted_code) {\n",
       "                             nbb_cells[i].set_text(nbb_formatted_code);\n",
       "                        }\n",
       "                        break;\n",
       "                    }\n",
       "                }\n",
       "            }, 500);\n",
       "            "
      ],
      "text/plain": [
       "<IPython.core.display.Javascript object>"
      ]
     },
     "metadata": {},
     "output_type": "display_data"
    }
   ],
   "source": [
    "run(8, Evil(), num_episodes=2)"
   ]
  },
  {
   "cell_type": "markdown",
   "metadata": {},
   "source": [
    "Try and choose the move that can lead to the worst consequences over the whole best possible path"
   ]
  },
  {
   "cell_type": "code",
   "execution_count": null,
   "metadata": {},
   "outputs": [],
   "source": [
    "# export\n",
    "class EvilMCTS:\n",
    "    def __init__(self, prng=None):\n",
    "        if prng is None:\n",
    "            self.prng = np.random.RandomState()\n",
    "        else:\n",
    "            self.prng = prng\n",
    "\n",
    "    def __call__(self, E, Q, moves):\n",
    "        return self.forward(E, Q, moves)\n",
    "\n",
    "    def forward(self, E, Q, moves):\n",
    "        # TODO\n",
    "        pass\n",
    "\n",
    "        return moves[i]"
   ]
  },
  {
   "cell_type": "markdown",
   "metadata": {},
   "source": [
    "# foraging players"
   ]
  },
  {
   "cell_type": "markdown",
   "metadata": {},
   "source": [
    "Choose the move with the best ratio of $\\frac{E}{Q}$"
   ]
  },
  {
   "cell_type": "code",
   "execution_count": null,
   "metadata": {},
   "outputs": [
    {
     "data": {
      "application/javascript": [
       "\n",
       "            setTimeout(function() {\n",
       "                var nbb_cell_id = 39;\n",
       "                var nbb_unformatted_code = \"# export\\nclass OptimalForage:\\n    def __init__(self, prng=None):\\n        if prng is None:\\n            self.prng = np.random.RandomState()\\n        else:\\n            self.prng = prng\\n\\n    def __call__(self, E, Q, moves):\\n        return self.forward(E, Q, moves)\\n\\n    def forward(self, E, Q, moves):\\n        values = move_filter(E / Q, moves)\\n        best = np.argmax(values)\\n\\n        return moves[best]\";\n",
       "                var nbb_formatted_code = \"# export\\nclass OptimalForage:\\n    def __init__(self, prng=None):\\n        if prng is None:\\n            self.prng = np.random.RandomState()\\n        else:\\n            self.prng = prng\\n\\n    def __call__(self, E, Q, moves):\\n        return self.forward(E, Q, moves)\\n\\n    def forward(self, E, Q, moves):\\n        values = move_filter(E / Q, moves)\\n        best = np.argmax(values)\\n\\n        return moves[best]\";\n",
       "                var nbb_cells = Jupyter.notebook.get_cells();\n",
       "                for (var i = 0; i < nbb_cells.length; ++i) {\n",
       "                    if (nbb_cells[i].input_prompt_number == nbb_cell_id) {\n",
       "                        if (nbb_cells[i].get_text() == nbb_unformatted_code) {\n",
       "                             nbb_cells[i].set_text(nbb_formatted_code);\n",
       "                        }\n",
       "                        break;\n",
       "                    }\n",
       "                }\n",
       "            }, 500);\n",
       "            "
      ],
      "text/plain": [
       "<IPython.core.display.Javascript object>"
      ]
     },
     "metadata": {},
     "output_type": "display_data"
    }
   ],
   "source": [
    "# export\n",
    "class OptimalForage:\n",
    "    def __init__(self, prng=None):\n",
    "        if prng is None:\n",
    "            self.prng = np.random.RandomState()\n",
    "        else:\n",
    "            self.prng = prng\n",
    "\n",
    "    def __call__(self, E, Q, moves):\n",
    "        return self.forward(E, Q, moves)\n",
    "\n",
    "    def forward(self, E, Q, moves):\n",
    "        values = move_filter(E / Q, moves)\n",
    "        best = np.argmax(values)\n",
    "\n",
    "        return moves[best]"
   ]
  },
  {
   "cell_type": "code",
   "execution_count": null,
   "metadata": {},
   "outputs": [
    {
     "data": {
      "text/plain": [
       "[(0, 0, 6, 1, 0.37206564193160313, 0.18603282096580157),\n",
       " (0, 1, 7, 1, 0.7500771345573176, 0.3750385672786588),\n",
       " (0, 2, 5, 1, 0.2800679962351955, 0.14003399811759776),\n",
       " (0, 3, 4, 1, 1.0, 0.5),\n",
       " (0, 4, 3, 1, 0.7765173648279912, 0.3882586824139956),\n",
       " (0, 5, 2, 1, 0.1795551953949275, 0.08977759769746375),\n",
       " (0, 6, 1, 1, 0.2436309721374121, 0.12181548606870606),\n",
       " (0, 7, 0, 1, 0.5674365085059092, 0.2837182542529546),\n",
       " (0, 8, 0, 2, 0.41038783962670394, 0.20519391981335197),\n",
       " (0, 9, 1, 2, 0.2709669933192827, 0.13548349665964135),\n",
       " (1, 0, 6, 3, 0.19383150715021746, 0.09691575357510873),\n",
       " (1, 1, 7, 3, 0.1795349953716581, 0.08976749768582905),\n",
       " (1, 2, 5, 3, 0.20859455312449404, 0.10429727656224702),\n",
       " (1, 3, 4, 3, 0.2492938192125769, 0.12464690960628845),\n",
       " (1, 4, 3, 3, 0.21539255926656786, 0.10769627963328393),\n",
       " (1, 5, 2, 3, 0.26607517028394345, 0.13303758514197173),\n",
       " (1, 6, 1, 3, 0.22705895630176573, 0.11352947815088286),\n",
       " (1, 7, 0, 3, 0.2033109663893939, 0.10165548319469694),\n",
       " (1, 8, 0, 4, 0.20579894987147587, 0.10289947493573794),\n",
       " (1, 9, 1, 4, 0.3243413958899983, 0.16217069794499914)]"
      ]
     },
     "execution_count": null,
     "metadata": {},
     "output_type": "execute_result"
    },
    {
     "data": {
      "application/javascript": [
       "\n",
       "            setTimeout(function() {\n",
       "                var nbb_cell_id = 40;\n",
       "                var nbb_unformatted_code = \"run(8, OptimalForage(), num_episodes=2)\";\n",
       "                var nbb_formatted_code = \"run(8, OptimalForage(), num_episodes=2)\";\n",
       "                var nbb_cells = Jupyter.notebook.get_cells();\n",
       "                for (var i = 0; i < nbb_cells.length; ++i) {\n",
       "                    if (nbb_cells[i].input_prompt_number == nbb_cell_id) {\n",
       "                        if (nbb_cells[i].get_text() == nbb_unformatted_code) {\n",
       "                             nbb_cells[i].set_text(nbb_formatted_code);\n",
       "                        }\n",
       "                        break;\n",
       "                    }\n",
       "                }\n",
       "            }, 500);\n",
       "            "
      ],
      "text/plain": [
       "<IPython.core.display.Javascript object>"
      ]
     },
     "metadata": {},
     "output_type": "display_data"
    }
   ],
   "source": [
    "run(8, OptimalForage(), num_episodes=2)"
   ]
  },
  {
   "cell_type": "markdown",
   "metadata": {},
   "source": [
    "Try and choose the move that can lead to the best ratio of $\\frac{E}{Q}$ over the whole best possible path"
   ]
  },
  {
   "cell_type": "code",
   "execution_count": null,
   "metadata": {},
   "outputs": [],
   "source": [
    "# export\n",
    "class OptimalForageMCTS:\n",
    "    def __init__(self, prng=None):\n",
    "        if prng is None:\n",
    "            self.prng = np.random.RandomState()\n",
    "        else:\n",
    "            self.prng = prng\n",
    "\n",
    "    def __call__(self, E, Q, moves):\n",
    "        return self.forward(E, Q, moves)\n",
    "\n",
    "    def forward(self, E, Q, moves):\n",
    "        pass\n",
    "\n",
    "        return moves[best]"
   ]
  }
 ],
 "metadata": {
  "kernelspec": {
   "display_name": "Python 3",
   "language": "python",
   "name": "python3"
  }
 },
 "nbformat": 4,
 "nbformat_minor": 2
}

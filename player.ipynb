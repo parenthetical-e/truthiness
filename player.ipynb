{
 "cells": [
  {
   "cell_type": "code",
   "execution_count": null,
   "metadata": {},
   "outputs": [],
   "source": [
    "# default_exp player"
   ]
  },
  {
   "cell_type": "markdown",
   "metadata": {},
   "source": [
    "# player\n",
    "> Mathematical players for games of truth and consequences"
   ]
  },
  {
   "cell_type": "code",
   "execution_count": null,
   "metadata": {},
   "outputs": [
    {
     "data": {
      "application/javascript": [
       "\n",
       "            setTimeout(function() {\n",
       "                var nbb_cell_id = 1;\n",
       "                var nbb_unformatted_code = \"# hide\\nfrom nbdev.showdoc import *\\n\\n%load_ext nb_black\\n%matplotlib inline\\n%config InlineBackend.figure_format='retina'\\n%config IPCompleter.greedy=True\";\n",
       "                var nbb_formatted_code = \"# hide\\nfrom nbdev.showdoc import *\\n\\n%load_ext nb_black\\n%matplotlib inline\\n%config InlineBackend.figure_format='retina'\\n%config IPCompleter.greedy=True\";\n",
       "                var nbb_cells = Jupyter.notebook.get_cells();\n",
       "                for (var i = 0; i < nbb_cells.length; ++i) {\n",
       "                    if (nbb_cells[i].input_prompt_number == nbb_cell_id) {\n",
       "                        if (nbb_cells[i].get_text() == nbb_unformatted_code) {\n",
       "                             nbb_cells[i].set_text(nbb_formatted_code);\n",
       "                        }\n",
       "                        break;\n",
       "                    }\n",
       "                }\n",
       "            }, 500);\n",
       "            "
      ],
      "text/plain": [
       "<IPython.core.display.Javascript object>"
      ]
     },
     "metadata": {},
     "output_type": "display_data"
    }
   ],
   "source": [
    "# hide\n",
    "from nbdev.showdoc import *\n",
    "\n",
    "%load_ext nb_black\n",
    "%matplotlib inline\n",
    "%config InlineBackend.figure_format='retina'\n",
    "%config IPCompleter.greedy=True"
   ]
  },
  {
   "cell_type": "code",
   "execution_count": null,
   "metadata": {},
   "outputs": [
    {
     "data": {
      "application/javascript": [
       "\n",
       "            setTimeout(function() {\n",
       "                var nbb_cell_id = 2;\n",
       "                var nbb_unformatted_code = \"# export\\nimport csv\\nimport numpy as np\\n\\nfrom copy import deepcopy\\nfrom truthiness import gym\\nfrom truthiness.game import available_moves\\nfrom truthiness.plot import plot_available\\nfrom truthiness.game import random_move\\nfrom truthiness.game import create_maze\";\n",
       "                var nbb_formatted_code = \"# export\\nimport csv\\nimport numpy as np\\n\\nfrom copy import deepcopy\\nfrom truthiness import gym\\nfrom truthiness.game import available_moves\\nfrom truthiness.plot import plot_available\\nfrom truthiness.game import random_move\\nfrom truthiness.game import create_maze\";\n",
       "                var nbb_cells = Jupyter.notebook.get_cells();\n",
       "                for (var i = 0; i < nbb_cells.length; ++i) {\n",
       "                    if (nbb_cells[i].input_prompt_number == nbb_cell_id) {\n",
       "                        if (nbb_cells[i].get_text() == nbb_unformatted_code) {\n",
       "                             nbb_cells[i].set_text(nbb_formatted_code);\n",
       "                        }\n",
       "                        break;\n",
       "                    }\n",
       "                }\n",
       "            }, 500);\n",
       "            "
      ],
      "text/plain": [
       "<IPython.core.display.Javascript object>"
      ]
     },
     "metadata": {},
     "output_type": "display_data"
    }
   ],
   "source": [
    "# export\n",
    "import csv\n",
    "import numpy as np\n",
    "\n",
    "from copy import deepcopy\n",
    "from truthiness import gym\n",
    "from truthiness.game import available_moves\n",
    "from truthiness.plot import plot_available\n",
    "from truthiness.game import random_move\n",
    "from truthiness.game import create_maze"
   ]
  },
  {
   "cell_type": "markdown",
   "metadata": {},
   "source": [
    "# a run function\n",
    "First we make a run function to our players. \n",
    "- An 'episode' is a full game of play. Change `num_episdoes` to play more or less.\n",
    "- Each episode uses a different random seed.\n",
    "- Data for each game can be logged to csv file. Change `name` from `None`."
   ]
  },
  {
   "cell_type": "code",
   "execution_count": null,
   "metadata": {},
   "outputs": [
    {
     "data": {
      "application/javascript": [
       "\n",
       "            setTimeout(function() {\n",
       "                var nbb_cell_id = 3;\n",
       "                var nbb_unformatted_code = \"# export\\ndef run(\\n    n,\\n    player,\\n    num_episodes=10,\\n    num_steps=2,\\n    env_name=\\\"ShameGame1\\\",\\n    env_kwargs=None,\\n    maze_kwargs=None,\\n    env_seed=None,\\n    maze_seed=None,\\n    name=None,\\n):\\n    \\\"\\\"\\\"Play some games.\\\"\\\"\\\"\\n\\n    # Sanity\\n    num_episodes = int(num_episodes)\\n    if num_episodes < 1:\\n        raise ValueError(\\\"num_episode must be > 0\\\")\\n    if maze_kwargs is None:\\n        maze_kwargs = {}\\n    if env_kwargs is None:\\n        env_kwargs = {}\\n\\n    # Get the env\\n    prng = np.random.RandomState(maze_seed)\\n    Env = getattr(gym, env_name)\\n    maze, prng = create_maze(n, prng=prng, **maze_kwargs)\\n    env = Env(n, maze=maze, seed=env_seed, **env_kwargs)\\n\\n    # Init logging. Save data as tuples:\\n    # (n, t, x, y, e, q)\\n    table = []\\n    mazes = []\\n    Es = []\\n    Qs = []\\n    moves = []\\n\\n    # !\\n    for i in range(num_episodes):\\n        # Reconfig the env\\n        maze, prng = create_maze(n, prng=prng, **maze_kwargs)\\n        mazes.append((i, deepcopy(maze)))\\n\\n        # Reset\\n        done = False\\n        t = 0\\n\\n        env.set_maze(maze)\\n        x, y, E, Q = env.reset()\\n        moves.append((i, t, x, y))\\n        Es.append((i, deepcopy(E)))\\n        Qs.append((i, deepcopy(Q)))\\n\\n        # -\\n        while (not done) and (t < num_steps):\\n            t += 1\\n\\n            # Choose and act\\n            available = env.moves()\\n            x, y = player(E, Q, available)\\n            state, reward, done, _ = env.step((x, y))\\n            moves.append((i, t, x, y))\\n\\n            # Log data\\n            e, q = reward\\n            row = (i, t, x, y, e, q)\\n            table.append(row)\\n\\n            # Shift\\n            x, y, E, Q = state\\n\\n    # Save to disk?\\n    if name is not None:\\n        save_table(name, table)\\n\\n    return moves, mazes, Es, Qs\";\n",
       "                var nbb_formatted_code = \"# export\\ndef run(\\n    n,\\n    player,\\n    num_episodes=10,\\n    num_steps=2,\\n    env_name=\\\"ShameGame1\\\",\\n    env_kwargs=None,\\n    maze_kwargs=None,\\n    env_seed=None,\\n    maze_seed=None,\\n    name=None,\\n):\\n    \\\"\\\"\\\"Play some games.\\\"\\\"\\\"\\n\\n    # Sanity\\n    num_episodes = int(num_episodes)\\n    if num_episodes < 1:\\n        raise ValueError(\\\"num_episode must be > 0\\\")\\n    if maze_kwargs is None:\\n        maze_kwargs = {}\\n    if env_kwargs is None:\\n        env_kwargs = {}\\n\\n    # Get the env\\n    prng = np.random.RandomState(maze_seed)\\n    Env = getattr(gym, env_name)\\n    maze, prng = create_maze(n, prng=prng, **maze_kwargs)\\n    env = Env(n, maze=maze, seed=env_seed, **env_kwargs)\\n\\n    # Init logging. Save data as tuples:\\n    # (n, t, x, y, e, q)\\n    table = []\\n    mazes = []\\n    Es = []\\n    Qs = []\\n    moves = []\\n\\n    # !\\n    for i in range(num_episodes):\\n        # Reconfig the env\\n        maze, prng = create_maze(n, prng=prng, **maze_kwargs)\\n        mazes.append((i, deepcopy(maze)))\\n\\n        # Reset\\n        done = False\\n        t = 0\\n\\n        env.set_maze(maze)\\n        x, y, E, Q = env.reset()\\n        moves.append((i, t, x, y))\\n        Es.append((i, deepcopy(E)))\\n        Qs.append((i, deepcopy(Q)))\\n\\n        # -\\n        while (not done) and (t < num_steps):\\n            t += 1\\n\\n            # Choose and act\\n            available = env.moves()\\n            x, y = player(E, Q, available)\\n            state, reward, done, _ = env.step((x, y))\\n            moves.append((i, t, x, y))\\n\\n            # Log data\\n            e, q = reward\\n            row = (i, t, x, y, e, q)\\n            table.append(row)\\n\\n            # Shift\\n            x, y, E, Q = state\\n\\n    # Save to disk?\\n    if name is not None:\\n        save_table(name, table)\\n\\n    return moves, mazes, Es, Qs\";\n",
       "                var nbb_cells = Jupyter.notebook.get_cells();\n",
       "                for (var i = 0; i < nbb_cells.length; ++i) {\n",
       "                    if (nbb_cells[i].input_prompt_number == nbb_cell_id) {\n",
       "                        if (nbb_cells[i].get_text() == nbb_unformatted_code) {\n",
       "                             nbb_cells[i].set_text(nbb_formatted_code);\n",
       "                        }\n",
       "                        break;\n",
       "                    }\n",
       "                }\n",
       "            }, 500);\n",
       "            "
      ],
      "text/plain": [
       "<IPython.core.display.Javascript object>"
      ]
     },
     "metadata": {},
     "output_type": "display_data"
    }
   ],
   "source": [
    "# export\n",
    "def run(\n",
    "    n,\n",
    "    player,\n",
    "    num_episodes=10,\n",
    "    num_steps=2,\n",
    "    env_name=\"ShameGame1\",\n",
    "    env_kwargs=None,\n",
    "    maze_kwargs=None,\n",
    "    env_seed=None,\n",
    "    maze_seed=None,\n",
    "    name=None,\n",
    "):\n",
    "    \"\"\"Play some games.\"\"\"\n",
    "\n",
    "    # Sanity\n",
    "    num_episodes = int(num_episodes)\n",
    "    if num_episodes < 1:\n",
    "        raise ValueError(\"num_episode must be > 0\")\n",
    "    if maze_kwargs is None:\n",
    "        maze_kwargs = {}\n",
    "    if env_kwargs is None:\n",
    "        env_kwargs = {}\n",
    "\n",
    "    # Get the env\n",
    "    prng = np.random.RandomState(maze_seed)\n",
    "    Env = getattr(gym, env_name)\n",
    "    maze, prng = create_maze(n, prng=prng, **maze_kwargs)\n",
    "    env = Env(n, maze=maze, seed=env_seed, **env_kwargs)\n",
    "\n",
    "    # Init logging. Save data as tuples:\n",
    "    # (n, t, x, y, e, q)\n",
    "    table = []\n",
    "    mazes = []\n",
    "    Es = []\n",
    "    Qs = []\n",
    "    moves = []\n",
    "\n",
    "    # !\n",
    "    for i in range(num_episodes):\n",
    "        # Reconfig the env\n",
    "        maze, prng = create_maze(n, prng=prng, **maze_kwargs)\n",
    "        mazes.append((i, deepcopy(maze)))\n",
    "\n",
    "        # Reset\n",
    "        done = False\n",
    "        t = 0\n",
    "\n",
    "        env.set_maze(maze)\n",
    "        x, y, E, Q = env.reset()\n",
    "        moves.append((i, t, x, y))\n",
    "        Es.append((i, deepcopy(E)))\n",
    "        Qs.append((i, deepcopy(Q)))\n",
    "\n",
    "        # -\n",
    "        while (not done) and (t < num_steps):\n",
    "            t += 1\n",
    "\n",
    "            # Choose and act\n",
    "            available = env.moves()\n",
    "            x, y = player(E, Q, available)\n",
    "            state, reward, done, _ = env.step((x, y))\n",
    "            moves.append((i, t, x, y))\n",
    "\n",
    "            # Log data\n",
    "            e, q = reward\n",
    "            row = (i, t, x, y, e, q)\n",
    "            table.append(row)\n",
    "\n",
    "            # Shift\n",
    "            x, y, E, Q = state\n",
    "\n",
    "    # Save to disk?\n",
    "    if name is not None:\n",
    "        save_table(name, table)\n",
    "\n",
    "    return moves, mazes, Es, Qs"
   ]
  },
  {
   "cell_type": "code",
   "execution_count": null,
   "metadata": {},
   "outputs": [],
   "source": []
  },
  {
   "cell_type": "markdown",
   "metadata": {},
   "source": [
    "# utilities\n",
    "Define functions that will be helpful in then defining players"
   ]
  },
  {
   "cell_type": "code",
   "execution_count": null,
   "metadata": {},
   "outputs": [
    {
     "data": {
      "application/javascript": [
       "\n",
       "            setTimeout(function() {\n",
       "                var nbb_cell_id = 4;\n",
       "                var nbb_unformatted_code = \"# export\\ndef save_table(name, results):\\n    with open(name, mode=\\\"w\\\") as handle:\\n        # Init\\n        writer = csv.writer(handle)\\n\\n        # Header\\n        head = (\\\"n\\\", \\\"t\\\", \\\"x\\\", \\\"y\\\", \\\"E\\\", \\\"Q\\\")\\n        writer.writerow(head)\\n\\n        # Results\\n        for row in results:\\n            writer.writerow(row)\";\n",
       "                var nbb_formatted_code = \"# export\\ndef save_table(name, results):\\n    with open(name, mode=\\\"w\\\") as handle:\\n        # Init\\n        writer = csv.writer(handle)\\n\\n        # Header\\n        head = (\\\"n\\\", \\\"t\\\", \\\"x\\\", \\\"y\\\", \\\"E\\\", \\\"Q\\\")\\n        writer.writerow(head)\\n\\n        # Results\\n        for row in results:\\n            writer.writerow(row)\";\n",
       "                var nbb_cells = Jupyter.notebook.get_cells();\n",
       "                for (var i = 0; i < nbb_cells.length; ++i) {\n",
       "                    if (nbb_cells[i].input_prompt_number == nbb_cell_id) {\n",
       "                        if (nbb_cells[i].get_text() == nbb_unformatted_code) {\n",
       "                             nbb_cells[i].set_text(nbb_formatted_code);\n",
       "                        }\n",
       "                        break;\n",
       "                    }\n",
       "                }\n",
       "            }, 500);\n",
       "            "
      ],
      "text/plain": [
       "<IPython.core.display.Javascript object>"
      ]
     },
     "metadata": {},
     "output_type": "display_data"
    }
   ],
   "source": [
    "# export\n",
    "def save_table(name, results):\n",
    "    with open(name, mode=\"w\") as handle:\n",
    "        # Init\n",
    "        writer = csv.writer(handle)\n",
    "\n",
    "        # Header\n",
    "        head = (\"n\", \"t\", \"x\", \"y\", \"E\", \"Q\")\n",
    "        writer.writerow(head)\n",
    "\n",
    "        # Results\n",
    "        for row in results:\n",
    "            writer.writerow(row)"
   ]
  },
  {
   "cell_type": "code",
   "execution_count": null,
   "metadata": {},
   "outputs": [
    {
     "data": {
      "application/javascript": [
       "\n",
       "            setTimeout(function() {\n",
       "                var nbb_cell_id = 5;\n",
       "                var nbb_unformatted_code = \"# export\\ndef extract_moves(episode, moves):\\n    selected = []\\n    for m in moves:\\n        if np.isclose(m[0], episode):\\n            selected.append((m[2], m[3]))\\n    return selected\";\n",
       "                var nbb_formatted_code = \"# export\\ndef extract_moves(episode, moves):\\n    selected = []\\n    for m in moves:\\n        if np.isclose(m[0], episode):\\n            selected.append((m[2], m[3]))\\n    return selected\";\n",
       "                var nbb_cells = Jupyter.notebook.get_cells();\n",
       "                for (var i = 0; i < nbb_cells.length; ++i) {\n",
       "                    if (nbb_cells[i].input_prompt_number == nbb_cell_id) {\n",
       "                        if (nbb_cells[i].get_text() == nbb_unformatted_code) {\n",
       "                             nbb_cells[i].set_text(nbb_formatted_code);\n",
       "                        }\n",
       "                        break;\n",
       "                    }\n",
       "                }\n",
       "            }, 500);\n",
       "            "
      ],
      "text/plain": [
       "<IPython.core.display.Javascript object>"
      ]
     },
     "metadata": {},
     "output_type": "display_data"
    }
   ],
   "source": [
    "# export\n",
    "def extract_moves(episode, moves):\n",
    "    selected = []\n",
    "    for m in moves:\n",
    "        if np.isclose(m[0], episode):\n",
    "            selected.append((m[2], m[3]))\n",
    "    return selected"
   ]
  },
  {
   "cell_type": "code",
   "execution_count": null,
   "metadata": {},
   "outputs": [
    {
     "data": {
      "application/javascript": [
       "\n",
       "            setTimeout(function() {\n",
       "                var nbb_cell_id = 6;\n",
       "                var nbb_unformatted_code = \"# export\\ndef extract_board(episode, boards):\\n    for b in boards:\\n        if np.isclose(b[0], episode):\\n            return b[1]\";\n",
       "                var nbb_formatted_code = \"# export\\ndef extract_board(episode, boards):\\n    for b in boards:\\n        if np.isclose(b[0], episode):\\n            return b[1]\";\n",
       "                var nbb_cells = Jupyter.notebook.get_cells();\n",
       "                for (var i = 0; i < nbb_cells.length; ++i) {\n",
       "                    if (nbb_cells[i].input_prompt_number == nbb_cell_id) {\n",
       "                        if (nbb_cells[i].get_text() == nbb_unformatted_code) {\n",
       "                             nbb_cells[i].set_text(nbb_formatted_code);\n",
       "                        }\n",
       "                        break;\n",
       "                    }\n",
       "                }\n",
       "            }, 500);\n",
       "            "
      ],
      "text/plain": [
       "<IPython.core.display.Javascript object>"
      ]
     },
     "metadata": {},
     "output_type": "display_data"
    }
   ],
   "source": [
    "# export\n",
    "def extract_board(episode, boards):\n",
    "    for b in boards:\n",
    "        if np.isclose(b[0], episode):\n",
    "            return b[1]"
   ]
  },
  {
   "cell_type": "code",
   "execution_count": null,
   "metadata": {},
   "outputs": [
    {
     "data": {
      "application/javascript": [
       "\n",
       "            setTimeout(function() {\n",
       "                var nbb_cell_id = 7;\n",
       "                var nbb_unformatted_code = \"# export\\ndef move_filter(board, moves):\\n    \\\"\\\"\\\"Returns a list of values/conseqeunces for each move\\n    on an E or Q board.\\n    \\\"\\\"\\\"\\n    return [board[x, y] for (x, y) in moves]\";\n",
       "                var nbb_formatted_code = \"# export\\ndef move_filter(board, moves):\\n    \\\"\\\"\\\"Returns a list of values/conseqeunces for each move\\n    on an E or Q board.\\n    \\\"\\\"\\\"\\n    return [board[x, y] for (x, y) in moves]\";\n",
       "                var nbb_cells = Jupyter.notebook.get_cells();\n",
       "                for (var i = 0; i < nbb_cells.length; ++i) {\n",
       "                    if (nbb_cells[i].input_prompt_number == nbb_cell_id) {\n",
       "                        if (nbb_cells[i].get_text() == nbb_unformatted_code) {\n",
       "                             nbb_cells[i].set_text(nbb_formatted_code);\n",
       "                        }\n",
       "                        break;\n",
       "                    }\n",
       "                }\n",
       "            }, 500);\n",
       "            "
      ],
      "text/plain": [
       "<IPython.core.display.Javascript object>"
      ]
     },
     "metadata": {},
     "output_type": "display_data"
    }
   ],
   "source": [
    "# export\n",
    "def move_filter(board, moves):\n",
    "    \"\"\"Returns a list of values/conseqeunces for each move\n",
    "    on an E or Q board.\n",
    "    \"\"\"\n",
    "    return [board[x, y] for (x, y) in moves]"
   ]
  },
  {
   "cell_type": "markdown",
   "metadata": {},
   "source": [
    "# all players "
   ]
  },
  {
   "cell_type": "markdown",
   "metadata": {},
   "source": [
    "Here we define different simple players and dispositions to truth and consequences. \n",
    "- Honesty: $max\\ E_{i,j}$\n",
    "- Planned honesty: $argmax_{\\pi} \\sum_P E_{i,j}$\n",
    "- Sensitive: $min\\ Q_{i,j}$\n",
    "- Planned sensitive: $argmin_{\\pi} \\sum_P Q_{i,j}$\n",
    "- Evil: $max\\ Q_{i,j}$\n",
    "- Planned evil: $argmax_{\\pi} \\sum_P Q_{i,j}$\n",
    "- Foraging: $max\\ \\frac{E_{i,j}}{Q_{i,j}}$\n",
    "- Planned foraging: $argmax_{\\pi} \\sum_P \\frac{E_{i,j}}{Q_{i,j}}$\n",
    "- Random"
   ]
  },
  {
   "cell_type": "markdown",
   "metadata": {},
   "source": [
    "We also consider a couple more complex approaches which swtich amoung the simple policies"
   ]
  },
  {
   "cell_type": "markdown",
   "metadata": {},
   "source": [
    "**TODO**"
   ]
  },
  {
   "cell_type": "markdown",
   "metadata": {},
   "source": [
    "# a common example"
   ]
  },
  {
   "cell_type": "markdown",
   "metadata": {},
   "source": [
    "As we define the players we will use the same maze to show how they differ in their play. So let's start by showing a common board, and the possible moves from the common starting position."
   ]
  },
  {
   "cell_type": "code",
   "execution_count": null,
   "metadata": {},
   "outputs": [
    {
     "data": {
      "image/png": "[encoded data removed]",
      "text/plain": [
       "<Figure size 864x360 with 2 Axes>"
      ]
     },
     "metadata": {
      "image/png": {
       "height": 319,
       "width": 667
      }
     },
     "output_type": "display_data"
    },
    {
     "data": {
      "image/png": "[encoded data removed]",
      "text/plain": [
       "<Figure size 360x360 with 1 Axes>"
      ]
     },
     "metadata": {
      "image/png": {
       "height": 318,
       "width": 302
      }
     },
     "output_type": "display_data"
    },
    {
     "data": {
      "application/javascript": [
       "\n",
       "            setTimeout(function() {\n",
       "                var nbb_cell_id = 38;\n",
       "                var nbb_unformatted_code = \"# hide\\nfrom truthiness.plot import plot_maze\\nfrom truthiness.plot import plot_available\\nfrom truthiness.plot import plot_boards\\n\\n# Generate some data. Ignore the details here for now\\n(moves, mazes, Es, Qs,) = run(\\n    8,\\n    Random(),\\n    env_name=\\\"ToughGame1\\\",\\n    num_episodes=1,\\n    num_steps=4,\\n    maze_seed=56,\\n    maze_kwargs={\\\"k\\\": 6},\\n    env_seed=1,\\n)\\n\\nE = extract_board(0, Es)\\nQ = extract_board(0, Qs)\\nmaze = extract_board(0, mazes)\\nselected = extract_moves(0, moves)\\n\\n# The board\\nplot_boards(E, Q, moves=None, plot=True, height=5, width=12, mask=maze)\\n\\n# First moves\\nx, y = selected[0]\\navailable = available_moves(x, y, maze)\\nplot_available(x, y, maze, available, plot=True, height=5, width=5)\";\n",
       "                var nbb_formatted_code = \"# hide\\nfrom truthiness.plot import plot_maze\\nfrom truthiness.plot import plot_available\\nfrom truthiness.plot import plot_boards\\n\\n# Generate some data. Ignore the details here for now\\n(moves, mazes, Es, Qs,) = run(\\n    8,\\n    Random(),\\n    env_name=\\\"ToughGame1\\\",\\n    num_episodes=1,\\n    num_steps=4,\\n    maze_seed=56,\\n    maze_kwargs={\\\"k\\\": 6},\\n    env_seed=1,\\n)\\n\\nE = extract_board(0, Es)\\nQ = extract_board(0, Qs)\\nmaze = extract_board(0, mazes)\\nselected = extract_moves(0, moves)\\n\\n# The board\\nplot_boards(E, Q, moves=None, plot=True, height=5, width=12, mask=maze)\\n\\n# First moves\\nx, y = selected[0]\\navailable = available_moves(x, y, maze)\\nplot_available(x, y, maze, available, plot=True, height=5, width=5)\";\n",
       "                var nbb_cells = Jupyter.notebook.get_cells();\n",
       "                for (var i = 0; i < nbb_cells.length; ++i) {\n",
       "                    if (nbb_cells[i].input_prompt_number == nbb_cell_id) {\n",
       "                        if (nbb_cells[i].get_text() == nbb_unformatted_code) {\n",
       "                             nbb_cells[i].set_text(nbb_formatted_code);\n",
       "                        }\n",
       "                        break;\n",
       "                    }\n",
       "                }\n",
       "            }, 500);\n",
       "            "
      ],
      "text/plain": [
       "<IPython.core.display.Javascript object>"
      ]
     },
     "metadata": {},
     "output_type": "display_data"
    }
   ],
   "source": [
    "# hide\n",
    "from truthiness.plot import plot_maze\n",
    "from truthiness.plot import plot_available\n",
    "from truthiness.plot import plot_boards\n",
    "\n",
    "# Generate some data. Ignore the details here for now\n",
    "(moves, mazes, Es, Qs,) = run(\n",
    "    8,\n",
    "    Random(),\n",
    "    env_name=\"ToughGame1\",\n",
    "    num_episodes=1,\n",
    "    num_steps=4,\n",
    "    maze_seed=56,\n",
    "    maze_kwargs={\"k\": 6},\n",
    "    env_seed=1,\n",
    ")\n",
    "\n",
    "E = extract_board(0, Es)\n",
    "Q = extract_board(0, Qs)\n",
    "maze = extract_board(0, mazes)\n",
    "selected = extract_moves(0, moves)\n",
    "\n",
    "# The board\n",
    "plot_boards(E, Q, moves=None, plot=True, height=5, width=12, mask=maze)\n",
    "\n",
    "# First moves\n",
    "x, y = selected[0]\n",
    "available = available_moves(x, y, maze)\n",
    "plot_available(x, y, maze, available, plot=True, height=5, width=5)"
   ]
  },
  {
   "cell_type": "code",
   "execution_count": null,
   "metadata": {},
   "outputs": [],
   "source": []
  },
  {
   "cell_type": "markdown",
   "metadata": {},
   "source": [
    "# a random player\n",
    "They play by making random moves. Simple and bad."
   ]
  },
  {
   "cell_type": "code",
   "execution_count": null,
   "metadata": {},
   "outputs": [
    {
     "data": {
      "application/javascript": [
       "\n",
       "            setTimeout(function() {\n",
       "                var nbb_cell_id = 11;\n",
       "                var nbb_unformatted_code = \"# export\\nclass Random:\\n    def __init__(self, prng=None):\\n        if prng is None:\\n            self.prng = np.random.RandomState()\\n        else:\\n            self.prng = prng\\n\\n    def __call__(self, E, Q, moves):\\n        return self.forward(E, Q, moves)\\n\\n    def forward(self, E, Q, moves):\\n        i = self.prng.randint(0, len(moves))\\n\\n        return moves[i]\";\n",
       "                var nbb_formatted_code = \"# export\\nclass Random:\\n    def __init__(self, prng=None):\\n        if prng is None:\\n            self.prng = np.random.RandomState()\\n        else:\\n            self.prng = prng\\n\\n    def __call__(self, E, Q, moves):\\n        return self.forward(E, Q, moves)\\n\\n    def forward(self, E, Q, moves):\\n        i = self.prng.randint(0, len(moves))\\n\\n        return moves[i]\";\n",
       "                var nbb_cells = Jupyter.notebook.get_cells();\n",
       "                for (var i = 0; i < nbb_cells.length; ++i) {\n",
       "                    if (nbb_cells[i].input_prompt_number == nbb_cell_id) {\n",
       "                        if (nbb_cells[i].get_text() == nbb_unformatted_code) {\n",
       "                             nbb_cells[i].set_text(nbb_formatted_code);\n",
       "                        }\n",
       "                        break;\n",
       "                    }\n",
       "                }\n",
       "            }, 500);\n",
       "            "
      ],
      "text/plain": [
       "<IPython.core.display.Javascript object>"
      ]
     },
     "metadata": {},
     "output_type": "display_data"
    }
   ],
   "source": [
    "# export\n",
    "class Random:\n",
    "    def __init__(self, prng=None):\n",
    "        if prng is None:\n",
    "            self.prng = np.random.RandomState()\n",
    "        else:\n",
    "            self.prng = prng\n",
    "\n",
    "    def __call__(self, E, Q, moves):\n",
    "        return self.forward(E, Q, moves)\n",
    "\n",
    "    def forward(self, E, Q, moves):\n",
    "        i = self.prng.randint(0, len(moves))\n",
    "\n",
    "        return moves[i]"
   ]
  },
  {
   "cell_type": "code",
   "execution_count": null,
   "metadata": {},
   "outputs": [
    {
     "data": {
      "image/png": "[encoded data removed]",
      "text/plain": [
       "<Figure size 864x360 with 2 Axes>"
      ]
     },
     "metadata": {
      "image/png": {
       "height": 319,
       "width": 667
      }
     },
     "output_type": "display_data"
    },
    {
     "data": {
      "application/javascript": [
       "\n",
       "            setTimeout(function() {\n",
       "                var nbb_cell_id = 17;\n",
       "                var nbb_unformatted_code = \"# hide\\nfrom truthiness.plot import plot_maze\\nfrom truthiness.plot import plot_boards\\n\\n(moves, mazes, Es, Qs,) = run(\\n    8,\\n    Random(),\\n    env_name=\\\"ToughGame1\\\",\\n    num_episodes=1,\\n    num_steps=4,\\n    maze_seed=56,\\n    maze_kwargs={\\\"k\\\": 6},\\n    env_seed=1,\\n)\\n\\nselected = extract_moves(0, moves)\\nE = extract_board(0, Es)\\nQ = extract_board(0, Qs)\\nmaze = extract_board(0, mazes)\\n\\nplot_boards(E, Q, moves=selected, plot=True, height=5, width=12, mask=maze)\";\n",
       "                var nbb_formatted_code = \"# hide\\nfrom truthiness.plot import plot_maze\\nfrom truthiness.plot import plot_boards\\n\\n(moves, mazes, Es, Qs,) = run(\\n    8,\\n    Random(),\\n    env_name=\\\"ToughGame1\\\",\\n    num_episodes=1,\\n    num_steps=4,\\n    maze_seed=56,\\n    maze_kwargs={\\\"k\\\": 6},\\n    env_seed=1,\\n)\\n\\nselected = extract_moves(0, moves)\\nE = extract_board(0, Es)\\nQ = extract_board(0, Qs)\\nmaze = extract_board(0, mazes)\\n\\nplot_boards(E, Q, moves=selected, plot=True, height=5, width=12, mask=maze)\";\n",
       "                var nbb_cells = Jupyter.notebook.get_cells();\n",
       "                for (var i = 0; i < nbb_cells.length; ++i) {\n",
       "                    if (nbb_cells[i].input_prompt_number == nbb_cell_id) {\n",
       "                        if (nbb_cells[i].get_text() == nbb_unformatted_code) {\n",
       "                             nbb_cells[i].set_text(nbb_formatted_code);\n",
       "                        }\n",
       "                        break;\n",
       "                    }\n",
       "                }\n",
       "            }, 500);\n",
       "            "
      ],
      "text/plain": [
       "<IPython.core.display.Javascript object>"
      ]
     },
     "metadata": {},
     "output_type": "display_data"
    }
   ],
   "source": [
    "# hide\n",
    "from truthiness.plot import plot_maze\n",
    "from truthiness.plot import plot_boards\n",
    "\n",
    "(moves, mazes, Es, Qs,) = run(\n",
    "    8,\n",
    "    Random(),\n",
    "    env_name=\"ToughGame1\",\n",
    "    num_episodes=1,\n",
    "    num_steps=4,\n",
    "    maze_seed=56,\n",
    "    maze_kwargs={\"k\": 6},\n",
    "    env_seed=1,\n",
    ")\n",
    "\n",
    "selected = extract_moves(0, moves)\n",
    "E = extract_board(0, Es)\n",
    "Q = extract_board(0, Qs)\n",
    "maze = extract_board(0, mazes)\n",
    "\n",
    "plot_boards(E, Q, moves=selected, plot=True, height=5, width=12, mask=maze)"
   ]
  },
  {
   "cell_type": "markdown",
   "metadata": {},
   "source": [
    "# curious players"
   ]
  },
  {
   "cell_type": "markdown",
   "metadata": {},
   "source": [
    "Choose the move with the most information value"
   ]
  },
  {
   "cell_type": "code",
   "execution_count": null,
   "metadata": {},
   "outputs": [
    {
     "data": {
      "application/javascript": [
       "\n",
       "            setTimeout(function() {\n",
       "                var nbb_cell_id = 18;\n",
       "                var nbb_unformatted_code = \"# export\\nclass Curious:\\n    def __init__(self, prng=None):\\n        if prng is None:\\n            self.prng = np.random.RandomState()\\n        else:\\n            self.prng = prng\\n\\n    def __call__(self, E, Q, moves):\\n        return self.forward(E, Q, moves)\\n\\n    def forward(self, E, Q, moves):\\n        values = move_filter(E, moves)\\n        best = np.argmax(values)\\n\\n        return moves[best]\";\n",
       "                var nbb_formatted_code = \"# export\\nclass Curious:\\n    def __init__(self, prng=None):\\n        if prng is None:\\n            self.prng = np.random.RandomState()\\n        else:\\n            self.prng = prng\\n\\n    def __call__(self, E, Q, moves):\\n        return self.forward(E, Q, moves)\\n\\n    def forward(self, E, Q, moves):\\n        values = move_filter(E, moves)\\n        best = np.argmax(values)\\n\\n        return moves[best]\";\n",
       "                var nbb_cells = Jupyter.notebook.get_cells();\n",
       "                for (var i = 0; i < nbb_cells.length; ++i) {\n",
       "                    if (nbb_cells[i].input_prompt_number == nbb_cell_id) {\n",
       "                        if (nbb_cells[i].get_text() == nbb_unformatted_code) {\n",
       "                             nbb_cells[i].set_text(nbb_formatted_code);\n",
       "                        }\n",
       "                        break;\n",
       "                    }\n",
       "                }\n",
       "            }, 500);\n",
       "            "
      ],
      "text/plain": [
       "<IPython.core.display.Javascript object>"
      ]
     },
     "metadata": {},
     "output_type": "display_data"
    }
   ],
   "source": [
    "# export\n",
    "class Curious:\n",
    "    def __init__(self, prng=None):\n",
    "        if prng is None:\n",
    "            self.prng = np.random.RandomState()\n",
    "        else:\n",
    "            self.prng = prng\n",
    "\n",
    "    def __call__(self, E, Q, moves):\n",
    "        return self.forward(E, Q, moves)\n",
    "\n",
    "    def forward(self, E, Q, moves):\n",
    "        values = move_filter(E, moves)\n",
    "        best = np.argmax(values)\n",
    "\n",
    "        return moves[best]"
   ]
  },
  {
   "cell_type": "code",
   "execution_count": null,
   "metadata": {},
   "outputs": [
    {
     "data": {
      "image/png": "[encoded data removed]",
      "text/plain": [
       "<Figure size 864x360 with 2 Axes>"
      ]
     },
     "metadata": {
      "image/png": {
       "height": 319,
       "width": 667
      }
     },
     "output_type": "display_data"
    },
    {
     "data": {
      "application/javascript": [
       "\n",
       "            setTimeout(function() {\n",
       "                var nbb_cell_id = 21;\n",
       "                var nbb_unformatted_code = \"# hide\\nfrom truthiness.plot import plot_maze\\nfrom truthiness.plot import plot_boards\\n\\n(moves, mazes, Es, Qs,) = run(\\n    8,\\n    Curious(),\\n    env_name=\\\"ToughGame1\\\",\\n    num_episodes=1,\\n    num_steps=4,\\n    maze_seed=56,\\n    maze_kwargs={\\\"k\\\": 6},\\n    env_seed=1,\\n)\\n\\nselected = extract_moves(0, moves)\\nE = extract_board(0, Es)\\nQ = extract_board(0, Qs)\\nmaze = extract_board(0, mazes)\\n\\nplot_boards(E, Q, moves=selected, plot=True, height=5, width=12, mask=maze)\";\n",
       "                var nbb_formatted_code = \"# hide\\nfrom truthiness.plot import plot_maze\\nfrom truthiness.plot import plot_boards\\n\\n(moves, mazes, Es, Qs,) = run(\\n    8,\\n    Curious(),\\n    env_name=\\\"ToughGame1\\\",\\n    num_episodes=1,\\n    num_steps=4,\\n    maze_seed=56,\\n    maze_kwargs={\\\"k\\\": 6},\\n    env_seed=1,\\n)\\n\\nselected = extract_moves(0, moves)\\nE = extract_board(0, Es)\\nQ = extract_board(0, Qs)\\nmaze = extract_board(0, mazes)\\n\\nplot_boards(E, Q, moves=selected, plot=True, height=5, width=12, mask=maze)\";\n",
       "                var nbb_cells = Jupyter.notebook.get_cells();\n",
       "                for (var i = 0; i < nbb_cells.length; ++i) {\n",
       "                    if (nbb_cells[i].input_prompt_number == nbb_cell_id) {\n",
       "                        if (nbb_cells[i].get_text() == nbb_unformatted_code) {\n",
       "                             nbb_cells[i].set_text(nbb_formatted_code);\n",
       "                        }\n",
       "                        break;\n",
       "                    }\n",
       "                }\n",
       "            }, 500);\n",
       "            "
      ],
      "text/plain": [
       "<IPython.core.display.Javascript object>"
      ]
     },
     "metadata": {},
     "output_type": "display_data"
    }
   ],
   "source": [
    "# hide\n",
    "from truthiness.plot import plot_maze\n",
    "from truthiness.plot import plot_boards\n",
    "\n",
    "(moves, mazes, Es, Qs,) = run(\n",
    "    8,\n",
    "    Curious(),\n",
    "    env_name=\"ToughGame1\",\n",
    "    num_episodes=1,\n",
    "    num_steps=4,\n",
    "    maze_seed=56,\n",
    "    maze_kwargs={\"k\": 6},\n",
    "    env_seed=1,\n",
    ")\n",
    "\n",
    "selected = extract_moves(0, moves)\n",
    "E = extract_board(0, Es)\n",
    "Q = extract_board(0, Qs)\n",
    "maze = extract_board(0, mazes)\n",
    "\n",
    "plot_boards(E, Q, moves=selected, plot=True, height=5, width=12, mask=maze)"
   ]
  },
  {
   "cell_type": "markdown",
   "metadata": {},
   "source": [
    "Try and choose the move that can lead to the most information over the whole best possible path"
   ]
  },
  {
   "cell_type": "code",
   "execution_count": null,
   "metadata": {},
   "outputs": [],
   "source": [
    "# export\n",
    "class CuriousMCTS:\n",
    "    def __init__(self, prng=None):\n",
    "        if prng is None:\n",
    "            self.prng = np.random.RandomState()\n",
    "        else:\n",
    "            self.prng = prng\n",
    "\n",
    "    def __call__(self, E, Q, moves):\n",
    "        return self.forward(E, Q, moves)\n",
    "\n",
    "    def forward(self, E, Q, moves):\n",
    "        pass\n",
    "        # TODO - do MCTS to find the best path overall\n",
    "        # moves.\n",
    "        return moves[i]"
   ]
  },
  {
   "cell_type": "markdown",
   "metadata": {},
   "source": [
    "# sensitive players"
   ]
  },
  {
   "cell_type": "markdown",
   "metadata": {},
   "source": [
    "Choose the move with the least consequences"
   ]
  },
  {
   "cell_type": "code",
   "execution_count": null,
   "metadata": {},
   "outputs": [
    {
     "data": {
      "application/javascript": [
       "\n",
       "            setTimeout(function() {\n",
       "                var nbb_cell_id = 22;\n",
       "                var nbb_unformatted_code = \"# export\\nclass Sensitive:\\n    def __init__(self, prng=None):\\n        if prng is None:\\n            self.prng = np.random.RandomState()\\n        else:\\n            self.prng = prng\\n\\n    def __call__(self, E, Q, moves):\\n        return self.forward(E, Q, moves)\\n\\n    def forward(self, E, Q, moves):\\n        values = move_filter(Q, moves)\\n        best = np.argmin(values)\\n\\n        return moves[best]\";\n",
       "                var nbb_formatted_code = \"# export\\nclass Sensitive:\\n    def __init__(self, prng=None):\\n        if prng is None:\\n            self.prng = np.random.RandomState()\\n        else:\\n            self.prng = prng\\n\\n    def __call__(self, E, Q, moves):\\n        return self.forward(E, Q, moves)\\n\\n    def forward(self, E, Q, moves):\\n        values = move_filter(Q, moves)\\n        best = np.argmin(values)\\n\\n        return moves[best]\";\n",
       "                var nbb_cells = Jupyter.notebook.get_cells();\n",
       "                for (var i = 0; i < nbb_cells.length; ++i) {\n",
       "                    if (nbb_cells[i].input_prompt_number == nbb_cell_id) {\n",
       "                        if (nbb_cells[i].get_text() == nbb_unformatted_code) {\n",
       "                             nbb_cells[i].set_text(nbb_formatted_code);\n",
       "                        }\n",
       "                        break;\n",
       "                    }\n",
       "                }\n",
       "            }, 500);\n",
       "            "
      ],
      "text/plain": [
       "<IPython.core.display.Javascript object>"
      ]
     },
     "metadata": {},
     "output_type": "display_data"
    }
   ],
   "source": [
    "# export\n",
    "class Sensitive:\n",
    "    def __init__(self, prng=None):\n",
    "        if prng is None:\n",
    "            self.prng = np.random.RandomState()\n",
    "        else:\n",
    "            self.prng = prng\n",
    "\n",
    "    def __call__(self, E, Q, moves):\n",
    "        return self.forward(E, Q, moves)\n",
    "\n",
    "    def forward(self, E, Q, moves):\n",
    "        values = move_filter(Q, moves)\n",
    "        best = np.argmin(values)\n",
    "\n",
    "        return moves[best]"
   ]
  },
  {
   "cell_type": "code",
   "execution_count": null,
   "metadata": {},
   "outputs": [
    {
     "data": {
      "image/png": "[encoded data removed]",
      "text/plain": [
       "<Figure size 864x360 with 2 Axes>"
      ]
     },
     "metadata": {
      "image/png": {
       "height": 319,
       "width": 667
      }
     },
     "output_type": "display_data"
    },
    {
     "data": {
      "application/javascript": [
       "\n",
       "            setTimeout(function() {\n",
       "                var nbb_cell_id = 23;\n",
       "                var nbb_unformatted_code = \"# hide\\nfrom truthiness.plot import plot_maze\\nfrom truthiness.plot import plot_boards\\n\\n(moves, mazes, Es, Qs,) = run(\\n    8,\\n    Sensitive(),\\n    env_name=\\\"ToughGame1\\\",\\n    num_episodes=1,\\n    num_steps=4,\\n    maze_seed=56,\\n    maze_kwargs={\\\"k\\\": 6},\\n    env_seed=1,\\n)\\n\\nselected = extract_moves(0, moves)\\nE = extract_board(0, Es)\\nQ = extract_board(0, Qs)\\nmaze = extract_board(0, mazes)\\n\\nplot_boards(E, Q, moves=selected, plot=True, height=5, width=12, mask=maze)\";\n",
       "                var nbb_formatted_code = \"# hide\\nfrom truthiness.plot import plot_maze\\nfrom truthiness.plot import plot_boards\\n\\n(moves, mazes, Es, Qs,) = run(\\n    8,\\n    Sensitive(),\\n    env_name=\\\"ToughGame1\\\",\\n    num_episodes=1,\\n    num_steps=4,\\n    maze_seed=56,\\n    maze_kwargs={\\\"k\\\": 6},\\n    env_seed=1,\\n)\\n\\nselected = extract_moves(0, moves)\\nE = extract_board(0, Es)\\nQ = extract_board(0, Qs)\\nmaze = extract_board(0, mazes)\\n\\nplot_boards(E, Q, moves=selected, plot=True, height=5, width=12, mask=maze)\";\n",
       "                var nbb_cells = Jupyter.notebook.get_cells();\n",
       "                for (var i = 0; i < nbb_cells.length; ++i) {\n",
       "                    if (nbb_cells[i].input_prompt_number == nbb_cell_id) {\n",
       "                        if (nbb_cells[i].get_text() == nbb_unformatted_code) {\n",
       "                             nbb_cells[i].set_text(nbb_formatted_code);\n",
       "                        }\n",
       "                        break;\n",
       "                    }\n",
       "                }\n",
       "            }, 500);\n",
       "            "
      ],
      "text/plain": [
       "<IPython.core.display.Javascript object>"
      ]
     },
     "metadata": {},
     "output_type": "display_data"
    }
   ],
   "source": [
    "# hide\n",
    "from truthiness.plot import plot_maze\n",
    "from truthiness.plot import plot_boards\n",
    "\n",
    "(moves, mazes, Es, Qs,) = run(\n",
    "    8,\n",
    "    Sensitive(),\n",
    "    env_name=\"ToughGame1\",\n",
    "    num_episodes=1,\n",
    "    num_steps=4,\n",
    "    maze_seed=56,\n",
    "    maze_kwargs={\"k\": 6},\n",
    "    env_seed=1,\n",
    ")\n",
    "\n",
    "selected = extract_moves(0, moves)\n",
    "E = extract_board(0, Es)\n",
    "Q = extract_board(0, Qs)\n",
    "maze = extract_board(0, mazes)\n",
    "\n",
    "plot_boards(E, Q, moves=selected, plot=True, height=5, width=12, mask=maze)"
   ]
  },
  {
   "cell_type": "markdown",
   "metadata": {},
   "source": [
    "Try and choose the move that can lead to the least consequences over the whole best possible path"
   ]
  },
  {
   "cell_type": "code",
   "execution_count": null,
   "metadata": {},
   "outputs": [
    {
     "data": {
      "application/javascript": [
       "\n",
       "            setTimeout(function() {\n",
       "                var nbb_cell_id = 24;\n",
       "                var nbb_unformatted_code = \"# export\\nclass SensitiveMCTS:\\n    def __init__(self, prng=None):\\n        if prng is None:\\n            self.prng = np.random.RandomState()\\n        else:\\n            self.prng = prng\\n\\n    def __call__(self, E, Q, moves):\\n        return self.forward(E, Q, moves)\\n\\n    def forward(self, E, Q, moves):\\n        pass\\n        # TODO - do MCTS to find the best path overall\\n        # moves.\\n        return moves[i]\";\n",
       "                var nbb_formatted_code = \"# export\\nclass SensitiveMCTS:\\n    def __init__(self, prng=None):\\n        if prng is None:\\n            self.prng = np.random.RandomState()\\n        else:\\n            self.prng = prng\\n\\n    def __call__(self, E, Q, moves):\\n        return self.forward(E, Q, moves)\\n\\n    def forward(self, E, Q, moves):\\n        pass\\n        # TODO - do MCTS to find the best path overall\\n        # moves.\\n        return moves[i]\";\n",
       "                var nbb_cells = Jupyter.notebook.get_cells();\n",
       "                for (var i = 0; i < nbb_cells.length; ++i) {\n",
       "                    if (nbb_cells[i].input_prompt_number == nbb_cell_id) {\n",
       "                        if (nbb_cells[i].get_text() == nbb_unformatted_code) {\n",
       "                             nbb_cells[i].set_text(nbb_formatted_code);\n",
       "                        }\n",
       "                        break;\n",
       "                    }\n",
       "                }\n",
       "            }, 500);\n",
       "            "
      ],
      "text/plain": [
       "<IPython.core.display.Javascript object>"
      ]
     },
     "metadata": {},
     "output_type": "display_data"
    }
   ],
   "source": [
    "# export\n",
    "class SensitiveMCTS:\n",
    "    def __init__(self, prng=None):\n",
    "        if prng is None:\n",
    "            self.prng = np.random.RandomState()\n",
    "        else:\n",
    "            self.prng = prng\n",
    "\n",
    "    def __call__(self, E, Q, moves):\n",
    "        return self.forward(E, Q, moves)\n",
    "\n",
    "    def forward(self, E, Q, moves):\n",
    "        pass\n",
    "        # TODO - do MCTS to find the best path overall\n",
    "        # moves.\n",
    "        return moves[i]"
   ]
  },
  {
   "cell_type": "markdown",
   "metadata": {},
   "source": [
    "# evil players"
   ]
  },
  {
   "cell_type": "markdown",
   "metadata": {},
   "source": [
    "Choose the move with the worst consequences"
   ]
  },
  {
   "cell_type": "code",
   "execution_count": null,
   "metadata": {},
   "outputs": [
    {
     "data": {
      "application/javascript": [
       "\n",
       "            setTimeout(function() {\n",
       "                var nbb_cell_id = 25;\n",
       "                var nbb_unformatted_code = \"# export\\nclass Evil:\\n    def __init__(self, prng=None):\\n        if prng is None:\\n            self.prng = np.random.RandomState()\\n        else:\\n            self.prng = prng\\n\\n    def __call__(self, E, Q, moves):\\n        return self.forward(E, Q, moves)\\n\\n    def forward(self, E, Q, moves):\\n        values = move_filter(Q, moves)\\n        worst = np.argmax(values)\\n\\n        return moves[worst]\";\n",
       "                var nbb_formatted_code = \"# export\\nclass Evil:\\n    def __init__(self, prng=None):\\n        if prng is None:\\n            self.prng = np.random.RandomState()\\n        else:\\n            self.prng = prng\\n\\n    def __call__(self, E, Q, moves):\\n        return self.forward(E, Q, moves)\\n\\n    def forward(self, E, Q, moves):\\n        values = move_filter(Q, moves)\\n        worst = np.argmax(values)\\n\\n        return moves[worst]\";\n",
       "                var nbb_cells = Jupyter.notebook.get_cells();\n",
       "                for (var i = 0; i < nbb_cells.length; ++i) {\n",
       "                    if (nbb_cells[i].input_prompt_number == nbb_cell_id) {\n",
       "                        if (nbb_cells[i].get_text() == nbb_unformatted_code) {\n",
       "                             nbb_cells[i].set_text(nbb_formatted_code);\n",
       "                        }\n",
       "                        break;\n",
       "                    }\n",
       "                }\n",
       "            }, 500);\n",
       "            "
      ],
      "text/plain": [
       "<IPython.core.display.Javascript object>"
      ]
     },
     "metadata": {},
     "output_type": "display_data"
    }
   ],
   "source": [
    "# export\n",
    "class Evil:\n",
    "    def __init__(self, prng=None):\n",
    "        if prng is None:\n",
    "            self.prng = np.random.RandomState()\n",
    "        else:\n",
    "            self.prng = prng\n",
    "\n",
    "    def __call__(self, E, Q, moves):\n",
    "        return self.forward(E, Q, moves)\n",
    "\n",
    "    def forward(self, E, Q, moves):\n",
    "        values = move_filter(Q, moves)\n",
    "        worst = np.argmax(values)\n",
    "\n",
    "        return moves[worst]"
   ]
  },
  {
   "cell_type": "code",
   "execution_count": null,
   "metadata": {},
   "outputs": [
    {
     "data": {
      "image/png": "[encoded data removed]",
      "text/plain": [
       "<Figure size 864x360 with 2 Axes>"
      ]
     },
     "metadata": {
      "image/png": {
       "height": 319,
       "width": 667
      }
     },
     "output_type": "display_data"
    },
    {
     "data": {
      "application/javascript": [
       "\n",
       "            setTimeout(function() {\n",
       "                var nbb_cell_id = 26;\n",
       "                var nbb_unformatted_code = \"# hide\\nfrom truthiness.plot import plot_maze\\nfrom truthiness.plot import plot_boards\\n\\n(moves, mazes, Es, Qs,) = run(\\n    8,\\n    Evil(),\\n    env_name=\\\"ToughGame1\\\",\\n    num_episodes=1,\\n    num_steps=4,\\n    maze_seed=56,\\n    maze_kwargs={\\\"k\\\": 6},\\n    env_seed=1,\\n)\\n\\nselected = extract_moves(0, moves)\\nE = extract_board(0, Es)\\nQ = extract_board(0, Qs)\\nmaze = extract_board(0, mazes)\\n\\nplot_boards(E, Q, moves=selected, plot=True, height=5, width=12, mask=maze)\";\n",
       "                var nbb_formatted_code = \"# hide\\nfrom truthiness.plot import plot_maze\\nfrom truthiness.plot import plot_boards\\n\\n(moves, mazes, Es, Qs,) = run(\\n    8,\\n    Evil(),\\n    env_name=\\\"ToughGame1\\\",\\n    num_episodes=1,\\n    num_steps=4,\\n    maze_seed=56,\\n    maze_kwargs={\\\"k\\\": 6},\\n    env_seed=1,\\n)\\n\\nselected = extract_moves(0, moves)\\nE = extract_board(0, Es)\\nQ = extract_board(0, Qs)\\nmaze = extract_board(0, mazes)\\n\\nplot_boards(E, Q, moves=selected, plot=True, height=5, width=12, mask=maze)\";\n",
       "                var nbb_cells = Jupyter.notebook.get_cells();\n",
       "                for (var i = 0; i < nbb_cells.length; ++i) {\n",
       "                    if (nbb_cells[i].input_prompt_number == nbb_cell_id) {\n",
       "                        if (nbb_cells[i].get_text() == nbb_unformatted_code) {\n",
       "                             nbb_cells[i].set_text(nbb_formatted_code);\n",
       "                        }\n",
       "                        break;\n",
       "                    }\n",
       "                }\n",
       "            }, 500);\n",
       "            "
      ],
      "text/plain": [
       "<IPython.core.display.Javascript object>"
      ]
     },
     "metadata": {},
     "output_type": "display_data"
    }
   ],
   "source": [
    "# hide\n",
    "from truthiness.plot import plot_maze\n",
    "from truthiness.plot import plot_boards\n",
    "\n",
    "(moves, mazes, Es, Qs,) = run(\n",
    "    8,\n",
    "    Evil(),\n",
    "    env_name=\"ToughGame1\",\n",
    "    num_episodes=1,\n",
    "    num_steps=4,\n",
    "    maze_seed=56,\n",
    "    maze_kwargs={\"k\": 6},\n",
    "    env_seed=1,\n",
    ")\n",
    "\n",
    "selected = extract_moves(0, moves)\n",
    "E = extract_board(0, Es)\n",
    "Q = extract_board(0, Qs)\n",
    "maze = extract_board(0, mazes)\n",
    "\n",
    "plot_boards(E, Q, moves=selected, plot=True, height=5, width=12, mask=maze)"
   ]
  },
  {
   "cell_type": "markdown",
   "metadata": {},
   "source": [
    "Try and choose the move that can lead to the worst consequences over the whole best possible path"
   ]
  },
  {
   "cell_type": "code",
   "execution_count": null,
   "metadata": {},
   "outputs": [],
   "source": [
    "# export\n",
    "class EvilMCTS:\n",
    "    def __init__(self, prng=None):\n",
    "        if prng is None:\n",
    "            self.prng = np.random.RandomState()\n",
    "        else:\n",
    "            self.prng = prng\n",
    "\n",
    "    def __call__(self, E, Q, moves):\n",
    "        return self.forward(E, Q, moves)\n",
    "\n",
    "    def forward(self, E, Q, moves):\n",
    "        # TODO\n",
    "        pass\n",
    "\n",
    "        return moves[i]"
   ]
  },
  {
   "cell_type": "markdown",
   "metadata": {},
   "source": [
    "# foraging players"
   ]
  },
  {
   "cell_type": "markdown",
   "metadata": {},
   "source": [
    "Choose the move with the best ratio of $\\frac{E}{Q}$"
   ]
  },
  {
   "cell_type": "code",
   "execution_count": null,
   "metadata": {},
   "outputs": [
    {
     "data": {
      "application/javascript": [
       "\n",
       "            setTimeout(function() {\n",
       "                var nbb_cell_id = 27;\n",
       "                var nbb_unformatted_code = \"# export\\nclass OptimalForage:\\n    def __init__(self, prng=None):\\n        if prng is None:\\n            self.prng = np.random.RandomState()\\n        else:\\n            self.prng = prng\\n\\n    def __call__(self, E, Q, moves):\\n        return self.forward(E, Q, moves)\\n\\n    def forward(self, E, Q, moves):\\n        values = move_filter(E / Q, moves)\\n        best = np.argmax(values)\\n\\n        return moves[best]\";\n",
       "                var nbb_formatted_code = \"# export\\nclass OptimalForage:\\n    def __init__(self, prng=None):\\n        if prng is None:\\n            self.prng = np.random.RandomState()\\n        else:\\n            self.prng = prng\\n\\n    def __call__(self, E, Q, moves):\\n        return self.forward(E, Q, moves)\\n\\n    def forward(self, E, Q, moves):\\n        values = move_filter(E / Q, moves)\\n        best = np.argmax(values)\\n\\n        return moves[best]\";\n",
       "                var nbb_cells = Jupyter.notebook.get_cells();\n",
       "                for (var i = 0; i < nbb_cells.length; ++i) {\n",
       "                    if (nbb_cells[i].input_prompt_number == nbb_cell_id) {\n",
       "                        if (nbb_cells[i].get_text() == nbb_unformatted_code) {\n",
       "                             nbb_cells[i].set_text(nbb_formatted_code);\n",
       "                        }\n",
       "                        break;\n",
       "                    }\n",
       "                }\n",
       "            }, 500);\n",
       "            "
      ],
      "text/plain": [
       "<IPython.core.display.Javascript object>"
      ]
     },
     "metadata": {},
     "output_type": "display_data"
    }
   ],
   "source": [
    "# export\n",
    "class OptimalForage:\n",
    "    def __init__(self, prng=None):\n",
    "        if prng is None:\n",
    "            self.prng = np.random.RandomState()\n",
    "        else:\n",
    "            self.prng = prng\n",
    "\n",
    "    def __call__(self, E, Q, moves):\n",
    "        return self.forward(E, Q, moves)\n",
    "\n",
    "    def forward(self, E, Q, moves):\n",
    "        values = move_filter(E / Q, moves)\n",
    "        best = np.argmax(values)\n",
    "\n",
    "        return moves[best]"
   ]
  },
  {
   "cell_type": "code",
   "execution_count": null,
   "metadata": {},
   "outputs": [
    {
     "data": {
      "image/png": "[encoded data removed]",
      "text/plain": [
       "<Figure size 864x360 with 2 Axes>"
      ]
     },
     "metadata": {
      "image/png": {
       "height": 319,
       "width": 667
      }
     },
     "output_type": "display_data"
    },
    {
     "data": {
      "application/javascript": [
       "\n",
       "            setTimeout(function() {\n",
       "                var nbb_cell_id = 28;\n",
       "                var nbb_unformatted_code = \"# hide\\nfrom truthiness.plot import plot_maze\\nfrom truthiness.plot import plot_boards\\n\\n(moves, mazes, Es, Qs,) = run(\\n    8,\\n    OptimalForage(),\\n    env_name=\\\"ToughGame1\\\",\\n    num_episodes=1,\\n    num_steps=4,\\n    maze_seed=56,\\n    maze_kwargs={\\\"k\\\": 6},\\n    env_seed=1,\\n)\\n\\nselected = extract_moves(0, moves)\\nE = extract_board(0, Es)\\nQ = extract_board(0, Qs)\\nmaze = extract_board(0, mazes)\\n\\nplot_boards(E, Q, moves=selected, plot=True, height=5, width=12, mask=maze)\";\n",
       "                var nbb_formatted_code = \"# hide\\nfrom truthiness.plot import plot_maze\\nfrom truthiness.plot import plot_boards\\n\\n(moves, mazes, Es, Qs,) = run(\\n    8,\\n    OptimalForage(),\\n    env_name=\\\"ToughGame1\\\",\\n    num_episodes=1,\\n    num_steps=4,\\n    maze_seed=56,\\n    maze_kwargs={\\\"k\\\": 6},\\n    env_seed=1,\\n)\\n\\nselected = extract_moves(0, moves)\\nE = extract_board(0, Es)\\nQ = extract_board(0, Qs)\\nmaze = extract_board(0, mazes)\\n\\nplot_boards(E, Q, moves=selected, plot=True, height=5, width=12, mask=maze)\";\n",
       "                var nbb_cells = Jupyter.notebook.get_cells();\n",
       "                for (var i = 0; i < nbb_cells.length; ++i) {\n",
       "                    if (nbb_cells[i].input_prompt_number == nbb_cell_id) {\n",
       "                        if (nbb_cells[i].get_text() == nbb_unformatted_code) {\n",
       "                             nbb_cells[i].set_text(nbb_formatted_code);\n",
       "                        }\n",
       "                        break;\n",
       "                    }\n",
       "                }\n",
       "            }, 500);\n",
       "            "
      ],
      "text/plain": [
       "<IPython.core.display.Javascript object>"
      ]
     },
     "metadata": {},
     "output_type": "display_data"
    }
   ],
   "source": [
    "# hide\n",
    "from truthiness.plot import plot_maze\n",
    "from truthiness.plot import plot_boards\n",
    "\n",
    "(moves, mazes, Es, Qs,) = run(\n",
    "    8,\n",
    "    OptimalForage(),\n",
    "    env_name=\"ToughGame1\",\n",
    "    num_episodes=1,\n",
    "    num_steps=4,\n",
    "    maze_seed=56,\n",
    "    maze_kwargs={\"k\": 6},\n",
    "    env_seed=1,\n",
    ")\n",
    "\n",
    "selected = extract_moves(0, moves)\n",
    "E = extract_board(0, Es)\n",
    "Q = extract_board(0, Qs)\n",
    "maze = extract_board(0, mazes)\n",
    "\n",
    "plot_boards(E, Q, moves=selected, plot=True, height=5, width=12, mask=maze)"
   ]
  },
  {
   "cell_type": "markdown",
   "metadata": {},
   "source": [
    "Try and choose the move that can lead to the best ratio of $\\frac{E}{Q}$ over the whole best possible path"
   ]
  },
  {
   "cell_type": "code",
   "execution_count": null,
   "metadata": {},
   "outputs": [],
   "source": [
    "# export\n",
    "class OptimalForageMCTS:\n",
    "    def __init__(self, prng=None):\n",
    "        if prng is None:\n",
    "            self.prng = np.random.RandomState()\n",
    "        else:\n",
    "            self.prng = prng\n",
    "\n",
    "    def __call__(self, E, Q, moves):\n",
    "        return self.forward(E, Q, moves)\n",
    "\n",
    "    def forward(self, E, Q, moves):\n",
    "        pass\n",
    "\n",
    "        return moves[best]"
   ]
  },
  {
   "cell_type": "markdown",
   "metadata": {},
   "source": [
    "# WinStay"
   ]
  },
  {
   "cell_type": "markdown",
   "metadata": {},
   "source": [
    "Choose either $max E$ or to $min Q$, depending on which was better last time. \n",
    "- IF $E$ as bigger than $Q$ last move, choose $max E$ again.\n",
    "- If however $Q$ was bigger last time, this time $min Q$ instead."
   ]
  },
  {
   "cell_type": "code",
   "execution_count": null,
   "metadata": {},
   "outputs": [
    {
     "data": {
      "application/javascript": [
       "\n",
       "            setTimeout(function() {\n",
       "                var nbb_cell_id = 29;\n",
       "                var nbb_unformatted_code = \"# export\\nclass WinStay:\\n    def __init__(self, Qmax=0.5, prng=None):\\n        if prng is None:\\n            self.prng = np.random.RandomState()\\n        else:\\n            self.prng = prng\\n\\n        # Always favor E at the start\\n        self.Qlast = 0\\n        self.Elast = 1\\n\\n    def __call__(self, E, Q, moves):\\n        return self.forward(E, Q, moves)\\n\\n    def forward(self, E, Q, moves):\\n        if self.Elast >= self.Qlast:\\n            values = move_filter(E, moves)\\n            best = np.argmax(values)\\n        else:\\n            values = move_filter(Q, moves)\\n            best = np.argmin(values)\\n\\n        # Get the move\\n        move = moves[best]\\n\\n        # Set values for next round\\n        self.Elast = E[move[0], move[1]]\\n        self.Qlast = Q[move[0], move[1]]\\n\\n        return move\";\n",
       "                var nbb_formatted_code = \"# export\\nclass WinStay:\\n    def __init__(self, Qmax=0.5, prng=None):\\n        if prng is None:\\n            self.prng = np.random.RandomState()\\n        else:\\n            self.prng = prng\\n\\n        # Always favor E at the start\\n        self.Qlast = 0\\n        self.Elast = 1\\n\\n    def __call__(self, E, Q, moves):\\n        return self.forward(E, Q, moves)\\n\\n    def forward(self, E, Q, moves):\\n        if self.Elast >= self.Qlast:\\n            values = move_filter(E, moves)\\n            best = np.argmax(values)\\n        else:\\n            values = move_filter(Q, moves)\\n            best = np.argmin(values)\\n\\n        # Get the move\\n        move = moves[best]\\n\\n        # Set values for next round\\n        self.Elast = E[move[0], move[1]]\\n        self.Qlast = Q[move[0], move[1]]\\n\\n        return move\";\n",
       "                var nbb_cells = Jupyter.notebook.get_cells();\n",
       "                for (var i = 0; i < nbb_cells.length; ++i) {\n",
       "                    if (nbb_cells[i].input_prompt_number == nbb_cell_id) {\n",
       "                        if (nbb_cells[i].get_text() == nbb_unformatted_code) {\n",
       "                             nbb_cells[i].set_text(nbb_formatted_code);\n",
       "                        }\n",
       "                        break;\n",
       "                    }\n",
       "                }\n",
       "            }, 500);\n",
       "            "
      ],
      "text/plain": [
       "<IPython.core.display.Javascript object>"
      ]
     },
     "metadata": {},
     "output_type": "display_data"
    }
   ],
   "source": [
    "# export\n",
    "class WinStay:\n",
    "    def __init__(self, Qmax=0.5, prng=None):\n",
    "        if prng is None:\n",
    "            self.prng = np.random.RandomState()\n",
    "        else:\n",
    "            self.prng = prng\n",
    "\n",
    "        # Always favor E at the start\n",
    "        self.Qlast = 0\n",
    "        self.Elast = 1\n",
    "\n",
    "    def __call__(self, E, Q, moves):\n",
    "        return self.forward(E, Q, moves)\n",
    "\n",
    "    def forward(self, E, Q, moves):\n",
    "        if self.Elast >= self.Qlast:\n",
    "            values = move_filter(E, moves)\n",
    "            best = np.argmax(values)\n",
    "        else:\n",
    "            values = move_filter(Q, moves)\n",
    "            best = np.argmin(values)\n",
    "\n",
    "        # Get the move\n",
    "        move = moves[best]\n",
    "\n",
    "        # Set values for next round\n",
    "        self.Elast = E[move[0], move[1]]\n",
    "        self.Qlast = Q[move[0], move[1]]\n",
    "\n",
    "        return move"
   ]
  },
  {
   "cell_type": "code",
   "execution_count": null,
   "metadata": {},
   "outputs": [
    {
     "data": {
      "image/png": "[encoded data removed]",
      "text/plain": [
       "<Figure size 864x360 with 2 Axes>"
      ]
     },
     "metadata": {
      "image/png": {
       "height": 319,
       "width": 667
      }
     },
     "output_type": "display_data"
    },
    {
     "data": {
      "application/javascript": [
       "\n",
       "            setTimeout(function() {\n",
       "                var nbb_cell_id = 30;\n",
       "                var nbb_unformatted_code = \"# hide\\nfrom truthiness.plot import plot_maze\\nfrom truthiness.plot import plot_boards\\n\\n(moves, mazes, Es, Qs,) = run(\\n    8,\\n    WinStay(),\\n    env_name=\\\"ToughGame1\\\",\\n    num_episodes=1,\\n    num_steps=4,\\n    maze_seed=56,\\n    maze_kwargs={\\\"k\\\": 6},\\n    env_seed=1,\\n)\\n\\nselected = extract_moves(0, moves)\\nE = extract_board(0, Es)\\nQ = extract_board(0, Qs)\\nmaze = extract_board(0, mazes)\\n\\nplot_boards(E, Q, moves=selected, plot=True, height=5, width=12, mask=maze)\";\n",
       "                var nbb_formatted_code = \"# hide\\nfrom truthiness.plot import plot_maze\\nfrom truthiness.plot import plot_boards\\n\\n(moves, mazes, Es, Qs,) = run(\\n    8,\\n    WinStay(),\\n    env_name=\\\"ToughGame1\\\",\\n    num_episodes=1,\\n    num_steps=4,\\n    maze_seed=56,\\n    maze_kwargs={\\\"k\\\": 6},\\n    env_seed=1,\\n)\\n\\nselected = extract_moves(0, moves)\\nE = extract_board(0, Es)\\nQ = extract_board(0, Qs)\\nmaze = extract_board(0, mazes)\\n\\nplot_boards(E, Q, moves=selected, plot=True, height=5, width=12, mask=maze)\";\n",
       "                var nbb_cells = Jupyter.notebook.get_cells();\n",
       "                for (var i = 0; i < nbb_cells.length; ++i) {\n",
       "                    if (nbb_cells[i].input_prompt_number == nbb_cell_id) {\n",
       "                        if (nbb_cells[i].get_text() == nbb_unformatted_code) {\n",
       "                             nbb_cells[i].set_text(nbb_formatted_code);\n",
       "                        }\n",
       "                        break;\n",
       "                    }\n",
       "                }\n",
       "            }, 500);\n",
       "            "
      ],
      "text/plain": [
       "<IPython.core.display.Javascript object>"
      ]
     },
     "metadata": {},
     "output_type": "display_data"
    }
   ],
   "source": [
    "# hide\n",
    "from truthiness.plot import plot_maze\n",
    "from truthiness.plot import plot_boards\n",
    "\n",
    "(moves, mazes, Es, Qs,) = run(\n",
    "    8,\n",
    "    WinStay(),\n",
    "    env_name=\"ToughGame1\",\n",
    "    num_episodes=1,\n",
    "    num_steps=4,\n",
    "    maze_seed=56,\n",
    "    maze_kwargs={\"k\": 6},\n",
    "    env_seed=1,\n",
    ")\n",
    "\n",
    "selected = extract_moves(0, moves)\n",
    "E = extract_board(0, Es)\n",
    "Q = extract_board(0, Qs)\n",
    "maze = extract_board(0, mazes)\n",
    "\n",
    "plot_boards(E, Q, moves=selected, plot=True, height=5, width=12, mask=maze)"
   ]
  },
  {
   "cell_type": "code",
   "execution_count": null,
   "metadata": {},
   "outputs": [],
   "source": []
  },
  {
   "cell_type": "code",
   "execution_count": null,
   "metadata": {},
   "outputs": [],
   "source": []
  }
 ],
 "metadata": {
  "kernelspec": {
   "display_name": "Python 3",
   "language": "python",
   "name": "python3"
  }
 },
 "nbformat": 4,
 "nbformat_minor": 2
}

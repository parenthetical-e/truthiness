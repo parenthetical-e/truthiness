{
 "cells": [
  {
   "cell_type": "code",
   "execution_count": null,
   "metadata": {},
   "outputs": [],
   "source": [
    "# default_exp player"
   ]
  },
  {
   "cell_type": "markdown",
   "metadata": {},
   "source": [
    "# player\n",
    "> Mathematical players for games of truth and consequences"
   ]
  },
  {
   "cell_type": "code",
   "execution_count": null,
   "metadata": {},
   "outputs": [
    {
     "data": {
      "application/javascript": [
       "\n",
       "            setTimeout(function() {\n",
       "                var nbb_cell_id = 2;\n",
       "                var nbb_unformatted_code = \"# hide\\nfrom nbdev.showdoc import *\\n\\n%load_ext nb_black\\n%matplotlib inline\\n%config InlineBackend.figure_format='retina'\\n%config IPCompleter.greedy=True\";\n",
       "                var nbb_formatted_code = \"# hide\\nfrom nbdev.showdoc import *\\n\\n%load_ext nb_black\\n%matplotlib inline\\n%config InlineBackend.figure_format='retina'\\n%config IPCompleter.greedy=True\";\n",
       "                var nbb_cells = Jupyter.notebook.get_cells();\n",
       "                for (var i = 0; i < nbb_cells.length; ++i) {\n",
       "                    if (nbb_cells[i].input_prompt_number == nbb_cell_id) {\n",
       "                        if (nbb_cells[i].get_text() == nbb_unformatted_code) {\n",
       "                             nbb_cells[i].set_text(nbb_formatted_code);\n",
       "                        }\n",
       "                        break;\n",
       "                    }\n",
       "                }\n",
       "            }, 500);\n",
       "            "
      ],
      "text/plain": [
       "<IPython.core.display.Javascript object>"
      ]
     },
     "metadata": {},
     "output_type": "display_data"
    }
   ],
   "source": [
    "# hide\n",
    "from nbdev.showdoc import *\n",
    "\n",
    "%load_ext nb_black\n",
    "%matplotlib inline\n",
    "%config InlineBackend.figure_format='retina'\n",
    "%config IPCompleter.greedy=True"
   ]
  },
  {
   "cell_type": "code",
   "execution_count": null,
   "metadata": {},
   "outputs": [
    {
     "data": {
      "application/javascript": [
       "\n",
       "            setTimeout(function() {\n",
       "                var nbb_cell_id = 3;\n",
       "                var nbb_unformatted_code = \"# export\\nimport csv\\nimport numpy as np\\n\\nfrom truthiness import gym\\nfrom truthiness.game import available_moves\\nfrom truthiness.game import random_move\\nfrom truthiness.game import create_maze\";\n",
       "                var nbb_formatted_code = \"# export\\nimport csv\\nimport numpy as np\\n\\nfrom truthiness import gym\\nfrom truthiness.game import available_moves\\nfrom truthiness.game import random_move\\nfrom truthiness.game import create_maze\";\n",
       "                var nbb_cells = Jupyter.notebook.get_cells();\n",
       "                for (var i = 0; i < nbb_cells.length; ++i) {\n",
       "                    if (nbb_cells[i].input_prompt_number == nbb_cell_id) {\n",
       "                        if (nbb_cells[i].get_text() == nbb_unformatted_code) {\n",
       "                             nbb_cells[i].set_text(nbb_formatted_code);\n",
       "                        }\n",
       "                        break;\n",
       "                    }\n",
       "                }\n",
       "            }, 500);\n",
       "            "
      ],
      "text/plain": [
       "<IPython.core.display.Javascript object>"
      ]
     },
     "metadata": {},
     "output_type": "display_data"
    }
   ],
   "source": [
    "# export\n",
    "import csv\n",
    "import numpy as np\n",
    "\n",
    "from truthiness import gym\n",
    "from truthiness.game import available_moves\n",
    "from truthiness.game import random_move\n",
    "from truthiness.game import create_maze"
   ]
  },
  {
   "cell_type": "markdown",
   "metadata": {},
   "source": [
    "# a run function\n",
    "First we make a run function to our players. \n",
    "- An 'episode' is a full game of play. Change `num_episdoes` to play more or less.\n",
    "- Each episode uses a different random seed.\n",
    "- Data for each game can be logged to csv file. Change `name` from `None`."
   ]
  },
  {
   "cell_type": "code",
   "execution_count": null,
   "metadata": {},
   "outputs": [
    {
     "data": {
      "application/javascript": [
       "\n",
       "            setTimeout(function() {\n",
       "                var nbb_cell_id = 28;\n",
       "                var nbb_unformatted_code = \"# export\\ndef run(\\n    n,\\n    player,\\n    num_episodes=10,\\n    env_name=\\\"ShameGame1\\\",\\n    env_kwargs=None,\\n    maze_kwargs=None,\\n    name=None,\\n    seed=None,\\n):\\n    \\\"\\\"\\\"Play some games.\\\"\\\"\\\"\\n\\n    # Sanity\\n    num_episodes = int(num_episodes)\\n    if num_episodes < 1:\\n        raise ValueError(\\\"num_episode must be > 0\\\")\\n    if maze_kwargs is None:\\n        maze_kwargs = {}\\n    if env_kwargs is None:\\n        env_kwargs = {}\\n\\n    # Get the env\\n    prng = np.random.RandomState(seed)\\n    Env = getattr(gym, env_name)\\n    maze, prng = create_maze(n, prng=prng, **maze_kwargs)\\n    env = Env(n, maze=maze, seed=seed, **env_kwargs)\\n\\n    # Init logging. Save data as tuples:\\n    # (n, t, x, y, e, q)\\n    results = []\\n    mazes = []\\n    Es = []\\n    Qs = []\\n\\n    # !\\n    for i in range(num_episodes):\\n        # Reconfig the env\\n        maze, prng = create_maze(n, prng=prng, **maze_kwargs)\\n        mazes.append(maze)\\n\\n        # Reset\\n        env.set_maze(maze)\\n        x, y, Q, E = env.reset()\\n        Es.append(E)\\n        Qs.append(Q)\\n        done = False\\n\\n        # -\\n        t = 0\\n        while not done:\\n            # Choose and act\\n            moves = env.moves()\\n            x, y = player(E, Q, moves)\\n\\n            state, reward, done, _ = env.step((x, y))\\n\\n            # Log data\\n            e, q = reward\\n            result = (i, t, x, y, e, q)\\n            results.append(result)\\n\\n            # Shift\\n            x, y, Q, E = state\\n            t += 1\\n\\n    # Save to disk?\\n    if name is not None:\\n        save_results(name, results)\\n\\n    return results, mazes, Es, Qs\";\n",
       "                var nbb_formatted_code = \"# export\\ndef run(\\n    n,\\n    player,\\n    num_episodes=10,\\n    env_name=\\\"ShameGame1\\\",\\n    env_kwargs=None,\\n    maze_kwargs=None,\\n    name=None,\\n    seed=None,\\n):\\n    \\\"\\\"\\\"Play some games.\\\"\\\"\\\"\\n\\n    # Sanity\\n    num_episodes = int(num_episodes)\\n    if num_episodes < 1:\\n        raise ValueError(\\\"num_episode must be > 0\\\")\\n    if maze_kwargs is None:\\n        maze_kwargs = {}\\n    if env_kwargs is None:\\n        env_kwargs = {}\\n\\n    # Get the env\\n    prng = np.random.RandomState(seed)\\n    Env = getattr(gym, env_name)\\n    maze, prng = create_maze(n, prng=prng, **maze_kwargs)\\n    env = Env(n, maze=maze, seed=seed, **env_kwargs)\\n\\n    # Init logging. Save data as tuples:\\n    # (n, t, x, y, e, q)\\n    results = []\\n    mazes = []\\n    Es = []\\n    Qs = []\\n\\n    # !\\n    for i in range(num_episodes):\\n        # Reconfig the env\\n        maze, prng = create_maze(n, prng=prng, **maze_kwargs)\\n        mazes.append(maze)\\n\\n        # Reset\\n        env.set_maze(maze)\\n        x, y, Q, E = env.reset()\\n        Es.append(E)\\n        Qs.append(Q)\\n        done = False\\n\\n        # -\\n        t = 0\\n        while not done:\\n            # Choose and act\\n            moves = env.moves()\\n            x, y = player(E, Q, moves)\\n\\n            state, reward, done, _ = env.step((x, y))\\n\\n            # Log data\\n            e, q = reward\\n            result = (i, t, x, y, e, q)\\n            results.append(result)\\n\\n            # Shift\\n            x, y, Q, E = state\\n            t += 1\\n\\n    # Save to disk?\\n    if name is not None:\\n        save_results(name, results)\\n\\n    return results, mazes, Es, Qs\";\n",
       "                var nbb_cells = Jupyter.notebook.get_cells();\n",
       "                for (var i = 0; i < nbb_cells.length; ++i) {\n",
       "                    if (nbb_cells[i].input_prompt_number == nbb_cell_id) {\n",
       "                        if (nbb_cells[i].get_text() == nbb_unformatted_code) {\n",
       "                             nbb_cells[i].set_text(nbb_formatted_code);\n",
       "                        }\n",
       "                        break;\n",
       "                    }\n",
       "                }\n",
       "            }, 500);\n",
       "            "
      ],
      "text/plain": [
       "<IPython.core.display.Javascript object>"
      ]
     },
     "metadata": {},
     "output_type": "display_data"
    }
   ],
   "source": [
    "# export\n",
    "def run(\n",
    "    n,\n",
    "    player,\n",
    "    num_episodes=10,\n",
    "    env_name=\"ShameGame1\",\n",
    "    env_kwargs=None,\n",
    "    maze_kwargs=None,\n",
    "    name=None,\n",
    "    seed=None,\n",
    "):\n",
    "    \"\"\"Play some games.\"\"\"\n",
    "\n",
    "    # Sanity\n",
    "    num_episodes = int(num_episodes)\n",
    "    if num_episodes < 1:\n",
    "        raise ValueError(\"num_episode must be > 0\")\n",
    "    if maze_kwargs is None:\n",
    "        maze_kwargs = {}\n",
    "    if env_kwargs is None:\n",
    "        env_kwargs = {}\n",
    "\n",
    "    # Get the env\n",
    "    prng = np.random.RandomState(seed)\n",
    "    Env = getattr(gym, env_name)\n",
    "    maze, prng = create_maze(n, prng=prng, **maze_kwargs)\n",
    "    env = Env(n, maze=maze, seed=seed, **env_kwargs)\n",
    "\n",
    "    # Init logging. Save data as tuples:\n",
    "    # (n, t, x, y, e, q)\n",
    "    results = []\n",
    "    mazes = []\n",
    "    Es = []\n",
    "    Qs = []\n",
    "\n",
    "    # !\n",
    "    for i in range(num_episodes):\n",
    "        # Reconfig the env\n",
    "        maze, prng = create_maze(n, prng=prng, **maze_kwargs)\n",
    "        mazes.append(maze)\n",
    "\n",
    "        # Reset\n",
    "        env.set_maze(maze)\n",
    "        x, y, Q, E = env.reset()\n",
    "        Es.append(E)\n",
    "        Qs.append(Q)\n",
    "        done = False\n",
    "\n",
    "        # -\n",
    "        t = 0\n",
    "        while not done:\n",
    "            # Choose and act\n",
    "            moves = env.moves()\n",
    "            x, y = player(E, Q, moves)\n",
    "\n",
    "            state, reward, done, _ = env.step((x, y))\n",
    "\n",
    "            # Log data\n",
    "            e, q = reward\n",
    "            result = (i, t, x, y, e, q)\n",
    "            results.append(result)\n",
    "\n",
    "            # Shift\n",
    "            x, y, Q, E = state\n",
    "            t += 1\n",
    "\n",
    "    # Save to disk?\n",
    "    if name is not None:\n",
    "        save_results(name, results)\n",
    "\n",
    "    return results, mazes, Es, Qs"
   ]
  },
  {
   "cell_type": "code",
   "execution_count": null,
   "metadata": {},
   "outputs": [],
   "source": []
  },
  {
   "cell_type": "markdown",
   "metadata": {},
   "source": [
    "# utilities\n",
    "Define functions that will be helpful in then defining players"
   ]
  },
  {
   "cell_type": "code",
   "execution_count": null,
   "metadata": {},
   "outputs": [
    {
     "data": {
      "application/javascript": [
       "\n",
       "            setTimeout(function() {\n",
       "                var nbb_cell_id = 5;\n",
       "                var nbb_unformatted_code = \"# export\\ndef save_results(name, results):\\n    with open(name, mode=\\\"w\\\") as handle:\\n        # Init\\n        writer = csv.writer(handle)\\n\\n        # Header\\n        head = (\\\"n\\\", \\\"t\\\", \\\"x\\\", \\\"y\\\", \\\"E\\\", \\\"Q\\\")\\n        writer.writerow(head)\\n\\n        # Results\\n        for row in results:\\n            writer.writerow(row)\";\n",
       "                var nbb_formatted_code = \"# export\\ndef save_results(name, results):\\n    with open(name, mode=\\\"w\\\") as handle:\\n        # Init\\n        writer = csv.writer(handle)\\n\\n        # Header\\n        head = (\\\"n\\\", \\\"t\\\", \\\"x\\\", \\\"y\\\", \\\"E\\\", \\\"Q\\\")\\n        writer.writerow(head)\\n\\n        # Results\\n        for row in results:\\n            writer.writerow(row)\";\n",
       "                var nbb_cells = Jupyter.notebook.get_cells();\n",
       "                for (var i = 0; i < nbb_cells.length; ++i) {\n",
       "                    if (nbb_cells[i].input_prompt_number == nbb_cell_id) {\n",
       "                        if (nbb_cells[i].get_text() == nbb_unformatted_code) {\n",
       "                             nbb_cells[i].set_text(nbb_formatted_code);\n",
       "                        }\n",
       "                        break;\n",
       "                    }\n",
       "                }\n",
       "            }, 500);\n",
       "            "
      ],
      "text/plain": [
       "<IPython.core.display.Javascript object>"
      ]
     },
     "metadata": {},
     "output_type": "display_data"
    }
   ],
   "source": [
    "# export\n",
    "def save_results(name, results):\n",
    "    with open(name, mode=\"w\") as handle:\n",
    "        # Init\n",
    "        writer = csv.writer(handle)\n",
    "\n",
    "        # Header\n",
    "        head = (\"n\", \"t\", \"x\", \"y\", \"E\", \"Q\")\n",
    "        writer.writerow(head)\n",
    "\n",
    "        # Results\n",
    "        for row in results:\n",
    "            writer.writerow(row)"
   ]
  },
  {
   "cell_type": "code",
   "execution_count": null,
   "metadata": {},
   "outputs": [
    {
     "data": {
      "application/javascript": [
       "\n",
       "            setTimeout(function() {\n",
       "                var nbb_cell_id = 6;\n",
       "                var nbb_unformatted_code = \"# export\\ndef extract_moves(episode, results):\\n    moves = []\\n    for row in results:\\n        if np.isclose(row[0], episode):\\n            moves.append((row[2], row[3]))\\n    return moves\";\n",
       "                var nbb_formatted_code = \"# export\\ndef extract_moves(episode, results):\\n    moves = []\\n    for row in results:\\n        if np.isclose(row[0], episode):\\n            moves.append((row[2], row[3]))\\n    return moves\";\n",
       "                var nbb_cells = Jupyter.notebook.get_cells();\n",
       "                for (var i = 0; i < nbb_cells.length; ++i) {\n",
       "                    if (nbb_cells[i].input_prompt_number == nbb_cell_id) {\n",
       "                        if (nbb_cells[i].get_text() == nbb_unformatted_code) {\n",
       "                             nbb_cells[i].set_text(nbb_formatted_code);\n",
       "                        }\n",
       "                        break;\n",
       "                    }\n",
       "                }\n",
       "            }, 500);\n",
       "            "
      ],
      "text/plain": [
       "<IPython.core.display.Javascript object>"
      ]
     },
     "metadata": {},
     "output_type": "display_data"
    }
   ],
   "source": [
    "# export\n",
    "def extract_moves(episode, results):\n",
    "    moves = []\n",
    "    for row in results:\n",
    "        if np.isclose(row[0], episode):\n",
    "            moves.append((row[2], row[3]))\n",
    "    return moves"
   ]
  },
  {
   "cell_type": "code",
   "execution_count": null,
   "metadata": {},
   "outputs": [
    {
     "data": {
      "application/javascript": [
       "\n",
       "            setTimeout(function() {\n",
       "                var nbb_cell_id = 7;\n",
       "                var nbb_unformatted_code = \"# export\\ndef move_filter(board, moves):\\n    \\\"\\\"\\\"Returns a list of values/conseqeunces for each move\\n    on an E or Q board.\\n    \\\"\\\"\\\"\\n    return [board[x, y] for (x, y) in moves]\";\n",
       "                var nbb_formatted_code = \"# export\\ndef move_filter(board, moves):\\n    \\\"\\\"\\\"Returns a list of values/conseqeunces for each move\\n    on an E or Q board.\\n    \\\"\\\"\\\"\\n    return [board[x, y] for (x, y) in moves]\";\n",
       "                var nbb_cells = Jupyter.notebook.get_cells();\n",
       "                for (var i = 0; i < nbb_cells.length; ++i) {\n",
       "                    if (nbb_cells[i].input_prompt_number == nbb_cell_id) {\n",
       "                        if (nbb_cells[i].get_text() == nbb_unformatted_code) {\n",
       "                             nbb_cells[i].set_text(nbb_formatted_code);\n",
       "                        }\n",
       "                        break;\n",
       "                    }\n",
       "                }\n",
       "            }, 500);\n",
       "            "
      ],
      "text/plain": [
       "<IPython.core.display.Javascript object>"
      ]
     },
     "metadata": {},
     "output_type": "display_data"
    }
   ],
   "source": [
    "# export\n",
    "def move_filter(board, moves):\n",
    "    \"\"\"Returns a list of values/conseqeunces for each move\n",
    "    on an E or Q board.\n",
    "    \"\"\"\n",
    "    return [board[x, y] for (x, y) in moves]"
   ]
  },
  {
   "cell_type": "markdown",
   "metadata": {},
   "source": [
    "# all players "
   ]
  },
  {
   "cell_type": "markdown",
   "metadata": {},
   "source": [
    "Here we define different simple players and dispositions to truth and consequences. \n",
    "- Honesty: $max\\ E_{i,j}$\n",
    "- Planned honesty: $argmax_{\\pi} \\sum_P E_{i,j}$\n",
    "- Sensitive: $min\\ Q_{i,j}$\n",
    "- Planned sensitive: $argmin_{\\pi} \\sum_P Q_{i,j}$\n",
    "- Evil: $max\\ Q_{i,j}$\n",
    "- Planned evil: $argmax_{\\pi} \\sum_P Q_{i,j}$\n",
    "- Foraging: $max\\ \\frac{E_{i,j}}{Q_{i,j}}$\n",
    "- Planned foraging: $argmax_{\\pi} \\sum_P \\frac{E_{i,j}}{Q_{i,j}}$\n",
    "- Random"
   ]
  },
  {
   "cell_type": "markdown",
   "metadata": {},
   "source": [
    "We also consider a couple more complex approaches which swtich amoung the simple policies"
   ]
  },
  {
   "cell_type": "markdown",
   "metadata": {},
   "source": [
    "**TODO**"
   ]
  },
  {
   "cell_type": "markdown",
   "metadata": {},
   "source": [
    "# a random player\n",
    "They play by making random moves. Simple and bad."
   ]
  },
  {
   "cell_type": "code",
   "execution_count": null,
   "metadata": {},
   "outputs": [
    {
     "data": {
      "application/javascript": [
       "\n",
       "            setTimeout(function() {\n",
       "                var nbb_cell_id = 8;\n",
       "                var nbb_unformatted_code = \"# export\\nclass Random:\\n    def __init__(self, prng=None):\\n        if prng is None:\\n            self.prng = np.random.RandomState()\\n        else:\\n            self.prng = prng\\n\\n    def __call__(self, E, Q, moves):\\n        return self.forward(E, Q, moves)\\n\\n    def forward(self, E, Q, moves):\\n        i = self.prng.randint(0, len(moves))\\n\\n        return moves[i]\";\n",
       "                var nbb_formatted_code = \"# export\\nclass Random:\\n    def __init__(self, prng=None):\\n        if prng is None:\\n            self.prng = np.random.RandomState()\\n        else:\\n            self.prng = prng\\n\\n    def __call__(self, E, Q, moves):\\n        return self.forward(E, Q, moves)\\n\\n    def forward(self, E, Q, moves):\\n        i = self.prng.randint(0, len(moves))\\n\\n        return moves[i]\";\n",
       "                var nbb_cells = Jupyter.notebook.get_cells();\n",
       "                for (var i = 0; i < nbb_cells.length; ++i) {\n",
       "                    if (nbb_cells[i].input_prompt_number == nbb_cell_id) {\n",
       "                        if (nbb_cells[i].get_text() == nbb_unformatted_code) {\n",
       "                             nbb_cells[i].set_text(nbb_formatted_code);\n",
       "                        }\n",
       "                        break;\n",
       "                    }\n",
       "                }\n",
       "            }, 500);\n",
       "            "
      ],
      "text/plain": [
       "<IPython.core.display.Javascript object>"
      ]
     },
     "metadata": {},
     "output_type": "display_data"
    }
   ],
   "source": [
    "# export\n",
    "class Random:\n",
    "    def __init__(self, prng=None):\n",
    "        if prng is None:\n",
    "            self.prng = np.random.RandomState()\n",
    "        else:\n",
    "            self.prng = prng\n",
    "\n",
    "    def __call__(self, E, Q, moves):\n",
    "        return self.forward(E, Q, moves)\n",
    "\n",
    "    def forward(self, E, Q, moves):\n",
    "        i = self.prng.randint(0, len(moves))\n",
    "\n",
    "        return moves[i]"
   ]
  },
  {
   "cell_type": "code",
   "execution_count": null,
   "metadata": {},
   "outputs": [
    {
     "data": {
      "text/plain": [
       "([(0, 0, 4, 1, 0.39342929857697595, 0.19671464928848797),\n",
       "  (0, 1, 4, 4, 0.2135497820537608, 0.1067748910268804),\n",
       "  (0, 2, 5, 4, 0.2343645353550754, 0.1171822676775377),\n",
       "  (0, 3, 6, 4, 0.18024797231940465, 0.09012398615970232),\n",
       "  (0, 4, 2, 4, 0.221531748708649, 0.1107658743543245),\n",
       "  (0, 5, 2, 6, 0.28202180296217483, 0.14101090148108741),\n",
       "  (0, 6, 0, 6, 0.3255967071065113, 0.16279835355325564),\n",
       "  (0, 7, 0, 4, 0.3328673968499635, 0.16643369842498176),\n",
       "  (0, 8, 1, 4, 0.4091757020191406, 0.2045878510095703),\n",
       "  (0, 9, 1, 7, 0.48977989641771946, 0.24488994820885973)],\n",
       " [array([[0., 0., 0., 0., 0., 0., 0., 0.],\n",
       "         [0., 0., 0., 0., 0., 0., 0., 0.],\n",
       "         [0., 0., 0., 0., 0., 0., 0., 0.],\n",
       "         [0., 0., 0., 0., 0., 0., 0., 0.],\n",
       "         [0., 0., 0., 0., 0., 0., 1., 1.],\n",
       "         [0., 1., 0., 0., 0., 0., 1., 1.],\n",
       "         [1., 1., 0., 0., 0., 0., 1., 0.],\n",
       "         [1., 1., 0., 0., 0., 0., 1., 0.]])],\n",
       " [array([[0.19564368, 0.10369509, 0.19495505, 0.2359949 , 0.        ,\n",
       "          0.09230681, 0.        , 0.14470344],\n",
       "         [0.08112195, 0.08494109, 0.08902856, 0.20555034, 0.        ,\n",
       "          0.13660384, 0.1550455 , 0.        ],\n",
       "         [0.09433566, 0.22714904, 0.14634749, 0.25668598, 0.        ,\n",
       "          0.23909985, 0.        , 0.10515465],\n",
       "         [0.20673346, 0.19075662, 0.06506454, 0.5       , 0.06780142,\n",
       "          0.235402  , 0.18409016, 0.18337709],\n",
       "         [0.18363089, 0.        , 0.14357492, 0.28401695, 0.        ,\n",
       "          0.10777973, 0.        , 0.        ],\n",
       "         [0.40830933, 0.        , 0.08135801, 0.13125607, 0.        ,\n",
       "          0.18495237, 0.        , 0.        ],\n",
       "         [0.        , 0.        , 0.34686836, 0.05328076, 0.        ,\n",
       "          0.1779897 , 0.        , 0.12558022],\n",
       "         [0.        , 0.        , 0.26035517, 0.03878575, 0.36314775,\n",
       "          0.18714252, 0.        , 0.13048106]])],\n",
       " [array([[0.39128735, 0.20739018, 0.38991011, 0.4719898 , 0.        ,\n",
       "          0.18461362, 0.        , 0.28940689],\n",
       "         [0.16224391, 0.16988217, 0.17805712, 0.41110069, 0.        ,\n",
       "          0.27320768, 0.310091  , 0.        ],\n",
       "         [0.18867132, 0.45429809, 0.29269498, 0.51337197, 0.        ,\n",
       "          0.47819969, 0.        , 0.2103093 ],\n",
       "         [0.41346692, 0.38151324, 0.13012908, 1.        , 0.13560284,\n",
       "          0.47080401, 0.36818032, 0.36675417],\n",
       "         [0.36726179, 0.        , 0.28714985, 0.56803391, 0.        ,\n",
       "          0.21555946, 0.        , 0.        ],\n",
       "         [0.81661866, 0.        , 0.16271602, 0.26251214, 0.        ,\n",
       "          0.36990473, 0.        , 0.        ],\n",
       "         [0.        , 0.        , 0.69373673, 0.10656152, 0.        ,\n",
       "          0.3559794 , 0.        , 0.25116044],\n",
       "         [0.        , 0.        , 0.52071033, 0.0775715 , 0.7262955 ,\n",
       "          0.37428503, 0.        , 0.26096212]])])"
      ]
     },
     "execution_count": null,
     "metadata": {},
     "output_type": "execute_result"
    },
    {
     "data": {
      "application/javascript": [
       "\n",
       "            setTimeout(function() {\n",
       "                var nbb_cell_id = 29;\n",
       "                var nbb_unformatted_code = \"run(8, Random(), num_episodes=1)\";\n",
       "                var nbb_formatted_code = \"run(8, Random(), num_episodes=1)\";\n",
       "                var nbb_cells = Jupyter.notebook.get_cells();\n",
       "                for (var i = 0; i < nbb_cells.length; ++i) {\n",
       "                    if (nbb_cells[i].input_prompt_number == nbb_cell_id) {\n",
       "                        if (nbb_cells[i].get_text() == nbb_unformatted_code) {\n",
       "                             nbb_cells[i].set_text(nbb_formatted_code);\n",
       "                        }\n",
       "                        break;\n",
       "                    }\n",
       "                }\n",
       "            }, 500);\n",
       "            "
      ],
      "text/plain": [
       "<IPython.core.display.Javascript object>"
      ]
     },
     "metadata": {},
     "output_type": "display_data"
    }
   ],
   "source": [
    "run(8, Random(), num_episodes=1)"
   ]
  },
  {
   "cell_type": "markdown",
   "metadata": {},
   "source": [
    "# curious players"
   ]
  },
  {
   "cell_type": "markdown",
   "metadata": {},
   "source": [
    "Choose the move with the most information value"
   ]
  },
  {
   "cell_type": "code",
   "execution_count": null,
   "metadata": {},
   "outputs": [
    {
     "data": {
      "application/javascript": [
       "\n",
       "            setTimeout(function() {\n",
       "                var nbb_cell_id = 10;\n",
       "                var nbb_unformatted_code = \"# export\\nclass Curious:\\n    def __init__(self, prng=None):\\n        if prng is None:\\n            self.prng = np.random.RandomState()\\n        else:\\n            self.prng = prng\\n\\n    def __call__(self, E, Q, moves):\\n        return self.forward(E, Q, moves)\\n\\n    def forward(self, E, Q, moves):\\n        values = move_filter(E, moves)\\n        best = np.argmax(values)\\n\\n        return moves[best]\";\n",
       "                var nbb_formatted_code = \"# export\\nclass Curious:\\n    def __init__(self, prng=None):\\n        if prng is None:\\n            self.prng = np.random.RandomState()\\n        else:\\n            self.prng = prng\\n\\n    def __call__(self, E, Q, moves):\\n        return self.forward(E, Q, moves)\\n\\n    def forward(self, E, Q, moves):\\n        values = move_filter(E, moves)\\n        best = np.argmax(values)\\n\\n        return moves[best]\";\n",
       "                var nbb_cells = Jupyter.notebook.get_cells();\n",
       "                for (var i = 0; i < nbb_cells.length; ++i) {\n",
       "                    if (nbb_cells[i].input_prompt_number == nbb_cell_id) {\n",
       "                        if (nbb_cells[i].get_text() == nbb_unformatted_code) {\n",
       "                             nbb_cells[i].set_text(nbb_formatted_code);\n",
       "                        }\n",
       "                        break;\n",
       "                    }\n",
       "                }\n",
       "            }, 500);\n",
       "            "
      ],
      "text/plain": [
       "<IPython.core.display.Javascript object>"
      ]
     },
     "metadata": {},
     "output_type": "display_data"
    }
   ],
   "source": [
    "# export\n",
    "class Curious:\n",
    "    def __init__(self, prng=None):\n",
    "        if prng is None:\n",
    "            self.prng = np.random.RandomState()\n",
    "        else:\n",
    "            self.prng = prng\n",
    "\n",
    "    def __call__(self, E, Q, moves):\n",
    "        return self.forward(E, Q, moves)\n",
    "\n",
    "    def forward(self, E, Q, moves):\n",
    "        values = move_filter(E, moves)\n",
    "        best = np.argmax(values)\n",
    "\n",
    "        return moves[best]"
   ]
  },
  {
   "cell_type": "code",
   "execution_count": null,
   "metadata": {},
   "outputs": [
    {
     "data": {
      "text/plain": [
       "([(0, 0, 6, 6, 0.5947476086535576, 0.2973738043267788),\n",
       "  (0, 1, 6, 5, 0.7277302548740752, 0.3638651274370376),\n",
       "  (0, 2, 6, 7, 0.5365820545567427, 0.26829102727837134),\n",
       "  (0, 3, 0, 7, 1.0, 0.5),\n",
       "  (0, 4, 0, 4, 0.646215858957665, 0.3231079294788325),\n",
       "  (0, 5, 2, 4, 0.4493840555809426, 0.2246920277904713),\n",
       "  (0, 6, 2, 3, 0.5654941274126757, 0.28274706370633784),\n",
       "  (0, 7, 1, 3, 0.5424939715760336, 0.2712469857880168),\n",
       "  (0, 8, 3, 3, 0.4022066143066504, 0.2011033071533252),\n",
       "  (0, 9, 0, 3, 0.3738462712999921, 0.18692313564999605)],\n",
       " [array([[0., 0., 0., 0., 0., 0., 0., 0.],\n",
       "         [0., 1., 0., 0., 0., 0., 0., 0.],\n",
       "         [0., 1., 0., 0., 0., 0., 0., 0.],\n",
       "         [0., 1., 1., 0., 0., 1., 0., 0.],\n",
       "         [0., 1., 0., 0., 1., 1., 0., 0.],\n",
       "         [1., 1., 0., 0., 0., 1., 0., 0.],\n",
       "         [0., 1., 0., 0., 0., 0., 0., 0.],\n",
       "         [0., 0., 0., 0., 0., 0., 0., 0.]])])"
      ]
     },
     "execution_count": null,
     "metadata": {},
     "output_type": "execute_result"
    },
    {
     "data": {
      "application/javascript": [
       "\n",
       "            setTimeout(function() {\n",
       "                var nbb_cell_id = 25;\n",
       "                var nbb_unformatted_code = \"run(8, Curious(), num_episodes=1)\";\n",
       "                var nbb_formatted_code = \"run(8, Curious(), num_episodes=1)\";\n",
       "                var nbb_cells = Jupyter.notebook.get_cells();\n",
       "                for (var i = 0; i < nbb_cells.length; ++i) {\n",
       "                    if (nbb_cells[i].input_prompt_number == nbb_cell_id) {\n",
       "                        if (nbb_cells[i].get_text() == nbb_unformatted_code) {\n",
       "                             nbb_cells[i].set_text(nbb_formatted_code);\n",
       "                        }\n",
       "                        break;\n",
       "                    }\n",
       "                }\n",
       "            }, 500);\n",
       "            "
      ],
      "text/plain": [
       "<IPython.core.display.Javascript object>"
      ]
     },
     "metadata": {},
     "output_type": "display_data"
    }
   ],
   "source": [
    "run(8, Curious(), num_episodes=1)"
   ]
  },
  {
   "cell_type": "markdown",
   "metadata": {},
   "source": [
    "Try and choose the move that can lead to the most information over the whole best possible path"
   ]
  },
  {
   "cell_type": "code",
   "execution_count": null,
   "metadata": {},
   "outputs": [
    {
     "data": {
      "application/javascript": [
       "\n",
       "            setTimeout(function() {\n",
       "                var nbb_cell_id = 12;\n",
       "                var nbb_unformatted_code = \"# export\\nclass CuriousMCTS:\\n    def __init__(self, prng=None):\\n        if prng is None:\\n            self.prng = np.random.RandomState()\\n        else:\\n            self.prng = prng\\n\\n    def __call__(self, E, Q, moves):\\n        return self.forward(E, Q, moves)\\n\\n    def forward(self, E, Q, moves):\\n        pass\\n        # TODO - do MCTS to find the best path overall\\n        # moves.\\n        return moves[i]\";\n",
       "                var nbb_formatted_code = \"# export\\nclass CuriousMCTS:\\n    def __init__(self, prng=None):\\n        if prng is None:\\n            self.prng = np.random.RandomState()\\n        else:\\n            self.prng = prng\\n\\n    def __call__(self, E, Q, moves):\\n        return self.forward(E, Q, moves)\\n\\n    def forward(self, E, Q, moves):\\n        pass\\n        # TODO - do MCTS to find the best path overall\\n        # moves.\\n        return moves[i]\";\n",
       "                var nbb_cells = Jupyter.notebook.get_cells();\n",
       "                for (var i = 0; i < nbb_cells.length; ++i) {\n",
       "                    if (nbb_cells[i].input_prompt_number == nbb_cell_id) {\n",
       "                        if (nbb_cells[i].get_text() == nbb_unformatted_code) {\n",
       "                             nbb_cells[i].set_text(nbb_formatted_code);\n",
       "                        }\n",
       "                        break;\n",
       "                    }\n",
       "                }\n",
       "            }, 500);\n",
       "            "
      ],
      "text/plain": [
       "<IPython.core.display.Javascript object>"
      ]
     },
     "metadata": {},
     "output_type": "display_data"
    }
   ],
   "source": [
    "# export\n",
    "class CuriousMCTS:\n",
    "    def __init__(self, prng=None):\n",
    "        if prng is None:\n",
    "            self.prng = np.random.RandomState()\n",
    "        else:\n",
    "            self.prng = prng\n",
    "\n",
    "    def __call__(self, E, Q, moves):\n",
    "        return self.forward(E, Q, moves)\n",
    "\n",
    "    def forward(self, E, Q, moves):\n",
    "        pass\n",
    "        # TODO - do MCTS to find the best path overall\n",
    "        # moves.\n",
    "        return moves[i]"
   ]
  },
  {
   "cell_type": "markdown",
   "metadata": {},
   "source": [
    "# sensitive players"
   ]
  },
  {
   "cell_type": "markdown",
   "metadata": {},
   "source": [
    "Choose the move with the least consequences"
   ]
  },
  {
   "cell_type": "code",
   "execution_count": null,
   "metadata": {},
   "outputs": [
    {
     "data": {
      "application/javascript": [
       "\n",
       "            setTimeout(function() {\n",
       "                var nbb_cell_id = 13;\n",
       "                var nbb_unformatted_code = \"# export\\nclass Sensitive:\\n    def __init__(self, prng=None):\\n        if prng is None:\\n            self.prng = np.random.RandomState()\\n        else:\\n            self.prng = prng\\n\\n    def __call__(self, E, Q, moves):\\n        return self.forward(E, Q, moves)\\n\\n    def forward(self, E, Q, moves):\\n        values = move_filter(Q, moves)\\n        best = np.argmin(values)\\n\\n        return moves[best]\";\n",
       "                var nbb_formatted_code = \"# export\\nclass Sensitive:\\n    def __init__(self, prng=None):\\n        if prng is None:\\n            self.prng = np.random.RandomState()\\n        else:\\n            self.prng = prng\\n\\n    def __call__(self, E, Q, moves):\\n        return self.forward(E, Q, moves)\\n\\n    def forward(self, E, Q, moves):\\n        values = move_filter(Q, moves)\\n        best = np.argmin(values)\\n\\n        return moves[best]\";\n",
       "                var nbb_cells = Jupyter.notebook.get_cells();\n",
       "                for (var i = 0; i < nbb_cells.length; ++i) {\n",
       "                    if (nbb_cells[i].input_prompt_number == nbb_cell_id) {\n",
       "                        if (nbb_cells[i].get_text() == nbb_unformatted_code) {\n",
       "                             nbb_cells[i].set_text(nbb_formatted_code);\n",
       "                        }\n",
       "                        break;\n",
       "                    }\n",
       "                }\n",
       "            }, 500);\n",
       "            "
      ],
      "text/plain": [
       "<IPython.core.display.Javascript object>"
      ]
     },
     "metadata": {},
     "output_type": "display_data"
    }
   ],
   "source": [
    "# export\n",
    "class Sensitive:\n",
    "    def __init__(self, prng=None):\n",
    "        if prng is None:\n",
    "            self.prng = np.random.RandomState()\n",
    "        else:\n",
    "            self.prng = prng\n",
    "\n",
    "    def __call__(self, E, Q, moves):\n",
    "        return self.forward(E, Q, moves)\n",
    "\n",
    "    def forward(self, E, Q, moves):\n",
    "        values = move_filter(Q, moves)\n",
    "        best = np.argmin(values)\n",
    "\n",
    "        return moves[best]"
   ]
  },
  {
   "cell_type": "code",
   "execution_count": null,
   "metadata": {},
   "outputs": [
    {
     "data": {
      "text/plain": [
       "([(0, 0, 1, 2, 0.10718640047331875, 0.05359320023665937),\n",
       "  (0, 1, 1, 0, 0.17811522513892583, 0.08905761256946292),\n",
       "  (0, 2, 0, 0, 0.17713938518342645, 0.08856969259171323),\n",
       "  (0, 3, 0, 4, 0.088693676312465, 0.0443468381562325),\n",
       "  (0, 4, 6, 4, 0.07452944432936048, 0.03726472216468024),\n",
       "  (0, 5, 6, 5, 0.09231686903107517, 0.04615843451553758),\n",
       "  (0, 6, 6, 3, 0.1050172190535292, 0.0525086095267646),\n",
       "  (0, 7, 4, 3, 0.04456640658633405, 0.022283203293167023),\n",
       "  (0, 8, 3, 3, 0.06587609923838801, 0.032938049619194006),\n",
       "  (0, 9, 7, 3, 0.12478644114776796, 0.06239322057388398)],\n",
       " [array([[0., 0., 0., 0., 0., 0., 0., 0.],\n",
       "         [0., 0., 0., 0., 0., 1., 1., 0.],\n",
       "         [0., 0., 0., 0., 0., 1., 1., 0.],\n",
       "         [1., 1., 0., 0., 0., 1., 1., 0.],\n",
       "         [0., 1., 0., 0., 0., 1., 0., 0.],\n",
       "         [0., 1., 0., 0., 0., 1., 0., 0.],\n",
       "         [0., 1., 0., 0., 0., 0., 0., 0.],\n",
       "         [0., 0., 0., 0., 0., 0., 0., 0.]])])"
      ]
     },
     "execution_count": null,
     "metadata": {},
     "output_type": "execute_result"
    },
    {
     "data": {
      "application/javascript": [
       "\n",
       "            setTimeout(function() {\n",
       "                var nbb_cell_id = 26;\n",
       "                var nbb_unformatted_code = \"run(8, Sensitive(), num_episodes=1)\";\n",
       "                var nbb_formatted_code = \"run(8, Sensitive(), num_episodes=1)\";\n",
       "                var nbb_cells = Jupyter.notebook.get_cells();\n",
       "                for (var i = 0; i < nbb_cells.length; ++i) {\n",
       "                    if (nbb_cells[i].input_prompt_number == nbb_cell_id) {\n",
       "                        if (nbb_cells[i].get_text() == nbb_unformatted_code) {\n",
       "                             nbb_cells[i].set_text(nbb_formatted_code);\n",
       "                        }\n",
       "                        break;\n",
       "                    }\n",
       "                }\n",
       "            }, 500);\n",
       "            "
      ],
      "text/plain": [
       "<IPython.core.display.Javascript object>"
      ]
     },
     "metadata": {},
     "output_type": "display_data"
    }
   ],
   "source": [
    "run(8, Sensitive(), num_episodes=1)"
   ]
  },
  {
   "cell_type": "markdown",
   "metadata": {},
   "source": [
    "Try and choose the move that can lead to the least consequences over the whole best possible path"
   ]
  },
  {
   "cell_type": "code",
   "execution_count": null,
   "metadata": {},
   "outputs": [
    {
     "data": {
      "application/javascript": [
       "\n",
       "            setTimeout(function() {\n",
       "                var nbb_cell_id = 15;\n",
       "                var nbb_unformatted_code = \"# export\\nclass SensitiveMCTS:\\n    def __init__(self, prng=None):\\n        if prng is None:\\n            self.prng = np.random.RandomState()\\n        else:\\n            self.prng = prng\\n\\n    def __call__(self, E, Q, moves):\\n        return self.forward(E, Q, moves)\\n\\n    def forward(self, E, Q, moves):\\n        pass\\n        # TODO - do MCTS to find the best path overall\\n        # moves.\\n        return moves[i]\";\n",
       "                var nbb_formatted_code = \"# export\\nclass SensitiveMCTS:\\n    def __init__(self, prng=None):\\n        if prng is None:\\n            self.prng = np.random.RandomState()\\n        else:\\n            self.prng = prng\\n\\n    def __call__(self, E, Q, moves):\\n        return self.forward(E, Q, moves)\\n\\n    def forward(self, E, Q, moves):\\n        pass\\n        # TODO - do MCTS to find the best path overall\\n        # moves.\\n        return moves[i]\";\n",
       "                var nbb_cells = Jupyter.notebook.get_cells();\n",
       "                for (var i = 0; i < nbb_cells.length; ++i) {\n",
       "                    if (nbb_cells[i].input_prompt_number == nbb_cell_id) {\n",
       "                        if (nbb_cells[i].get_text() == nbb_unformatted_code) {\n",
       "                             nbb_cells[i].set_text(nbb_formatted_code);\n",
       "                        }\n",
       "                        break;\n",
       "                    }\n",
       "                }\n",
       "            }, 500);\n",
       "            "
      ],
      "text/plain": [
       "<IPython.core.display.Javascript object>"
      ]
     },
     "metadata": {},
     "output_type": "display_data"
    }
   ],
   "source": [
    "# export\n",
    "class SensitiveMCTS:\n",
    "    def __init__(self, prng=None):\n",
    "        if prng is None:\n",
    "            self.prng = np.random.RandomState()\n",
    "        else:\n",
    "            self.prng = prng\n",
    "\n",
    "    def __call__(self, E, Q, moves):\n",
    "        return self.forward(E, Q, moves)\n",
    "\n",
    "    def forward(self, E, Q, moves):\n",
    "        pass\n",
    "        # TODO - do MCTS to find the best path overall\n",
    "        # moves.\n",
    "        return moves[i]"
   ]
  },
  {
   "cell_type": "markdown",
   "metadata": {},
   "source": [
    "# evil players"
   ]
  },
  {
   "cell_type": "markdown",
   "metadata": {},
   "source": [
    "Choose the move with the worst consequences"
   ]
  },
  {
   "cell_type": "code",
   "execution_count": null,
   "metadata": {},
   "outputs": [
    {
     "data": {
      "application/javascript": [
       "\n",
       "            setTimeout(function() {\n",
       "                var nbb_cell_id = 16;\n",
       "                var nbb_unformatted_code = \"# export\\nclass Evil:\\n    def __init__(self, prng=None):\\n        if prng is None:\\n            self.prng = np.random.RandomState()\\n        else:\\n            self.prng = prng\\n\\n    def __call__(self, E, Q, moves):\\n        return self.forward(E, Q, moves)\\n\\n    def forward(self, E, Q, moves):\\n        values = move_filter(Q, moves)\\n        worst = np.argmax(values)\\n\\n        return moves[worst]\";\n",
       "                var nbb_formatted_code = \"# export\\nclass Evil:\\n    def __init__(self, prng=None):\\n        if prng is None:\\n            self.prng = np.random.RandomState()\\n        else:\\n            self.prng = prng\\n\\n    def __call__(self, E, Q, moves):\\n        return self.forward(E, Q, moves)\\n\\n    def forward(self, E, Q, moves):\\n        values = move_filter(Q, moves)\\n        worst = np.argmax(values)\\n\\n        return moves[worst]\";\n",
       "                var nbb_cells = Jupyter.notebook.get_cells();\n",
       "                for (var i = 0; i < nbb_cells.length; ++i) {\n",
       "                    if (nbb_cells[i].input_prompt_number == nbb_cell_id) {\n",
       "                        if (nbb_cells[i].get_text() == nbb_unformatted_code) {\n",
       "                             nbb_cells[i].set_text(nbb_formatted_code);\n",
       "                        }\n",
       "                        break;\n",
       "                    }\n",
       "                }\n",
       "            }, 500);\n",
       "            "
      ],
      "text/plain": [
       "<IPython.core.display.Javascript object>"
      ]
     },
     "metadata": {},
     "output_type": "display_data"
    }
   ],
   "source": [
    "# export\n",
    "class Evil:\n",
    "    def __init__(self, prng=None):\n",
    "        if prng is None:\n",
    "            self.prng = np.random.RandomState()\n",
    "        else:\n",
    "            self.prng = prng\n",
    "\n",
    "    def __call__(self, E, Q, moves):\n",
    "        return self.forward(E, Q, moves)\n",
    "\n",
    "    def forward(self, E, Q, moves):\n",
    "        values = move_filter(Q, moves)\n",
    "        worst = np.argmax(values)\n",
    "\n",
    "        return moves[worst]"
   ]
  },
  {
   "cell_type": "code",
   "execution_count": null,
   "metadata": {},
   "outputs": [
    {
     "data": {
      "text/plain": [
       "([(0, 0, 4, 6, 0.44905156122482054, 0.22452578061241027),\n",
       "  (0, 1, 0, 6, 0.9933647854344662, 0.4966823927172331),\n",
       "  (0, 2, 7, 6, 0.3259852680566106, 0.1629926340283053),\n",
       "  (0, 3, 7, 1, 1.0, 0.5),\n",
       "  (0, 4, 7, 2, 0.5178716479222039, 0.25893582396110193),\n",
       "  (0, 5, 7, 3, 0.3176550000118889, 0.15882750000594445),\n",
       "  (0, 6, 6, 3, 0.25426476008001725, 0.12713238004000862),\n",
       "  (0, 7, 6, 0, 0.2309392644872198, 0.1154696322436099),\n",
       "  (0, 8, 4, 0, 0.3014834078060164, 0.1507417039030082),\n",
       "  (0, 9, 5, 0, 0.2591076576090879, 0.12955382880454394)],\n",
       " [array([[1., 1., 0., 0., 0., 0., 0., 0.],\n",
       "         [1., 0., 0., 0., 0., 0., 0., 0.],\n",
       "         [0., 0., 1., 1., 0., 0., 0., 0.],\n",
       "         [0., 0., 0., 1., 0., 0., 0., 0.],\n",
       "         [0., 0., 0., 1., 0., 0., 0., 0.],\n",
       "         [0., 0., 0., 0., 0., 0., 0., 0.],\n",
       "         [0., 0., 0., 0., 0., 0., 0., 1.],\n",
       "         [0., 0., 0., 0., 0., 0., 0., 1.]])])"
      ]
     },
     "execution_count": null,
     "metadata": {},
     "output_type": "execute_result"
    },
    {
     "data": {
      "application/javascript": [
       "\n",
       "            setTimeout(function() {\n",
       "                var nbb_cell_id = 27;\n",
       "                var nbb_unformatted_code = \"run(8, Evil(), num_episodes=1)\";\n",
       "                var nbb_formatted_code = \"run(8, Evil(), num_episodes=1)\";\n",
       "                var nbb_cells = Jupyter.notebook.get_cells();\n",
       "                for (var i = 0; i < nbb_cells.length; ++i) {\n",
       "                    if (nbb_cells[i].input_prompt_number == nbb_cell_id) {\n",
       "                        if (nbb_cells[i].get_text() == nbb_unformatted_code) {\n",
       "                             nbb_cells[i].set_text(nbb_formatted_code);\n",
       "                        }\n",
       "                        break;\n",
       "                    }\n",
       "                }\n",
       "            }, 500);\n",
       "            "
      ],
      "text/plain": [
       "<IPython.core.display.Javascript object>"
      ]
     },
     "metadata": {},
     "output_type": "display_data"
    }
   ],
   "source": [
    "run(8, Evil(), num_episodes=1)"
   ]
  },
  {
   "cell_type": "markdown",
   "metadata": {},
   "source": [
    "Try and choose the move that can lead to the worst consequences over the whole best possible path"
   ]
  },
  {
   "cell_type": "code",
   "execution_count": null,
   "metadata": {},
   "outputs": [
    {
     "data": {
      "application/javascript": [
       "\n",
       "            setTimeout(function() {\n",
       "                var nbb_cell_id = 18;\n",
       "                var nbb_unformatted_code = \"# export\\nclass EvilMCTS:\\n    def __init__(self, prng=None):\\n        if prng is None:\\n            self.prng = np.random.RandomState()\\n        else:\\n            self.prng = prng\\n\\n    def __call__(self, E, Q, moves):\\n        return self.forward(E, Q, moves)\\n\\n    def forward(self, E, Q, moves):\\n        # TODO\\n        pass\\n\\n        return moves[i]\";\n",
       "                var nbb_formatted_code = \"# export\\nclass EvilMCTS:\\n    def __init__(self, prng=None):\\n        if prng is None:\\n            self.prng = np.random.RandomState()\\n        else:\\n            self.prng = prng\\n\\n    def __call__(self, E, Q, moves):\\n        return self.forward(E, Q, moves)\\n\\n    def forward(self, E, Q, moves):\\n        # TODO\\n        pass\\n\\n        return moves[i]\";\n",
       "                var nbb_cells = Jupyter.notebook.get_cells();\n",
       "                for (var i = 0; i < nbb_cells.length; ++i) {\n",
       "                    if (nbb_cells[i].input_prompt_number == nbb_cell_id) {\n",
       "                        if (nbb_cells[i].get_text() == nbb_unformatted_code) {\n",
       "                             nbb_cells[i].set_text(nbb_formatted_code);\n",
       "                        }\n",
       "                        break;\n",
       "                    }\n",
       "                }\n",
       "            }, 500);\n",
       "            "
      ],
      "text/plain": [
       "<IPython.core.display.Javascript object>"
      ]
     },
     "metadata": {},
     "output_type": "display_data"
    }
   ],
   "source": [
    "# export\n",
    "class EvilMCTS:\n",
    "    def __init__(self, prng=None):\n",
    "        if prng is None:\n",
    "            self.prng = np.random.RandomState()\n",
    "        else:\n",
    "            self.prng = prng\n",
    "\n",
    "    def __call__(self, E, Q, moves):\n",
    "        return self.forward(E, Q, moves)\n",
    "\n",
    "    def forward(self, E, Q, moves):\n",
    "        # TODO\n",
    "        pass\n",
    "\n",
    "        return moves[i]"
   ]
  },
  {
   "cell_type": "markdown",
   "metadata": {},
   "source": [
    "# foraging players"
   ]
  },
  {
   "cell_type": "markdown",
   "metadata": {},
   "source": [
    "Choose the move with the best ratio of $\\frac{E}{Q}$"
   ]
  },
  {
   "cell_type": "code",
   "execution_count": null,
   "metadata": {},
   "outputs": [
    {
     "data": {
      "application/javascript": [
       "\n",
       "            setTimeout(function() {\n",
       "                var nbb_cell_id = 19;\n",
       "                var nbb_unformatted_code = \"# export\\nclass OptimalForage:\\n    def __init__(self, prng=None):\\n        if prng is None:\\n            self.prng = np.random.RandomState()\\n        else:\\n            self.prng = prng\\n\\n    def __call__(self, E, Q, moves):\\n        return self.forward(E, Q, moves)\\n\\n    def forward(self, E, Q, moves):\\n        values = move_filter(E / Q, moves)\\n        best = np.argmax(values)\\n\\n        return moves[best]\";\n",
       "                var nbb_formatted_code = \"# export\\nclass OptimalForage:\\n    def __init__(self, prng=None):\\n        if prng is None:\\n            self.prng = np.random.RandomState()\\n        else:\\n            self.prng = prng\\n\\n    def __call__(self, E, Q, moves):\\n        return self.forward(E, Q, moves)\\n\\n    def forward(self, E, Q, moves):\\n        values = move_filter(E / Q, moves)\\n        best = np.argmax(values)\\n\\n        return moves[best]\";\n",
       "                var nbb_cells = Jupyter.notebook.get_cells();\n",
       "                for (var i = 0; i < nbb_cells.length; ++i) {\n",
       "                    if (nbb_cells[i].input_prompt_number == nbb_cell_id) {\n",
       "                        if (nbb_cells[i].get_text() == nbb_unformatted_code) {\n",
       "                             nbb_cells[i].set_text(nbb_formatted_code);\n",
       "                        }\n",
       "                        break;\n",
       "                    }\n",
       "                }\n",
       "            }, 500);\n",
       "            "
      ],
      "text/plain": [
       "<IPython.core.display.Javascript object>"
      ]
     },
     "metadata": {},
     "output_type": "display_data"
    }
   ],
   "source": [
    "# export\n",
    "class OptimalForage:\n",
    "    def __init__(self, prng=None):\n",
    "        if prng is None:\n",
    "            self.prng = np.random.RandomState()\n",
    "        else:\n",
    "            self.prng = prng\n",
    "\n",
    "    def __call__(self, E, Q, moves):\n",
    "        return self.forward(E, Q, moves)\n",
    "\n",
    "    def forward(self, E, Q, moves):\n",
    "        values = move_filter(E / Q, moves)\n",
    "        best = np.argmax(values)\n",
    "\n",
    "        return moves[best]"
   ]
  },
  {
   "cell_type": "code",
   "execution_count": null,
   "metadata": {},
   "outputs": [
    {
     "data": {
      "text/plain": [
       "([(0, 0, 1, 7, 0.3629320770366112, 0.1814660385183056),\n",
       "  (0, 1, 2, 7, 0.4416805632779256, 0.2208402816389628),\n",
       "  (0, 2, 3, 7, 0.26052086616452863, 0.13026043308226432),\n",
       "  (0, 3, 4, 7, 0.707177531781293, 0.3535887658906465),\n",
       "  (0, 4, 5, 7, 0.22237879074425165, 0.11118939537212583),\n",
       "  (0, 5, 0, 7, 0.11036764660128862, 0.05518382330064431),\n",
       "  (0, 6, 0, 6, 0.09214896656086231, 0.04607448328043116),\n",
       "  (0, 7, 1, 6, 0.1021861757643963, 0.05109308788219815),\n",
       "  (0, 8, 2, 6, 0.13715060104760785, 0.06857530052380392),\n",
       "  (0, 9, 3, 6, 0.42248159046973677, 0.21124079523486838),\n",
       "  (1, 0, 2, 5, 0.5495984570398893, 0.27479922851994465),\n",
       "  (1, 1, 1, 5, 0.3075164394182902, 0.1537582197091451),\n",
       "  (1, 2, 0, 5, 0.3626040351205334, 0.1813020175602667),\n",
       "  (1, 3, 0, 6, 0.31703387749392364, 0.15851693874696182),\n",
       "  (1, 4, 1, 6, 0.3363225409182722, 0.1681612704591361),\n",
       "  (1, 5, 1, 7, 0.23021340967365844, 0.11510670483682922),\n",
       "  (1, 6, 2, 7, 0.44691594284625824, 0.22345797142312912),\n",
       "  (1, 7, 3, 7, 0.20249413523210455, 0.10124706761605227),\n",
       "  (1, 8, 4, 7, 0.5985992500458085, 0.29929962502290425),\n",
       "  (1, 9, 5, 7, 0.07253078675966028, 0.03626539337983014)],\n",
       " [array([[0., 0., 0., 0., 0., 0., 0., 0.],\n",
       "         [0., 0., 0., 0., 0., 1., 0., 0.],\n",
       "         [0., 0., 0., 0., 0., 1., 0., 0.],\n",
       "         [0., 0., 0., 0., 0., 1., 0., 0.],\n",
       "         [0., 0., 0., 0., 0., 1., 0., 0.],\n",
       "         [1., 0., 0., 0., 0., 0., 0., 0.],\n",
       "         [1., 1., 0., 0., 0., 0., 0., 1.],\n",
       "         [0., 0., 0., 1., 1., 0., 0., 1.]]),\n",
       "  array([[0., 0., 0., 0., 0., 0., 0., 0.],\n",
       "         [0., 0., 1., 0., 0., 0., 0., 0.],\n",
       "         [0., 0., 1., 0., 0., 0., 1., 0.],\n",
       "         [1., 1., 1., 0., 0., 1., 1., 0.],\n",
       "         [1., 1., 1., 0., 0., 0., 0., 0.],\n",
       "         [0., 1., 1., 0., 0., 0., 0., 0.],\n",
       "         [0., 0., 1., 0., 0., 0., 0., 0.],\n",
       "         [0., 0., 1., 0., 0., 0., 0., 0.]])])"
      ]
     },
     "execution_count": null,
     "metadata": {},
     "output_type": "execute_result"
    },
    {
     "data": {
      "application/javascript": [
       "\n",
       "            setTimeout(function() {\n",
       "                var nbb_cell_id = 20;\n",
       "                var nbb_unformatted_code = \"run(8, OptimalForage(), num_episodes=2)\";\n",
       "                var nbb_formatted_code = \"run(8, OptimalForage(), num_episodes=2)\";\n",
       "                var nbb_cells = Jupyter.notebook.get_cells();\n",
       "                for (var i = 0; i < nbb_cells.length; ++i) {\n",
       "                    if (nbb_cells[i].input_prompt_number == nbb_cell_id) {\n",
       "                        if (nbb_cells[i].get_text() == nbb_unformatted_code) {\n",
       "                             nbb_cells[i].set_text(nbb_formatted_code);\n",
       "                        }\n",
       "                        break;\n",
       "                    }\n",
       "                }\n",
       "            }, 500);\n",
       "            "
      ],
      "text/plain": [
       "<IPython.core.display.Javascript object>"
      ]
     },
     "metadata": {},
     "output_type": "display_data"
    }
   ],
   "source": [
    "run(8, OptimalForage(), num_episodes=2)"
   ]
  },
  {
   "cell_type": "markdown",
   "metadata": {},
   "source": [
    "Try and choose the move that can lead to the best ratio of $\\frac{E}{Q}$ over the whole best possible path"
   ]
  },
  {
   "cell_type": "code",
   "execution_count": null,
   "metadata": {},
   "outputs": [
    {
     "data": {
      "application/javascript": [
       "\n",
       "            setTimeout(function() {\n",
       "                var nbb_cell_id = 21;\n",
       "                var nbb_unformatted_code = \"# export\\nclass OptimalForageMCTS:\\n    def __init__(self, prng=None):\\n        if prng is None:\\n            self.prng = np.random.RandomState()\\n        else:\\n            self.prng = prng\\n\\n    def __call__(self, E, Q, moves):\\n        return self.forward(E, Q, moves)\\n\\n    def forward(self, E, Q, moves):\\n        pass\\n\\n        return moves[best]\";\n",
       "                var nbb_formatted_code = \"# export\\nclass OptimalForageMCTS:\\n    def __init__(self, prng=None):\\n        if prng is None:\\n            self.prng = np.random.RandomState()\\n        else:\\n            self.prng = prng\\n\\n    def __call__(self, E, Q, moves):\\n        return self.forward(E, Q, moves)\\n\\n    def forward(self, E, Q, moves):\\n        pass\\n\\n        return moves[best]\";\n",
       "                var nbb_cells = Jupyter.notebook.get_cells();\n",
       "                for (var i = 0; i < nbb_cells.length; ++i) {\n",
       "                    if (nbb_cells[i].input_prompt_number == nbb_cell_id) {\n",
       "                        if (nbb_cells[i].get_text() == nbb_unformatted_code) {\n",
       "                             nbb_cells[i].set_text(nbb_formatted_code);\n",
       "                        }\n",
       "                        break;\n",
       "                    }\n",
       "                }\n",
       "            }, 500);\n",
       "            "
      ],
      "text/plain": [
       "<IPython.core.display.Javascript object>"
      ]
     },
     "metadata": {},
     "output_type": "display_data"
    }
   ],
   "source": [
    "# export\n",
    "class OptimalForageMCTS:\n",
    "    def __init__(self, prng=None):\n",
    "        if prng is None:\n",
    "            self.prng = np.random.RandomState()\n",
    "        else:\n",
    "            self.prng = prng\n",
    "\n",
    "    def __call__(self, E, Q, moves):\n",
    "        return self.forward(E, Q, moves)\n",
    "\n",
    "    def forward(self, E, Q, moves):\n",
    "        pass\n",
    "\n",
    "        return moves[best]"
   ]
  }
 ],
 "metadata": {
  "kernelspec": {
   "display_name": "Python 3",
   "language": "python",
   "name": "python3"
  }
 },
 "nbformat": 4,
 "nbformat_minor": 2
}

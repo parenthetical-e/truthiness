{
 "cells": [
  {
   "cell_type": "code",
   "execution_count": null,
   "metadata": {},
   "outputs": [],
   "source": [
    "# default_exp plots"
   ]
  },
  {
   "cell_type": "markdown",
   "metadata": {},
   "source": [
    "# plots\n",
    "> Visualize boards and game play"
   ]
  },
  {
   "cell_type": "code",
   "execution_count": null,
   "metadata": {},
   "outputs": [],
   "source": [
    "# export\n",
    "import numpy as np\n",
    "import matplotlib.pyplot as plt\n",
    "import seaborn as sns"
   ]
  },
  {
   "cell_type": "markdown",
   "metadata": {},
   "source": [
    "# details\n",
    "This is haphazard collection of plotting functions"
   ]
  },
  {
   "cell_type": "code",
   "execution_count": null,
   "metadata": {},
   "outputs": [],
   "source": [
    "# export\n",
    "def plot_maze(maze, plot=False, path=None, height=2, width=3, name='board.png'):\n",
    "    \"\"\"Plot the maze (white is the maze bounderies)\"\"\"\n",
    "\n",
    "    # Plot!\n",
    "    fig, ax = plt.subplots(figsize=(width, height))  # Sample figsize in inches\n",
    "    ax = sns.heatmap(maze,\n",
    "                     linewidths=3,\n",
    "                     vmin=0,\n",
    "                     vmax=1,\n",
    "                     cbar=False,\n",
    "                     cmap=[\"black\", \"white\"],\n",
    "                     ax=ax)\n",
    "\n",
    "    # Save an image?\n",
    "    if path is not None:\n",
    "        plt.savefig(os.path.join(path, name))\n",
    "\n",
    "    # Show?\n",
    "    if plot:\n",
    "        plt.pause(0.01)\n",
    "    plt.close('all')"
   ]
  },
  {
   "cell_type": "code",
   "execution_count": null,
   "metadata": {},
   "outputs": [],
   "source": [
    "# export\n",
    "def plot_boards(E, Q, plot=False, path=None, height=2, width=3, name='board.png', **heatmap_kwargs):\n",
    "    \"\"\"Plot the boards\"\"\"\n",
    "    \n",
    "    # Fix colors (overide kwargs)\n",
    "    cmap = sns.diverging_palette(300, 145, s=60, as_cmap=True)\n",
    "    \n",
    "    # Plot!\n",
    "    fig, ax = plt.subplots(ncols=2, figsize=(width, height))  # Sample figsize in inches\n",
    "    ax[0] = sns.heatmap(E,\n",
    "                     linewidths=3,\n",
    "                     center=0,\n",
    "                     ax=ax[0],\n",
    "                     cmap=cmap,\n",
    "                     cbar=False,\n",
    "                     **heatmap_kwargs\n",
    "                     )\n",
    "    ax[1] = sns.heatmap(-Q,\n",
    "                     linewidths=3,\n",
    "                     center=0,\n",
    "                     ax=ax[1],\n",
    "                     cmap=cmap,\n",
    "                     cbar=False,\n",
    "                     **heatmap_kwargs\n",
    "                     )\n",
    "    \n",
    "    ax[0].title.set_text('$E$')\n",
    "    ax[1].title.set_text('$Q$')\n",
    "    \n",
    "    # Save an image?\n",
    "    if path is not None:\n",
    "        plt.savefig(os.path.join(path, name))\n",
    "\n",
    "    # Show?\n",
    "    if plot:\n",
    "        plt.pause(0.01)\n",
    "    plt.close('all')"
   ]
  },
  {
   "cell_type": "code",
   "execution_count": null,
   "metadata": {},
   "outputs": [],
   "source": [
    "# export\n",
    "def plot_historgrams(E, Q, plot=False, path=None, height=2, width=3, name='board.png', **hist_kwargs):\n",
    "    \"\"\"Plot a histograms of a board's values.\"\"\"\n",
    "    \n",
    "    # Set colors to match board\n",
    "    green = [0.29233637, 0.51074656, 0.39061738, 1.0]\n",
    "    violet = [0.66131564, 0.3363342 , 0.71648282, 1.0]\n",
    "    \n",
    "    # Plot!\n",
    "    fig, ax = plt.subplots(figsize=(width, height))  # Sample figsize in inches\n",
    "    plt.hist(E.flatten(), label=\"$E$\", color=green, **hist_kwargs)\n",
    "    plt.hist(Q.flatten(), label=\"$Q$\", color=violet, **hist_kwargs)\n",
    "    plt.legend()\n",
    "    \n",
    "    # Save an image?\n",
    "    if path is not None:\n",
    "        plt.savefig(os.path.join(path, name))\n",
    "\n",
    "    # Show?\n",
    "    if plot:\n",
    "        plt.pause(0.01)\n",
    "    plt.close('all')"
   ]
  },
  {
   "cell_type": "code",
   "execution_count": null,
   "metadata": {},
   "outputs": [],
   "source": [
    "# export\n",
    "def plot_available(x, y, maze, available, plot=False, path=None, height=2, width=3, name='board.png'):\n",
    "    \"\"\"Plot available moves.\n",
    "    \n",
    "    Params\n",
    "    ------\n",
    "    n : int\n",
    "        Board size\n",
    "    x : int\n",
    "        Start x position\n",
    "    y : int\n",
    "        Start x position\n",
    "    available : list(tuple)\n",
    "        List of available moves as (x, y)\n",
    "    ...\n",
    "    \"\"\"\n",
    "\n",
    "    # Start \n",
    "    n = maze.shape[0]\n",
    "    board = np.zeros((n, n))\n",
    "    board[x, y] = 1\n",
    "    \n",
    "    # Moves\n",
    "    for (i, j) in available:\n",
    "        board[i, j] = 2\n",
    "    \n",
    "    # Plot!\n",
    "    fig, ax = plt.subplots(figsize=(width, height))  # Sample figsize in inches\n",
    "    ax = sns.heatmap(board,\n",
    "                     linewidths=3,\n",
    "                     cbar=False,\n",
    "                     cmap=[\"black\", \"yellow\", \"red\"],\n",
    "                     ax=ax, \n",
    "                     mask=maze)\n",
    "\n",
    "    # Save an image?\n",
    "    if path is not None:\n",
    "        plt.savefig(os.path.join(path, name))\n",
    "\n",
    "    # Show?\n",
    "    if plot:\n",
    "        plt.pause(0.01)\n",
    "    plt.close('all')"
   ]
  },
  {
   "cell_type": "code",
   "execution_count": null,
   "metadata": {},
   "outputs": [],
   "source": []
  }
 ],
 "metadata": {
  "kernelspec": {
   "display_name": "Python 3",
   "language": "python",
   "name": "python3"
  }
 },
 "nbformat": 4,
 "nbformat_minor": 2
}

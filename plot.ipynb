{
 "cells": [
  {
   "cell_type": "code",
   "execution_count": null,
   "metadata": {},
   "outputs": [],
   "source": [
    "# default_exp plot"
   ]
  },
  {
   "cell_type": "markdown",
   "metadata": {},
   "source": [
    "# plot\n",
    "> Visualize boards and game play"
   ]
  },
  {
   "cell_type": "code",
   "execution_count": null,
   "metadata": {},
   "outputs": [
    {
     "name": "stdout",
     "output_type": "stream",
     "text": [
      "The nb_black extension is already loaded. To reload it, use:\n",
      "  %reload_ext nb_black\n"
     ]
    },
    {
     "data": {
      "application/javascript": [
       "\n",
       "            setTimeout(function() {\n",
       "                var nbb_cell_id = 9;\n",
       "                var nbb_unformatted_code = \"%load_ext nb_black\\n%matplotlib inline\\n%config InlineBackend.figure_format='retina'\\n%config IPCompleter.greedy=True\";\n",
       "                var nbb_formatted_code = \"%load_ext nb_black\\n%matplotlib inline\\n%config InlineBackend.figure_format='retina'\\n%config IPCompleter.greedy=True\";\n",
       "                var nbb_cells = Jupyter.notebook.get_cells();\n",
       "                for (var i = 0; i < nbb_cells.length; ++i) {\n",
       "                    if (nbb_cells[i].input_prompt_number == nbb_cell_id) {\n",
       "                        if (nbb_cells[i].get_text() == nbb_unformatted_code) {\n",
       "                             nbb_cells[i].set_text(nbb_formatted_code);\n",
       "                        }\n",
       "                        break;\n",
       "                    }\n",
       "                }\n",
       "            }, 500);\n",
       "            "
      ],
      "text/plain": [
       "<IPython.core.display.Javascript object>"
      ]
     },
     "metadata": {},
     "output_type": "display_data"
    }
   ],
   "source": [
    "%load_ext nb_black\n",
    "%matplotlib inline\n",
    "%config InlineBackend.figure_format='retina'\n",
    "%config IPCompleter.greedy=True"
   ]
  },
  {
   "cell_type": "code",
   "execution_count": null,
   "metadata": {},
   "outputs": [
    {
     "data": {
      "application/javascript": [
       "\n",
       "            setTimeout(function() {\n",
       "                var nbb_cell_id = 2;\n",
       "                var nbb_unformatted_code = \"# export\\nimport numpy as np\\nimport matplotlib.pyplot as plt\\nimport seaborn as sns\";\n",
       "                var nbb_formatted_code = \"# export\\nimport numpy as np\\nimport matplotlib.pyplot as plt\\nimport seaborn as sns\";\n",
       "                var nbb_cells = Jupyter.notebook.get_cells();\n",
       "                for (var i = 0; i < nbb_cells.length; ++i) {\n",
       "                    if (nbb_cells[i].input_prompt_number == nbb_cell_id) {\n",
       "                        if (nbb_cells[i].get_text() == nbb_unformatted_code) {\n",
       "                             nbb_cells[i].set_text(nbb_formatted_code);\n",
       "                        }\n",
       "                        break;\n",
       "                    }\n",
       "                }\n",
       "            }, 500);\n",
       "            "
      ],
      "text/plain": [
       "<IPython.core.display.Javascript object>"
      ]
     },
     "metadata": {},
     "output_type": "display_data"
    }
   ],
   "source": [
    "# export\n",
    "import numpy as np\n",
    "import matplotlib.pyplot as plt\n",
    "import seaborn as sns"
   ]
  },
  {
   "cell_type": "markdown",
   "metadata": {},
   "source": [
    "# details\n",
    "This is haphazard collection of plotting functions"
   ]
  },
  {
   "cell_type": "code",
   "execution_count": null,
   "metadata": {},
   "outputs": [
    {
     "data": {
      "application/javascript": [
       "\n",
       "            setTimeout(function() {\n",
       "                var nbb_cell_id = 10;\n",
       "                var nbb_unformatted_code = \"# export\\ndef plot_maze(maze, plot=False, path=None, height=2, width=3, name=\\\"board.png\\\"):\\n    \\\"\\\"\\\"Plot the maze (white is the maze bounderies)\\\"\\\"\\\"\\n\\n    # Plot!\\n    fig, ax = plt.subplots(figsize=(width, height))  # Sample figsize in inches\\n    ax = sns.heatmap(\\n        maze, linewidths=3, vmin=0, vmax=1, cbar=False, cmap=[\\\"black\\\", \\\"white\\\"], ax=ax\\n    )\\n\\n    # Save an image?\\n    if path is not None:\\n        plt.savefig(os.path.join(path, name))\\n\\n    # Show?\\n    if plot:\\n        plt.pause(0.01)\\n    plt.close(\\\"all\\\")\";\n",
       "                var nbb_formatted_code = \"# export\\ndef plot_maze(maze, plot=False, path=None, height=2, width=3, name=\\\"board.png\\\"):\\n    \\\"\\\"\\\"Plot the maze (white is the maze bounderies)\\\"\\\"\\\"\\n\\n    # Plot!\\n    fig, ax = plt.subplots(figsize=(width, height))  # Sample figsize in inches\\n    ax = sns.heatmap(\\n        maze, linewidths=3, vmin=0, vmax=1, cbar=False, cmap=[\\\"black\\\", \\\"white\\\"], ax=ax\\n    )\\n\\n    # Save an image?\\n    if path is not None:\\n        plt.savefig(os.path.join(path, name))\\n\\n    # Show?\\n    if plot:\\n        plt.pause(0.01)\\n    plt.close(\\\"all\\\")\";\n",
       "                var nbb_cells = Jupyter.notebook.get_cells();\n",
       "                for (var i = 0; i < nbb_cells.length; ++i) {\n",
       "                    if (nbb_cells[i].input_prompt_number == nbb_cell_id) {\n",
       "                        if (nbb_cells[i].get_text() == nbb_unformatted_code) {\n",
       "                             nbb_cells[i].set_text(nbb_formatted_code);\n",
       "                        }\n",
       "                        break;\n",
       "                    }\n",
       "                }\n",
       "            }, 500);\n",
       "            "
      ],
      "text/plain": [
       "<IPython.core.display.Javascript object>"
      ]
     },
     "metadata": {},
     "output_type": "display_data"
    }
   ],
   "source": [
    "# export\n",
    "def plot_maze(maze, plot=False, path=None, height=2, width=3, name=\"board.png\"):\n",
    "    \"\"\"Plot the maze (white is the maze bounderies)\"\"\"\n",
    "\n",
    "    # Plot!\n",
    "    fig, ax = plt.subplots(figsize=(width, height))  # Sample figsize in inches\n",
    "    ax = sns.heatmap(\n",
    "        maze, linewidths=3, vmin=0, vmax=1, cbar=False, cmap=[\"black\", \"white\"], ax=ax\n",
    "    )\n",
    "\n",
    "    # Save an image?\n",
    "    if path is not None:\n",
    "        plt.savefig(os.path.join(path, name))\n",
    "\n",
    "    # Show?\n",
    "    if plot:\n",
    "        plt.pause(0.01)\n",
    "    plt.close(\"all\")"
   ]
  },
  {
   "cell_type": "code",
   "execution_count": null,
   "metadata": {},
   "outputs": [
    {
     "data": {
      "application/javascript": [
       "\n",
       "            setTimeout(function() {\n",
       "                var nbb_cell_id = 11;\n",
       "                var nbb_unformatted_code = \"# export\\ndef plot_boards(\\n    E, Q, plot=False, path=None, height=2, width=3, name=\\\"board.png\\\", **heatmap_kwargs\\n):\\n    \\\"\\\"\\\"Plot the boards\\\"\\\"\\\"\\n\\n    # Fix colors (overide kwargs)\\n    cmap = sns.diverging_palette(300, 145, s=60, as_cmap=True)\\n\\n    # Plot!\\n    fig, ax = plt.subplots(ncols=2, figsize=(width, height))  # Sample figsize in inches\\n    ax[0] = sns.heatmap(\\n        E, linewidths=3, center=0, ax=ax[0], cmap=cmap, cbar=False, **heatmap_kwargs\\n    )\\n    ax[1] = sns.heatmap(\\n        -Q, linewidths=3, center=0, ax=ax[1], cmap=cmap, cbar=False, **heatmap_kwargs\\n    )\\n\\n    ax[0].title.set_text(\\\"$E$\\\")\\n    ax[1].title.set_text(\\\"$Q$\\\")\\n\\n    # Save an image?\\n    if path is not None:\\n        plt.savefig(os.path.join(path, name))\\n\\n    # Show?\\n    if plot:\\n        plt.pause(0.01)\\n    plt.close(\\\"all\\\")\";\n",
       "                var nbb_formatted_code = \"# export\\ndef plot_boards(\\n    E, Q, plot=False, path=None, height=2, width=3, name=\\\"board.png\\\", **heatmap_kwargs\\n):\\n    \\\"\\\"\\\"Plot the boards\\\"\\\"\\\"\\n\\n    # Fix colors (overide kwargs)\\n    cmap = sns.diverging_palette(300, 145, s=60, as_cmap=True)\\n\\n    # Plot!\\n    fig, ax = plt.subplots(ncols=2, figsize=(width, height))  # Sample figsize in inches\\n    ax[0] = sns.heatmap(\\n        E, linewidths=3, center=0, ax=ax[0], cmap=cmap, cbar=False, **heatmap_kwargs\\n    )\\n    ax[1] = sns.heatmap(\\n        -Q, linewidths=3, center=0, ax=ax[1], cmap=cmap, cbar=False, **heatmap_kwargs\\n    )\\n\\n    ax[0].title.set_text(\\\"$E$\\\")\\n    ax[1].title.set_text(\\\"$Q$\\\")\\n\\n    # Save an image?\\n    if path is not None:\\n        plt.savefig(os.path.join(path, name))\\n\\n    # Show?\\n    if plot:\\n        plt.pause(0.01)\\n    plt.close(\\\"all\\\")\";\n",
       "                var nbb_cells = Jupyter.notebook.get_cells();\n",
       "                for (var i = 0; i < nbb_cells.length; ++i) {\n",
       "                    if (nbb_cells[i].input_prompt_number == nbb_cell_id) {\n",
       "                        if (nbb_cells[i].get_text() == nbb_unformatted_code) {\n",
       "                             nbb_cells[i].set_text(nbb_formatted_code);\n",
       "                        }\n",
       "                        break;\n",
       "                    }\n",
       "                }\n",
       "            }, 500);\n",
       "            "
      ],
      "text/plain": [
       "<IPython.core.display.Javascript object>"
      ]
     },
     "metadata": {},
     "output_type": "display_data"
    }
   ],
   "source": [
    "# export\n",
    "def plot_boards(\n",
    "    E, Q, plot=False, path=None, height=2, width=3, name=\"board.png\", **heatmap_kwargs\n",
    "):\n",
    "    \"\"\"Plot the boards\"\"\"\n",
    "\n",
    "    # Fix colors (overide kwargs)\n",
    "    cmap = sns.diverging_palette(300, 145, s=60, as_cmap=True)\n",
    "\n",
    "    # Plot!\n",
    "    fig, ax = plt.subplots(ncols=2, figsize=(width, height))  # Sample figsize in inches\n",
    "    ax[0] = sns.heatmap(\n",
    "        E, linewidths=3, center=0, ax=ax[0], cmap=cmap, cbar=False, **heatmap_kwargs\n",
    "    )\n",
    "    ax[1] = sns.heatmap(\n",
    "        -Q, linewidths=3, center=0, ax=ax[1], cmap=cmap, cbar=False, **heatmap_kwargs\n",
    "    )\n",
    "\n",
    "    ax[0].title.set_text(\"$E$\")\n",
    "    ax[1].title.set_text(\"$Q$\")\n",
    "\n",
    "    # Save an image?\n",
    "    if path is not None:\n",
    "        plt.savefig(os.path.join(path, name))\n",
    "\n",
    "    # Show?\n",
    "    if plot:\n",
    "        plt.pause(0.01)\n",
    "    plt.close(\"all\")"
   ]
  },
  {
   "cell_type": "code",
   "execution_count": null,
   "metadata": {},
   "outputs": [
    {
     "data": {
      "application/javascript": [
       "\n",
       "            setTimeout(function() {\n",
       "                var nbb_cell_id = 12;\n",
       "                var nbb_unformatted_code = \"# export\\ndef plot_histograms(\\n    E, Q, plot=False, path=None, height=2, width=3, name=\\\"board.png\\\", **hist_kwargs\\n):\\n    \\\"\\\"\\\"Plot a histograms of a board's values.\\\"\\\"\\\"\\n\\n    # Set colors to match board\\n    green = [0.29233637, 0.51074656, 0.39061738, 1.0]\\n    violet = [0.66131564, 0.3363342, 0.71648282, 1.0]\\n\\n    # Plot!\\n    fig, ax = plt.subplots(figsize=(width, height))  # Sample figsize in inches\\n    plt.hist(E.flatten(), label=\\\"$E$\\\", color=green, **hist_kwargs)\\n    plt.hist(Q.flatten(), label=\\\"$Q$\\\", color=violet, **hist_kwargs)\\n    plt.legend()\\n\\n    # Save an image?\\n    if path is not None:\\n        plt.savefig(os.path.join(path, name))\\n\\n    # Show?\\n    if plot:\\n        plt.pause(0.01)\\n    plt.close(\\\"all\\\")\";\n",
       "                var nbb_formatted_code = \"# export\\ndef plot_histograms(\\n    E, Q, plot=False, path=None, height=2, width=3, name=\\\"board.png\\\", **hist_kwargs\\n):\\n    \\\"\\\"\\\"Plot a histograms of a board's values.\\\"\\\"\\\"\\n\\n    # Set colors to match board\\n    green = [0.29233637, 0.51074656, 0.39061738, 1.0]\\n    violet = [0.66131564, 0.3363342, 0.71648282, 1.0]\\n\\n    # Plot!\\n    fig, ax = plt.subplots(figsize=(width, height))  # Sample figsize in inches\\n    plt.hist(E.flatten(), label=\\\"$E$\\\", color=green, **hist_kwargs)\\n    plt.hist(Q.flatten(), label=\\\"$Q$\\\", color=violet, **hist_kwargs)\\n    plt.legend()\\n\\n    # Save an image?\\n    if path is not None:\\n        plt.savefig(os.path.join(path, name))\\n\\n    # Show?\\n    if plot:\\n        plt.pause(0.01)\\n    plt.close(\\\"all\\\")\";\n",
       "                var nbb_cells = Jupyter.notebook.get_cells();\n",
       "                for (var i = 0; i < nbb_cells.length; ++i) {\n",
       "                    if (nbb_cells[i].input_prompt_number == nbb_cell_id) {\n",
       "                        if (nbb_cells[i].get_text() == nbb_unformatted_code) {\n",
       "                             nbb_cells[i].set_text(nbb_formatted_code);\n",
       "                        }\n",
       "                        break;\n",
       "                    }\n",
       "                }\n",
       "            }, 500);\n",
       "            "
      ],
      "text/plain": [
       "<IPython.core.display.Javascript object>"
      ]
     },
     "metadata": {},
     "output_type": "display_data"
    }
   ],
   "source": [
    "# export\n",
    "def plot_histograms(\n",
    "    E, Q, plot=False, path=None, height=2, width=3, name=\"board.png\", **hist_kwargs\n",
    "):\n",
    "    \"\"\"Plot a histograms of a board's values.\"\"\"\n",
    "\n",
    "    # Set colors to match board\n",
    "    green = [0.29233637, 0.51074656, 0.39061738, 1.0]\n",
    "    violet = [0.66131564, 0.3363342, 0.71648282, 1.0]\n",
    "\n",
    "    # Plot!\n",
    "    fig, ax = plt.subplots(figsize=(width, height))  # Sample figsize in inches\n",
    "    plt.hist(E.flatten(), label=\"$E$\", color=green, **hist_kwargs)\n",
    "    plt.hist(Q.flatten(), label=\"$Q$\", color=violet, **hist_kwargs)\n",
    "    plt.legend()\n",
    "\n",
    "    # Save an image?\n",
    "    if path is not None:\n",
    "        plt.savefig(os.path.join(path, name))\n",
    "\n",
    "    # Show?\n",
    "    if plot:\n",
    "        plt.pause(0.01)\n",
    "    plt.close(\"all\")"
   ]
  },
  {
   "cell_type": "code",
   "execution_count": null,
   "metadata": {},
   "outputs": [
    {
     "data": {
      "application/javascript": [
       "\n",
       "            setTimeout(function() {\n",
       "                var nbb_cell_id = 13;\n",
       "                var nbb_unformatted_code = \"# export\\ndef plot_available(\\n    x, y, maze, available, plot=False, path=None, height=2, width=3, name=\\\"board.png\\\"\\n):\\n    \\\"\\\"\\\"Plot available moves.\\n\\n    Params\\n    ------\\n    n : int\\n        Board size\\n    x : int\\n        Start x position\\n    y : int\\n        Start x position\\n    available : list(tuple)\\n        List of available moves as (x, y)\\n    ...\\n    \\\"\\\"\\\"\\n\\n    # Start\\n    n = maze.shape[0]\\n    board = np.zeros((n, n))\\n    board[x, y] = 1\\n\\n    # Moves\\n    for (i, j) in available:\\n        board[i, j] = 2\\n\\n    # Plot!\\n    fig, ax = plt.subplots(figsize=(width, height))  # Sample figsize in inches\\n    ax = sns.heatmap(\\n        board,\\n        linewidths=3,\\n        cbar=False,\\n        cmap=[\\\"black\\\", \\\"yellow\\\", \\\"red\\\"],\\n        ax=ax,\\n        mask=maze,\\n    )\\n\\n    # Save an image?\\n    if path is not None:\\n        plt.savefig(os.path.join(path, name))\\n\\n    # Show?\\n    if plot:\\n        plt.pause(0.01)\\n    plt.close(\\\"all\\\")\";\n",
       "                var nbb_formatted_code = \"# export\\ndef plot_available(\\n    x, y, maze, available, plot=False, path=None, height=2, width=3, name=\\\"board.png\\\"\\n):\\n    \\\"\\\"\\\"Plot available moves.\\n\\n    Params\\n    ------\\n    n : int\\n        Board size\\n    x : int\\n        Start x position\\n    y : int\\n        Start x position\\n    available : list(tuple)\\n        List of available moves as (x, y)\\n    ...\\n    \\\"\\\"\\\"\\n\\n    # Start\\n    n = maze.shape[0]\\n    board = np.zeros((n, n))\\n    board[x, y] = 1\\n\\n    # Moves\\n    for (i, j) in available:\\n        board[i, j] = 2\\n\\n    # Plot!\\n    fig, ax = plt.subplots(figsize=(width, height))  # Sample figsize in inches\\n    ax = sns.heatmap(\\n        board,\\n        linewidths=3,\\n        cbar=False,\\n        cmap=[\\\"black\\\", \\\"yellow\\\", \\\"red\\\"],\\n        ax=ax,\\n        mask=maze,\\n    )\\n\\n    # Save an image?\\n    if path is not None:\\n        plt.savefig(os.path.join(path, name))\\n\\n    # Show?\\n    if plot:\\n        plt.pause(0.01)\\n    plt.close(\\\"all\\\")\";\n",
       "                var nbb_cells = Jupyter.notebook.get_cells();\n",
       "                for (var i = 0; i < nbb_cells.length; ++i) {\n",
       "                    if (nbb_cells[i].input_prompt_number == nbb_cell_id) {\n",
       "                        if (nbb_cells[i].get_text() == nbb_unformatted_code) {\n",
       "                             nbb_cells[i].set_text(nbb_formatted_code);\n",
       "                        }\n",
       "                        break;\n",
       "                    }\n",
       "                }\n",
       "            }, 500);\n",
       "            "
      ],
      "text/plain": [
       "<IPython.core.display.Javascript object>"
      ]
     },
     "metadata": {},
     "output_type": "display_data"
    }
   ],
   "source": [
    "# export\n",
    "def plot_available(\n",
    "    x, y, maze, available, plot=False, path=None, height=2, width=3, name=\"board.png\"\n",
    "):\n",
    "    \"\"\"Plot available moves.\n",
    "\n",
    "    Params\n",
    "    ------\n",
    "    n : int\n",
    "        Board size\n",
    "    x : int\n",
    "        Start x position\n",
    "    y : int\n",
    "        Start x position\n",
    "    available : list(tuple)\n",
    "        List of available moves as (x, y)\n",
    "    ...\n",
    "    \"\"\"\n",
    "\n",
    "    # Start\n",
    "    n = maze.shape[0]\n",
    "    board = np.zeros((n, n))\n",
    "    board[x, y] = 1\n",
    "\n",
    "    # Moves\n",
    "    for (i, j) in available:\n",
    "        board[i, j] = 2\n",
    "\n",
    "    # Plot!\n",
    "    fig, ax = plt.subplots(figsize=(width, height))  # Sample figsize in inches\n",
    "    ax = sns.heatmap(\n",
    "        board,\n",
    "        linewidths=3,\n",
    "        cbar=False,\n",
    "        cmap=[\"black\", \"yellow\", \"red\"],\n",
    "        ax=ax,\n",
    "        mask=maze,\n",
    "    )\n",
    "\n",
    "    # Save an image?\n",
    "    if path is not None:\n",
    "        plt.savefig(os.path.join(path, name))\n",
    "\n",
    "    # Show?\n",
    "    if plot:\n",
    "        plt.pause(0.01)\n",
    "    plt.close(\"all\")"
   ]
  },
  {
   "cell_type": "code",
   "execution_count": null,
   "metadata": {},
   "outputs": [],
   "source": []
  }
 ],
 "metadata": {
  "kernelspec": {
   "display_name": "Python 3",
   "language": "python",
   "name": "python3"
  }
 },
 "nbformat": 4,
 "nbformat_minor": 2
}

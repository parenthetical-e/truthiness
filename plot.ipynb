{
 "cells": [
  {
   "cell_type": "code",
   "execution_count": null,
   "metadata": {},
   "outputs": [],
   "source": [
    "# default_exp plot"
   ]
  },
  {
   "cell_type": "markdown",
   "metadata": {},
   "source": [
    "# plot\n",
    "> Visualize boards and game play"
   ]
  },
  {
   "cell_type": "code",
   "execution_count": null,
   "metadata": {},
   "outputs": [
    {
     "data": {
      "application/javascript": [
       "\n",
       "            setTimeout(function() {\n",
       "                var nbb_cell_id = 1;\n",
       "                var nbb_unformatted_code = \"# hide\\n%load_ext nb_black\\n%matplotlib inline\\n%config InlineBackend.figure_format='retina'\\n%config IPCompleter.greedy=True\";\n",
       "                var nbb_formatted_code = \"# hide\\n%load_ext nb_black\\n%matplotlib inline\\n%config InlineBackend.figure_format='retina'\\n%config IPCompleter.greedy=True\";\n",
       "                var nbb_cells = Jupyter.notebook.get_cells();\n",
       "                for (var i = 0; i < nbb_cells.length; ++i) {\n",
       "                    if (nbb_cells[i].input_prompt_number == nbb_cell_id) {\n",
       "                        if (nbb_cells[i].get_text() == nbb_unformatted_code) {\n",
       "                             nbb_cells[i].set_text(nbb_formatted_code);\n",
       "                        }\n",
       "                        break;\n",
       "                    }\n",
       "                }\n",
       "            }, 500);\n",
       "            "
      ],
      "text/plain": [
       "<IPython.core.display.Javascript object>"
      ]
     },
     "metadata": {},
     "output_type": "display_data"
    }
   ],
   "source": [
    "# hide\n",
    "%load_ext nb_black\n",
    "%matplotlib inline\n",
    "%config InlineBackend.figure_format='retina'\n",
    "%config IPCompleter.greedy=True"
   ]
  },
  {
   "cell_type": "code",
   "execution_count": null,
   "metadata": {},
   "outputs": [
    {
     "data": {
      "application/javascript": [
       "\n",
       "            setTimeout(function() {\n",
       "                var nbb_cell_id = 2;\n",
       "                var nbb_unformatted_code = \"# export\\nimport numpy as np\\nimport matplotlib.pyplot as plt\\nimport seaborn as sns\\n\\nplt.rcParams[\\\"axes.facecolor\\\"] = \\\"white\\\"\\nplt.rcParams[\\\"figure.facecolor\\\"] = \\\"white\\\"\";\n",
       "                var nbb_formatted_code = \"# export\\nimport numpy as np\\nimport matplotlib.pyplot as plt\\nimport seaborn as sns\\n\\nplt.rcParams[\\\"axes.facecolor\\\"] = \\\"white\\\"\\nplt.rcParams[\\\"figure.facecolor\\\"] = \\\"white\\\"\";\n",
       "                var nbb_cells = Jupyter.notebook.get_cells();\n",
       "                for (var i = 0; i < nbb_cells.length; ++i) {\n",
       "                    if (nbb_cells[i].input_prompt_number == nbb_cell_id) {\n",
       "                        if (nbb_cells[i].get_text() == nbb_unformatted_code) {\n",
       "                             nbb_cells[i].set_text(nbb_formatted_code);\n",
       "                        }\n",
       "                        break;\n",
       "                    }\n",
       "                }\n",
       "            }, 500);\n",
       "            "
      ],
      "text/plain": [
       "<IPython.core.display.Javascript object>"
      ]
     },
     "metadata": {},
     "output_type": "display_data"
    }
   ],
   "source": [
    "# export\n",
    "import numpy as np\n",
    "import matplotlib.pyplot as plt\n",
    "import seaborn as sns\n",
    "\n",
    "plt.rcParams[\"axes.facecolor\"] = \"white\"\n",
    "plt.rcParams[\"figure.facecolor\"] = \"white\""
   ]
  },
  {
   "cell_type": "markdown",
   "metadata": {},
   "source": [
    "# details\n",
    "This is haphazard collection of plotting functions"
   ]
  },
  {
   "cell_type": "code",
   "execution_count": null,
   "metadata": {},
   "outputs": [
    {
     "data": {
      "application/javascript": [
       "\n",
       "            setTimeout(function() {\n",
       "                var nbb_cell_id = 32;\n",
       "                var nbb_unformatted_code = \"# export\\ndef _shift(move):\\n    \\\"\\\"\\\"Shift the move so it plots nice as an arrow\\\"\\\"\\\"\\n    return (move[0] + 0.5, move[1] + 0.5)\";\n",
       "                var nbb_formatted_code = \"# export\\ndef _shift(move):\\n    \\\"\\\"\\\"Shift the move so it plots nice as an arrow\\\"\\\"\\\"\\n    return (move[0] + 0.5, move[1] + 0.5)\";\n",
       "                var nbb_cells = Jupyter.notebook.get_cells();\n",
       "                for (var i = 0; i < nbb_cells.length; ++i) {\n",
       "                    if (nbb_cells[i].input_prompt_number == nbb_cell_id) {\n",
       "                        if (nbb_cells[i].get_text() == nbb_unformatted_code) {\n",
       "                             nbb_cells[i].set_text(nbb_formatted_code);\n",
       "                        }\n",
       "                        break;\n",
       "                    }\n",
       "                }\n",
       "            }, 500);\n",
       "            "
      ],
      "text/plain": [
       "<IPython.core.display.Javascript object>"
      ]
     },
     "metadata": {},
     "output_type": "display_data"
    }
   ],
   "source": [
    "# export\n",
    "def _shift(move):\n",
    "    \"\"\"Shift the move so it plots nice as an arrow\"\"\"\n",
    "    return (move[0] + 0.5, move[1] + 0.5)"
   ]
  },
  {
   "cell_type": "code",
   "execution_count": null,
   "metadata": {},
   "outputs": [
    {
     "data": {
      "application/javascript": [
       "\n",
       "            setTimeout(function() {\n",
       "                var nbb_cell_id = 29;\n",
       "                var nbb_unformatted_code = \"# export\\ndef plot_maze(\\n    maze, moves=None, plot=False, path=None, height=2, width=3, name=\\\"board.png\\\"\\n):\\n    \\\"\\\"\\\"Plot the maze (white is the maze bounderies)\\\"\\\"\\\"\\n\\n    # Plot!\\n    fig, ax = plt.subplots(figsize=(width, height))  # Sample figsize in inches\\n    ax = sns.heatmap(\\n        maze, linewidths=3, vmin=0, vmax=1, cbar=False, square=True, cmap=[\\\"grey\\\", \\\"white\\\"], ax=ax\\n    )\\n\\n    # Plot the moves?\\n    if moves is not None:\\n        last = moves[0]\\n        for move in moves[1:]:\\n            ax.annotate(\\n                \\\"\\\",\\n                xy=_shift(move),\\n                xytext=_shift(last),\\n                arrowprops=dict(width=1, headwidth=10, color=\\\"black\\\"),\\n            )\\n            last = move\\n\\n    # Save an image?\\n    if path is not None:\\n        plt.savefig(os.path.join(path, name))\\n\\n    # Show?\\n    if plot:\\n        plt.pause(0.01)\\n    plt.close(\\\"all\\\")\";\n",
       "                var nbb_formatted_code = \"# export\\ndef plot_maze(\\n    maze, moves=None, plot=False, path=None, height=2, width=3, name=\\\"board.png\\\"\\n):\\n    \\\"\\\"\\\"Plot the maze (white is the maze bounderies)\\\"\\\"\\\"\\n\\n    # Plot!\\n    fig, ax = plt.subplots(figsize=(width, height))  # Sample figsize in inches\\n    ax = sns.heatmap(\\n        maze,\\n        linewidths=3,\\n        vmin=0,\\n        vmax=1,\\n        cbar=False,\\n        square=True,\\n        cmap=[\\\"grey\\\", \\\"white\\\"],\\n        ax=ax,\\n    )\\n\\n    # Plot the moves?\\n    if moves is not None:\\n        last = moves[0]\\n        for move in moves[1:]:\\n            ax.annotate(\\n                \\\"\\\",\\n                xy=_shift(move),\\n                xytext=_shift(last),\\n                arrowprops=dict(width=1, headwidth=10, color=\\\"black\\\"),\\n            )\\n            last = move\\n\\n    # Save an image?\\n    if path is not None:\\n        plt.savefig(os.path.join(path, name))\\n\\n    # Show?\\n    if plot:\\n        plt.pause(0.01)\\n    plt.close(\\\"all\\\")\";\n",
       "                var nbb_cells = Jupyter.notebook.get_cells();\n",
       "                for (var i = 0; i < nbb_cells.length; ++i) {\n",
       "                    if (nbb_cells[i].input_prompt_number == nbb_cell_id) {\n",
       "                        if (nbb_cells[i].get_text() == nbb_unformatted_code) {\n",
       "                             nbb_cells[i].set_text(nbb_formatted_code);\n",
       "                        }\n",
       "                        break;\n",
       "                    }\n",
       "                }\n",
       "            }, 500);\n",
       "            "
      ],
      "text/plain": [
       "<IPython.core.display.Javascript object>"
      ]
     },
     "metadata": {},
     "output_type": "display_data"
    }
   ],
   "source": [
    "# export\n",
    "def plot_maze(\n",
    "    maze, moves=None, plot=False, path=None, height=2, width=3, name=\"board.png\"\n",
    "):\n",
    "    \"\"\"Plot the maze (white is the maze bounderies)\"\"\"\n",
    "\n",
    "    # Plot!\n",
    "    fig, ax = plt.subplots(figsize=(width, height))  # Sample figsize in inches\n",
    "    ax = sns.heatmap(\n",
    "        maze,\n",
    "        linewidths=3,\n",
    "        vmin=0,\n",
    "        vmax=1,\n",
    "        cbar=False,\n",
    "        square=True,\n",
    "        cmap=[\"grey\", \"white\"],\n",
    "        ax=ax,\n",
    "    )\n",
    "\n",
    "    # Plot the moves?\n",
    "    if moves is not None:\n",
    "        last = moves[0]\n",
    "        for move in moves[1:]:\n",
    "            ax.annotate(\n",
    "                \"\",\n",
    "                xy=_shift(move),\n",
    "                xytext=_shift(last),\n",
    "                arrowprops=dict(width=1, headwidth=10, color=\"black\"),\n",
    "            )\n",
    "            last = move\n",
    "\n",
    "    # Save an image?\n",
    "    if path is not None:\n",
    "        plt.savefig(os.path.join(path, name))\n",
    "\n",
    "    # Show?\n",
    "    if plot:\n",
    "        plt.pause(0.01)\n",
    "    plt.close(\"all\")"
   ]
  },
  {
   "cell_type": "code",
   "execution_count": null,
   "metadata": {},
   "outputs": [
    {
     "data": {
      "image/png": "[encoded data removed]",
      "text/plain": [
       "<Figure size 360x360 with 1 Axes>"
      ]
     },
     "metadata": {
      "image/png": {
       "height": 302,
       "width": 302
      }
     },
     "output_type": "display_data"
    },
    {
     "data": {
      "application/javascript": [
       "\n",
       "            setTimeout(function() {\n",
       "                var nbb_cell_id = 30;\n",
       "                var nbb_unformatted_code = \"# hide\\nfrom truthiness.game import create_maze\\nfrom truthiness.player import extract_moves\\nfrom truthiness.player import Curious\\nfrom truthiness.player import Random\\nfrom truthiness.player import run\\n\\n(\\n    results,\\n    mazes,\\n    Es,\\n    Qs,\\n) = run(8, Random(), num_episodes=1, seed=10)\\nmoves = extract_moves(0, results)\\n\\nplot_maze(mazes[0], moves, plot=True, height=5, width=5)\";\n",
       "                var nbb_formatted_code = \"# hide\\nfrom truthiness.game import create_maze\\nfrom truthiness.player import extract_moves\\nfrom truthiness.player import Curious\\nfrom truthiness.player import Random\\nfrom truthiness.player import run\\n\\n(\\n    results,\\n    mazes,\\n    Es,\\n    Qs,\\n) = run(8, Random(), num_episodes=1, seed=10)\\nmoves = extract_moves(0, results)\\n\\nplot_maze(mazes[0], moves, plot=True, height=5, width=5)\";\n",
       "                var nbb_cells = Jupyter.notebook.get_cells();\n",
       "                for (var i = 0; i < nbb_cells.length; ++i) {\n",
       "                    if (nbb_cells[i].input_prompt_number == nbb_cell_id) {\n",
       "                        if (nbb_cells[i].get_text() == nbb_unformatted_code) {\n",
       "                             nbb_cells[i].set_text(nbb_formatted_code);\n",
       "                        }\n",
       "                        break;\n",
       "                    }\n",
       "                }\n",
       "            }, 500);\n",
       "            "
      ],
      "text/plain": [
       "<IPython.core.display.Javascript object>"
      ]
     },
     "metadata": {},
     "output_type": "display_data"
    }
   ],
   "source": [
    "# hide\n",
    "from truthiness.game import create_maze\n",
    "from truthiness.player import extract_moves\n",
    "from truthiness.player import Curious\n",
    "from truthiness.player import Random\n",
    "from truthiness.player import run\n",
    "\n",
    "(\n",
    "    results,\n",
    "    mazes,\n",
    "    Es,\n",
    "    Qs,\n",
    ") = run(8, Random(), num_episodes=1, seed=10)\n",
    "moves = extract_moves(0, results)\n",
    "\n",
    "plot_maze(mazes[0], moves, plot=True, height=5, width=5)"
   ]
  },
  {
   "cell_type": "code",
   "execution_count": null,
   "metadata": {},
   "outputs": [
    {
     "data": {
      "application/javascript": [
       "\n",
       "            setTimeout(function() {\n",
       "                var nbb_cell_id = 27;\n",
       "                var nbb_unformatted_code = \"# export\\ndef plot_boards(\\n    E,\\n    Q,\\n    moves=None,\\n    plot=False,\\n    path=None,\\n    height=2,\\n    width=3,\\n    name=\\\"board.png\\\",\\n    **heatmap_kwargs\\n):\\n    \\\"\\\"\\\"Plot the boards\\\"\\\"\\\"\\n\\n    # Fix colors (overide kwargs)\\n    cmap = sns.diverging_palette(300, 145, s=60, as_cmap=True)\\n\\n    # Plot!\\n    fig, ax = plt.subplots(ncols=2, figsize=(width, height))  # Sample figsize in inches\\n    ax[0] = sns.heatmap(\\n        E, linewidths=3, center=0, ax=ax[0], cmap=cmap, cbar=False, square=True, **heatmap_kwargs\\n    )\\n    ax[1] = sns.heatmap(\\n        -Q, linewidths=3, center=0, ax=ax[1], cmap=cmap, cbar=False, square=True, **heatmap_kwargs\\n    )\\n\\n    ax[0].title.set_text(\\\"Information ($E$)\\\")\\n    ax[1].title.set_text(\\\"Consequence ($Q$)\\\")\\n\\n    # Plot the moves?\\n    if moves is not None:\\n        # Es\\n        last = moves[0]\\n        for move in moves[1:]:\\n            ax[0].annotate(\\n                \\\"\\\",\\n                xy=_shift(move),\\n                xytext=_shift(last),\\n                arrowprops=dict(width=1, headwidth=10, color=\\\"black\\\"),\\n            )\\n            last = move\\n        # Qs\\n        last = moves[0]\\n        for move in moves[1:]:\\n            ax[1].annotate(\\n                \\\"\\\",\\n                xy=_shift(move),\\n                xytext=_shift(last),\\n                arrowprops=dict(width=1, headwidth=10, color=\\\"black\\\"),\\n            )\\n            last = move\\n\\n    # Save an image?\\n    if path is not None:\\n        plt.savefig(os.path.join(path, name))\\n\\n    # Show?\\n    if plot:\\n        plt.pause(0.01)\\n    plt.close(\\\"all\\\")\";\n",
       "                var nbb_formatted_code = \"# export\\ndef plot_boards(\\n    E,\\n    Q,\\n    moves=None,\\n    plot=False,\\n    path=None,\\n    height=2,\\n    width=3,\\n    name=\\\"board.png\\\",\\n    **heatmap_kwargs\\n):\\n    \\\"\\\"\\\"Plot the boards\\\"\\\"\\\"\\n\\n    # Fix colors (overide kwargs)\\n    cmap = sns.diverging_palette(300, 145, s=60, as_cmap=True)\\n\\n    # Plot!\\n    fig, ax = plt.subplots(ncols=2, figsize=(width, height))  # Sample figsize in inches\\n    ax[0] = sns.heatmap(\\n        E,\\n        linewidths=3,\\n        center=0,\\n        ax=ax[0],\\n        cmap=cmap,\\n        cbar=False,\\n        square=True,\\n        **heatmap_kwargs\\n    )\\n    ax[1] = sns.heatmap(\\n        -Q,\\n        linewidths=3,\\n        center=0,\\n        ax=ax[1],\\n        cmap=cmap,\\n        cbar=False,\\n        square=True,\\n        **heatmap_kwargs\\n    )\\n\\n    ax[0].title.set_text(\\\"Information ($E$)\\\")\\n    ax[1].title.set_text(\\\"Consequence ($Q$)\\\")\\n\\n    # Plot the moves?\\n    if moves is not None:\\n        # Es\\n        last = moves[0]\\n        for move in moves[1:]:\\n            ax[0].annotate(\\n                \\\"\\\",\\n                xy=_shift(move),\\n                xytext=_shift(last),\\n                arrowprops=dict(width=1, headwidth=10, color=\\\"black\\\"),\\n            )\\n            last = move\\n        # Qs\\n        last = moves[0]\\n        for move in moves[1:]:\\n            ax[1].annotate(\\n                \\\"\\\",\\n                xy=_shift(move),\\n                xytext=_shift(last),\\n                arrowprops=dict(width=1, headwidth=10, color=\\\"black\\\"),\\n            )\\n            last = move\\n\\n    # Save an image?\\n    if path is not None:\\n        plt.savefig(os.path.join(path, name))\\n\\n    # Show?\\n    if plot:\\n        plt.pause(0.01)\\n    plt.close(\\\"all\\\")\";\n",
       "                var nbb_cells = Jupyter.notebook.get_cells();\n",
       "                for (var i = 0; i < nbb_cells.length; ++i) {\n",
       "                    if (nbb_cells[i].input_prompt_number == nbb_cell_id) {\n",
       "                        if (nbb_cells[i].get_text() == nbb_unformatted_code) {\n",
       "                             nbb_cells[i].set_text(nbb_formatted_code);\n",
       "                        }\n",
       "                        break;\n",
       "                    }\n",
       "                }\n",
       "            }, 500);\n",
       "            "
      ],
      "text/plain": [
       "<IPython.core.display.Javascript object>"
      ]
     },
     "metadata": {},
     "output_type": "display_data"
    }
   ],
   "source": [
    "# export\n",
    "def plot_boards(\n",
    "    E,\n",
    "    Q,\n",
    "    moves=None,\n",
    "    plot=False,\n",
    "    path=None,\n",
    "    height=2,\n",
    "    width=3,\n",
    "    name=\"board.png\",\n",
    "    **heatmap_kwargs\n",
    "):\n",
    "    \"\"\"Plot the boards\"\"\"\n",
    "\n",
    "    # Fix colors (overide kwargs)\n",
    "    cmap = sns.diverging_palette(300, 145, s=60, as_cmap=True)\n",
    "\n",
    "    # Plot!\n",
    "    fig, ax = plt.subplots(ncols=2, figsize=(width, height))  # Sample figsize in inches\n",
    "    ax[0] = sns.heatmap(\n",
    "        E,\n",
    "        linewidths=3,\n",
    "        center=0,\n",
    "        ax=ax[0],\n",
    "        cmap=cmap,\n",
    "        cbar=False,\n",
    "        square=True,\n",
    "        **heatmap_kwargs\n",
    "    )\n",
    "    ax[1] = sns.heatmap(\n",
    "        -Q,\n",
    "        linewidths=3,\n",
    "        center=0,\n",
    "        ax=ax[1],\n",
    "        cmap=cmap,\n",
    "        cbar=False,\n",
    "        square=True,\n",
    "        **heatmap_kwargs\n",
    "    )\n",
    "\n",
    "    ax[0].title.set_text(\"Information ($E$)\")\n",
    "    ax[1].title.set_text(\"Consequence ($Q$)\")\n",
    "\n",
    "    # Plot the moves?\n",
    "    if moves is not None:\n",
    "        # Es\n",
    "        last = moves[0]\n",
    "        for move in moves[1:]:\n",
    "            ax[0].annotate(\n",
    "                \"\",\n",
    "                xy=_shift(move),\n",
    "                xytext=_shift(last),\n",
    "                arrowprops=dict(width=1, headwidth=10, color=\"black\"),\n",
    "            )\n",
    "            last = move\n",
    "        # Qs\n",
    "        last = moves[0]\n",
    "        for move in moves[1:]:\n",
    "            ax[1].annotate(\n",
    "                \"\",\n",
    "                xy=_shift(move),\n",
    "                xytext=_shift(last),\n",
    "                arrowprops=dict(width=1, headwidth=10, color=\"black\"),\n",
    "            )\n",
    "            last = move\n",
    "\n",
    "    # Save an image?\n",
    "    if path is not None:\n",
    "        plt.savefig(os.path.join(path, name))\n",
    "\n",
    "    # Show?\n",
    "    if plot:\n",
    "        plt.pause(0.01)\n",
    "    plt.close(\"all\")"
   ]
  },
  {
   "cell_type": "code",
   "execution_count": null,
   "metadata": {},
   "outputs": [
    {
     "data": {
      "image/png": "[encoded data removed]",
      "text/plain": [
       "<Figure size 864x360 with 2 Axes>"
      ]
     },
     "metadata": {
      "image/png": {
       "height": 319,
       "width": 667
      }
     },
     "output_type": "display_data"
    },
    {
     "data": {
      "application/javascript": [
       "\n",
       "            setTimeout(function() {\n",
       "                var nbb_cell_id = 28;\n",
       "                var nbb_unformatted_code = \"# hide\\nfrom truthiness.game import create_maze\\nfrom truthiness.player import extract_moves\\nfrom truthiness.player import Curious\\nfrom truthiness.player import Random\\nfrom truthiness.player import run\\n\\n(\\n    results,\\n    mazes,\\n    Es,\\n    Qs,\\n) = run(8, Random(), num_episodes=1, seed=10)\\nmoves = extract_moves(0, results)\\n\\nplot_boards(Es[0], Qs[0], moves=moves, plot=True, height=5, width=12)\";\n",
       "                var nbb_formatted_code = \"# hide\\nfrom truthiness.game import create_maze\\nfrom truthiness.player import extract_moves\\nfrom truthiness.player import Curious\\nfrom truthiness.player import Random\\nfrom truthiness.player import run\\n\\n(\\n    results,\\n    mazes,\\n    Es,\\n    Qs,\\n) = run(8, Random(), num_episodes=1, seed=10)\\nmoves = extract_moves(0, results)\\n\\nplot_boards(Es[0], Qs[0], moves=moves, plot=True, height=5, width=12)\";\n",
       "                var nbb_cells = Jupyter.notebook.get_cells();\n",
       "                for (var i = 0; i < nbb_cells.length; ++i) {\n",
       "                    if (nbb_cells[i].input_prompt_number == nbb_cell_id) {\n",
       "                        if (nbb_cells[i].get_text() == nbb_unformatted_code) {\n",
       "                             nbb_cells[i].set_text(nbb_formatted_code);\n",
       "                        }\n",
       "                        break;\n",
       "                    }\n",
       "                }\n",
       "            }, 500);\n",
       "            "
      ],
      "text/plain": [
       "<IPython.core.display.Javascript object>"
      ]
     },
     "metadata": {},
     "output_type": "display_data"
    }
   ],
   "source": [
    "# hide\n",
    "from truthiness.game import create_maze\n",
    "from truthiness.player import extract_moves\n",
    "from truthiness.player import Curious\n",
    "from truthiness.player import Random\n",
    "from truthiness.player import run\n",
    "\n",
    "(\n",
    "    results,\n",
    "    mazes,\n",
    "    Es,\n",
    "    Qs,\n",
    ") = run(8, Random(), num_episodes=1, seed=10)\n",
    "moves = extract_moves(0, results)\n",
    "\n",
    "plot_boards(Es[0], Qs[0], moves=moves, plot=True, height=5, width=12)"
   ]
  },
  {
   "cell_type": "code",
   "execution_count": null,
   "metadata": {},
   "outputs": [],
   "source": [
    "# export\n",
    "def plot_histograms(\n",
    "    E, Q, plot=False, path=None, height=2, width=3, name=\"board.png\", **hist_kwargs\n",
    "):\n",
    "    \"\"\"Plot a histograms of a board's values.\"\"\"\n",
    "\n",
    "    # Set colors to match board\n",
    "    green = [0.29233637, 0.51074656, 0.39061738, 1.0]\n",
    "    violet = [0.66131564, 0.3363342, 0.71648282, 1.0]\n",
    "\n",
    "    # Plot!\n",
    "    fig, ax = plt.subplots(figsize=(width, height))  # Sample figsize in inches\n",
    "    plt.hist(E.flatten(), label=\"$E$\", color=green, **hist_kwargs)\n",
    "    plt.hist(Q.flatten(), label=\"$Q$\", color=violet, **hist_kwargs)\n",
    "    plt.legend()\n",
    "\n",
    "    # Save an image?\n",
    "    if path is not None:\n",
    "        plt.savefig(os.path.join(path, name))\n",
    "\n",
    "    # Show?\n",
    "    if plot:\n",
    "        plt.pause(0.01)\n",
    "    plt.close(\"all\")"
   ]
  },
  {
   "cell_type": "code",
   "execution_count": null,
   "metadata": {},
   "outputs": [
    {
     "data": {
      "application/javascript": [
       "\n",
       "            setTimeout(function() {\n",
       "                var nbb_cell_id = 31;\n",
       "                var nbb_unformatted_code = \"# export\\ndef plot_available(\\n    x, y, maze, available, plot=False, path=None, height=2, width=3, name=\\\"board.png\\\"\\n):\\n    \\\"\\\"\\\"Plot available moves.\\n\\n    Params\\n    ------\\n    n : int\\n        Board size\\n    x : int\\n        Start x position\\n    y : int\\n        Start x position\\n    available : list(tuple)\\n        List of available moves as (x, y)\\n    ...\\n    \\\"\\\"\\\"\\n\\n    # Start\\n    n = maze.shape[0]\\n    board = np.zeros((n, n))\\n    board[x, y] = 1\\n\\n    # Moves\\n    for (i, j) in available:\\n        board[i, j] = 2\\n\\n    # Plot!\\n    fig, ax = plt.subplots(figsize=(width, height))  # Sample figsize in inches\\n    ax = sns.heatmap(\\n        board,\\n        linewidths=3,\\n        cbar=False,\\n        square=True,\\n        cmap=[\\\"grey\\\", \\\"yellow\\\", \\\"red\\\"],\\n        ax=ax,\\n        mask=maze,\\n    )\\n\\n    # Save an image?\\n    if path is not None:\\n        plt.savefig(os.path.join(path, name))\\n\\n    # Show?\\n    if plot:\\n        plt.pause(0.01)\\n    plt.close(\\\"all\\\")\";\n",
       "                var nbb_formatted_code = \"# export\\ndef plot_available(\\n    x, y, maze, available, plot=False, path=None, height=2, width=3, name=\\\"board.png\\\"\\n):\\n    \\\"\\\"\\\"Plot available moves.\\n\\n    Params\\n    ------\\n    n : int\\n        Board size\\n    x : int\\n        Start x position\\n    y : int\\n        Start x position\\n    available : list(tuple)\\n        List of available moves as (x, y)\\n    ...\\n    \\\"\\\"\\\"\\n\\n    # Start\\n    n = maze.shape[0]\\n    board = np.zeros((n, n))\\n    board[x, y] = 1\\n\\n    # Moves\\n    for (i, j) in available:\\n        board[i, j] = 2\\n\\n    # Plot!\\n    fig, ax = plt.subplots(figsize=(width, height))  # Sample figsize in inches\\n    ax = sns.heatmap(\\n        board,\\n        linewidths=3,\\n        cbar=False,\\n        square=True,\\n        cmap=[\\\"grey\\\", \\\"yellow\\\", \\\"red\\\"],\\n        ax=ax,\\n        mask=maze,\\n    )\\n\\n    # Save an image?\\n    if path is not None:\\n        plt.savefig(os.path.join(path, name))\\n\\n    # Show?\\n    if plot:\\n        plt.pause(0.01)\\n    plt.close(\\\"all\\\")\";\n",
       "                var nbb_cells = Jupyter.notebook.get_cells();\n",
       "                for (var i = 0; i < nbb_cells.length; ++i) {\n",
       "                    if (nbb_cells[i].input_prompt_number == nbb_cell_id) {\n",
       "                        if (nbb_cells[i].get_text() == nbb_unformatted_code) {\n",
       "                             nbb_cells[i].set_text(nbb_formatted_code);\n",
       "                        }\n",
       "                        break;\n",
       "                    }\n",
       "                }\n",
       "            }, 500);\n",
       "            "
      ],
      "text/plain": [
       "<IPython.core.display.Javascript object>"
      ]
     },
     "metadata": {},
     "output_type": "display_data"
    }
   ],
   "source": [
    "# export\n",
    "def plot_available(\n",
    "    x, y, maze, available, plot=False, path=None, height=2, width=3, name=\"board.png\"\n",
    "):\n",
    "    \"\"\"Plot available moves.\n",
    "\n",
    "    Params\n",
    "    ------\n",
    "    n : int\n",
    "        Board size\n",
    "    x : int\n",
    "        Start x position\n",
    "    y : int\n",
    "        Start x position\n",
    "    available : list(tuple)\n",
    "        List of available moves as (x, y)\n",
    "    ...\n",
    "    \"\"\"\n",
    "\n",
    "    # Start\n",
    "    n = maze.shape[0]\n",
    "    board = np.zeros((n, n))\n",
    "    board[x, y] = 1\n",
    "\n",
    "    # Moves\n",
    "    for (i, j) in available:\n",
    "        board[i, j] = 2\n",
    "\n",
    "    # Plot!\n",
    "    fig, ax = plt.subplots(figsize=(width, height))  # Sample figsize in inches\n",
    "    ax = sns.heatmap(\n",
    "        board,\n",
    "        linewidths=3,\n",
    "        cbar=False,\n",
    "        square=True,\n",
    "        cmap=[\"grey\", \"yellow\", \"red\"],\n",
    "        ax=ax,\n",
    "        mask=maze,\n",
    "    )\n",
    "\n",
    "    # Save an image?\n",
    "    if path is not None:\n",
    "        plt.savefig(os.path.join(path, name))\n",
    "\n",
    "    # Show?\n",
    "    if plot:\n",
    "        plt.pause(0.01)\n",
    "    plt.close(\"all\")"
   ]
  },
  {
   "cell_type": "code",
   "execution_count": null,
   "metadata": {},
   "outputs": [],
   "source": []
  }
 ],
 "metadata": {
  "kernelspec": {
   "display_name": "Python 3",
   "language": "python",
   "name": "python3"
  }
 },
 "nbformat": 4,
 "nbformat_minor": 2
}

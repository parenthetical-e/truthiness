{
 "cells": [
  {
   "cell_type": "code",
   "execution_count": null,
   "metadata": {},
   "outputs": [],
   "source": [
    "# default_exp game"
   ]
  },
  {
   "cell_type": "markdown",
   "metadata": {},
   "source": [
    "# game\n",
    "\n",
    "> Generate boards to play games of truth and conseqeunces."
   ]
  },
  {
   "cell_type": "code",
   "execution_count": null,
   "metadata": {},
   "outputs": [
    {
     "data": {
      "application/javascript": [
       "\n",
       "            setTimeout(function() {\n",
       "                var nbb_cell_id = 2;\n",
       "                var nbb_unformatted_code = \"# hide\\nfrom nbdev.showdoc import *\\n\\n%load_ext nb_black\\n%matplotlib inline\\n%config InlineBackend.figure_format='retina'\\n%config IPCompleter.greedy=True\\n\\nimport matplotlib.pyplot as plt\\nimport seaborn as sns\\n\\nplt.rcParams[\\\"axes.facecolor\\\"] = \\\"white\\\"\\nplt.rcParams[\\\"figure.facecolor\\\"] = \\\"white\\\"\\n\\nfrom truthiness.plot import plot_maze\\nfrom truthiness.plot import plot_boards\\nfrom truthiness.plot import plot_histograms\\nfrom truthiness.plot import plot_available\";\n",
       "                var nbb_formatted_code = \"# hide\\nfrom nbdev.showdoc import *\\n\\n%load_ext nb_black\\n%matplotlib inline\\n%config InlineBackend.figure_format='retina'\\n%config IPCompleter.greedy=True\\n\\nimport matplotlib.pyplot as plt\\nimport seaborn as sns\\n\\nplt.rcParams[\\\"axes.facecolor\\\"] = \\\"white\\\"\\nplt.rcParams[\\\"figure.facecolor\\\"] = \\\"white\\\"\\n\\nfrom truthiness.plot import plot_maze\\nfrom truthiness.plot import plot_boards\\nfrom truthiness.plot import plot_histograms\\nfrom truthiness.plot import plot_available\";\n",
       "                var nbb_cells = Jupyter.notebook.get_cells();\n",
       "                for (var i = 0; i < nbb_cells.length; ++i) {\n",
       "                    if (nbb_cells[i].input_prompt_number == nbb_cell_id) {\n",
       "                        if (nbb_cells[i].get_text() == nbb_unformatted_code) {\n",
       "                             nbb_cells[i].set_text(nbb_formatted_code);\n",
       "                        }\n",
       "                        break;\n",
       "                    }\n",
       "                }\n",
       "            }, 500);\n",
       "            "
      ],
      "text/plain": [
       "<IPython.core.display.Javascript object>"
      ]
     },
     "metadata": {},
     "output_type": "display_data"
    }
   ],
   "source": [
    "# hide\n",
    "from nbdev.showdoc import *\n",
    "\n",
    "%load_ext nb_black\n",
    "%matplotlib inline\n",
    "%config InlineBackend.figure_format='retina'\n",
    "%config IPCompleter.greedy=True\n",
    "\n",
    "import matplotlib.pyplot as plt\n",
    "import seaborn as sns\n",
    "\n",
    "plt.rcParams[\"axes.facecolor\"] = \"white\"\n",
    "plt.rcParams[\"figure.facecolor\"] = \"white\"\n",
    "\n",
    "from truthiness.plot import plot_maze\n",
    "from truthiness.plot import plot_boards\n",
    "from truthiness.plot import plot_histograms\n",
    "from truthiness.plot import plot_available"
   ]
  },
  {
   "cell_type": "code",
   "execution_count": null,
   "metadata": {},
   "outputs": [
    {
     "data": {
      "application/javascript": [
       "\n",
       "            setTimeout(function() {\n",
       "                var nbb_cell_id = 3;\n",
       "                var nbb_unformatted_code = \"# export\\nimport numpy as np\";\n",
       "                var nbb_formatted_code = \"# export\\nimport numpy as np\";\n",
       "                var nbb_cells = Jupyter.notebook.get_cells();\n",
       "                for (var i = 0; i < nbb_cells.length; ++i) {\n",
       "                    if (nbb_cells[i].input_prompt_number == nbb_cell_id) {\n",
       "                        if (nbb_cells[i].get_text() == nbb_unformatted_code) {\n",
       "                             nbb_cells[i].set_text(nbb_formatted_code);\n",
       "                        }\n",
       "                        break;\n",
       "                    }\n",
       "                }\n",
       "            }, 500);\n",
       "            "
      ],
      "text/plain": [
       "<IPython.core.display.Javascript object>"
      ]
     },
     "metadata": {},
     "output_type": "display_data"
    }
   ],
   "source": [
    "# export\n",
    "import numpy as np"
   ]
  },
  {
   "cell_type": "markdown",
   "metadata": {},
   "source": [
    "## overview\n",
    "In this module we define code for all the parts needed to make a playable information and conseqeunces game. This includes values for information $E$ and consequences $Q$, finding available moves, and generating the maze a player will need to traverse. \n",
    "\n",
    "**The code for the playable games themselves are found in the `gym` module.**"
   ]
  },
  {
   "cell_type": "markdown",
   "metadata": {},
   "source": [
    "## mazes\n",
    "Mazes are made by a diffusion process. We do not promise in creating a maze that every position can be reached from any other. The seperate `check_maze()` function can help with that, with the caveat that it can be slow to run."
   ]
  },
  {
   "cell_type": "code",
   "execution_count": null,
   "metadata": {},
   "outputs": [
    {
     "data": {
      "application/javascript": [
       "\n",
       "            setTimeout(function() {\n",
       "                var nbb_cell_id = 4;\n",
       "                var nbb_unformatted_code = \"# export\\ndef create_maze(n, k=4, t=4, prng=None):\\n    \\\"\\\"\\\"Create a maze, by diffusing out from k points.\\n\\n    Params\\n    ------\\n    n : int\\n        Board size\\n    k : int\\n        The number of starting points\\n    t : int\\n        The number of time steps for diffusion\\n    prng : None, np.random.RandonState\\n        Controls seeding\\n    \\\"\\\"\\\"\\n    if prng is None:\\n        prng = np.random.RandomState()\\n\\n    maze = np.zeros((n, n))\\n\\n    # Initial seends\\n    locs = []\\n    for _ in range(k):\\n        x0, y0 = prng.randint(0, n, 2)\\n        locs.append((x0, y0))\\n\\n    # Moving t steps from x0,y0\\n    # fill in neighbors\\n    # by random draw\\n    for x0, y0 in locs:\\n        x, y = x0, y0\\n        maze[x, y] = 1\\n        for step in range(t):\\n            # Draw\\n            dx = prng.randint(-1, 2)\\n            if np.isclose(dx, 0):\\n                dy = prng.randint(-1, 2)\\n            else:\\n                dy = 0\\n\\n            # Sane and safe moves?\\n            if x + dx < 0:\\n                dx = 0\\n            if x + dx >= n:\\n                dx = 0\\n            if y + dy < 0:\\n                dy = 0\\n            if y + dy >= n:\\n                dy = 0\\n\\n            # Add to maze\\n            x += dx\\n            y += dy\\n            maze[x, y] = 1\\n\\n    return maze, prng\";\n",
       "                var nbb_formatted_code = \"# export\\ndef create_maze(n, k=4, t=4, prng=None):\\n    \\\"\\\"\\\"Create a maze, by diffusing out from k points.\\n\\n    Params\\n    ------\\n    n : int\\n        Board size\\n    k : int\\n        The number of starting points\\n    t : int\\n        The number of time steps for diffusion\\n    prng : None, np.random.RandonState\\n        Controls seeding\\n    \\\"\\\"\\\"\\n    if prng is None:\\n        prng = np.random.RandomState()\\n\\n    maze = np.zeros((n, n))\\n\\n    # Initial seends\\n    locs = []\\n    for _ in range(k):\\n        x0, y0 = prng.randint(0, n, 2)\\n        locs.append((x0, y0))\\n\\n    # Moving t steps from x0,y0\\n    # fill in neighbors\\n    # by random draw\\n    for x0, y0 in locs:\\n        x, y = x0, y0\\n        maze[x, y] = 1\\n        for step in range(t):\\n            # Draw\\n            dx = prng.randint(-1, 2)\\n            if np.isclose(dx, 0):\\n                dy = prng.randint(-1, 2)\\n            else:\\n                dy = 0\\n\\n            # Sane and safe moves?\\n            if x + dx < 0:\\n                dx = 0\\n            if x + dx >= n:\\n                dx = 0\\n            if y + dy < 0:\\n                dy = 0\\n            if y + dy >= n:\\n                dy = 0\\n\\n            # Add to maze\\n            x += dx\\n            y += dy\\n            maze[x, y] = 1\\n\\n    return maze, prng\";\n",
       "                var nbb_cells = Jupyter.notebook.get_cells();\n",
       "                for (var i = 0; i < nbb_cells.length; ++i) {\n",
       "                    if (nbb_cells[i].input_prompt_number == nbb_cell_id) {\n",
       "                        if (nbb_cells[i].get_text() == nbb_unformatted_code) {\n",
       "                             nbb_cells[i].set_text(nbb_formatted_code);\n",
       "                        }\n",
       "                        break;\n",
       "                    }\n",
       "                }\n",
       "            }, 500);\n",
       "            "
      ],
      "text/plain": [
       "<IPython.core.display.Javascript object>"
      ]
     },
     "metadata": {},
     "output_type": "display_data"
    }
   ],
   "source": [
    "# export\n",
    "def create_maze(n, k=4, t=4, prng=None):\n",
    "    \"\"\"Create a maze, by diffusing out from k points.\n",
    "\n",
    "    Params\n",
    "    ------\n",
    "    n : int\n",
    "        Board size\n",
    "    k : int\n",
    "        The number of starting points\n",
    "    t : int\n",
    "        The number of time steps for diffusion\n",
    "    prng : None, np.random.RandonState\n",
    "        Controls seeding\n",
    "    \"\"\"\n",
    "    if prng is None:\n",
    "        prng = np.random.RandomState()\n",
    "\n",
    "    maze = np.zeros((n, n))\n",
    "\n",
    "    # Initial seends\n",
    "    locs = []\n",
    "    for _ in range(k):\n",
    "        x0, y0 = prng.randint(0, n, 2)\n",
    "        locs.append((x0, y0))\n",
    "\n",
    "    # Moving t steps from x0,y0\n",
    "    # fill in neighbors\n",
    "    # by random draw\n",
    "    for x0, y0 in locs:\n",
    "        x, y = x0, y0\n",
    "        maze[x, y] = 1\n",
    "        for step in range(t):\n",
    "            # Draw\n",
    "            dx = prng.randint(-1, 2)\n",
    "            if np.isclose(dx, 0):\n",
    "                dy = prng.randint(-1, 2)\n",
    "            else:\n",
    "                dy = 0\n",
    "\n",
    "            # Sane and safe moves?\n",
    "            if x + dx < 0:\n",
    "                dx = 0\n",
    "            if x + dx >= n:\n",
    "                dx = 0\n",
    "            if y + dy < 0:\n",
    "                dy = 0\n",
    "            if y + dy >= n:\n",
    "                dy = 0\n",
    "\n",
    "            # Add to maze\n",
    "            x += dx\n",
    "            y += dy\n",
    "            maze[x, y] = 1\n",
    "\n",
    "    return maze, prng"
   ]
  },
  {
   "cell_type": "code",
   "execution_count": null,
   "metadata": {},
   "outputs": [
    {
     "data": {
      "image/png": "[encoded data removed]",
      "text/plain": [
       "<Figure size 360x360 with 1 Axes>"
      ]
     },
     "metadata": {
      "image/png": {
       "height": 302,
       "width": 302
      }
     },
     "output_type": "display_data"
    },
    {
     "data": {
      "application/javascript": [
       "\n",
       "            setTimeout(function() {\n",
       "                var nbb_cell_id = 19;\n",
       "                var nbb_unformatted_code = \"prng = np.random.RandomState(4)\\nmaze, _ = create_maze(8, k=10, t=1, prng=prng)\\nplot_maze(maze, plot=True, height=5, width=5)\";\n",
       "                var nbb_formatted_code = \"prng = np.random.RandomState(4)\\nmaze, _ = create_maze(8, k=10, t=1, prng=prng)\\nplot_maze(maze, plot=True, height=5, width=5)\";\n",
       "                var nbb_cells = Jupyter.notebook.get_cells();\n",
       "                for (var i = 0; i < nbb_cells.length; ++i) {\n",
       "                    if (nbb_cells[i].input_prompt_number == nbb_cell_id) {\n",
       "                        if (nbb_cells[i].get_text() == nbb_unformatted_code) {\n",
       "                             nbb_cells[i].set_text(nbb_formatted_code);\n",
       "                        }\n",
       "                        break;\n",
       "                    }\n",
       "                }\n",
       "            }, 500);\n",
       "            "
      ],
      "text/plain": [
       "<IPython.core.display.Javascript object>"
      ]
     },
     "metadata": {},
     "output_type": "display_data"
    }
   ],
   "source": [
    "prng = np.random.RandomState(4)\n",
    "maze, _ = create_maze(8, k=10, t=1, prng=prng)\n",
    "plot_maze(maze, plot=True, height=5, width=5)"
   ]
  },
  {
   "cell_type": "code",
   "execution_count": null,
   "metadata": {},
   "outputs": [
    {
     "data": {
      "application/javascript": [
       "\n",
       "            setTimeout(function() {\n",
       "                var nbb_cell_id = 6;\n",
       "                var nbb_unformatted_code = \"def check_maze(n, maze):\\n    # TODO - Try every starting place to get to the opposite corder\\n    pass\";\n",
       "                var nbb_formatted_code = \"def check_maze(n, maze):\\n    # TODO - Try every starting place to get to the opposite corder\\n    pass\";\n",
       "                var nbb_cells = Jupyter.notebook.get_cells();\n",
       "                for (var i = 0; i < nbb_cells.length; ++i) {\n",
       "                    if (nbb_cells[i].input_prompt_number == nbb_cell_id) {\n",
       "                        if (nbb_cells[i].get_text() == nbb_unformatted_code) {\n",
       "                             nbb_cells[i].set_text(nbb_formatted_code);\n",
       "                        }\n",
       "                        break;\n",
       "                    }\n",
       "                }\n",
       "            }, 500);\n",
       "            "
      ],
      "text/plain": [
       "<IPython.core.display.Javascript object>"
      ]
     },
     "metadata": {},
     "output_type": "display_data"
    }
   ],
   "source": [
    "def check_maze(n, maze):\n",
    "    # TODO - Try every starting place to get to the opposite corder\n",
    "    pass"
   ]
  },
  {
   "cell_type": "markdown",
   "metadata": {},
   "source": [
    "## different games with different relations between truth and consequences.\n",
    "\n",
    "In the 'shame game', truth and conseqeunces are each others opposite, and so the more one learns the more one is ashamed of having not known it to begin with. The amount of shame is scaled by `shame`.\n",
    "\n",
    "Unless noted otherwise samples of value and consequeneces are drawn from a lognormal distribtuion, whose variance is set by `sigma`."
   ]
  },
  {
   "cell_type": "code",
   "execution_count": null,
   "metadata": {},
   "outputs": [
    {
     "data": {
      "application/javascript": [
       "\n",
       "            setTimeout(function() {\n",
       "                var nbb_cell_id = 7;\n",
       "                var nbb_unformatted_code = \"# export\\ndef shame_game(n, sigma=0.5, shame=1, maze=None, prng=None):\\n    if prng is None:\\n        prng = np.random.RandomState()\\n\\n    if maze is None:\\n        maze = 1  # do nothing\\n    else:\\n        maze = np.logical_not(maze)  # mask w/ maze\\n\\n    E = prng.lognormal(sigma=sigma, size=n ** 2)\\n    E /= np.max(E)\\n    Q = shame * E\\n\\n    E = E.reshape(n, n)\\n    Q = Q.reshape(n, n)\\n\\n    return E * maze, Q * maze, prng\";\n",
       "                var nbb_formatted_code = \"# export\\ndef shame_game(n, sigma=0.5, shame=1, maze=None, prng=None):\\n    if prng is None:\\n        prng = np.random.RandomState()\\n\\n    if maze is None:\\n        maze = 1  # do nothing\\n    else:\\n        maze = np.logical_not(maze)  # mask w/ maze\\n\\n    E = prng.lognormal(sigma=sigma, size=n ** 2)\\n    E /= np.max(E)\\n    Q = shame * E\\n\\n    E = E.reshape(n, n)\\n    Q = Q.reshape(n, n)\\n\\n    return E * maze, Q * maze, prng\";\n",
       "                var nbb_cells = Jupyter.notebook.get_cells();\n",
       "                for (var i = 0; i < nbb_cells.length; ++i) {\n",
       "                    if (nbb_cells[i].input_prompt_number == nbb_cell_id) {\n",
       "                        if (nbb_cells[i].get_text() == nbb_unformatted_code) {\n",
       "                             nbb_cells[i].set_text(nbb_formatted_code);\n",
       "                        }\n",
       "                        break;\n",
       "                    }\n",
       "                }\n",
       "            }, 500);\n",
       "            "
      ],
      "text/plain": [
       "<IPython.core.display.Javascript object>"
      ]
     },
     "metadata": {},
     "output_type": "display_data"
    }
   ],
   "source": [
    "# export\n",
    "def shame_game(n, sigma=0.5, shame=1, maze=None, prng=None):\n",
    "    if prng is None:\n",
    "        prng = np.random.RandomState()\n",
    "\n",
    "    if maze is None:\n",
    "        maze = 1  # do nothing\n",
    "    else:\n",
    "        maze = np.logical_not(maze)  # mask w/ maze\n",
    "\n",
    "    E = prng.lognormal(sigma=sigma, size=n ** 2)\n",
    "    E /= np.max(E)\n",
    "    Q = shame * E\n",
    "\n",
    "    E = E.reshape(n, n)\n",
    "    Q = Q.reshape(n, n)\n",
    "\n",
    "    return E * maze, Q * maze, prng"
   ]
  },
  {
   "cell_type": "raw",
   "metadata": {},
   "source": [
    "- Example of a `shame_game`:"
   ]
  },
  {
   "cell_type": "code",
   "execution_count": null,
   "metadata": {},
   "outputs": [
    {
     "data": {
      "image/png": "[encoded data removed]",
      "text/plain": [
       "<Figure size 864x360 with 2 Axes>"
      ]
     },
     "metadata": {
      "image/png": {
       "height": 319,
       "width": 667
      }
     },
     "output_type": "display_data"
    },
    {
     "data": {
      "image/png": "[encoded data removed]",
      "text/plain": [
       "<Figure size 504x216 with 1 Axes>"
      ]
     },
     "metadata": {
      "image/png": {
       "height": 194,
       "width": 434
      }
     },
     "output_type": "display_data"
    },
    {
     "data": {
      "application/javascript": [
       "\n",
       "            setTimeout(function() {\n",
       "                var nbb_cell_id = 9;\n",
       "                var nbb_unformatted_code = \"E, Q, _ = shame_game(8, shame=0.5, maze=maze)\\nplot_boards(\\n    E,\\n    Q,\\n    height=5,\\n    width=12,\\n    plot=True,\\n    vmin=-1,\\n    vmax=1,\\n    mask=maze,\\n    alpha=1,\\n)\\nplot_histograms(E, Q, height=3, width=7, plot=True, range=(0, 1), bins=20, alpha=0.6)\";\n",
       "                var nbb_formatted_code = \"E, Q, _ = shame_game(8, shame=0.5, maze=maze)\\nplot_boards(\\n    E,\\n    Q,\\n    height=5,\\n    width=12,\\n    plot=True,\\n    vmin=-1,\\n    vmax=1,\\n    mask=maze,\\n    alpha=1,\\n)\\nplot_histograms(E, Q, height=3, width=7, plot=True, range=(0, 1), bins=20, alpha=0.6)\";\n",
       "                var nbb_cells = Jupyter.notebook.get_cells();\n",
       "                for (var i = 0; i < nbb_cells.length; ++i) {\n",
       "                    if (nbb_cells[i].input_prompt_number == nbb_cell_id) {\n",
       "                        if (nbb_cells[i].get_text() == nbb_unformatted_code) {\n",
       "                             nbb_cells[i].set_text(nbb_formatted_code);\n",
       "                        }\n",
       "                        break;\n",
       "                    }\n",
       "                }\n",
       "            }, 500);\n",
       "            "
      ],
      "text/plain": [
       "<IPython.core.display.Javascript object>"
      ]
     },
     "metadata": {},
     "output_type": "display_data"
    }
   ],
   "source": [
    "E, Q, _ = shame_game(8, shame=0.5, maze=maze)\n",
    "plot_boards(\n",
    "    E,\n",
    "    Q,\n",
    "    height=5,\n",
    "    width=12,\n",
    "    plot=True,\n",
    "    vmin=-1,\n",
    "    vmax=1,\n",
    "    mask=maze,\n",
    "    alpha=1,\n",
    ")\n",
    "plot_histograms(E, Q, height=3, width=7, plot=True, range=(0, 1), bins=20, alpha=0.6)"
   ]
  },
  {
   "cell_type": "markdown",
   "metadata": {},
   "source": [
    "In the 'plain game' truth and conseqeunces are independent, but sampled so there are a few rare extreme events."
   ]
  },
  {
   "cell_type": "code",
   "execution_count": null,
   "metadata": {},
   "outputs": [
    {
     "data": {
      "application/javascript": [
       "\n",
       "            setTimeout(function() {\n",
       "                var nbb_cell_id = 20;\n",
       "                var nbb_unformatted_code = \"# export\\ndef plain_game(n, sigma=0.5, maze=None, prng=None):\\n    if prng is None:\\n        prng = np.random.RandomState()\\n\\n    if maze is None:\\n        maze = 1  # do nothing\\n    else:\\n        maze = np.logical_not(maze)  # mask w/ maze\\n\\n    E = prng.lognormal(sigma=sigma, size=n ** 2)\\n    E /= np.max(E)\\n    E = E.reshape(n, n)\\n    Q = prng.lognormal(sigma=sigma, size=n ** 2)\\n    Q /= np.max(Q)\\n    Q = Q.reshape(n, n)\\n\\n    return E * maze, Q * maze, prng\";\n",
       "                var nbb_formatted_code = \"# export\\ndef plain_game(n, sigma=0.5, maze=None, prng=None):\\n    if prng is None:\\n        prng = np.random.RandomState()\\n\\n    if maze is None:\\n        maze = 1  # do nothing\\n    else:\\n        maze = np.logical_not(maze)  # mask w/ maze\\n\\n    E = prng.lognormal(sigma=sigma, size=n ** 2)\\n    E /= np.max(E)\\n    E = E.reshape(n, n)\\n    Q = prng.lognormal(sigma=sigma, size=n ** 2)\\n    Q /= np.max(Q)\\n    Q = Q.reshape(n, n)\\n\\n    return E * maze, Q * maze, prng\";\n",
       "                var nbb_cells = Jupyter.notebook.get_cells();\n",
       "                for (var i = 0; i < nbb_cells.length; ++i) {\n",
       "                    if (nbb_cells[i].input_prompt_number == nbb_cell_id) {\n",
       "                        if (nbb_cells[i].get_text() == nbb_unformatted_code) {\n",
       "                             nbb_cells[i].set_text(nbb_formatted_code);\n",
       "                        }\n",
       "                        break;\n",
       "                    }\n",
       "                }\n",
       "            }, 500);\n",
       "            "
      ],
      "text/plain": [
       "<IPython.core.display.Javascript object>"
      ]
     },
     "metadata": {},
     "output_type": "display_data"
    }
   ],
   "source": [
    "# export\n",
    "def plain_game(n, sigma=0.5, maze=None, prng=None):\n",
    "    if prng is None:\n",
    "        prng = np.random.RandomState()\n",
    "\n",
    "    if maze is None:\n",
    "        maze = 1  # do nothing\n",
    "    else:\n",
    "        maze = np.logical_not(maze)  # mask w/ maze\n",
    "\n",
    "    E = prng.lognormal(sigma=sigma, size=n ** 2)\n",
    "    E /= np.max(E)\n",
    "    E = E.reshape(n, n)\n",
    "    Q = prng.lognormal(sigma=sigma, size=n ** 2)\n",
    "    Q /= np.max(Q)\n",
    "    Q = Q.reshape(n, n)\n",
    "\n",
    "    return E * maze, Q * maze, prng"
   ]
  },
  {
   "cell_type": "markdown",
   "metadata": {},
   "source": [
    "- Example of a `plain_game`"
   ]
  },
  {
   "cell_type": "code",
   "execution_count": null,
   "metadata": {},
   "outputs": [
    {
     "data": {
      "image/png": "[encoded data removed]",
      "text/plain": [
       "<Figure size 864x360 with 2 Axes>"
      ]
     },
     "metadata": {
      "image/png": {
       "height": 319,
       "width": 667
      }
     },
     "output_type": "display_data"
    },
    {
     "data": {
      "image/png": "[encoded data removed]",
      "text/plain": [
       "<Figure size 504x216 with 1 Axes>"
      ]
     },
     "metadata": {
      "image/png": {
       "height": 194,
       "width": 434
      }
     },
     "output_type": "display_data"
    },
    {
     "data": {
      "application/javascript": [
       "\n",
       "            setTimeout(function() {\n",
       "                var nbb_cell_id = 12;\n",
       "                var nbb_unformatted_code = \"E, Q, _ = plain_game(8, maze=maze)\\nplot_boards(\\n    E,\\n    Q,\\n    height=5,\\n    width=12,\\n    plot=True,\\n    vmin=-1,\\n    vmax=1,\\n    mask=maze,\\n    alpha=1,\\n)\\nplot_histograms(E, Q, height=3, width=7, plot=True, range=(0, 1), bins=20, alpha=0.6)\";\n",
       "                var nbb_formatted_code = \"E, Q, _ = plain_game(8, maze=maze)\\nplot_boards(\\n    E,\\n    Q,\\n    height=5,\\n    width=12,\\n    plot=True,\\n    vmin=-1,\\n    vmax=1,\\n    mask=maze,\\n    alpha=1,\\n)\\nplot_histograms(E, Q, height=3, width=7, plot=True, range=(0, 1), bins=20, alpha=0.6)\";\n",
       "                var nbb_cells = Jupyter.notebook.get_cells();\n",
       "                for (var i = 0; i < nbb_cells.length; ++i) {\n",
       "                    if (nbb_cells[i].input_prompt_number == nbb_cell_id) {\n",
       "                        if (nbb_cells[i].get_text() == nbb_unformatted_code) {\n",
       "                             nbb_cells[i].set_text(nbb_formatted_code);\n",
       "                        }\n",
       "                        break;\n",
       "                    }\n",
       "                }\n",
       "            }, 500);\n",
       "            "
      ],
      "text/plain": [
       "<IPython.core.display.Javascript object>"
      ]
     },
     "metadata": {},
     "output_type": "display_data"
    }
   ],
   "source": [
    "E, Q, _ = plain_game(8, maze=maze)\n",
    "plot_boards(\n",
    "    E,\n",
    "    Q,\n",
    "    height=5,\n",
    "    width=12,\n",
    "    plot=True,\n",
    "    vmin=-1,\n",
    "    vmax=1,\n",
    "    mask=maze,\n",
    "    alpha=1,\n",
    ")\n",
    "plot_histograms(E, Q, height=3, width=7, plot=True, range=(0, 1), bins=20, alpha=0.6)"
   ]
  },
  {
   "cell_type": "markdown",
   "metadata": {},
   "source": [
    "## how to be making moves\n",
    "Define functions to find valid intial starting location, and moves from that place."
   ]
  },
  {
   "cell_type": "code",
   "execution_count": null,
   "metadata": {},
   "outputs": [
    {
     "data": {
      "application/javascript": [
       "\n",
       "            setTimeout(function() {\n",
       "                var nbb_cell_id = 13;\n",
       "                var nbb_unformatted_code = \"# export\\ndef random_move(maze, prng=None):\\n    \\\"\\\"\\\"Choose a valid starting location, (x, y)\\\"\\\"\\\"\\n    if prng is None:\\n        prng = np.random.RandomState()\\n\\n    valid = np.argwhere(np.logical_not(maze)).tolist()\\n    prng.shuffle(valid)\\n    x, y = valid[0]\\n\\n    return x, y, prng\";\n",
       "                var nbb_formatted_code = \"# export\\ndef random_move(maze, prng=None):\\n    \\\"\\\"\\\"Choose a valid starting location, (x, y)\\\"\\\"\\\"\\n    if prng is None:\\n        prng = np.random.RandomState()\\n\\n    valid = np.argwhere(np.logical_not(maze)).tolist()\\n    prng.shuffle(valid)\\n    x, y = valid[0]\\n\\n    return x, y, prng\";\n",
       "                var nbb_cells = Jupyter.notebook.get_cells();\n",
       "                for (var i = 0; i < nbb_cells.length; ++i) {\n",
       "                    if (nbb_cells[i].input_prompt_number == nbb_cell_id) {\n",
       "                        if (nbb_cells[i].get_text() == nbb_unformatted_code) {\n",
       "                             nbb_cells[i].set_text(nbb_formatted_code);\n",
       "                        }\n",
       "                        break;\n",
       "                    }\n",
       "                }\n",
       "            }, 500);\n",
       "            "
      ],
      "text/plain": [
       "<IPython.core.display.Javascript object>"
      ]
     },
     "metadata": {},
     "output_type": "display_data"
    }
   ],
   "source": [
    "# export\n",
    "def random_move(maze, prng=None):\n",
    "    \"\"\"Choose a valid starting location, (x, y)\"\"\"\n",
    "    if prng is None:\n",
    "        prng = np.random.RandomState()\n",
    "\n",
    "    valid = np.argwhere(np.logical_not(maze)).tolist()\n",
    "    prng.shuffle(valid)\n",
    "    x, y = valid[0]\n",
    "\n",
    "    return x, y, prng"
   ]
  },
  {
   "cell_type": "code",
   "execution_count": null,
   "metadata": {},
   "outputs": [
    {
     "data": {
      "application/javascript": [
       "\n",
       "            setTimeout(function() {\n",
       "                var nbb_cell_id = 14;\n",
       "                var nbb_unformatted_code = \"# export\\ndef available_moves(x, y, maze):\\n    \\\"\\\"\\\"Given an (x, y) position, generate available moves\\\"\\\"\\\"\\n    N = maze.shape[0]\\n    available = []\\n\\n    # Go down\\n    for n in range(x + 1, N):\\n        if maze[n, y] == 0:\\n            available.append((n, y))\\n        else:\\n            break\\n\\n    # Go up\\n    for n in reversed(range(0, x)):\\n        if maze[n, y] == 0:\\n            available.append((n, y))\\n        else:\\n            break\\n\\n    # Go left\\n    for n in range(y + 1, N):\\n        if maze[x, n] == 0:\\n            available.append((x, n))\\n        else:\\n            break\\n\\n    # Go right\\n    for n in reversed(range(0, y)):\\n        if maze[x, n] == 0:\\n            available.append((x, n))\\n        else:\\n            break\\n\\n    return available\";\n",
       "                var nbb_formatted_code = \"# export\\ndef available_moves(x, y, maze):\\n    \\\"\\\"\\\"Given an (x, y) position, generate available moves\\\"\\\"\\\"\\n    N = maze.shape[0]\\n    available = []\\n\\n    # Go down\\n    for n in range(x + 1, N):\\n        if maze[n, y] == 0:\\n            available.append((n, y))\\n        else:\\n            break\\n\\n    # Go up\\n    for n in reversed(range(0, x)):\\n        if maze[n, y] == 0:\\n            available.append((n, y))\\n        else:\\n            break\\n\\n    # Go left\\n    for n in range(y + 1, N):\\n        if maze[x, n] == 0:\\n            available.append((x, n))\\n        else:\\n            break\\n\\n    # Go right\\n    for n in reversed(range(0, y)):\\n        if maze[x, n] == 0:\\n            available.append((x, n))\\n        else:\\n            break\\n\\n    return available\";\n",
       "                var nbb_cells = Jupyter.notebook.get_cells();\n",
       "                for (var i = 0; i < nbb_cells.length; ++i) {\n",
       "                    if (nbb_cells[i].input_prompt_number == nbb_cell_id) {\n",
       "                        if (nbb_cells[i].get_text() == nbb_unformatted_code) {\n",
       "                             nbb_cells[i].set_text(nbb_formatted_code);\n",
       "                        }\n",
       "                        break;\n",
       "                    }\n",
       "                }\n",
       "            }, 500);\n",
       "            "
      ],
      "text/plain": [
       "<IPython.core.display.Javascript object>"
      ]
     },
     "metadata": {},
     "output_type": "display_data"
    }
   ],
   "source": [
    "# export\n",
    "def available_moves(x, y, maze):\n",
    "    \"\"\"Given an (x, y) position, generate available moves\"\"\"\n",
    "    N = maze.shape[0]\n",
    "    available = []\n",
    "\n",
    "    # Go down\n",
    "    for n in range(x + 1, N):\n",
    "        if maze[n, y] == 0:\n",
    "            available.append((n, y))\n",
    "        else:\n",
    "            break\n",
    "\n",
    "    # Go up\n",
    "    for n in reversed(range(0, x)):\n",
    "        if maze[n, y] == 0:\n",
    "            available.append((n, y))\n",
    "        else:\n",
    "            break\n",
    "\n",
    "    # Go left\n",
    "    for n in range(y + 1, N):\n",
    "        if maze[x, n] == 0:\n",
    "            available.append((x, n))\n",
    "        else:\n",
    "            break\n",
    "\n",
    "    # Go right\n",
    "    for n in reversed(range(0, y)):\n",
    "        if maze[x, n] == 0:\n",
    "            available.append((x, n))\n",
    "        else:\n",
    "            break\n",
    "\n",
    "    return available"
   ]
  },
  {
   "cell_type": "markdown",
   "metadata": {},
   "source": [
    "- Example of creating a maze, picking a random place to start in that maze, and discovering the available moves from that point.\n",
    "- The yellow box is the starting place\n",
    "- Red boxes are the available moves from there"
   ]
  },
  {
   "cell_type": "code",
   "execution_count": null,
   "metadata": {},
   "outputs": [
    {
     "data": {
      "image/png": "[encoded data removed]",
      "text/plain": [
       "<Figure size 360x360 with 1 Axes>"
      ]
     },
     "metadata": {
      "image/png": {
       "height": 302,
       "width": 302
      }
     },
     "output_type": "display_data"
    },
    {
     "data": {
      "application/javascript": [
       "\n",
       "            setTimeout(function() {\n",
       "                var nbb_cell_id = 15;\n",
       "                var nbb_unformatted_code = \"# maze = create_maze(8, k=5, t=10)\\nplot_maze(maze, plot=True, height=5, width=5)\";\n",
       "                var nbb_formatted_code = \"# maze = create_maze(8, k=5, t=10)\\nplot_maze(maze, plot=True, height=5, width=5)\";\n",
       "                var nbb_cells = Jupyter.notebook.get_cells();\n",
       "                for (var i = 0; i < nbb_cells.length; ++i) {\n",
       "                    if (nbb_cells[i].input_prompt_number == nbb_cell_id) {\n",
       "                        if (nbb_cells[i].get_text() == nbb_unformatted_code) {\n",
       "                             nbb_cells[i].set_text(nbb_formatted_code);\n",
       "                        }\n",
       "                        break;\n",
       "                    }\n",
       "                }\n",
       "            }, 500);\n",
       "            "
      ],
      "text/plain": [
       "<IPython.core.display.Javascript object>"
      ]
     },
     "metadata": {},
     "output_type": "display_data"
    }
   ],
   "source": [
    "# maze = create_maze(8, k=5, t=10)\n",
    "plot_maze(maze, plot=True, height=5, width=5)"
   ]
  },
  {
   "cell_type": "code",
   "execution_count": null,
   "metadata": {},
   "outputs": [
    {
     "data": {
      "image/png": "[encoded data removed]",
      "text/plain": [
       "<Figure size 360x360 with 1 Axes>"
      ]
     },
     "metadata": {
      "image/png": {
       "height": 302,
       "width": 302
      }
     },
     "output_type": "display_data"
    },
    {
     "data": {
      "application/javascript": [
       "\n",
       "            setTimeout(function() {\n",
       "                var nbb_cell_id = 17;\n",
       "                var nbb_unformatted_code = \"x, y, _ = random_move(maze)\\navailable = available_moves(x, y, maze)\\nplot_available(x, y, maze, available, plot=True, height=5, width=5)\";\n",
       "                var nbb_formatted_code = \"x, y, _ = random_move(maze)\\navailable = available_moves(x, y, maze)\\nplot_available(x, y, maze, available, plot=True, height=5, width=5)\";\n",
       "                var nbb_cells = Jupyter.notebook.get_cells();\n",
       "                for (var i = 0; i < nbb_cells.length; ++i) {\n",
       "                    if (nbb_cells[i].input_prompt_number == nbb_cell_id) {\n",
       "                        if (nbb_cells[i].get_text() == nbb_unformatted_code) {\n",
       "                             nbb_cells[i].set_text(nbb_formatted_code);\n",
       "                        }\n",
       "                        break;\n",
       "                    }\n",
       "                }\n",
       "            }, 500);\n",
       "            "
      ],
      "text/plain": [
       "<IPython.core.display.Javascript object>"
      ]
     },
     "metadata": {},
     "output_type": "display_data"
    }
   ],
   "source": [
    "x, y, _ = random_move(maze)\n",
    "available = available_moves(x, y, maze)\n",
    "plot_available(x, y, maze, available, plot=True, height=5, width=5)"
   ]
  },
  {
   "cell_type": "code",
   "execution_count": null,
   "metadata": {},
   "outputs": [],
   "source": []
  },
  {
   "cell_type": "code",
   "execution_count": null,
   "metadata": {},
   "outputs": [],
   "source": []
  }
 ],
 "metadata": {
  "kernelspec": {
   "display_name": "Python 3",
   "language": "python",
   "name": "python3"
  }
 },
 "nbformat": 4,
 "nbformat_minor": 2
}
